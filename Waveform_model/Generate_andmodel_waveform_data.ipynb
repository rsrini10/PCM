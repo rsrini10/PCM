{
 "cells": [
  {
   "cell_type": "code",
   "execution_count": 36,
   "id": "b2279e86-9456-4dd2-a95c-15fe1275ac9c",
   "metadata": {
    "id": "b2279e86-9456-4dd2-a95c-15fe1275ac9c"
   },
   "outputs": [],
   "source": [
    "import pandas as pd\n",
    "import matplotlib.pyplot as plt\n",
    "import numpy as np\n",
    "import math\n",
    "import random\n",
    "from sklearn.ensemble import RandomForestClassifier\n",
    "from sklearn.model_selection import train_test_split\n",
    "import scipy.stats as stats\n",
    "from sklearn.tree import export_graphviz"
   ]
  },
  {
   "cell_type": "markdown",
   "id": "rbjKMLnk3L6G",
   "metadata": {
    "id": "rbjKMLnk3L6G"
   },
   "source": [
    "### Fitting a fixed sqrt curve to saccade data from the paper to get a function for amplitude generation"
   ]
  },
  {
   "cell_type": "code",
   "execution_count": 37,
   "id": "zGpvch8QUkHG",
   "metadata": {
    "id": "zGpvch8QUkHG"
   },
   "outputs": [],
   "source": [
    "#equation for the velocity-amplitude curve based on main sequence\n",
    "a_fs=412.256\n",
    "b_fs=49.036\n",
    "c_fs=5.000\n",
    "popt_fs = tuple([a_fs,b_fs,c_fs])\n",
    "\n",
    "#equation for vel-amp curve for amplitude <6 degrees\n",
    "a_exp = 368.93816447\n",
    "b_exp =0.49166436\n",
    "c_exp = 1.48726886\n",
    "popt_exp = tuple([a_exp,b_exp,c_exp])\n",
    "\n",
    "def func_sigmoid(x,a,b,c):\n",
    "  return a/(1+(b/x)**c)\n",
    "def func_fixsqrt(x,a = a_fs,b = b_fs,c = c_fs):\n",
    "  return a + b*(x-c)**0.5\n",
    "def func_exp(x, a = a_exp, b = b_exp, c = c_exp):\n",
    "  return a * (1 - np.exp(-(x-b)/c))"
   ]
  },
  {
   "cell_type": "markdown",
   "id": "Wwh35J8VaNxn",
   "metadata": {
    "id": "Wwh35J8VaNxn"
   },
   "source": [
    "### Laser"
   ]
  },
  {
   "cell_type": "markdown",
   "id": "0806c2ff",
   "metadata": {},
   "source": [
    "Building a saccade target that \n",
    "1. Starts either at +7.5/0/-7.5\n",
    "2. if non 0: Can go to 0/opposite side\n",
    "3. if 0: can go to either left or right\n",
    "4. Total of 4 or 5 saccades in the sequence"
   ]
  },
  {
   "cell_type": "code",
   "execution_count": 38,
   "id": "57d8c8d4-4587-49c8-8423-0503a89ff022",
   "metadata": {
    "id": "57d8c8d4-4587-49c8-8423-0503a89ff022"
   },
   "outputs": [],
   "source": [
    "stim_time = [0,1.259, 2.513, 3.761, 5.009]\n",
    "stim_time_2 = [0,1.259, 2.513, 3.761, 5.009 , 6.263, 7.511, 8.759, 9.999,10.5]"
   ]
  },
  {
   "cell_type": "code",
   "execution_count": 39,
   "id": "480e5117",
   "metadata": {},
   "outputs": [
    {
     "name": "stdout",
     "output_type": "stream",
     "text": [
      "24 48\n"
     ]
    }
   ],
   "source": [
    "from itertools import permutations\n",
    "\n",
    "def generate_sequences(numbers, length, current_sequence=[], results=None):\n",
    "    if results is None:\n",
    "        results = []\n",
    "        \n",
    "    if len(current_sequence) == length:\n",
    "        results.append(current_sequence)\n",
    "        return\n",
    "    \n",
    "    last_picked = current_sequence[-1] if current_sequence else None\n",
    "    \n",
    "    for num in numbers:\n",
    "        if num != last_picked:  # Avoid picking the last picked number\n",
    "            generate_sequences(numbers, length, current_sequence + [num], results)\n",
    "\n",
    "    return results\n",
    "# Example usage\n",
    "amp_options = [0, 7.5, -7.5]\n",
    "sequences_4 = generate_sequences(amp_options, length=4)\n",
    "sequences_5 = generate_sequences(amp_options, length=5)\n",
    "print(len(sequences_4), len(sequences_5))"
   ]
  },
  {
   "cell_type": "code",
   "execution_count": 40,
   "id": "WqCh770jp6Bt",
   "metadata": {
    "id": "WqCh770jp6Bt"
   },
   "outputs": [],
   "source": [
    "def gen_reconstructed_laser(stimulus):\n",
    "  if len(stimulus) == 4:\n",
    "    reconstructed_laser = [val for val in stimulus for _ in (0, 1)]\n",
    "  else:\n",
    "    reconstructed_laser = [val for val in stimulus[1:] for _ in (0, 1)]\n",
    "    reconstructed_laser.insert(0,stimulus[0])\n",
    "  return reconstructed_laser\n",
    "\n",
    "reconst_laser_4 = gen_reconstructed_laser(sequences_4[6])\n",
    "reconst_laser_5 = gen_reconstructed_laser(sequences_5[15])"
   ]
  },
  {
   "cell_type": "markdown",
   "id": "192d889c-fc16-4db4-8af7-86558ef16448",
   "metadata": {},
   "source": [
    "### Target Sequence"
   ]
  },
  {
   "cell_type": "code",
   "execution_count": 41,
   "id": "f636e316",
   "metadata": {},
   "outputs": [
    {
     "data": {
      "text/plain": [
       "<matplotlib.legend.Legend at 0x7f3df423c5c0>"
      ]
     },
     "execution_count": 41,
     "metadata": {},
     "output_type": "execute_result"
    },
    {
     "data": {
      "image/png": "[encoded data removed]",
      "text/plain": [
       "<Figure size 640x480 with 1 Axes>"
      ]
     },
     "metadata": {},
     "output_type": "display_data"
    }
   ],
   "source": [
    "reconstructed_time_4=[0,1.259,1.260,2.513,2.514,3.761,3.762,5.009]\n",
    "plt.plot(reconstructed_time_4,reconst_laser_4, label=\"4 saccades\")\n",
    "plt.scatter(reconstructed_time_4,reconst_laser_4)\n",
    "plt.legend()"
   ]
  },
  {
   "cell_type": "code",
   "execution_count": 42,
   "id": "5781de7b",
   "metadata": {},
   "outputs": [
    {
     "data": {
      "text/plain": [
       "<matplotlib.legend.Legend at 0x7f3de06f5970>"
      ]
     },
     "execution_count": 42,
     "metadata": {},
     "output_type": "execute_result"
    },
    {
     "data": {
      "image/png": "[encoded data removed]",
      "text/plain": [
       "<Figure size 640x480 with 1 Axes>"
      ]
     },
     "metadata": {},
     "output_type": "display_data"
    }
   ],
   "source": [
    "reconstructed_time_5=[0,0.01,1.259,1.260,2.513,2.514,3.761,3.762,5.009]\n",
    "plt.plot(reconstructed_time_5,reconst_laser_5,label = \"5 saccades\", color = \"orange\")\n",
    "plt.scatter(reconstructed_time_5,reconst_laser_5, color = \"orange\")\n",
    "plt.legend()"
   ]
  },
  {
   "cell_type": "markdown",
   "id": "BVt8IWnRYTqJ",
   "metadata": {
    "id": "BVt8IWnRYTqJ"
   },
   "source": [
    "## Generating the saccades"
   ]
  },
  {
   "cell_type": "markdown",
   "id": "YqWbE0T6E7Vc",
   "metadata": {
    "id": "YqWbE0T6E7Vc"
   },
   "source": [
    "\n",
    "### Functions to produce latency, velocity and amplitude"
   ]
  },
  {
   "cell_type": "code",
   "execution_count": 43,
   "id": "pOiYNWjCyAfs",
   "metadata": {
    "id": "pOiYNWjCyAfs"
   },
   "outputs": [],
   "source": [
    "#generate the velocity for every saccade\n",
    "def gen_velocity(amplitude):\n",
    "  # print(\"input amp\", amplitude)\n",
    "  amplitude = np.abs(amplitude)\n",
    "  if amplitude <= 6:\n",
    "      vel = func_exp(amplitude,a_exp,b_exp,c_exp)\n",
    "  else:\n",
    "      vel = func_fixsqrt(amplitude,a_fs,b_fs,c_fs) + np.random.uniform(0,15)*(-1)**np.random.randint(2)\n",
    "  return vel\n",
    "\n",
    "#generate the latency for a saccade for each subject\n",
    "def gen_latency(subject):\n",
    "    # normal subject latency parameters\n",
    "    if subject == \"N\":\n",
    "      return np.random.uniform(0.1,0.200)\n",
    "    # abnormal subject latency range\n",
    "    else:\n",
    "      return np.random.uniform(0.1,0.2) #for a first pass we are only modeling changes in accuracy\n",
    "\n",
    "\n",
    "#generate the latency for the correcting saccade\n",
    "def gen_latency_correcting(subject):\n",
    "    if subject == \"N\":\n",
    "      return np.random.uniform(0.050,0.15)\n",
    "    else:\n",
    "      return np.random.uniform(0.050,0.15) #for a first pass we are only modeling changes in accuracy\n",
    "\n",
    "#generate accuracy for the saccade\n",
    "def gen_accuracy(subject, condition, sac_seq):\n",
    "# normal subject accuracy range\n",
    "  if subject == \"N\":\n",
    "      return np.random.uniform(0.9,1.1)\n",
    "# abnormal subject accuracy range\n",
    "  else: #abnormal saccade\n",
    "    if condition == \"hyper\":\n",
    "    # initial shift\n",
    "      if sac_seq == \"P\":\n",
    "        return np.random.uniform(1.1,1.5) #what's the upper limit?\n",
    "      else: #corrective saccade\n",
    "        return np.random.uniform(1.00,1.1)\n",
    "    else: #hypometria\n",
    "    # initial shift\n",
    "      if sac_seq == \"P\":\n",
    "        return np.random.uniform(0.20,0.90)\n",
    "      else: #corrective saccade\n",
    "        return np.random.uniform(0.90,1)"
   ]
  },
  {
   "cell_type": "markdown",
   "id": "w4bhHCYsFIOD",
   "metadata": {
    "id": "w4bhHCYsFIOD"
   },
   "source": [
    "### Normal Waveform - Accuracy Only"
   ]
  },
  {
   "cell_type": "code",
   "execution_count": 44,
   "id": "ac5f9003",
   "metadata": {},
   "outputs": [],
   "source": [
    "def gen_normal(stim, subject, condition):\n",
    "  wave = [stim[0]*0.95, stim[0]*0.95]\n",
    "  time = [0, 1.26]\n",
    "  main_seq = []\n",
    "  last_entry = stim[-1]\n",
    "  stimulus = stim.copy()\n",
    "  stimulus.append(last_entry)\n",
    "  for idx in range(len(stimulus)-1):# Avoids out-of-range issues with stimulus[idx+1]\n",
    "      # First time point: Start of the saccade (stim start + latency)\n",
    "      lat = gen_latency(\"N\")\n",
    "      time.append(time[-1] + lat)  # Appends new latency time\n",
    "      wave.append(wave[-1])   # Appends current stimulus level\n",
    "      # print(\"Step 1:\", time[-4:], wave[-4:])\n",
    "\n",
    "      # Second point: First saccade amplitude\n",
    "      # amplitude change\n",
    "      amp = np.random.uniform(0.9,1.1)*(stimulus[idx + 1] - wave[-1])\n",
    "      wave.append(amp + wave[-1])  # Amplitude added to last wave point\n",
    "      # generate velocity\n",
    "      vel = gen_velocity(amp)\n",
    "      time.append(time[-1] + np.abs(amp / vel))  # Time for saccade based on velocity\n",
    "      main_seq.append([vel,amp])\n",
    "      # print(\"Step 2:\", amp, vel, time[-4:], wave[-4:])\n",
    "\n",
    "      # Hold the saccade\n",
    "      time.append(time[-1])  # Time after latency correction\n",
    "      wave.append(wave[-1])  # Holds at current amplitude\n",
    "      # print(\"Step 3:\", lat2, time[-4:], wave[-4:])\n",
    "\n",
    "      # Third point: Corrective saccade\n",
    "      time.append(time[-1])  # Time for corrective saccade\n",
    "      wave.append(wave[-1])  # New amplitude after corrective saccade\n",
    "      # print(\"Step 4:\", amp_c, amp, vel_c, time[-1], time[-4:], wave[-4:])\n",
    "\n",
    "      # Hold the corrective saccade\n",
    "      if idx >= len(stimulus) - 3:  # Ensure we don’t exceed `stimulus` length\n",
    "          break\n",
    "      final_amp = wave[-1]  # Hold at current amplitude for final correction\n",
    "      time.append(stim_time[idx + 2])  # Appends the next stimulation time\n",
    "      wave.append(final_amp)  # Append final amplitude\n",
    "  time.append(5.009)\n",
    "  wave.append(wave[-1])\n",
    "    # print(\"Step 5:\", final_amp, stim_time[idx + 2], time[-4:], wave[-4:])\n",
    "  return time, wave, main_seq"
   ]
  },
  {
   "cell_type": "code",
   "execution_count": 45,
   "id": "7xTpgcg__8n9",
   "metadata": {
    "id": "7xTpgcg__8n9"
   },
   "outputs": [],
   "source": [
    "def gen_hyper(stim, subject, condition):\n",
    "  wave = [stim[0], stim[0]]\n",
    "  time = [0, 1.26]\n",
    "  main_seq = []\n",
    "  last_entry = stim[-1]\n",
    "  stimulus = stim.copy()\n",
    "  stimulus.append(last_entry)\n",
    "  for idx in range(len(stimulus)-1):# Avoids out-of-range issues with stimulus[idx+1]\n",
    "      last_pos = wave[-1]\n",
    "      amp_diff = stimulus[idx + 1] - last_pos\n",
    "      # First time point: Start of the saccade (stim start + latency)\n",
    "      lat = gen_latency(\"N\")\n",
    "      time.append(time[-1] + lat)  # Appends new latency time\n",
    "      wave.append(wave[-1])   # Appends current stimulus level\n",
    "      # print(\"Step 1:\", time[-4:], wave[-4:])\n",
    "\n",
    "      # Second point: First saccade amplitude\n",
    "      # amplitude change\n",
    "      amp = np.random.uniform(1.1,1.5)*amp_diff\n",
    "      wave.append(amp + last_pos)\n",
    "      # Amplitude added to last wave point\n",
    "      # generate velocity\n",
    "      vel = gen_velocity(amp)\n",
    "      time.append(time[-1] + np.abs(amp / vel))  # Time for saccade based on velocity\n",
    "      main_seq.append([vel,amp])\n",
    "      # print(\"Step 2:\", amp, vel, time[-4:], wave[-4:])\n",
    "\n",
    "      # Hold the saccade\n",
    "      lat2 = gen_latency_correcting(subject, lat)\n",
    "      time.append(time[-1] + lat2)  # Time after latency correction\n",
    "      wave.append(wave[-1])  # Holds at current amplitude\n",
    "      # print(\"Step 3:\", lat2, time[-4:], wave[-4:])\n",
    "\n",
    "      # Third point: Corrective saccade\n",
    "      amp_c = np.random.uniform(1.00,1.1) * amp_diff - wave[-1]\n",
    "      vel_c = gen_velocity(amp_c)\n",
    "      time.append(time[-1] + np.abs(amp_c / vel_c))  # Time for corrective saccade\n",
    "      wave.append(amp_c)  # New amplitude after corrective saccade\n",
    "      main_seq.append([vel_c,amp_c])\n",
    "      # print(\"Step 4:\", amp_c, amp, vel_c, time[-1], time[-4:], wave[-4:])\n",
    "      print(wave[-1], amp_c, wave[-1]+amp_c)\n",
    "\n",
    "      # Hold the corrective saccade\n",
    "      if idx >= len(stimulus) - 3:  # Ensure we don’t exceed `stimulus` length\n",
    "          break\n",
    "      final_amp = wave[-1]  # Hold at current amplitude for final correction\n",
    "      time.append(stim_time[idx + 2])  # Appends the next stimulation time\n",
    "      wave.append(final_amp)  # Append final amplitude\n",
    "  time.append(5.009)\n",
    "  wave.append(wave[-1])\n",
    "    # print(\"Step 5:\", final_amp, stim_time[idx + 2], time[-4:], wave[-4:])\n",
    "  return time, wave, main_seq"
   ]
  },
  {
   "cell_type": "code",
   "execution_count": 46,
   "id": "7c111578",
   "metadata": {},
   "outputs": [],
   "source": [
    "def gen_hypo_saccade(amp_diff, curr_wave, curr_time, last_pos):\n",
    "    time = []\n",
    "    wave =[]\n",
    "    main_seq = []\n",
    "    amp = np.random.uniform(0.20,0.90) * amp_diff\n",
    "    wave.append(amp + last_pos)\n",
    "    vel = gen_velocity(amp)\n",
    "    time.append(curr_time + np.abs(amp / vel))\n",
    "    main_seq.append([vel, amp])\n",
    "\n",
    "    # Hold the saccade\n",
    "    lat2 = gen_latency_correcting(\"N\", lat)\n",
    "    time.append(time[-1] + lat2)\n",
    "    wave.append(wave[-1])  # Hold at current amplitude\n",
    "\n",
    "    # Corrective saccade\n",
    "    amp_c = np.random.uniform(0.90,1) * amp_diff - (wave[-1]- last_pos)\n",
    "    vel_c = gen_velocity(amp_c)\n",
    "    time.append(time[-1] + np.abs(amp_c / vel_c))\n",
    "    wave.append(wave[-1] + amp_c)\n",
    "    main_seq.append([vel_c, amp_c])\n",
    "\n",
    "    return time, wave, main_seq"
   ]
  },
  {
   "cell_type": "code",
   "execution_count": 47,
   "id": "eec24cb3",
   "metadata": {},
   "outputs": [],
   "source": [
    "def gen_hypo_gpt(stim, subject, condition):\n",
    "    wave = [stim[0], stim[0]]\n",
    "    time = [0, 1.26]\n",
    "    main_seq = []\n",
    "    last_entry = stim[-1]\n",
    "    stimulus = stim.copy()\n",
    "    stimulus.append(last_entry)  # Extend stimulus with last value\n",
    "\n",
    "    stim_time = np.linspace(0, 5, len(stimulus))  # Assuming evenly spaced time points\n",
    "    \n",
    "    for idx in range(len(stimulus) - 1):  # Avoid out-of-range issues\n",
    "        last_pos = wave[-1]\n",
    "        amp_diff = stimulus[idx + 1] - last_pos\n",
    "\n",
    "        # First time point: Start of the saccade (stim start + latency)\n",
    "        lat = gen_latency(\"N\")\n",
    "        time.append(time[-1] + lat)\n",
    "        wave.append(wave[-1])  # Hold stimulus level\n",
    "        \n",
    "        # First saccade amplitude\n",
    "        amp = np.random.uniform(0.20,0.90) * amp_diff\n",
    "        wave.append(amp + last_pos)\n",
    "        vel = gen_velocity(amp)\n",
    "        time.append(time[-1] + np.abs(amp / vel))\n",
    "        main_seq.append([vel, amp])\n",
    "\n",
    "        # Hold the saccade\n",
    "        lat2 = gen_latency_correcting(subject, lat)\n",
    "        time.append(time[-1] + lat2)\n",
    "        wave.append(wave[-1])  # Hold at current amplitude\n",
    "\n",
    "\n",
    "        # Corrective saccade\n",
    "        amp_c = np.random.uniform(0.90,1) * amp_diff - (wave[-1] - last_pos)\n",
    "        vel_c = gen_velocity(amp_c)\n",
    "        time.append(time[-1] + np.abs(amp_c / vel_c))\n",
    "        wave.append(wave[-1] + amp_c)\n",
    "        main_seq.append([vel_c, amp_c])\n",
    "        # print(f\"Wave: {wave[-1]}, Amp_c: {amp_c}, Final Position: {wave[-1] + amp_c}\")\n",
    "\n",
    "        # Hold the corrective saccade\n",
    "        if idx + 3 >= len(stim_time):  # Ensure index does not go out of bounds\n",
    "            break\n",
    "        \n",
    "        time.append(stim_time[idx + 2])  \n",
    "        wave.append(wave[-1])  \n",
    "\n",
    "    time.append(5.009)\n",
    "    wave.append(wave[-1])  # Hold at final amplitude\n",
    "\n",
    "    return time, wave, main_seq\n"
   ]
  },
  {
   "cell_type": "code",
   "execution_count": 48,
   "id": "5f36f2fb",
   "metadata": {},
   "outputs": [],
   "source": [
    "def gen_ind_saccade(amp_diff, curr_wave, curr_time, last_pos, sac_name):\n",
    "    time = []\n",
    "    wave =[]\n",
    "    main_seq = []\n",
    "    \n",
    "    if sac_name == 2:\n",
    "        amp = np.random.uniform(0.20,0.90) * amp_diff\n",
    "    elif sac_name == 1:\n",
    "        amp = np.random.uniform(1.2,1.5) * amp_diff\n",
    "    else:\n",
    "        amp = np.random.uniform(0.9,1.1) * amp_diff\n",
    "\n",
    "    wave.append(amp + last_pos)\n",
    "    vel = gen_velocity(amp)\n",
    "    time.append(curr_time + np.abs(amp / vel))\n",
    "    main_seq.append([vel, amp])\n",
    "\n",
    "    # Hold the saccade\n",
    "    lat2 = gen_latency_correcting(\"N\")\n",
    "    time.append(time[-1] + lat2)\n",
    "    wave.append(wave[-1])  # Hold at current amplitude\n",
    "\n",
    "    # Corrective saccade\n",
    "    if sac_name == 2:\n",
    "        amp_c = np.random.uniform(0.90,1) * amp_diff - (wave[-1]- last_pos)\n",
    "    elif sac_name == 1:\n",
    "        amp_c = np.random.uniform(1.1,1.2) * amp_diff - (wave[-1]- last_pos)\n",
    "    else:\n",
    "        amp_c = 0\n",
    "    vel_c = gen_velocity(amp_c) \n",
    "    \n",
    "    time.append(time[-1] + np.abs(amp_c / vel_c))\n",
    "    wave.append(wave[-1] + amp_c)\n",
    "    main_seq.append([vel_c, amp_c])\n",
    "\n",
    "    return time, wave, main_seq"
   ]
  },
  {
   "cell_type": "code",
   "execution_count": 49,
   "id": "e0d667b8",
   "metadata": {},
   "outputs": [],
   "source": [
    "def gen_saccade_seq(sac_num, stim, subject, sac_list):\n",
    "    \n",
    "    if sac_num == 4:\n",
    "        stim_time = [0,1.259, 2.513, 3.761, 5.009]\n",
    "    else:\n",
    "        stim_time = [0,0.01, 1.259, 2.513, 3.761, 5.009]\n",
    "    \n",
    "\n",
    "    if sac_list[0] == 2:\n",
    "        multiplier = np.random.uniform(0.7,0.90) \n",
    "    elif sac_list[0] == 1:\n",
    "        multiplier = np.random.uniform(1.1,1.2)\n",
    "    else:    \n",
    "        multiplier = np.random.uniform(0.9,1.1)\n",
    "\n",
    "    first_amp = multiplier * stim[0] if stim[0] != 0 else multiplier\n",
    "    wave = [first_amp]*2\n",
    "    time = stim_time[:2].copy()\n",
    "    main_seq = []\n",
    "    last_entry = stim[-1]\n",
    "    stimulus = stim.copy()\n",
    "    stimulus.append(last_entry)  # Extend stimulus with last value\n",
    "    \n",
    "    for idx in range(len(stimulus) - 1):  # Avoid out-of-range issues\n",
    "        last_pos = wave[-1]\n",
    "        amp_diff = stimulus[idx + 1] - last_pos\n",
    "\n",
    "        # First time point: Start of the saccade (stim start + latency)\n",
    "        lat = gen_latency(\"N\")\n",
    "        time.append(time[-1] + lat)\n",
    "        wave.append(wave[-1])  # Hold stimulus level\n",
    "\n",
    "        #Generating the saccade\n",
    "        time_next, wave_next, main_seq_next = gen_ind_saccade(amp_diff, wave[-1], time[-1],last_pos, sac_list[idx+1])\n",
    "        time.extend(time_next)\n",
    "        wave.extend(wave_next)\n",
    "        main_seq.extend(main_seq_next)\n",
    "        # print(time)\n",
    "        # print(f\"Wave: {wave[-1]}, Amp_c: {amp_c}, Final Position: {wave[-1] + amp_c}\")\n",
    "\n",
    "        # Hold the corrective saccade\n",
    "        if idx + 3 >= len(stim_time):  # Ensure index does not go out of bounds\n",
    "            break\n",
    "        time.append(stim_time[idx + 2])  \n",
    "        wave.append(wave[-1])  \n",
    "\n",
    "    time.append(5.009)\n",
    "    wave.append(wave[-1])  # Hold at final amplitude\n",
    "\n",
    "    return time, wave, main_seq\n"
   ]
  },
  {
   "cell_type": "code",
   "execution_count": 50,
   "id": "2dda0c18",
   "metadata": {},
   "outputs": [],
   "source": [
    "random_index = np.random.choice(len(sequences_4))\n",
    "seq = sequences_4[random_index]"
   ]
  },
  {
   "cell_type": "code",
   "execution_count": 51,
   "id": "a0047d5c",
   "metadata": {},
   "outputs": [
    {
     "data": {
      "text/plain": [
       "<matplotlib.legend.Legend at 0x7f3d8c14b890>"
      ]
     },
     "execution_count": 51,
     "metadata": {},
     "output_type": "execute_result"
    },
    {
     "data": {
      "image/png": "[encoded data removed]",
      "text/plain": [
       "<Figure size 640x480 with 1 Axes>"
      ]
     },
     "metadata": {},
     "output_type": "display_data"
    }
   ],
   "source": [
    "# print(seq)\n",
    "time_hyper, wave_hyper, main_seq_hyper = gen_saccade_seq(4, seq,\"N\", [0,1,1,1])\n",
    "plt.plot(time_hyper, wave_hyper, label=\"Mixed Saccades n =4\")\n",
    "plt.plot(reconstructed_time_4, gen_reconstructed_laser(seq), \"--\", label = \"Stimulus\")\n",
    "plt.legend()"
   ]
  },
  {
   "cell_type": "code",
   "execution_count": 52,
   "id": "da39dfaf",
   "metadata": {},
   "outputs": [
    {
     "name": "stdout",
     "output_type": "stream",
     "text": [
      "[7.5, 0, 7.5, 0, 7.5]\n"
     ]
    },
    {
     "data": {
      "text/plain": [
       "<matplotlib.legend.Legend at 0x7f3d8c1e24e0>"
      ]
     },
     "execution_count": 52,
     "metadata": {},
     "output_type": "execute_result"
    },
    {
     "data": {
      "image/png": "[encoded data removed]",
      "text/plain": [
       "<Figure size 640x480 with 1 Axes>"
      ]
     },
     "metadata": {},
     "output_type": "display_data"
    }
   ],
   "source": [
    "random_index = np.random.choice(len(sequences_5))\n",
    "seq = sequences_5[random_index]\n",
    "print(seq)\n",
    "time_hyper, wave_hyper, main_seq_hyper = gen_saccade_seq(5, seq,\"N\", [1,0,1,1,0])\n",
    "plt.plot(time_hyper, wave_hyper, label=\"Mixed Saccades n=5\")\n",
    "plt.plot(reconstructed_time_5, gen_reconstructed_laser(seq), \"--\", label = \"Stimulus\")\n",
    "plt.legend()"
   ]
  },
  {
   "cell_type": "markdown",
   "id": "jM64U84lWJAM",
   "metadata": {
    "id": "jM64U84lWJAM"
   },
   "source": [
    "## Waveform -> 176 fps"
   ]
  },
  {
   "cell_type": "code",
   "execution_count": 53,
   "id": "91fa69bc",
   "metadata": {},
   "outputs": [
    {
     "name": "stdout",
     "output_type": "stream",
     "text": [
      "81\n"
     ]
    }
   ],
   "source": [
    "#MAKING THE SACCADE SEQUENCES\n",
    "import itertools\n",
    "\n",
    "numbers = [2,1,0]\n",
    "\n",
    "# Generate sequences of length 4\n",
    "sac_list_4 = list(itertools.product(numbers, repeat=4))\n",
    "sac_list_5 = list(itertools.product(numbers, repeat=5))\n",
    "\n",
    "# Print some examples\n",
    "# print(\"Sequences of length 4:\", sac_list_4[:20])  # Print first 5 sequences\n",
    "print(len(sac_list_4))"
   ]
  },
  {
   "cell_type": "code",
   "execution_count": 54,
   "id": "c5b88a07",
   "metadata": {},
   "outputs": [
    {
     "name": "stdout",
     "output_type": "stream",
     "text": [
      "75\n"
     ]
    }
   ],
   "source": [
    "def remove_common_elements(main_list, remove_list):\n",
    "    return [item for item in main_list if item not in remove_list]\n",
    "\n",
    "rem_list_4 = list(set(itertools.permutations([1,1,2,2])))\n",
    "sac_list_4_truncated = remove_common_elements(sac_list_4, rem_list_4)\n",
    "print(len(sac_list_4_truncated))"
   ]
  },
  {
   "cell_type": "code",
   "execution_count": 55,
   "id": "0949998b",
   "metadata": {},
   "outputs": [
    {
     "name": "stdout",
     "output_type": "stream",
     "text": [
      "Total sequences labeled 0: 21\n",
      "Total sequences labeled 1: 27\n",
      "Total sequences labeled 2: 27\n"
     ]
    }
   ],
   "source": [
    "def label_sequence(seq):\n",
    "    for num in numbers:\n",
    "        if seq.count(num) >= 2:\n",
    "            return num  # Label as the number that appears 2 or more times\n",
    "    return -1  # Label as -1 if no number appears twice\n",
    "\n",
    "# Assign labels\n",
    "labeled_sequences_4 = [(seq, label_sequence(seq)) for seq in sac_list_4_truncated]\n",
    "# Count occurrences of each label\n",
    "label_counts = {0: 0, 1: 0, 2: 0, -1: 0}\n",
    "for _, label in labeled_sequences_4:\n",
    "    label_counts[label] += 1\n",
    "\n",
    "print(\"Total sequences labeled 0:\", label_counts[0])\n",
    "print(\"Total sequences labeled 1:\", label_counts[1])\n",
    "print(\"Total sequences labeled 2:\", label_counts[2])\n"
   ]
  },
  {
   "cell_type": "code",
   "execution_count": 56,
   "id": "NYyFY3s0aAWC",
   "metadata": {
    "id": "NYyFY3s0aAWC"
   },
   "outputs": [],
   "source": [
    "def make_df(time, waveform, samp_freq,i):\n",
    "    max_t = int(5.009*samp_freq)\n",
    "    timesteps = np.arange(0,max_t,1)\n",
    "    wave_1000 = pd.DataFrame(data=timesteps, columns=[\"timesteps\"]).set_index(\"timesteps\")\n",
    "    wave_df = pd.DataFrame({\"timesteps\": (np.array(time) * samp_freq).astype(int), f\"amplitude_{i}\": waveform})\n",
    "    wave_df.set_index(\"timesteps\", inplace=True)\n",
    "    wave_1000 = wave_1000.join(wave_df, rsuffix=f\"_{i}\").interpolate(method='linear', limit_direction='both')\n",
    "    wave_1000 = wave_1000.join(wave_df,on = \"timesteps\", rsuffix=f\"_{i}\")\n",
    "    return wave_1000"
   ]
  },
  {
   "cell_type": "code",
   "execution_count": 57,
   "id": "888083a3",
   "metadata": {},
   "outputs": [],
   "source": [
    "def make_df_with_noise(time, waveform, samp_freq,i, noise_range=(0, 0.2)):\n",
    "    max_time = int(5.2*samp_freq)\n",
    "    base_timesteps = np.arange(max_time)\n",
    "\n",
    "    # Create base DataFrame with regular timesteps\n",
    "    df_base = pd.DataFrame(\n",
    "        index=base_timesteps,\n",
    "        columns=[f'amplitude_{i}'])\n",
    "    \n",
    "    # Convert sparse time points to sample indices\n",
    "    sample_indices = (np.array(time) * samp_freq).astype(int)\n",
    "    \n",
    "    # Add waveform data at correct indices\n",
    "    df_base.loc[sample_indices, f'amplitude_{i}'] = waveform\n",
    "    \n",
    "    # Interpolate missing values\n",
    "    df_interpolated = df_base.interpolate(\n",
    "        method='linear',\n",
    "        limit_direction='both',\n",
    "        axis=0)\n",
    "    \n",
    "    # Add noise\n",
    "    noise_scale = np.random.uniform(*noise_range)\n",
    "    noise = np.random.normal(\n",
    "        loc=0,\n",
    "        scale=noise_scale,\n",
    "        size=len(df_interpolated))\n",
    "    df_interpolated += noise.reshape(-1, 1)\\\n",
    "\n",
    "    return df_interpolated"
   ]
  },
  {
   "cell_type": "code",
   "execution_count": 58,
   "id": "f4d8af20",
   "metadata": {},
   "outputs": [],
   "source": [
    "# def gen_reconstructed_laser(stimulus):\n",
    "#   if len(stimulus) == 4:\n",
    "#     reconstructed_laser = [val for val in stimulus for _ in (0, 1)]\n",
    "#   else:\n",
    "#     reconstructed_laser = [val for val in stimulus[1:] for _ in (0, 1)]\n",
    "#     reconstructed_laser.insert(0,stimulus[0])\n",
    "#   return reconstructed_laser\n",
    "\n",
    "# reconst_laser_4 = gen_reconstructed_laser(sequences_4[6])\n",
    "# reconst_laser_5 = gen_reconstructed_laser(sequences_5[15])"
   ]
  },
  {
   "cell_type": "code",
   "execution_count": 59,
   "id": "e6c19feb",
   "metadata": {},
   "outputs": [
    {
     "name": "stdout",
     "output_type": "stream",
     "text": [
      "[7.5, -7.5, 0, 7.5]\n"
     ]
    },
    {
     "data": {
      "text/plain": [
       "<matplotlib.legend.Legend at 0x7f3d8cfbb050>"
      ]
     },
     "execution_count": 59,
     "metadata": {},
     "output_type": "execute_result"
    },
    {
     "data": {
      "image/png": "[encoded data removed]",
      "text/plain": [
       "<Figure size 640x480 with 1 Axes>"
      ]
     },
     "metadata": {},
     "output_type": "display_data"
    }
   ],
   "source": [
    "random_index = np.random.choice(len(sequences_4))\n",
    "seq = sequences_4[random_index]\n",
    "print(seq)\n",
    "time_hyper, wave_hyper, main_seq_hyper = gen_saccade_seq(4, seq,\"N\", [1,0,1,0])\n",
    "plt.plot(time_hyper, wave_hyper, label=\"Mixed Saccades n=4\")\n",
    "plt.plot(reconstructed_time_4, gen_reconstructed_laser(seq), \"--\", label = \"Stimulus\")\n",
    "plt.legend()"
   ]
  },
  {
   "cell_type": "markdown",
   "id": "b552c048",
   "metadata": {},
   "source": [
    "### Data Generation"
   ]
  },
  {
   "cell_type": "code",
   "execution_count": 60,
   "id": "0c6d1cf5",
   "metadata": {},
   "outputs": [],
   "source": [
    "from scipy import interpolate\n",
    "\n",
    "def interpolate_hz(time_sample, wave_sample, frequency):\n",
    "    \"\"\"\n",
    "    Interpolate waveform data to 173 Hz sampling rate\n",
    "    \n",
    "    Args:\n",
    "        time_sample: Original time points\n",
    "        wave_sample: Original waveform values\n",
    "    \n",
    "    Returns:\n",
    "        new_time: Time points at 173 Hz\n",
    "        new_wave: Interpolated waveform values\n",
    "    \"\"\"\n",
    "    # Calculate new time points at 173 Hz\n",
    "    dt = 1/frequency  # time step for 173 Hz\n",
    "    new_time = np.arange(time_sample[0], time_sample[-1], dt)\n",
    "    \n",
    "    # Create interpolation function\n",
    "    f = interpolate.interp1d(time_sample, wave_sample, kind='linear')\n",
    "    \n",
    "    # Generate interpolated waveform\n",
    "    new_wave = f(new_time)\n",
    "    \n",
    "    return new_time, new_wave"
   ]
  },
  {
   "cell_type": "code",
   "execution_count": 67,
   "id": "a75c3c20",
   "metadata": {},
   "outputs": [],
   "source": [
    "import pyarrow as pa\n",
    "import pyarrow.parquet as pq\n",
    "\n",
    "def save_waveform_data_parquet(sequences, labeled_sequences, output_path, samples_per_seq=3, noise_range = (0, 0.2)):\n",
    "    \"\"\"\n",
    "    Save waveform data in Parquet format with efficient compression\n",
    "    \"\"\"\n",
    "    data_dict = {\n",
    "        'time': [],\n",
    "        'waveform': [],\n",
    "        'noised_waveform': [],\n",
    "        'target_sequence': [],\n",
    "        'saccade_sequence': [],\n",
    "        'label': [],\n",
    "        'sample_id': []\n",
    "    }\n",
    "    \n",
    "    for target_seq in sequences:\n",
    "        for saccade_seq, label in labeled_sequences_4:\n",
    "            for i in range(samples_per_seq):\n",
    "                time_sample, wave_sample, _ = gen_saccade_seq(\n",
    "                    4, target_seq, \"N\", saccade_seq\n",
    "                )\n",
    "\n",
    "                time_173hz, wave_173hz = interpolate_hz(time_sample, wave_sample, 60)\n",
    "                noise_scale = np.random.uniform(*noise_range)\n",
    "                noisy_wave = wave_173hz + np.random.normal(loc=0, scale=noise_scale, size=len(wave_173hz))\n",
    "\n",
    "                data_dict['time'].append(time_173hz)\n",
    "                data_dict['waveform'].append(wave_173hz)\n",
    "                data_dict['noised_waveform'].append(noisy_wave)\n",
    "                data_dict['target_sequence'].append(str(target_seq))\n",
    "                data_dict['saccade_sequence'].append(str(saccade_seq))\n",
    "                data_dict['label'].append(label)\n",
    "                data_dict['sample_id'].append(i)\n",
    "    \n",
    "    table = pa.Table.from_pydict(data_dict)\n",
    "    pq.write_table(table, output_path, compression='snappy')"
   ]
  },
  {
   "cell_type": "code",
   "execution_count": 68,
   "id": "fd91a3fe",
   "metadata": {},
   "outputs": [],
   "source": [
    "save_waveform_data_parquet(sequences_4, labeled_sequences_4, './waveform_model/waveform_data_4_full_noised_freq_6.parquet', 3, (0,0.2))"
   ]
  },
  {
   "cell_type": "code",
   "execution_count": 69,
   "id": "bef303b9",
   "metadata": {},
   "outputs": [
    {
     "data": {
      "application/vnd.microsoft.datawrangler.viewer.v0+json": {
       "columns": [
        {
         "name": "index",
         "rawType": "int64",
         "type": "integer"
        },
        {
         "name": "time",
         "rawType": "object",
         "type": "unknown"
        },
        {
         "name": "waveform",
         "rawType": "object",
         "type": "unknown"
        },
        {
         "name": "noised_waveform",
         "rawType": "object",
         "type": "unknown"
        },
        {
         "name": "target_sequence",
         "rawType": "object",
         "type": "string"
        },
        {
         "name": "saccade_sequence",
         "rawType": "object",
         "type": "string"
        },
        {
         "name": "label",
         "rawType": "int64",
         "type": "integer"
        },
        {
         "name": "sample_id",
         "rawType": "int64",
         "type": "integer"
        }
       ],
       "conversionMethod": "pd.DataFrame",
       "ref": "f52536dc-6221-492c-a3fb-053c392513fc",
       "rows": [
        [
         "0",
         "[0.         0.01666667 0.03333333 0.05       0.06666667 0.08333333\n 0.1        0.11666667 0.13333333 0.15       0.16666667 0.18333333\n 0.2        0.21666667 0.23333333 0.25       0.26666667 0.28333333\n 0.3        0.31666667 0.33333333 0.35       0.36666667 0.38333333\n 0.4        0.41666667 0.43333333 0.45       0.46666667 0.48333333\n 0.5        0.51666667 0.53333333 0.55       0.56666667 0.58333333\n 0.6        0.61666667 0.63333333 0.65       0.66666667 0.68333333\n 0.7        0.71666667 0.73333333 0.75       0.76666667 0.78333333\n 0.8        0.81666667 0.83333333 0.85       0.86666667 0.88333333\n 0.9        0.91666667 0.93333333 0.95       0.96666667 0.98333333\n 1.         1.01666667 1.03333333 1.05       1.06666667 1.08333333\n 1.1        1.11666667 1.13333333 1.15       1.16666667 1.18333333\n 1.2        1.21666667 1.23333333 1.25       1.26666667 1.28333333\n 1.3        1.31666667 1.33333333 1.35       1.36666667 1.38333333\n 1.4        1.41666667 1.43333333 1.45       1.46666667 1.48333333\n 1.5        1.51666667 1.53333333 1.55       1.56666667 1.58333333\n 1.6        1.61666667 1.63333333 1.65       1.66666667 1.68333333\n 1.7        1.71666667 1.73333333 1.75       1.76666667 1.78333333\n 1.8        1.81666667 1.83333333 1.85       1.86666667 1.88333333\n 1.9        1.91666667 1.93333333 1.95       1.96666667 1.98333333\n 2.         2.01666667 2.03333333 2.05       2.06666667 2.08333333\n 2.1        2.11666667 2.13333333 2.15       2.16666667 2.18333333\n 2.2        2.21666667 2.23333333 2.25       2.26666667 2.28333333\n 2.3        2.31666667 2.33333333 2.35       2.36666667 2.38333333\n 2.4        2.41666667 2.43333333 2.45       2.46666667 2.48333333\n 2.5        2.51666667 2.53333333 2.55       2.56666667 2.58333333\n 2.6        2.61666667 2.63333333 2.65       2.66666667 2.68333333\n 2.7        2.71666667 2.73333333 2.75       2.76666667 2.78333333\n 2.8        2.81666667 2.83333333 2.85       2.86666667 2.88333333\n 2.9        2.91666667 2.93333333 2.95       2.96666667 2.98333333\n 3.         3.01666667 3.03333333 3.05       3.06666667 3.08333333\n 3.1        3.11666667 3.13333333 3.15       3.16666667 3.18333333\n 3.2        3.21666667 3.23333333 3.25       3.26666667 3.28333333\n 3.3        3.31666667 3.33333333 3.35       3.36666667 3.38333333\n 3.4        3.41666667 3.43333333 3.45       3.46666667 3.48333333\n 3.5        3.51666667 3.53333333 3.55       3.56666667 3.58333333\n 3.6        3.61666667 3.63333333 3.65       3.66666667 3.68333333\n 3.7        3.71666667 3.73333333 3.75       3.76666667 3.78333333\n 3.8        3.81666667 3.83333333 3.85       3.86666667 3.88333333\n 3.9        3.91666667 3.93333333 3.95       3.96666667 3.98333333\n 4.         4.01666667 4.03333333 4.05       4.06666667 4.08333333\n 4.1        4.11666667 4.13333333 4.15       4.16666667 4.18333333\n 4.2        4.21666667 4.23333333 4.25       4.26666667 4.28333333\n 4.3        4.31666667 4.33333333 4.35       4.36666667 4.38333333\n 4.4        4.41666667 4.43333333 4.45       4.46666667 4.48333333\n 4.5        4.51666667 4.53333333 4.55       4.56666667 4.58333333\n 4.6        4.61666667 4.63333333 4.65       4.66666667 4.68333333\n 4.7        4.71666667 4.73333333 4.75       4.76666667 4.78333333\n 4.8        4.81666667 4.83333333 4.85       4.86666667 4.88333333\n 4.9        4.91666667 4.93333333 4.95       4.96666667 4.98333333\n 5.        ]",
         "[0.79126033 0.79126033 0.79126033 0.79126033 0.79126033 0.79126033\n 0.79126033 0.79126033 0.79126033 0.79126033 0.79126033 0.79126033\n 0.79126033 0.79126033 0.79126033 0.79126033 0.79126033 0.79126033\n 0.79126033 0.79126033 0.79126033 0.79126033 0.79126033 0.79126033\n 0.79126033 0.79126033 0.79126033 0.79126033 0.79126033 0.79126033\n 0.79126033 0.79126033 0.79126033 0.79126033 0.79126033 0.79126033\n 0.79126033 0.79126033 0.79126033 0.79126033 0.79126033 0.79126033\n 0.79126033 0.79126033 0.79126033 0.79126033 0.79126033 0.79126033\n 0.79126033 0.79126033 0.79126033 0.79126033 0.79126033 0.79126033\n 0.79126033 0.79126033 0.79126033 0.79126033 0.79126033 0.79126033\n 0.79126033 0.79126033 0.79126033 0.79126033 0.79126033 0.79126033\n 0.79126033 0.79126033 0.79126033 0.79126033 0.79126033 0.79126033\n 0.79126033 0.79126033 0.79126033 0.79126033 0.79126033 0.79126033\n 0.79126033 0.79126033 0.79126033 0.79126033 0.79126033 0.79126033\n 0.79126033 0.79126033 5.84910061 6.37957656 6.37957656 6.37957656\n 6.37957656 6.37957656 6.37957656 6.37957656 6.37957656 6.6474255\n 6.97572729 6.97572729 6.97572729 6.97572729 6.97572729 6.97572729\n 6.97572729 6.97572729 6.97572729 6.97572729 6.97572729 6.97572729\n 6.97572729 6.97572729 6.97572729 6.97572729 6.97572729 6.97572729\n 6.97572729 6.97572729 6.97572729 6.97572729 6.97572729 6.97572729\n 6.97572729 6.97572729 6.97572729 6.97572729 6.97572729 6.97572729\n 6.97572729 6.97572729 6.97572729 6.97572729 6.97572729 6.97572729\n 6.97572729 6.97572729 6.97572729 6.97572729 6.97572729 6.97572729\n 6.97572729 6.97572729 6.97572729 6.97572729 6.97572729 6.97572729\n 6.97572729 6.97572729 6.97572729 6.97572729 6.97572729 6.97572729\n 6.97572729 6.97572729 6.97572729 6.97572729 6.97572729 6.97572729\n 6.97572729 6.97572729 6.97572729 6.97572729 6.97572729 5.92926256\n 2.21536225 2.21536225 2.21536225 2.21536225 1.0829334  0.37093303\n 0.37093303 0.37093303 0.37093303 0.37093303 0.37093303 0.37093303\n 0.37093303 0.37093303 0.37093303 0.37093303 0.37093303 0.37093303\n 0.37093303 0.37093303 0.37093303 0.37093303 0.37093303 0.37093303\n 0.37093303 0.37093303 0.37093303 0.37093303 0.37093303 0.37093303\n 0.37093303 0.37093303 0.37093303 0.37093303 0.37093303 0.37093303\n 0.37093303 0.37093303 0.37093303 0.37093303 0.37093303 0.37093303\n 0.37093303 0.37093303 0.37093303 0.37093303 0.37093303 0.37093303\n 0.37093303 0.37093303 0.37093303 0.37093303 0.37093303 0.37093303\n 0.37093303 0.37093303 0.37093303 0.37093303 0.37093303 0.37093303\n 0.37093303 0.37093303 0.37093303 0.37093303 0.37093303 0.37093303\n 0.37093303 0.37093303 0.37093303 0.37093303 0.37093303 0.37093303\n 0.37093303 0.37093303 2.266577   2.266577   2.266577   2.266577\n 2.266577   2.266577   2.266577   2.266577   4.4991517  7.42800733\n 7.42800733 7.42800733 7.42800733 7.42800733 7.42800733 7.42800733\n 7.42800733 7.42800733 7.42800733 7.42800733 7.42800733 7.42800733\n 7.42800733 7.42800733 7.42800733 7.42800733 7.42800733 7.42800733\n 7.42800733 7.42800733 7.42800733 7.42800733 7.42800733 7.42800733\n 7.42800733 7.42800733 7.42800733 7.42800733 7.42800733 7.42800733\n 7.42800733 7.42800733 7.42800733 7.42800733 7.42800733 7.42800733\n 7.42800733 7.42800733 7.42800733 7.42800733 7.42800733 7.42800733\n 7.42800733 7.42800733 7.42800733 7.42800733 7.42800733 7.42800733\n 7.42800733 7.42800733 7.42800733 7.42800733 7.42800733 7.42800733\n 7.42800733]",
         "[0.76607245 0.78192133 0.76527957 0.77469663 0.7620449  0.79242684\n 0.7601849  0.8062064  0.87554521 0.81241568 0.78537541 0.76490487\n 0.78490501 0.76907235 0.82671315 0.8674154  0.7749549  0.81070155\n 0.79111756 0.81473069 0.76258135 0.77236749 0.71921988 0.78876651\n 0.79801366 0.78113118 0.8062844  0.76704582 0.80714629 0.78182078\n 0.74812784 0.81212961 0.78430398 0.80445239 0.80533787 0.77128009\n 0.74521795 0.8300516  0.80712023 0.81788521 0.73305836 0.85117124\n 0.78000737 0.8028053  0.80086438 0.76029243 0.79818774 0.8372039\n 0.82003851 0.82925779 0.77079422 0.79989847 0.79548493 0.76640278\n 0.76960526 0.78763399 0.79773067 0.79667599 0.82207151 0.77919276\n 0.79013506 0.77513929 0.83089757 0.78304297 0.79979853 0.81480509\n 0.76731928 0.80484867 0.82452477 0.84463194 0.74813381 0.80763722\n 0.80655323 0.77811986 0.76572362 0.75766917 0.78179358 0.78071086\n 0.77367988 0.76806228 0.76256235 0.80624379 0.81315393 0.77085258\n 0.81208229 0.76236047 5.84563716 6.39287063 6.42162495 6.34965553\n 6.37889666 6.3863289  6.32590072 6.36040028 6.36982463 6.65058499\n 6.97305768 6.93596424 7.00048512 6.99243736 6.97128667 6.99316088\n 6.98409505 6.98484656 6.98962199 6.96376037 6.97726334 6.93995805\n 6.96977393 7.03382493 7.00071259 6.94021091 6.94167678 6.95000368\n 7.0077585  6.96928107 6.95849216 6.98929511 6.93911225 6.97256324\n 7.01677703 6.94300973 6.96744776 7.01163537 7.03667697 6.97878326\n 6.97260257 6.95641611 6.98806834 6.93629668 6.96101872 6.96794341\n 6.97825667 6.98425173 6.97010406 6.9404923  7.010843   6.99165444\n 6.94981287 6.95612477 6.9494116  7.03922587 6.99490147 6.95572461\n 6.95512615 6.97329817 6.99148084 6.96199916 6.99889611 6.99093849\n 6.9786276  7.01474397 6.98615007 6.97883683 7.03408476 6.96681093\n 6.99070512 6.96796242 7.00319396 6.98889801 6.9513822  5.90166388\n 2.22102382 2.22589176 2.23431236 2.20031497 1.09250786 0.40950638\n 0.40472735 0.39499286 0.33480119 0.34257784 0.38894378 0.37924428\n 0.38872097 0.37826802 0.39009953 0.33670693 0.37130073 0.3653858\n 0.35526172 0.31849297 0.30950874 0.31218752 0.34364776 0.39396779\n 0.35477914 0.36479351 0.38470555 0.35503861 0.34112113 0.31670857\n 0.37178636 0.34206675 0.39633918 0.39692967 0.32661712 0.41928443\n 0.41770056 0.38556986 0.33515104 0.36252702 0.39892407 0.36419836\n 0.3999986  0.31441363 0.36618272 0.37241326 0.35099322 0.39478115\n 0.4003336  0.38140107 0.41926409 0.37112607 0.37748662 0.4079308\n 0.36021989 0.39031038 0.30105339 0.38717773 0.40148753 0.34048326\n 0.39526044 0.42394833 0.38842211 0.37265137 0.34474922 0.3770703\n 0.397455   0.42199626 0.38203125 0.37196844 0.44432745 0.35497133\n 0.37485232 0.37259506 2.25337628 2.32347141 2.22382942 2.28517429\n 2.27868487 2.26329912 2.25934253 2.23448592 4.5432413  7.39974312\n 7.50279781 7.46882294 7.43289119 7.43855208 7.44367075 7.43694295\n 7.43719116 7.39471793 7.39468152 7.44870875 7.37911066 7.43426138\n 7.47359193 7.4445181  7.38240275 7.44225454 7.45718244 7.45620586\n 7.38822302 7.43085353 7.42694564 7.43146221 7.39161219 7.40731395\n 7.44044018 7.41996498 7.4421567  7.44721119 7.43783215 7.41429941\n 7.35335637 7.407187   7.46480928 7.36377861 7.44548704 7.43550016\n 7.47392754 7.46330953 7.45643012 7.4229216  7.40859287 7.42889436\n 7.4346589  7.44464374 7.39203471 7.44651679 7.41951399 7.43384573\n 7.34536092 7.44730614 7.44661237 7.40264484 7.43197484 7.38765803\n 7.4327645 ]",
         "[0, 7.5, 0, 7.5]",
         "(2, 2, 2, 2)",
         "2",
         "0"
        ],
        [
         "1",
         "[0.         0.01666667 0.03333333 0.05       0.06666667 0.08333333\n 0.1        0.11666667 0.13333333 0.15       0.16666667 0.18333333\n 0.2        0.21666667 0.23333333 0.25       0.26666667 0.28333333\n 0.3        0.31666667 0.33333333 0.35       0.36666667 0.38333333\n 0.4        0.41666667 0.43333333 0.45       0.46666667 0.48333333\n 0.5        0.51666667 0.53333333 0.55       0.56666667 0.58333333\n 0.6        0.61666667 0.63333333 0.65       0.66666667 0.68333333\n 0.7        0.71666667 0.73333333 0.75       0.76666667 0.78333333\n 0.8        0.81666667 0.83333333 0.85       0.86666667 0.88333333\n 0.9        0.91666667 0.93333333 0.95       0.96666667 0.98333333\n 1.         1.01666667 1.03333333 1.05       1.06666667 1.08333333\n 1.1        1.11666667 1.13333333 1.15       1.16666667 1.18333333\n 1.2        1.21666667 1.23333333 1.25       1.26666667 1.28333333\n 1.3        1.31666667 1.33333333 1.35       1.36666667 1.38333333\n 1.4        1.41666667 1.43333333 1.45       1.46666667 1.48333333\n 1.5        1.51666667 1.53333333 1.55       1.56666667 1.58333333\n 1.6        1.61666667 1.63333333 1.65       1.66666667 1.68333333\n 1.7        1.71666667 1.73333333 1.75       1.76666667 1.78333333\n 1.8        1.81666667 1.83333333 1.85       1.86666667 1.88333333\n 1.9        1.91666667 1.93333333 1.95       1.96666667 1.98333333\n 2.         2.01666667 2.03333333 2.05       2.06666667 2.08333333\n 2.1        2.11666667 2.13333333 2.15       2.16666667 2.18333333\n 2.2        2.21666667 2.23333333 2.25       2.26666667 2.28333333\n 2.3        2.31666667 2.33333333 2.35       2.36666667 2.38333333\n 2.4        2.41666667 2.43333333 2.45       2.46666667 2.48333333\n 2.5        2.51666667 2.53333333 2.55       2.56666667 2.58333333\n 2.6        2.61666667 2.63333333 2.65       2.66666667 2.68333333\n 2.7        2.71666667 2.73333333 2.75       2.76666667 2.78333333\n 2.8        2.81666667 2.83333333 2.85       2.86666667 2.88333333\n 2.9        2.91666667 2.93333333 2.95       2.96666667 2.98333333\n 3.         3.01666667 3.03333333 3.05       3.06666667 3.08333333\n 3.1        3.11666667 3.13333333 3.15       3.16666667 3.18333333\n 3.2        3.21666667 3.23333333 3.25       3.26666667 3.28333333\n 3.3        3.31666667 3.33333333 3.35       3.36666667 3.38333333\n 3.4        3.41666667 3.43333333 3.45       3.46666667 3.48333333\n 3.5        3.51666667 3.53333333 3.55       3.56666667 3.58333333\n 3.6        3.61666667 3.63333333 3.65       3.66666667 3.68333333\n 3.7        3.71666667 3.73333333 3.75       3.76666667 3.78333333\n 3.8        3.81666667 3.83333333 3.85       3.86666667 3.88333333\n 3.9        3.91666667 3.93333333 3.95       3.96666667 3.98333333\n 4.         4.01666667 4.03333333 4.05       4.06666667 4.08333333\n 4.1        4.11666667 4.13333333 4.15       4.16666667 4.18333333\n 4.2        4.21666667 4.23333333 4.25       4.26666667 4.28333333\n 4.3        4.31666667 4.33333333 4.35       4.36666667 4.38333333\n 4.4        4.41666667 4.43333333 4.45       4.46666667 4.48333333\n 4.5        4.51666667 4.53333333 4.55       4.56666667 4.58333333\n 4.6        4.61666667 4.63333333 4.65       4.66666667 4.68333333\n 4.7        4.71666667 4.73333333 4.75       4.76666667 4.78333333\n 4.8        4.81666667 4.83333333 4.85       4.86666667 4.88333333\n 4.9        4.91666667 4.93333333 4.95       4.96666667 4.98333333\n 5.        ]",
         "[0.72730659 0.72730659 0.72730659 0.72730659 0.72730659 0.72730659\n 0.72730659 0.72730659 0.72730659 0.72730659 0.72730659 0.72730659\n 0.72730659 0.72730659 0.72730659 0.72730659 0.72730659 0.72730659\n 0.72730659 0.72730659 0.72730659 0.72730659 0.72730659 0.72730659\n 0.72730659 0.72730659 0.72730659 0.72730659 0.72730659 0.72730659\n 0.72730659 0.72730659 0.72730659 0.72730659 0.72730659 0.72730659\n 0.72730659 0.72730659 0.72730659 0.72730659 0.72730659 0.72730659\n 0.72730659 0.72730659 0.72730659 0.72730659 0.72730659 0.72730659\n 0.72730659 0.72730659 0.72730659 0.72730659 0.72730659 0.72730659\n 0.72730659 0.72730659 0.72730659 0.72730659 0.72730659 0.72730659\n 0.72730659 0.72730659 0.72730659 0.72730659 0.72730659 0.72730659\n 0.72730659 0.72730659 0.72730659 0.72730659 0.72730659 0.72730659\n 0.72730659 0.72730659 0.72730659 0.72730659 0.72730659 0.72730659\n 0.72730659 0.72730659 0.72730659 0.72730659 0.72730659 0.72730659\n 0.72730659 0.72730659 0.72730659 1.80078405 3.47312519 3.47312519\n 3.47312519 4.54145013 7.13610145 7.13610145 7.13610145 7.13610145\n 7.13610145 7.13610145 7.13610145 7.13610145 7.13610145 7.13610145\n 7.13610145 7.13610145 7.13610145 7.13610145 7.13610145 7.13610145\n 7.13610145 7.13610145 7.13610145 7.13610145 7.13610145 7.13610145\n 7.13610145 7.13610145 7.13610145 7.13610145 7.13610145 7.13610145\n 7.13610145 7.13610145 7.13610145 7.13610145 7.13610145 7.13610145\n 7.13610145 7.13610145 7.13610145 7.13610145 7.13610145 7.13610145\n 7.13610145 7.13610145 7.13610145 7.13610145 7.13610145 7.13610145\n 7.13610145 7.13610145 7.13610145 7.13610145 7.13610145 7.13610145\n 7.13610145 7.13610145 7.13610145 7.13610145 7.13610145 7.13610145\n 7.13610145 7.13610145 7.13610145 7.13610145 7.13610145 7.13610145\n 7.13610145 7.13610145 7.13610145 7.13610145 7.13610145 4.2179583\n 3.38937055 3.38937055 3.38937055 3.38937055 3.38937055 3.38937055\n 3.25791125 0.41216689 0.41216689 0.41216689 0.41216689 0.41216689\n 0.41216689 0.41216689 0.41216689 0.41216689 0.41216689 0.41216689\n 0.41216689 0.41216689 0.41216689 0.41216689 0.41216689 0.41216689\n 0.41216689 0.41216689 0.41216689 0.41216689 0.41216689 0.41216689\n 0.41216689 0.41216689 0.41216689 0.41216689 0.41216689 0.41216689\n 0.41216689 0.41216689 0.41216689 0.41216689 0.41216689 0.41216689\n 0.41216689 0.41216689 0.41216689 0.41216689 0.41216689 0.41216689\n 0.41216689 0.41216689 0.41216689 0.41216689 0.41216689 0.41216689\n 0.41216689 0.41216689 0.41216689 0.41216689 0.41216689 0.41216689\n 0.41216689 0.41216689 0.41216689 0.41216689 0.41216689 0.41216689\n 0.41216689 0.41216689 0.41216689 0.41216689 0.41216689 2.31328396\n 2.56109277 2.56109277 2.56109277 2.56109277 4.15265802 6.93483315\n 6.93483315 6.93483315 6.93483315 6.93483315 6.93483315 6.93483315\n 6.93483315 6.93483315 6.93483315 6.93483315 6.93483315 6.93483315\n 6.93483315 6.93483315 6.93483315 6.93483315 6.93483315 6.93483315\n 6.93483315 6.93483315 6.93483315 6.93483315 6.93483315 6.93483315\n 6.93483315 6.93483315 6.93483315 6.93483315 6.93483315 6.93483315\n 6.93483315 6.93483315 6.93483315 6.93483315 6.93483315 6.93483315\n 6.93483315 6.93483315 6.93483315 6.93483315 6.93483315 6.93483315\n 6.93483315 6.93483315 6.93483315 6.93483315 6.93483315 6.93483315\n 6.93483315 6.93483315 6.93483315 6.93483315 6.93483315 6.93483315\n 6.93483315 6.93483315 6.93483315 6.93483315 6.93483315 6.93483315\n 6.93483315]",
         "[ 3.73891241e-01  9.49645465e-01  5.74185839e-01  1.04065276e+00\n  9.34802003e-01  8.52556607e-01  7.87698185e-01  7.23239526e-01\n  8.33560879e-01  5.89990093e-01  9.46100536e-01  9.59553992e-01\n  5.72496215e-01  8.61615433e-01  7.04959239e-01  2.53396352e-01\n  7.76794834e-01  1.01254533e+00  9.03603092e-01  8.37425338e-01\n  8.29390083e-01  7.93255239e-01  5.44624061e-01  6.53567172e-01\n  5.85763913e-01  6.73045745e-01  7.55968778e-01  6.95216635e-01\n  4.39078296e-01  7.27915908e-01  9.03940336e-01  6.75705667e-01\n  7.02557723e-01  8.82091188e-01  7.61389952e-01  6.39101052e-01\n  9.48772072e-01  1.02218229e+00  9.68033156e-01  1.04425632e+00\n  4.59903183e-01  8.61389315e-01  5.82332872e-01  5.52469672e-01\n  1.00313408e+00  5.52023502e-01  4.53801798e-01  1.09692627e+00\n  4.38401305e-01  5.33450876e-01  7.66345631e-01  5.68786856e-01\n  1.19588908e+00  1.05014431e+00  6.80133633e-01  6.21129270e-01\n  5.22596147e-01  7.67436459e-01  6.99357166e-01  6.58778595e-01\n  6.54580420e-01  4.56391910e-01  6.65994373e-01  9.04958243e-01\n  7.94357647e-01  4.26603770e-01  1.01894165e+00  4.09202450e-01\n  7.99755290e-01  7.39917639e-01  8.30789511e-01  9.09247867e-01\n  8.70149414e-01  7.42595702e-01  5.80916582e-01  5.45912117e-01\n  8.07341478e-01  6.39788681e-01  6.41751062e-01  8.33127040e-01\n  5.29796320e-01  8.22855424e-01  6.90126400e-01  4.84912298e-01\n  6.83146014e-01  5.90332943e-01  7.54948419e-01  1.88736435e+00\n  3.58709637e+00  3.70952734e+00  3.55929924e+00  4.72968500e+00\n  7.27099041e+00  7.01078664e+00  7.14177070e+00  7.05674983e+00\n  7.03553056e+00  7.08661155e+00  6.90579195e+00  7.01203871e+00\n  7.05577843e+00  6.89616286e+00  7.07865874e+00  7.20604212e+00\n  6.75329658e+00  6.94561055e+00  7.44249310e+00  7.33514574e+00\n  7.28516412e+00  7.05802284e+00  6.96793134e+00  7.23165365e+00\n  7.14521578e+00  7.41095126e+00  7.33384916e+00  6.94657335e+00\n  7.00789396e+00  6.79575477e+00  7.16496201e+00  7.09395114e+00\n  6.82555574e+00  6.95641937e+00  7.23164321e+00  7.16562419e+00\n  7.19555997e+00  7.13687404e+00  7.36007495e+00  7.01043052e+00\n  7.28545274e+00  6.91280852e+00  7.23509086e+00  7.07260217e+00\n  7.06434381e+00  7.41753667e+00  7.03880081e+00  6.99716922e+00\n  7.27791279e+00  7.24074207e+00  7.06545555e+00  7.17263265e+00\n  7.20722202e+00  7.28738600e+00  7.10446400e+00  7.20479741e+00\n  7.16018937e+00  7.20744377e+00  7.16108469e+00  7.03955097e+00\n  6.83249156e+00  7.16296479e+00  7.13262880e+00  7.30675340e+00\n  7.29146417e+00  7.10453265e+00  6.43143988e+00  7.21182171e+00\n  7.05882530e+00  7.40261425e+00  7.17916336e+00  7.24332158e+00\n  7.18725708e+00  4.02230080e+00  3.62484519e+00  3.06308285e+00\n  3.16265092e+00  3.21761591e+00  3.44724001e+00  3.15552782e+00\n  3.36893484e+00  5.18392104e-01  3.56047841e-01  6.98784326e-01\n  5.34590353e-01  5.04520506e-01  2.81279075e-01  2.72735900e-01\n  4.02770167e-01  5.24338381e-01  5.03497981e-01  5.18839774e-01\n  7.41346445e-01  7.78434569e-01  4.92693184e-01  5.27712134e-01\n  5.83552241e-01  6.91027629e-01  4.21152570e-01  4.81401483e-01\n  1.28499132e-01 -1.56618074e-02  4.61847379e-01  5.37794492e-01\n  2.72934457e-01  3.76632619e-01  5.02206605e-01  2.01643432e-01\n  5.73169205e-01  4.05791728e-01  6.54327399e-01  3.10299393e-01\n  3.11665729e-01  6.03755513e-01  2.90753057e-01  2.93513432e-01\n  1.29821290e-01  5.05419954e-01  4.90559809e-01  3.69373791e-01\n  3.67943147e-01  3.67842881e-01  4.10670812e-01  4.18253824e-01\n  5.86963869e-01  2.80333030e-01  5.69701506e-01  2.24042370e-01\n  6.49938373e-01  5.12243816e-01  3.70007002e-01  2.87123480e-01\n  4.75773993e-01  5.83215664e-01  4.97658152e-01  5.54287397e-01\n  5.14823841e-01  4.73924248e-01  4.70479842e-01  2.30895983e-01\n  7.60949630e-04  5.69069495e-01  1.83802953e-01  1.62305581e-01\n  6.93517972e-01  2.41206944e+00  2.18217685e+00  2.69029674e+00\n  2.67808327e+00  2.72239444e+00  4.06829478e+00  6.98433652e+00\n  6.85303271e+00  6.83910184e+00  6.81363400e+00  7.13012531e+00\n  7.04271163e+00  6.83720987e+00  6.63272336e+00  6.94394111e+00\n  6.99615533e+00  7.10703185e+00  6.83712218e+00  6.47148198e+00\n  6.97844226e+00  6.71753906e+00  7.18154658e+00  6.97766782e+00\n  7.29741339e+00  6.78569956e+00  6.91005751e+00  6.70999090e+00\n  6.96538723e+00  6.74640800e+00  6.67205636e+00  6.99616521e+00\n  7.06008650e+00  7.14346600e+00  6.94175336e+00  6.92311624e+00\n  6.60007698e+00  6.91867726e+00  6.91635165e+00  6.94680527e+00\n  7.41662351e+00  7.14251253e+00  6.82873949e+00  6.99806887e+00\n  7.19120653e+00  7.11314270e+00  7.02576994e+00  6.62965084e+00\n  6.86402124e+00  6.98584528e+00  7.05869734e+00  6.67620357e+00\n  6.98896140e+00  6.82301411e+00  7.30538334e+00  6.97945729e+00\n  7.02051083e+00  6.99724528e+00  6.85402318e+00  6.56060362e+00\n  7.03922404e+00  6.93988437e+00  6.96688235e+00  6.95362850e+00\n  6.74399185e+00  6.93334129e+00  7.27554120e+00  7.00503666e+00\n  6.82316841e+00]",
         "[0, 7.5, 0, 7.5]",
         "(2, 2, 2, 2)",
         "2",
         "1"
        ],
        [
         "2",
         "[0.         0.01666667 0.03333333 0.05       0.06666667 0.08333333\n 0.1        0.11666667 0.13333333 0.15       0.16666667 0.18333333\n 0.2        0.21666667 0.23333333 0.25       0.26666667 0.28333333\n 0.3        0.31666667 0.33333333 0.35       0.36666667 0.38333333\n 0.4        0.41666667 0.43333333 0.45       0.46666667 0.48333333\n 0.5        0.51666667 0.53333333 0.55       0.56666667 0.58333333\n 0.6        0.61666667 0.63333333 0.65       0.66666667 0.68333333\n 0.7        0.71666667 0.73333333 0.75       0.76666667 0.78333333\n 0.8        0.81666667 0.83333333 0.85       0.86666667 0.88333333\n 0.9        0.91666667 0.93333333 0.95       0.96666667 0.98333333\n 1.         1.01666667 1.03333333 1.05       1.06666667 1.08333333\n 1.1        1.11666667 1.13333333 1.15       1.16666667 1.18333333\n 1.2        1.21666667 1.23333333 1.25       1.26666667 1.28333333\n 1.3        1.31666667 1.33333333 1.35       1.36666667 1.38333333\n 1.4        1.41666667 1.43333333 1.45       1.46666667 1.48333333\n 1.5        1.51666667 1.53333333 1.55       1.56666667 1.58333333\n 1.6        1.61666667 1.63333333 1.65       1.66666667 1.68333333\n 1.7        1.71666667 1.73333333 1.75       1.76666667 1.78333333\n 1.8        1.81666667 1.83333333 1.85       1.86666667 1.88333333\n 1.9        1.91666667 1.93333333 1.95       1.96666667 1.98333333\n 2.         2.01666667 2.03333333 2.05       2.06666667 2.08333333\n 2.1        2.11666667 2.13333333 2.15       2.16666667 2.18333333\n 2.2        2.21666667 2.23333333 2.25       2.26666667 2.28333333\n 2.3        2.31666667 2.33333333 2.35       2.36666667 2.38333333\n 2.4        2.41666667 2.43333333 2.45       2.46666667 2.48333333\n 2.5        2.51666667 2.53333333 2.55       2.56666667 2.58333333\n 2.6        2.61666667 2.63333333 2.65       2.66666667 2.68333333\n 2.7        2.71666667 2.73333333 2.75       2.76666667 2.78333333\n 2.8        2.81666667 2.83333333 2.85       2.86666667 2.88333333\n 2.9        2.91666667 2.93333333 2.95       2.96666667 2.98333333\n 3.         3.01666667 3.03333333 3.05       3.06666667 3.08333333\n 3.1        3.11666667 3.13333333 3.15       3.16666667 3.18333333\n 3.2        3.21666667 3.23333333 3.25       3.26666667 3.28333333\n 3.3        3.31666667 3.33333333 3.35       3.36666667 3.38333333\n 3.4        3.41666667 3.43333333 3.45       3.46666667 3.48333333\n 3.5        3.51666667 3.53333333 3.55       3.56666667 3.58333333\n 3.6        3.61666667 3.63333333 3.65       3.66666667 3.68333333\n 3.7        3.71666667 3.73333333 3.75       3.76666667 3.78333333\n 3.8        3.81666667 3.83333333 3.85       3.86666667 3.88333333\n 3.9        3.91666667 3.93333333 3.95       3.96666667 3.98333333\n 4.         4.01666667 4.03333333 4.05       4.06666667 4.08333333\n 4.1        4.11666667 4.13333333 4.15       4.16666667 4.18333333\n 4.2        4.21666667 4.23333333 4.25       4.26666667 4.28333333\n 4.3        4.31666667 4.33333333 4.35       4.36666667 4.38333333\n 4.4        4.41666667 4.43333333 4.45       4.46666667 4.48333333\n 4.5        4.51666667 4.53333333 4.55       4.56666667 4.58333333\n 4.6        4.61666667 4.63333333 4.65       4.66666667 4.68333333\n 4.7        4.71666667 4.73333333 4.75       4.76666667 4.78333333\n 4.8        4.81666667 4.83333333 4.85       4.86666667 4.88333333\n 4.9        4.91666667 4.93333333 4.95       4.96666667 4.98333333\n 5.        ]",
         "[0.80028748 0.80028748 0.80028748 0.80028748 0.80028748 0.80028748\n 0.80028748 0.80028748 0.80028748 0.80028748 0.80028748 0.80028748\n 0.80028748 0.80028748 0.80028748 0.80028748 0.80028748 0.80028748\n 0.80028748 0.80028748 0.80028748 0.80028748 0.80028748 0.80028748\n 0.80028748 0.80028748 0.80028748 0.80028748 0.80028748 0.80028748\n 0.80028748 0.80028748 0.80028748 0.80028748 0.80028748 0.80028748\n 0.80028748 0.80028748 0.80028748 0.80028748 0.80028748 0.80028748\n 0.80028748 0.80028748 0.80028748 0.80028748 0.80028748 0.80028748\n 0.80028748 0.80028748 0.80028748 0.80028748 0.80028748 0.80028748\n 0.80028748 0.80028748 0.80028748 0.80028748 0.80028748 0.80028748\n 0.80028748 0.80028748 0.80028748 0.80028748 0.80028748 0.80028748\n 0.80028748 0.80028748 0.80028748 0.80028748 0.80028748 0.80028748\n 0.80028748 0.80028748 0.80028748 0.80028748 0.80028748 0.80028748\n 0.80028748 0.80028748 0.80028748 0.80028748 0.80028748 0.80028748\n 0.80028748 0.80028748 0.80028748 4.15759562 6.27319867 6.27319867\n 6.27319867 6.27319867 6.27319867 6.27319867 6.27319867 6.27319867\n 6.37517886 6.94650294 6.94650294 6.94650294 6.94650294 6.94650294\n 6.94650294 6.94650294 6.94650294 6.94650294 6.94650294 6.94650294\n 6.94650294 6.94650294 6.94650294 6.94650294 6.94650294 6.94650294\n 6.94650294 6.94650294 6.94650294 6.94650294 6.94650294 6.94650294\n 6.94650294 6.94650294 6.94650294 6.94650294 6.94650294 6.94650294\n 6.94650294 6.94650294 6.94650294 6.94650294 6.94650294 6.94650294\n 6.94650294 6.94650294 6.94650294 6.94650294 6.94650294 6.94650294\n 6.94650294 6.94650294 6.94650294 6.94650294 6.94650294 6.94650294\n 6.94650294 6.94650294 6.94650294 6.94650294 6.94650294 6.94650294\n 6.94650294 6.94650294 6.94650294 6.94650294 6.94650294 6.94650294\n 6.94650294 6.94650294 6.94650294 6.94650294 3.37518622 3.37518622\n 3.37518622 3.37518622 0.60612351 0.60612351 0.60612351 0.60612351\n 0.60612351 0.60612351 0.60612351 0.60612351 0.60612351 0.60612351\n 0.60612351 0.60612351 0.60612351 0.60612351 0.60612351 0.60612351\n 0.60612351 0.60612351 0.60612351 0.60612351 0.60612351 0.60612351\n 0.60612351 0.60612351 0.60612351 0.60612351 0.60612351 0.60612351\n 0.60612351 0.60612351 0.60612351 0.60612351 0.60612351 0.60612351\n 0.60612351 0.60612351 0.60612351 0.60612351 0.60612351 0.60612351\n 0.60612351 0.60612351 0.60612351 0.60612351 0.60612351 0.60612351\n 0.60612351 0.60612351 0.60612351 0.60612351 0.60612351 0.60612351\n 0.60612351 0.60612351 0.60612351 0.60612351 0.60612351 0.60612351\n 0.60612351 0.60612351 0.60612351 0.60612351 0.60612351 0.60612351\n 0.60612351 0.60612351 0.60612351 0.60612351 0.60612351 2.80777069\n 2.80777069 2.80777069 2.80777069 2.80777069 2.80777069 2.80777069\n 2.80777069 2.80777069 4.73740781 6.84628545 6.84628545 6.84628545\n 6.84628545 6.84628545 6.84628545 6.84628545 6.84628545 6.84628545\n 6.84628545 6.84628545 6.84628545 6.84628545 6.84628545 6.84628545\n 6.84628545 6.84628545 6.84628545 6.84628545 6.84628545 6.84628545\n 6.84628545 6.84628545 6.84628545 6.84628545 6.84628545 6.84628545\n 6.84628545 6.84628545 6.84628545 6.84628545 6.84628545 6.84628545\n 6.84628545 6.84628545 6.84628545 6.84628545 6.84628545 6.84628545\n 6.84628545 6.84628545 6.84628545 6.84628545 6.84628545 6.84628545\n 6.84628545 6.84628545 6.84628545 6.84628545 6.84628545 6.84628545\n 6.84628545 6.84628545 6.84628545 6.84628545 6.84628545 6.84628545\n 6.84628545]",
         "[0.8279722  0.79651959 0.91998936 0.73333899 0.81765675 0.68646409\n 0.92345512 0.76238235 0.71972653 0.80427827 0.92765561 0.7703501\n 0.63921564 0.82105423 0.79168755 0.81683806 0.79876848 0.73259426\n 0.70218141 0.75433424 0.81103719 0.82327486 0.67116498 1.00262698\n 0.76198229 0.79821996 1.04976648 0.79561118 0.74023286 0.68608427\n 0.83722262 0.69546382 0.61094724 0.80409184 0.77372815 0.92198069\n 0.74502098 0.81897963 0.67224437 0.59055735 0.8488225  0.99335715\n 0.86276512 0.85682931 0.67877262 0.67072506 0.61471901 0.75053093\n 0.82665484 0.54104131 0.78951832 0.71872518 0.70847461 0.8224197\n 0.87690228 0.80417954 0.86923971 0.79551555 0.86064426 0.740837\n 0.79866257 0.83800801 0.78768748 0.80159886 0.71243361 0.71055131\n 0.66626041 0.80734625 0.77986413 0.78532522 0.7337993  0.91792295\n 0.95737459 0.75861011 0.8947027  0.72638801 0.77361604 0.83890396\n 0.88251669 0.8394244  0.88418168 0.89523707 0.6283107  0.74481022\n 0.53904694 0.84856153 0.80745891 3.97522864 6.27550909 6.19695729\n 6.21303896 6.39570223 6.20971752 6.13454652 6.01924987 6.19830343\n 6.4005383  6.8910369  6.86035776 6.98110524 7.11107711 6.86874709\n 7.04315639 7.0384497  7.00316988 6.92298101 6.88895005 7.02823183\n 6.9233872  6.94088015 7.11108731 6.97293407 7.02296324 6.96117461\n 6.87966507 6.98193231 6.9965876  6.98395998 6.65479908 6.96614575\n 6.96240909 7.02569707 6.98962574 6.93501953 7.03137925 7.09477325\n 6.78802288 6.94507734 6.84844238 6.89818941 6.94027961 7.0304939\n 6.84839376 6.90799487 6.73779908 7.13969769 7.00017883 7.02788066\n 7.00739068 7.03849658 6.99257352 6.88193702 6.66814437 6.97574047\n 7.06709837 6.90653228 6.89788954 6.92605463 6.82735909 6.92469514\n 7.10865524 6.90738597 6.79852768 6.9089951  6.85098406 7.0550524\n 6.99462596 6.80452853 6.92947984 7.06239216 3.36323652 3.51356198\n 3.40834757 3.28006694 0.55159791 0.61764892 0.36453997 0.65393399\n 0.71697207 0.68351848 0.57415213 0.77576675 0.47456892 0.72189662\n 0.77838168 0.55331813 0.76925236 0.69587138 0.6837784  0.61459025\n 0.70571633 0.54774912 0.64662629 0.6214514  0.76944186 0.51194966\n 0.49767178 0.6167436  0.5959118  0.70186511 0.57176114 0.58097715\n 0.58408305 0.61919354 0.66981416 0.58502467 0.63448227 0.70402458\n 0.66552758 0.6275644  0.44703161 0.77577156 0.73514123 0.6465325\n 0.60150789 0.43043435 0.58867839 0.49310007 0.734748   0.81738904\n 0.55395895 0.63964168 0.48338462 0.5766253  0.65796649 0.68358478\n 0.82522464 0.67874878 0.76708913 0.71455557 0.65684202 0.56491076\n 0.57195015 0.70153376 0.71333064 0.55014118 0.57938711 0.77495329\n 0.7140496  0.5598018  0.49449796 0.46581913 0.47409925 2.82870443\n 2.66514012 2.69816613 2.74376507 2.90891995 2.66519224 2.66547891\n 2.76013733 2.80595435 4.73465093 6.69928722 6.79562317 6.95170355\n 6.95710344 6.89957633 6.90477249 6.83529733 6.88008671 6.67478685\n 6.81618496 6.91418127 6.82287047 6.9504839  6.80617312 6.81107059\n 6.84267033 6.64211274 6.82099964 6.89176829 6.8476904  6.80083729\n 6.84627165 6.92029414 6.8341555  7.04855423 6.74217773 6.60312583\n 6.86264207 6.89178463 6.77587721 6.87514751 6.86945551 6.65427298\n 6.66363446 6.96938808 6.78796559 6.61018906 6.78638068 6.63495219\n 6.9099775  6.98368584 6.78585885 6.93638889 6.83495517 6.86328659\n 6.69703883 6.74470547 6.74675572 6.77439828 6.83202151 6.80072664\n 6.90766261 6.70740103 6.87117767 6.84022689 6.89198983 6.98153601\n 6.98033573]",
         "[0, 7.5, 0, 7.5]",
         "(2, 2, 2, 2)",
         "2",
         "2"
        ],
        [
         "3",
         "[0.         0.01666667 0.03333333 0.05       0.06666667 0.08333333\n 0.1        0.11666667 0.13333333 0.15       0.16666667 0.18333333\n 0.2        0.21666667 0.23333333 0.25       0.26666667 0.28333333\n 0.3        0.31666667 0.33333333 0.35       0.36666667 0.38333333\n 0.4        0.41666667 0.43333333 0.45       0.46666667 0.48333333\n 0.5        0.51666667 0.53333333 0.55       0.56666667 0.58333333\n 0.6        0.61666667 0.63333333 0.65       0.66666667 0.68333333\n 0.7        0.71666667 0.73333333 0.75       0.76666667 0.78333333\n 0.8        0.81666667 0.83333333 0.85       0.86666667 0.88333333\n 0.9        0.91666667 0.93333333 0.95       0.96666667 0.98333333\n 1.         1.01666667 1.03333333 1.05       1.06666667 1.08333333\n 1.1        1.11666667 1.13333333 1.15       1.16666667 1.18333333\n 1.2        1.21666667 1.23333333 1.25       1.26666667 1.28333333\n 1.3        1.31666667 1.33333333 1.35       1.36666667 1.38333333\n 1.4        1.41666667 1.43333333 1.45       1.46666667 1.48333333\n 1.5        1.51666667 1.53333333 1.55       1.56666667 1.58333333\n 1.6        1.61666667 1.63333333 1.65       1.66666667 1.68333333\n 1.7        1.71666667 1.73333333 1.75       1.76666667 1.78333333\n 1.8        1.81666667 1.83333333 1.85       1.86666667 1.88333333\n 1.9        1.91666667 1.93333333 1.95       1.96666667 1.98333333\n 2.         2.01666667 2.03333333 2.05       2.06666667 2.08333333\n 2.1        2.11666667 2.13333333 2.15       2.16666667 2.18333333\n 2.2        2.21666667 2.23333333 2.25       2.26666667 2.28333333\n 2.3        2.31666667 2.33333333 2.35       2.36666667 2.38333333\n 2.4        2.41666667 2.43333333 2.45       2.46666667 2.48333333\n 2.5        2.51666667 2.53333333 2.55       2.56666667 2.58333333\n 2.6        2.61666667 2.63333333 2.65       2.66666667 2.68333333\n 2.7        2.71666667 2.73333333 2.75       2.76666667 2.78333333\n 2.8        2.81666667 2.83333333 2.85       2.86666667 2.88333333\n 2.9        2.91666667 2.93333333 2.95       2.96666667 2.98333333\n 3.         3.01666667 3.03333333 3.05       3.06666667 3.08333333\n 3.1        3.11666667 3.13333333 3.15       3.16666667 3.18333333\n 3.2        3.21666667 3.23333333 3.25       3.26666667 3.28333333\n 3.3        3.31666667 3.33333333 3.35       3.36666667 3.38333333\n 3.4        3.41666667 3.43333333 3.45       3.46666667 3.48333333\n 3.5        3.51666667 3.53333333 3.55       3.56666667 3.58333333\n 3.6        3.61666667 3.63333333 3.65       3.66666667 3.68333333\n 3.7        3.71666667 3.73333333 3.75       3.76666667 3.78333333\n 3.8        3.81666667 3.83333333 3.85       3.86666667 3.88333333\n 3.9        3.91666667 3.93333333 3.95       3.96666667 3.98333333\n 4.         4.01666667 4.03333333 4.05       4.06666667 4.08333333\n 4.1        4.11666667 4.13333333 4.15       4.16666667 4.18333333\n 4.2        4.21666667 4.23333333 4.25       4.26666667 4.28333333\n 4.3        4.31666667 4.33333333 4.35       4.36666667 4.38333333\n 4.4        4.41666667 4.43333333 4.45       4.46666667 4.48333333\n 4.5        4.51666667 4.53333333 4.55       4.56666667 4.58333333\n 4.6        4.61666667 4.63333333 4.65       4.66666667 4.68333333\n 4.7        4.71666667 4.73333333 4.75       4.76666667 4.78333333\n 4.8        4.81666667 4.83333333 4.85       4.86666667 4.88333333\n 4.9        4.91666667 4.93333333 4.95       4.96666667 4.98333333\n 5.        ]",
         "[0.81715866 0.81715866 0.81715866 0.81715866 0.81715866 0.81715866\n 0.81715866 0.81715866 0.81715866 0.81715866 0.81715866 0.81715866\n 0.81715866 0.81715866 0.81715866 0.81715866 0.81715866 0.81715866\n 0.81715866 0.81715866 0.81715866 0.81715866 0.81715866 0.81715866\n 0.81715866 0.81715866 0.81715866 0.81715866 0.81715866 0.81715866\n 0.81715866 0.81715866 0.81715866 0.81715866 0.81715866 0.81715866\n 0.81715866 0.81715866 0.81715866 0.81715866 0.81715866 0.81715866\n 0.81715866 0.81715866 0.81715866 0.81715866 0.81715866 0.81715866\n 0.81715866 0.81715866 0.81715866 0.81715866 0.81715866 0.81715866\n 0.81715866 0.81715866 0.81715866 0.81715866 0.81715866 0.81715866\n 0.81715866 0.81715866 0.81715866 0.81715866 0.81715866 0.81715866\n 0.81715866 0.81715866 0.81715866 0.81715866 0.81715866 0.81715866\n 0.81715866 0.81715866 0.81715866 0.81715866 0.81715866 0.81715866\n 0.81715866 0.81715866 0.81715866 0.81715866 0.81715866 0.81715866\n 6.3524124  6.3524124  6.3524124  6.3524124  6.80524939 7.10725063\n 7.10725063 7.10725063 7.10725063 7.10725063 7.10725063 7.10725063\n 7.10725063 7.10725063 7.10725063 7.10725063 7.10725063 7.10725063\n 7.10725063 7.10725063 7.10725063 7.10725063 7.10725063 7.10725063\n 7.10725063 7.10725063 7.10725063 7.10725063 7.10725063 7.10725063\n 7.10725063 7.10725063 7.10725063 7.10725063 7.10725063 7.10725063\n 7.10725063 7.10725063 7.10725063 7.10725063 7.10725063 7.10725063\n 7.10725063 7.10725063 7.10725063 7.10725063 7.10725063 7.10725063\n 7.10725063 7.10725063 7.10725063 7.10725063 7.10725063 7.10725063\n 7.10725063 7.10725063 7.10725063 7.10725063 7.10725063 7.10725063\n 7.10725063 7.10725063 7.10725063 7.10725063 7.10725063 7.10725063\n 7.10725063 7.10725063 7.10725063 7.10725063 7.10725063 7.10725063\n 7.10725063 7.10725063 2.94539167 2.94539167 2.94539167 2.94539167\n 2.94539167 2.94539167 0.53946127 0.53946127 0.53946127 0.53946127\n 0.53946127 0.53946127 0.53946127 0.53946127 0.53946127 0.53946127\n 0.53946127 0.53946127 0.53946127 0.53946127 0.53946127 0.53946127\n 0.53946127 0.53946127 0.53946127 0.53946127 0.53946127 0.53946127\n 0.53946127 0.53946127 0.53946127 0.53946127 0.53946127 0.53946127\n 0.53946127 0.53946127 0.53946127 0.53946127 0.53946127 0.53946127\n 0.53946127 0.53946127 0.53946127 0.53946127 0.53946127 0.53946127\n 0.53946127 0.53946127 0.53946127 0.53946127 0.53946127 0.53946127\n 0.53946127 0.53946127 0.53946127 0.53946127 0.53946127 0.53946127\n 0.53946127 0.53946127 0.53946127 0.53946127 0.53946127 0.53946127\n 0.53946127 0.53946127 0.53946127 0.53946127 0.53946127 0.53946127\n 0.53946127 0.53946127 0.53946127 0.53946127 1.79694833 8.99468609\n 8.99468609 8.99468609 8.99468609 8.99468609 8.99468609 8.99468609\n 8.99468609 8.62714641 8.62714641 8.62714641 8.62714641 8.62714641\n 8.62714641 8.62714641 8.62714641 8.62714641 8.62714641 8.62714641\n 8.62714641 8.62714641 8.62714641 8.62714641 8.62714641 8.62714641\n 8.62714641 8.62714641 8.62714641 8.62714641 8.62714641 8.62714641\n 8.62714641 8.62714641 8.62714641 8.62714641 8.62714641 8.62714641\n 8.62714641 8.62714641 8.62714641 8.62714641 8.62714641 8.62714641\n 8.62714641 8.62714641 8.62714641 8.62714641 8.62714641 8.62714641\n 8.62714641 8.62714641 8.62714641 8.62714641 8.62714641 8.62714641\n 8.62714641 8.62714641 8.62714641 8.62714641 8.62714641 8.62714641\n 8.62714641 8.62714641 8.62714641 8.62714641 8.62714641 8.62714641\n 8.62714641]",
         "[0.86723403 0.69368284 0.86258565 0.83067576 0.69666363 0.71450418\n 0.73147321 0.93877284 0.84513791 0.83408885 0.85173325 1.00825564\n 0.66683896 0.80961437 0.93318163 0.82076339 0.75427338 0.86934924\n 0.9219852  0.84850401 0.7426727  0.71367966 0.93445116 0.83304796\n 0.76074127 0.8474914  0.75670063 0.80845376 0.8350227  0.95385064\n 0.94266377 0.58015777 0.77505168 0.84114904 0.81074304 0.86203322\n 0.85388744 0.78363809 0.74892181 0.92563599 0.93577206 1.00666161\n 0.84970007 0.81913406 1.00678322 0.86468354 0.71052464 0.80006032\n 0.9087897  0.77177023 0.77079066 0.75774083 0.88631611 0.80959065\n 0.61296311 0.94971708 0.67817077 0.74347011 0.87252075 0.75813791\n 0.83687536 0.8325539  0.85525266 0.83491353 0.9280042  0.7929892\n 0.77887712 0.79472643 0.79559114 0.87884039 0.71930233 0.70022025\n 0.65216141 0.91499825 0.85162934 0.77266619 0.81386995 0.81214772\n 0.81553357 0.68606937 0.76639191 0.89666519 0.88001862 0.76690613\n 6.22198637 6.37469919 6.3016529  6.23424088 6.66826783 7.13651974\n 7.05992409 7.08243832 7.13271609 7.01018514 7.06747299 7.02964512\n 7.12832908 7.29086871 7.03157093 7.15899086 7.0901027  7.0824472\n 7.13451277 6.95581646 7.01683455 6.96613581 7.11325379 7.10606616\n 7.30635141 7.07986035 7.0867843  7.1590237  6.97268066 7.05973333\n 7.09502595 7.20447836 7.10097158 7.09369191 7.10319828 7.18973159\n 7.11124961 7.15503883 7.03631946 7.11951349 6.97524649 7.21861912\n 7.03659626 7.21877271 7.14819636 7.13953493 7.09788687 6.99035372\n 6.9843468  7.05425558 7.16503963 7.06121404 6.98163453 7.14708086\n 7.14125713 7.11793346 7.09253321 7.17116888 7.24559571 7.01659125\n 7.15486249 7.2877149  7.05203972 7.15459256 7.14121101 7.07322701\n 7.10584355 7.12274619 7.06883416 7.01793616 7.07459868 7.13551884\n 7.02831452 7.00123673 2.91712966 2.94274574 2.84513577 2.96526079\n 3.05855964 3.06888395 0.53532345 0.56638533 0.45124715 0.47099073\n 0.48456347 0.56865554 0.55087381 0.53647221 0.63530354 0.48210862\n 0.58004436 0.5804553  0.50591555 0.71406866 0.42647153 0.56402672\n 0.458174   0.65970102 0.68535274 0.54145646 0.58644988 0.47217051\n 0.46496402 0.49954524 0.44619392 0.4500458  0.50797366 0.42858964\n 0.67478931 0.59661536 0.66450625 0.52606621 0.56510956 0.54751628\n 0.60698661 0.58924232 0.65856675 0.38777317 0.39763757 0.58477195\n 0.44293007 0.43139651 0.58541427 0.51495431 0.60187994 0.4929785\n 0.61783896 0.64263116 0.43982493 0.40931014 0.52414308 0.62233871\n 0.33415616 0.52423431 0.56447859 0.43128747 0.53731836 0.52605618\n 0.46311731 0.63184272 0.45078416 0.43412094 0.52993078 0.56591956\n 0.48044951 0.52837516 0.46125775 0.52526441 1.64967462 9.1010069\n 9.04610487 9.00849307 8.87915887 8.94912964 9.10168232 8.87817856\n 8.99345856 8.80726    8.58977099 8.72358778 8.63581968 8.69613096\n 8.60549413 8.68898481 8.61123051 8.63733995 8.70467733 8.48180737\n 8.68322177 8.58757543 8.51231686 8.68210836 8.61177289 8.55002332\n 8.66997096 8.72329771 8.59192553 8.78258266 8.60073674 8.61125215\n 8.64007679 8.54585239 8.56828485 8.44240366 8.5332797  8.55948604\n 8.60235394 8.76864768 8.432967   8.60585103 8.5718121  8.63691897\n 8.74273026 8.68979646 8.6817989  8.65162332 8.65824819 8.62539443\n 8.58723404 8.70572451 8.60447905 8.544914   8.56897064 8.6790596\n 8.49356143 8.73578498 8.73174146 8.50592174 8.62893293 8.55086128\n 8.76620455 8.63822864 8.58896024 8.64229817 8.60163057 8.60704015\n 8.63166591]",
         "[0, 7.5, 0, 7.5]",
         "(2, 2, 2, 1)",
         "2",
         "0"
        ],
        [
         "4",
         "[0.         0.01666667 0.03333333 0.05       0.06666667 0.08333333\n 0.1        0.11666667 0.13333333 0.15       0.16666667 0.18333333\n 0.2        0.21666667 0.23333333 0.25       0.26666667 0.28333333\n 0.3        0.31666667 0.33333333 0.35       0.36666667 0.38333333\n 0.4        0.41666667 0.43333333 0.45       0.46666667 0.48333333\n 0.5        0.51666667 0.53333333 0.55       0.56666667 0.58333333\n 0.6        0.61666667 0.63333333 0.65       0.66666667 0.68333333\n 0.7        0.71666667 0.73333333 0.75       0.76666667 0.78333333\n 0.8        0.81666667 0.83333333 0.85       0.86666667 0.88333333\n 0.9        0.91666667 0.93333333 0.95       0.96666667 0.98333333\n 1.         1.01666667 1.03333333 1.05       1.06666667 1.08333333\n 1.1        1.11666667 1.13333333 1.15       1.16666667 1.18333333\n 1.2        1.21666667 1.23333333 1.25       1.26666667 1.28333333\n 1.3        1.31666667 1.33333333 1.35       1.36666667 1.38333333\n 1.4        1.41666667 1.43333333 1.45       1.46666667 1.48333333\n 1.5        1.51666667 1.53333333 1.55       1.56666667 1.58333333\n 1.6        1.61666667 1.63333333 1.65       1.66666667 1.68333333\n 1.7        1.71666667 1.73333333 1.75       1.76666667 1.78333333\n 1.8        1.81666667 1.83333333 1.85       1.86666667 1.88333333\n 1.9        1.91666667 1.93333333 1.95       1.96666667 1.98333333\n 2.         2.01666667 2.03333333 2.05       2.06666667 2.08333333\n 2.1        2.11666667 2.13333333 2.15       2.16666667 2.18333333\n 2.2        2.21666667 2.23333333 2.25       2.26666667 2.28333333\n 2.3        2.31666667 2.33333333 2.35       2.36666667 2.38333333\n 2.4        2.41666667 2.43333333 2.45       2.46666667 2.48333333\n 2.5        2.51666667 2.53333333 2.55       2.56666667 2.58333333\n 2.6        2.61666667 2.63333333 2.65       2.66666667 2.68333333\n 2.7        2.71666667 2.73333333 2.75       2.76666667 2.78333333\n 2.8        2.81666667 2.83333333 2.85       2.86666667 2.88333333\n 2.9        2.91666667 2.93333333 2.95       2.96666667 2.98333333\n 3.         3.01666667 3.03333333 3.05       3.06666667 3.08333333\n 3.1        3.11666667 3.13333333 3.15       3.16666667 3.18333333\n 3.2        3.21666667 3.23333333 3.25       3.26666667 3.28333333\n 3.3        3.31666667 3.33333333 3.35       3.36666667 3.38333333\n 3.4        3.41666667 3.43333333 3.45       3.46666667 3.48333333\n 3.5        3.51666667 3.53333333 3.55       3.56666667 3.58333333\n 3.6        3.61666667 3.63333333 3.65       3.66666667 3.68333333\n 3.7        3.71666667 3.73333333 3.75       3.76666667 3.78333333\n 3.8        3.81666667 3.83333333 3.85       3.86666667 3.88333333\n 3.9        3.91666667 3.93333333 3.95       3.96666667 3.98333333\n 4.         4.01666667 4.03333333 4.05       4.06666667 4.08333333\n 4.1        4.11666667 4.13333333 4.15       4.16666667 4.18333333\n 4.2        4.21666667 4.23333333 4.25       4.26666667 4.28333333\n 4.3        4.31666667 4.33333333 4.35       4.36666667 4.38333333\n 4.4        4.41666667 4.43333333 4.45       4.46666667 4.48333333\n 4.5        4.51666667 4.53333333 4.55       4.56666667 4.58333333\n 4.6        4.61666667 4.63333333 4.65       4.66666667 4.68333333\n 4.7        4.71666667 4.73333333 4.75       4.76666667 4.78333333\n 4.8        4.81666667 4.83333333 4.85       4.86666667 4.88333333\n 4.9        4.91666667 4.93333333 4.95       4.96666667 4.98333333\n 5.        ]",
         "[0.78220374 0.78220374 0.78220374 0.78220374 0.78220374 0.78220374\n 0.78220374 0.78220374 0.78220374 0.78220374 0.78220374 0.78220374\n 0.78220374 0.78220374 0.78220374 0.78220374 0.78220374 0.78220374\n 0.78220374 0.78220374 0.78220374 0.78220374 0.78220374 0.78220374\n 0.78220374 0.78220374 0.78220374 0.78220374 0.78220374 0.78220374\n 0.78220374 0.78220374 0.78220374 0.78220374 0.78220374 0.78220374\n 0.78220374 0.78220374 0.78220374 0.78220374 0.78220374 0.78220374\n 0.78220374 0.78220374 0.78220374 0.78220374 0.78220374 0.78220374\n 0.78220374 0.78220374 0.78220374 0.78220374 0.78220374 0.78220374\n 0.78220374 0.78220374 0.78220374 0.78220374 0.78220374 0.78220374\n 0.78220374 0.78220374 0.78220374 0.78220374 0.78220374 0.78220374\n 0.78220374 0.78220374 0.78220374 0.78220374 0.78220374 0.78220374\n 0.78220374 0.78220374 0.78220374 0.78220374 0.78220374 0.78220374\n 0.78220374 0.78220374 0.78220374 0.78220374 0.78220374 0.78220374\n 0.78220374 3.36509092 3.36509092 3.36509092 3.36509092 7.18060688\n 7.18060688 7.18060688 7.18060688 7.18060688 7.18060688 7.18060688\n 7.18060688 7.18060688 7.18060688 7.18060688 7.18060688 7.18060688\n 7.18060688 7.18060688 7.18060688 7.18060688 7.18060688 7.18060688\n 7.18060688 7.18060688 7.18060688 7.18060688 7.18060688 7.18060688\n 7.18060688 7.18060688 7.18060688 7.18060688 7.18060688 7.18060688\n 7.18060688 7.18060688 7.18060688 7.18060688 7.18060688 7.18060688\n 7.18060688 7.18060688 7.18060688 7.18060688 7.18060688 7.18060688\n 7.18060688 7.18060688 7.18060688 7.18060688 7.18060688 7.18060688\n 7.18060688 7.18060688 7.18060688 7.18060688 7.18060688 7.18060688\n 7.18060688 7.18060688 7.18060688 7.18060688 7.18060688 7.18060688\n 7.18060688 7.18060688 7.18060688 7.18060688 7.18060688 7.18060688\n 7.18060688 7.18060688 7.18060688 7.18060688 7.18060688 7.18060688\n 4.59911676 3.27726639 3.27726639 3.27726639 3.27726639 3.27726639\n 3.27726639 0.54966786 0.54966786 0.54966786 0.54966786 0.54966786\n 0.54966786 0.54966786 0.54966786 0.54966786 0.54966786 0.54966786\n 0.54966786 0.54966786 0.54966786 0.54966786 0.54966786 0.54966786\n 0.54966786 0.54966786 0.54966786 0.54966786 0.54966786 0.54966786\n 0.54966786 0.54966786 0.54966786 0.54966786 0.54966786 0.54966786\n 0.54966786 0.54966786 0.54966786 0.54966786 0.54966786 0.54966786\n 0.54966786 0.54966786 0.54966786 0.54966786 0.54966786 0.54966786\n 0.54966786 0.54966786 0.54966786 0.54966786 0.54966786 0.54966786\n 0.54966786 0.54966786 0.54966786 0.54966786 0.54966786 0.54966786\n 0.54966786 0.54966786 0.54966786 0.54966786 0.54966786 0.54966786\n 0.54966786 0.54966786 0.54966786 0.54966786 0.54966786 0.54966786\n 1.9026772  9.34760036 9.34760036 9.34760036 9.34760036 9.21486026\n 8.95898709 8.79272268 8.79272268 8.79272268 8.79272268 8.79272268\n 8.79272268 8.79272268 8.79272268 8.79272268 8.79272268 8.79272268\n 8.79272268 8.79272268 8.79272268 8.79272268 8.79272268 8.79272268\n 8.79272268 8.79272268 8.79272268 8.79272268 8.79272268 8.79272268\n 8.79272268 8.79272268 8.79272268 8.79272268 8.79272268 8.79272268\n 8.79272268 8.79272268 8.79272268 8.79272268 8.79272268 8.79272268\n 8.79272268 8.79272268 8.79272268 8.79272268 8.79272268 8.79272268\n 8.79272268 8.79272268 8.79272268 8.79272268 8.79272268 8.79272268\n 8.79272268 8.79272268 8.79272268 8.79272268 8.79272268 8.79272268\n 8.79272268 8.79272268 8.79272268 8.79272268 8.79272268 8.79272268\n 8.79272268]",
         "[0.78328576 0.77969405 0.78162437 0.78462935 0.77883588 0.78293972\n 0.78063499 0.77916744 0.78425122 0.78286132 0.78252959 0.78179051\n 0.78047364 0.78560345 0.78217595 0.77981465 0.78330453 0.78371314\n 0.78477326 0.78179768 0.77928078 0.78594454 0.78287052 0.78271911\n 0.78324107 0.78089102 0.7812036  0.78010728 0.78449881 0.78286331\n 0.78554766 0.7825559  0.78349214 0.78047256 0.78373885 0.78427826\n 0.78168593 0.77992425 0.78067503 0.77982534 0.78216792 0.78328224\n 0.78222279 0.78234641 0.78071567 0.78129884 0.78474697 0.78118877\n 0.77874963 0.77782664 0.77855401 0.78067349 0.78111901 0.78346193\n 0.7841148  0.77976122 0.78028945 0.7831228  0.7806203  0.78137026\n 0.78439506 0.78054255 0.7823167  0.77976592 0.78239156 0.78304314\n 0.78308587 0.78148819 0.78128285 0.78332042 0.78359456 0.78017342\n 0.78564841 0.78100975 0.78065183 0.78109176 0.78349596 0.78564853\n 0.78351802 0.78348555 0.78562656 0.78483766 0.7816149  0.78489426\n 0.78003116 3.36370764 3.36214428 3.36375005 3.36881586 7.18104002\n 7.18442367 7.18227889 7.18007863 7.17968462 7.18255023 7.17876666\n 7.18049343 7.18254597 7.18012848 7.18047869 7.18348725 7.18407997\n 7.18156007 7.17852338 7.18300629 7.17801147 7.18091991 7.18146688\n 7.18264987 7.17994455 7.1791321  7.18048438 7.18405122 7.18222715\n 7.18158707 7.17794371 7.18134518 7.18131585 7.18243771 7.18113598\n 7.18307481 7.18177147 7.17828946 7.17682159 7.17854581 7.17921253\n 7.18414845 7.18055207 7.17877235 7.18213628 7.18057781 7.17820237\n 7.1779247  7.18187241 7.1801702  7.18094179 7.18337563 7.18113672\n 7.17839067 7.1789756  7.1810753  7.18207396 7.17839762 7.17752626\n 7.18040024 7.17983198 7.18251705 7.18085092 7.18207452 7.17972431\n 7.1799301  7.18232944 7.17996988 7.18049632 7.18292319 7.1822421\n 7.18270315 7.17989412 7.17794457 7.18139626 7.17899288 7.18066104\n 4.60010815 3.27908271 3.27819349 3.27756952 3.2792722  3.27685952\n 3.27785182 0.54688054 0.54921556 0.54588807 0.55107933 0.5477823\n 0.54969154 0.54713941 0.55097206 0.5464226  0.55015861 0.54696727\n 0.5519908  0.54797993 0.54916433 0.5491323  0.54980813 0.55191165\n 0.54712816 0.54899034 0.55060739 0.54910865 0.54816671 0.54777081\n 0.55104918 0.5498125  0.5524523  0.55172545 0.54977057 0.54813829\n 0.55137976 0.55156646 0.54835778 0.54902754 0.54790344 0.55143457\n 0.5479726  0.551032   0.55114649 0.54751655 0.54909847 0.5488258\n 0.55192772 0.55098287 0.54913054 0.54831621 0.55061236 0.54725307\n 0.54897134 0.54756535 0.549583   0.54817656 0.54775427 0.54866852\n 0.55006826 0.55236942 0.54972901 0.54989881 0.54810397 0.55060261\n 0.55082275 0.54849582 0.55310773 0.5508284  0.55105503 0.55079256\n 1.9010524  9.34791989 9.34822682 9.34857518 9.34909611 9.212701\n 8.95540054 8.79482354 8.79515705 8.79386729 8.79503935 8.79375606\n 8.79002445 8.7921243  8.79642461 8.79474723 8.79416756 8.79416296\n 8.79287045 8.79418698 8.79149151 8.79374124 8.79351722 8.7938656\n 8.79534982 8.79204948 8.7936482  8.79586641 8.79250125 8.79090501\n 8.79276932 8.7922305  8.7957753  8.79506875 8.79413121 8.79329575\n 8.7917951  8.79306989 8.7937239  8.79012395 8.79285511 8.78917172\n 8.79394748 8.79466378 8.79496265 8.79634127 8.79299775 8.79603049\n 8.79519353 8.79223628 8.78987539 8.79620327 8.79523164 8.79214471\n 8.78966207 8.79315404 8.79046709 8.79350474 8.79074333 8.79271298\n 8.79085782 8.79558312 8.79442432 8.79375916 8.79517956 8.79471418\n 8.79371757]",
         "[0, 7.5, 0, 7.5]",
         "(2, 2, 2, 1)",
         "2",
         "1"
        ]
       ],
       "shape": {
        "columns": 7,
        "rows": 5
       }
      },
      "text/html": [
       "<div>\n",
       "<style scoped>\n",
       "    .dataframe tbody tr th:only-of-type {\n",
       "        vertical-align: middle;\n",
       "    }\n",
       "\n",
       "    .dataframe tbody tr th {\n",
       "        vertical-align: top;\n",
       "    }\n",
       "\n",
       "    .dataframe thead th {\n",
       "        text-align: right;\n",
       "    }\n",
       "</style>\n",
       "<table border=\"1\" class=\"dataframe\">\n",
       "  <thead>\n",
       "    <tr style=\"text-align: right;\">\n",
       "      <th></th>\n",
       "      <th>time</th>\n",
       "      <th>waveform</th>\n",
       "      <th>noised_waveform</th>\n",
       "      <th>target_sequence</th>\n",
       "      <th>saccade_sequence</th>\n",
       "      <th>label</th>\n",
       "      <th>sample_id</th>\n",
       "    </tr>\n",
       "  </thead>\n",
       "  <tbody>\n",
       "    <tr>\n",
       "      <th>0</th>\n",
       "      <td>[0.0, 0.016666666666666666, 0.0333333333333333...</td>\n",
       "      <td>[0.7912603264854341, 0.7912603264854341, 0.791...</td>\n",
       "      <td>[0.7660724548111477, 0.7819213289181295, 0.765...</td>\n",
       "      <td>[0, 7.5, 0, 7.5]</td>\n",
       "      <td>(2, 2, 2, 2)</td>\n",
       "      <td>2</td>\n",
       "      <td>0</td>\n",
       "    </tr>\n",
       "    <tr>\n",
       "      <th>1</th>\n",
       "      <td>[0.0, 0.016666666666666666, 0.0333333333333333...</td>\n",
       "      <td>[0.7273065874473159, 0.7273065874473159, 0.727...</td>\n",
       "      <td>[0.373891241130972, 0.9496454653685421, 0.5741...</td>\n",
       "      <td>[0, 7.5, 0, 7.5]</td>\n",
       "      <td>(2, 2, 2, 2)</td>\n",
       "      <td>2</td>\n",
       "      <td>1</td>\n",
       "    </tr>\n",
       "    <tr>\n",
       "      <th>2</th>\n",
       "      <td>[0.0, 0.016666666666666666, 0.0333333333333333...</td>\n",
       "      <td>[0.8002874806650054, 0.8002874806650054, 0.800...</td>\n",
       "      <td>[0.8279722026977411, 0.7965195873400737, 0.919...</td>\n",
       "      <td>[0, 7.5, 0, 7.5]</td>\n",
       "      <td>(2, 2, 2, 2)</td>\n",
       "      <td>2</td>\n",
       "      <td>2</td>\n",
       "    </tr>\n",
       "    <tr>\n",
       "      <th>3</th>\n",
       "      <td>[0.0, 0.016666666666666666, 0.0333333333333333...</td>\n",
       "      <td>[0.8171586569671566, 0.8171586569671566, 0.817...</td>\n",
       "      <td>[0.8672340288849707, 0.6936828397816378, 0.862...</td>\n",
       "      <td>[0, 7.5, 0, 7.5]</td>\n",
       "      <td>(2, 2, 2, 1)</td>\n",
       "      <td>2</td>\n",
       "      <td>0</td>\n",
       "    </tr>\n",
       "    <tr>\n",
       "      <th>4</th>\n",
       "      <td>[0.0, 0.016666666666666666, 0.0333333333333333...</td>\n",
       "      <td>[0.782203742695608, 0.782203742695608, 0.78220...</td>\n",
       "      <td>[0.7832857576528922, 0.7796940463997961, 0.781...</td>\n",
       "      <td>[0, 7.5, 0, 7.5]</td>\n",
       "      <td>(2, 2, 2, 1)</td>\n",
       "      <td>2</td>\n",
       "      <td>1</td>\n",
       "    </tr>\n",
       "  </tbody>\n",
       "</table>\n",
       "</div>"
      ],
      "text/plain": [
       "                                                time  \\\n",
       "0  [0.0, 0.016666666666666666, 0.0333333333333333...   \n",
       "1  [0.0, 0.016666666666666666, 0.0333333333333333...   \n",
       "2  [0.0, 0.016666666666666666, 0.0333333333333333...   \n",
       "3  [0.0, 0.016666666666666666, 0.0333333333333333...   \n",
       "4  [0.0, 0.016666666666666666, 0.0333333333333333...   \n",
       "\n",
       "                                            waveform  \\\n",
       "0  [0.7912603264854341, 0.7912603264854341, 0.791...   \n",
       "1  [0.7273065874473159, 0.7273065874473159, 0.727...   \n",
       "2  [0.8002874806650054, 0.8002874806650054, 0.800...   \n",
       "3  [0.8171586569671566, 0.8171586569671566, 0.817...   \n",
       "4  [0.782203742695608, 0.782203742695608, 0.78220...   \n",
       "\n",
       "                                     noised_waveform   target_sequence  \\\n",
       "0  [0.7660724548111477, 0.7819213289181295, 0.765...  [0, 7.5, 0, 7.5]   \n",
       "1  [0.373891241130972, 0.9496454653685421, 0.5741...  [0, 7.5, 0, 7.5]   \n",
       "2  [0.8279722026977411, 0.7965195873400737, 0.919...  [0, 7.5, 0, 7.5]   \n",
       "3  [0.8672340288849707, 0.6936828397816378, 0.862...  [0, 7.5, 0, 7.5]   \n",
       "4  [0.7832857576528922, 0.7796940463997961, 0.781...  [0, 7.5, 0, 7.5]   \n",
       "\n",
       "  saccade_sequence  label  sample_id  \n",
       "0     (2, 2, 2, 2)      2          0  \n",
       "1     (2, 2, 2, 2)      2          1  \n",
       "2     (2, 2, 2, 2)      2          2  \n",
       "3     (2, 2, 2, 1)      2          0  \n",
       "4     (2, 2, 2, 1)      2          1  "
      ]
     },
     "execution_count": 69,
     "metadata": {},
     "output_type": "execute_result"
    }
   ],
   "source": [
    "import pandas as pd\n",
    "import pyarrow as pa\n",
    "import pyarrow.parquet as pq\n"
   ]
  },
  {
   "cell_type": "code",
   "execution_count": 70,
   "id": "f62607f1",
   "metadata": {},
   "outputs": [
    {
     "data": {
      "text/plain": [
       "301"
      ]
     },
     "execution_count": 70,
     "metadata": {},
     "output_type": "execute_result"
    }
   ],
   "source": [
    "len(noised_waveform_data_4_df[\"noised_waveform\"].iloc[0])"
   ]
  },
  {
   "cell_type": "code",
   "execution_count": 71,
   "id": "89cbf6b6",
   "metadata": {},
   "outputs": [
    {
     "data": {
      "text/plain": [
       "[<matplotlib.lines.Line2D at 0x7f3d8cde67e0>]"
      ]
     },
     "execution_count": 71,
     "metadata": {},
     "output_type": "execute_result"
    },
    {
     "data": {
      "image/png": "[encoded data removed]",
      "text/plain": [
       "<Figure size 640x480 with 1 Axes>"
      ]
     },
     "metadata": {},
     "output_type": "display_data"
    }
   ],
   "source": [
    "plt.plot(noised_waveform_data_4_df['time'][200], noised_waveform_data_4_df['waveform'][200])\n",
    "plt.plot(noised_waveform_data_4_df['time'][200], noised_waveform_data_4_df['noised_waveform'][200], alpha=0.3)"
   ]
  },
  {
   "cell_type": "markdown",
   "id": "1XntqMpLzknK",
   "metadata": {
    "id": "1XntqMpLzknK"
   },
   "source": [
    "## tensorflow"
   ]
  },
  {
   "cell_type": "code",
   "execution_count": 1,
   "id": "2d445069",
   "metadata": {},
   "outputs": [
    {
     "name": "stderr",
     "output_type": "stream",
     "text": [
      "2025-03-10 10:50:57.028881: E external/local_xla/xla/stream_executor/cuda/cuda_fft.cc:477] Unable to register cuFFT factory: Attempting to register factory for plugin cuFFT when one has already been registered\n",
      "WARNING: All log messages before absl::InitializeLog() is called are written to STDERR\n",
      "E0000 00:00:1741618258.762732  306961 cuda_dnn.cc:8310] Unable to register cuDNN factory: Attempting to register factory for plugin cuDNN when one has already been registered\n",
      "E0000 00:00:1741618259.228130  306961 cuda_blas.cc:1418] Unable to register cuBLAS factory: Attempting to register factory for plugin cuBLAS when one has already been registered\n",
      "2025-03-10 10:51:03.621742: I tensorflow/core/platform/cpu_feature_guard.cc:210] This TensorFlow binary is optimized to use available CPU instructions in performance-critical operations.\n",
      "To enable the following instructions: AVX2 FMA, in other operations, rebuild TensorFlow with the appropriate compiler flags.\n"
     ]
    },
    {
     "name": "stdout",
     "output_type": "stream",
     "text": [
      "OrderedDict({'cpu_compiler': '/usr/lib/llvm-18/bin/clang', 'cuda_compute_capabilities': ['sm_60', 'sm_70', 'sm_80', 'sm_89', 'compute_90'], 'cuda_version': '12.5.1', 'cudnn_version': '9', 'is_cuda_build': True, 'is_rocm_build': False, 'is_tensorrt_build': False})\n"
     ]
    }
   ],
   "source": [
    "import tensorflow as tf\n",
    "tf.keras.backend.clear_session()\n",
    "print(tf.sysconfig.get_build_info())"
   ]
  },
  {
   "cell_type": "code",
   "execution_count": null,
   "id": "arnGMB2IzfvN",
   "metadata": {
    "id": "arnGMB2IzfvN"
   },
   "outputs": [],
   "source": [
    "# %pip install --upgrade numpy tensorflow\n",
    "# import tensorflow as tf\n",
    "# tf.config.set_visible_devices([], 'GPU')\n",
    "from tensorflow import keras\n",
    "from keras.models import Sequential\n",
    "from keras.layers import Conv1D, MaxPooling1D, Flatten, Dense, Dropout\n",
    "from keras.utils import to_categorical\n",
    "from keras.callbacks import EarlyStopping\n",
    "from sklearn.model_selection import train_test_split"
   ]
  },
  {
   "cell_type": "code",
   "execution_count": null,
   "id": "434d77d1-4b74-4f91-b4df-2b96a64ee4c4",
   "metadata": {},
   "outputs": [
    {
     "data": {
      "text/plain": [
       "((5400, 867, 1), (5400, 3))"
      ]
     },
     "execution_count": 13,
     "metadata": {},
     "output_type": "execute_result"
    }
   ],
   "source": [
    "x_list = noised_waveform_data_4_df.noised_waveform \n",
    "X = pd.DataFrame(x_list.to_list())\n",
    "y_list = noised_waveform_data_4_df.label\n",
    "Y = to_categorical(y_list)\n",
    "X = X.values.reshape((X.shape[0], X.shape[1], 1))\n",
    "X.shape, Y.shape"
   ]
  },
  {
   "cell_type": "code",
   "execution_count": 14,
   "id": "mxLouqvkzxGb",
   "metadata": {
    "colab": {
     "base_uri": "https://localhost:8080/"
    },
    "id": "mxLouqvkzxGb",
    "outputId": "830396d3-9bb3-4309-98df-5ddf02214205"
   },
   "outputs": [
    {
     "name": "stdout",
     "output_type": "stream",
     "text": [
      "X_train shape: (3780, 867, 1), y_train shape: (3780, 3)\n",
      "X_test shape: (1620, 867, 1), y_test shape: (1620, 3)\n"
     ]
    }
   ],
   "source": [
    "X_train, X_test, y_train, y_test = train_test_split(X, Y, test_size=0.3, random_state=42,stratify = Y)\n",
    "\n",
    "print(f\"X_train shape: {X_train.shape}, y_train shape: {y_train.shape}\")\n",
    "print(f\"X_test shape: {X_test.shape}, y_test shape: {y_test.shape}\")"
   ]
  },
  {
   "cell_type": "markdown",
   "id": "561bf2cf",
   "metadata": {},
   "source": [
    "Build model"
   ]
  },
  {
   "cell_type": "code",
   "execution_count": null,
   "id": "ca8cbb6c",
   "metadata": {},
   "outputs": [],
   "source": [
    "# Define the 1D CNN Model\n",
    "model = Sequential()\n",
    "\n",
    "# Add 3 convolutional layers\n",
    "model.add(Conv1D(filters=32, kernel_size=3, activation='relu', input_shape=(301,1)))\n",
    "model.add(MaxPooling1D(pool_size=2))\n",
    "\n",
    "model.add(Conv1D(filters=64, kernel_size=3, activation='relu'))\n",
    "model.add(MaxPooling1D(pool_size=2))\n",
    "\n",
    "model.add(Conv1D(filters=128, kernel_size=3, activation='relu'))\n",
    "model.add(MaxPooling1D(pool_size=2))\n",
    "\n",
    "# Flatten and add dense layers\n",
    "model.add(Flatten())\n",
    "model.add(Dense(128, activation='relu'))\n",
    "model.add(Dropout(0.2))\n",
    "\n",
    "# Output layer with 3 classes\n",
    "model.add(Dense(3, activation='softmax'))\n",
    "\n",
    "model.compile(optimizer='adam', loss='categorical_crossentropy', metrics=['accuracy'])\n",
    "\n",
    "early_stopping = EarlyStopping(\n",
    "    monitor='val_loss',\n",
    "    patience=3,\n",
    "    restore_best_weights=True\n",
    ")\n",
    "\n",
    "history = model.fit(\n",
    "    X_train, y_train,\n",
    "    epochs=20,\n",
    "    batch_size=32,\n",
    "    validation_split=0.2,\n",
    "    # callbacks=[early_stopping]\n",
    ")\n",
    "\n",
    "test_loss, test_accuracy = model.evaluate(X_test, y_test)\n",
    "print(f\"Test Accuracy: {test_accuracy*100:.2f}%\")"
   ]
  },
  {
   "cell_type": "markdown",
   "id": "83838317",
   "metadata": {},
   "source": [
    "Save Model"
   ]
  },
  {
   "cell_type": "code",
   "execution_count": null,
   "id": "84be5b9a",
   "metadata": {},
   "outputs": [],
   "source": [
    "model.save('waveform_full_noised_model_.keras')"
   ]
  },
  {
   "cell_type": "markdown",
   "id": "a92c2c56",
   "metadata": {},
   "source": [
    "Confusion Matrix"
   ]
  },
  {
   "cell_type": "code",
   "execution_count": null,
   "id": "8d11745b",
   "metadata": {},
   "outputs": [],
   "source": [
    "# Extract the training and validation accuracy and loss from the history object\n",
    "history_dict = history.history\n",
    "train_loss = history_dict['loss']\n",
    "val_loss = history_dict['val_loss']\n",
    "train_accuracy = history_dict['accuracy']\n",
    "val_accuracy = history_dict['val_accuracy']\n",
    "\n",
    "# Plot the loss curves\n",
    "plt.figure(figsize=(12, 6))\n",
    "\n",
    "# Plot training and validation loss\n",
    "plt.subplot(1, 2, 1)\n",
    "plt.plot(range(1, len(train_loss) + 1), train_loss, label='Training Loss', color='blue')\n",
    "plt.plot(range(1, len(val_loss) + 1), val_loss, label='Validation Loss', color='red')\n",
    "plt.title('Training vs Validation Loss')\n",
    "plt.xlabel('Epochs')\n",
    "plt.ylabel('Loss')\n",
    "plt.legend()\n",
    "\n",
    "# Plot training and validation accuracy\n",
    "plt.subplot(1, 2, 2)\n",
    "plt.plot(range(1, len(train_accuracy) + 1), train_accuracy, label='Training Accuracy', color='blue')\n",
    "plt.plot(range(1, len(val_accuracy) + 1), val_accuracy, label='Validation Accuracy', color='red')\n",
    "plt.title('Training vs Validation Accuracy')\n",
    "plt.xlabel('Epochs')\n",
    "plt.ylabel('Accuracy')\n",
    "plt.legend()\n",
    "\n",
    "# Show the plots\n",
    "plt.tight_layout()\n",
    "plt.show()\n"
   ]
  },
  {
   "cell_type": "code",
   "execution_count": null,
   "id": "1f703677-1f64-4c9a-b7a2-fdf4138e0233",
   "metadata": {
    "colab": {
     "base_uri": "https://localhost:8080/"
    },
    "id": "2Z_hxvKmzzpW",
    "outputId": "9e30de64-cca4-4798-8d14-35ed5188af24"
   },
   "outputs": [],
   "source": [
    "from sklearn.metrics import confusion_matrix, ConfusionMatrixDisplay\n",
    "import numpy as np\n",
    "import matplotlib.pyplot as plt\n",
    "if y_test.ndim == 1:\n",
    "    y_true = y_test\n",
    "else:\n",
    "    y_true = np.argmax(y_test, axis=1)\n",
    "\n",
    "y_pred_probs = model.predict(X_test)\n",
    "y_pred = np.argmax(y_pred_probs, axis=1)\n",
    "\n",
    "cm = confusion_matrix(y_true, y_pred)\n",
    "\n",
    "disp = ConfusionMatrixDisplay(confusion_matrix=cm)\n",
    "disp.plot(cmap='Blues')\n",
    "plt.title(\"Confusion Matrix\")\n",
    "plt.show()"
   ]
  },
  {
   "cell_type": "markdown",
   "id": "86907ad0",
   "metadata": {},
   "source": [
    "### patient data"
   ]
  },
  {
   "cell_type": "code",
   "execution_count": null,
   "id": "6945f20e",
   "metadata": {},
   "outputs": [],
   "source": [
    "from scipy import interpolate\n",
    "\n",
    "def interpolate_hz(time_sample, wave_sample, frequency):\n",
    "    \"\"\"\n",
    "    Interpolate waveform data to 173 Hz sampling rate\n",
    "    \n",
    "    Args:\n",
    "        time_sample: Original time points\n",
    "        wave_sample: Original waveform values\n",
    "    \n",
    "    Returns:\n",
    "        new_time: Time points at 173 Hz\n",
    "        new_wave: Interpolated waveform values\n",
    "    \"\"\"\n",
    "    # Calculate new time points at 173 Hz\n",
    "    dt = 1/frequency  # time step for 173 Hz\n",
    "    new_time = np.arange(time_sample[0], time_sample[-1], dt)\n",
    "    \n",
    "    # Create interpolation function\n",
    "    f = interpolate.interp1d(time_sample, wave_sample, kind='linear')\n",
    "    \n",
    "    # Generate interpolated waveform\n",
    "    new_wave = f(new_time)\n",
    "    \n",
    "    return new_time, new_wave"
   ]
  },
  {
   "cell_type": "code",
   "execution_count": null,
   "id": "4ee2c9e7",
   "metadata": {},
   "outputs": [
    {
     "name": "stdout",
     "output_type": "stream",
     "text": [
      "freq: -6.023166060374771e-06\n",
      "freq: -6.016185826022615e-06\n",
      "freq: -6.0231643673772086e-06\n",
      "freq: -6.016193306226907e-06\n",
      "freq: -6.0231719858737345e-06\n",
      "freq: -6.016188962880214e-06\n",
      "freq: -6.0231727114458375e-06\n",
      "freq: -6.023171139373169e-06\n",
      "freq: -6.0231718649450675e-06\n",
      "freq: -6.009225001669062e-06\n"
     ]
    }
   ],
   "source": [
    "# main_dir = './waveform_model/labelled_data'\n",
    "# for f in os.listdir(main_dir)[:10]:\n",
    "#     fname = os.path.join(main_dir,f)\n",
    "#     df = pd.read_csv(fname, header=0)\n",
    "#     tdiff = df[\"time_step\"].iloc[0]-df[\"time_step\"].iloc[-1]\n",
    "#     freq = len(df)/tdiff\n",
    "#     print(\"freq:\",freq)"
   ]
  },
  {
   "cell_type": "code",
   "execution_count": null,
   "id": "6c5182f6",
   "metadata": {},
   "outputs": [],
   "source": [
    "import pyarrow as pa\n",
    "import pyarrow.parquet as pq\n",
    "import csv\n",
    "\n",
    "def save_patient_data_parquet(test_data_path, output_path):\n",
    "    \"\"\"\n",
    "    Save waveform data in Parquet format with efficient compression\n",
    "    \"\"\"\n",
    "    data_dict = {\n",
    "        'time_step': [],\n",
    "        'stimulus': [],\n",
    "        'waveform': [],\n",
    "        'label': [],\n",
    "        'sample_id':[]\n",
    "    }\n",
    "    for file in os.listdir(test_data_path):\n",
    "        dir_name = os.path.join(test_data_path, file)\n",
    "        c1 = []\n",
    "        c2 = []\n",
    "        c3 = []\n",
    "        # print(file)\n",
    "        fname = file.split('_')\n",
    "        label = fname[-1].replace('.csv', '')          \n",
    "        label_idx = {\"normal\": 0, \"hyper\": 1, \"hypo\": 2}[label]\n",
    "        with open(dir_name, 'r') as f:\n",
    "            reader = csv.reader(f, delimiter=',')\n",
    "            header = next(reader, None)\n",
    "            for row in reader:\n",
    "                c1.append(float(row[0]))\n",
    "                c2.append(float(row[1]))\n",
    "                c3.append(float(row[2]))\n",
    "            \n",
    "        c1.append(c1[-1])\n",
    "        c2.append(c2[-1])\n",
    "        c3.append(c3[-1])\n",
    "\n",
    "        data_dict['time_step'].append(c1[:301])\n",
    "        data_dict['stimulus'].append(c2[:301])\n",
    "        data_dict['waveform'].append(c3[:301])\n",
    "        data_dict['label'].append(label_idx)\n",
    "        data_dict['sample_id'].append(f'{fname[0]}_{fname[1]}')\n",
    "    \n",
    "    table = pa.Table.from_pydict(data_dict)\n",
    "    pq.write_table(table, output_path, compression='snappy')\n",
    "\n",
    "save_patient_data_parquet('./waveform_model/labelled_data', './waveform_model//patient_data_len_301.parquet')"
   ]
  },
  {
   "cell_type": "code",
   "execution_count": 120,
   "id": "77c8b6e8",
   "metadata": {},
   "outputs": [
    {
     "data": {
      "application/vnd.microsoft.datawrangler.viewer.v0+json": {
       "columns": [
        {
         "name": "index",
         "rawType": "int64",
         "type": "integer"
        },
        {
         "name": "time_step",
         "rawType": "object",
         "type": "unknown"
        },
        {
         "name": "stimulus",
         "rawType": "object",
         "type": "unknown"
        },
        {
         "name": "waveform",
         "rawType": "object",
         "type": "unknown"
        },
        {
         "name": "label",
         "rawType": "int64",
         "type": "integer"
        },
        {
         "name": "sample_id",
         "rawType": "object",
         "type": "string"
        }
       ],
       "conversionMethod": "pd.DataFrame",
       "ref": "ab0dcea3-88fc-445e-8a46-00b5d799888e",
       "rows": [
        [
         "0",
         "[3.79912444e+08 3.80085808e+08 3.80259165e+08 3.80432528e+08\n 3.80605842e+08 3.80721430e+08 3.80894738e+08 3.81068102e+08\n 3.81241459e+08 3.81414773e+08 3.81588136e+08 3.81761493e+08\n 3.81934802e+08 3.82050396e+08 3.82223753e+08 3.82397067e+08\n 3.82570430e+08 3.82743787e+08 3.82917096e+08 3.83090459e+08\n 3.83263822e+08 3.83437130e+08 3.83552724e+08 3.83726032e+08\n 3.83899390e+08 3.84072753e+08 3.84246067e+08 3.84419424e+08\n 3.84592781e+08 3.84766096e+08 3.84939459e+08 3.85055047e+08\n 3.85228361e+08 3.85401718e+08 3.85575075e+08 3.85748390e+08\n 3.85921753e+08 3.86095110e+08 3.86268425e+08 3.86384006e+08\n 3.86557320e+08 3.86730684e+08 3.86904047e+08 3.87077355e+08\n 3.87250719e+08 3.87424076e+08 3.87597384e+08 3.87770747e+08\n 3.87886341e+08 3.88059649e+08 3.88233006e+08 3.88406370e+08\n 3.88579678e+08 3.88753041e+08 3.88926404e+08 3.89099719e+08\n 3.89215300e+08 3.89388615e+08 3.89561972e+08 3.89735335e+08\n 3.89908649e+08 3.90082006e+08 3.90255364e+08 3.90428678e+08\n 3.90602041e+08 3.90717629e+08 3.90890943e+08 3.91064300e+08\n 3.91237657e+08 3.91410972e+08 3.91584335e+08 3.91757692e+08\n 3.91931000e+08 3.92046594e+08 3.92219903e+08 3.92393266e+08\n 3.92566629e+08 3.92739937e+08 3.92913294e+08 3.93086658e+08\n 3.93260021e+08 3.93433329e+08 3.93548923e+08 3.93722238e+08\n 3.93895588e+08 3.94068952e+08 3.94242266e+08 3.94415623e+08\n 3.94588986e+08 3.94762295e+08 3.94877882e+08 3.95051197e+08\n 3.95224560e+08 3.95397917e+08 3.95571280e+08 3.95744589e+08\n 3.95917952e+08 3.96091309e+08 3.96264623e+08 3.96380211e+08\n 3.96553519e+08 3.96726883e+08 3.96900246e+08 3.97073554e+08\n 3.97246917e+08 3.97420281e+08 3.97593583e+08 3.97766946e+08\n 3.97882540e+08 3.98055848e+08 3.98229211e+08 3.98402568e+08\n 3.98575876e+08 3.98749240e+08 3.98922603e+08 3.99095918e+08\n 3.99211505e+08 3.99384813e+08 3.99558170e+08 3.99731534e+08\n 3.99904848e+08 4.00078211e+08 4.00251562e+08 4.00424877e+08\n 4.00598240e+08 4.00713828e+08 4.00887142e+08 4.01060505e+08\n 4.01233856e+08 4.01407171e+08 4.01580534e+08 4.01753891e+08\n 4.01927205e+08 4.02042799e+08 4.02216101e+08 4.02389465e+08\n 4.02562828e+08 4.02736136e+08 4.02909499e+08 4.03082856e+08\n 4.03256171e+08 4.03429528e+08 4.03545122e+08 4.03718436e+08\n 4.03891793e+08 4.04065150e+08 4.04238465e+08 4.04411822e+08\n 4.04585185e+08 4.04758500e+08 4.04931850e+08 4.05047395e+08\n 4.05220759e+08 4.05394116e+08 4.05567430e+08 4.05740794e+08\n 4.05914151e+08 4.06087508e+08 4.06260822e+08 4.06376410e+08\n 4.06549724e+08 4.06723081e+08 4.06896438e+08 4.07069753e+08\n 4.07243116e+08 4.07416479e+08 4.07589788e+08 4.07763145e+08\n 4.07878690e+08 4.08052047e+08 4.08225410e+08 4.08398773e+08\n 4.08572075e+08 4.08745439e+08 4.08918802e+08 4.09092116e+08\n 4.09207704e+08 4.09381018e+08 4.09554369e+08 4.09727733e+08\n 4.09901047e+08 4.10074410e+08 4.10247767e+08 4.10421076e+08\n 4.10594439e+08 4.10710026e+08 4.10883341e+08 4.11056704e+08\n 4.11230061e+08 4.11403369e+08 4.11576733e+08 4.11750090e+08\n 4.11923404e+08 4.12038998e+08 4.12212306e+08 4.12385663e+08\n 4.12559027e+08 4.12732335e+08 4.12905698e+08 4.13079062e+08\n 4.13252363e+08 4.13425727e+08 4.13541321e+08 4.13714629e+08\n 4.13887992e+08 4.14061355e+08 4.14234664e+08 4.14408021e+08\n 4.14581384e+08 4.14754698e+08 4.14870286e+08 4.15043594e+08\n 4.15216958e+08 4.15390315e+08 4.15563629e+08 4.15736992e+08\n 4.15910349e+08 4.16083658e+08 4.16257021e+08 4.16372609e+08\n 4.16545923e+08 4.16719286e+08 4.16892643e+08 4.17065952e+08\n 4.17239315e+08 4.17412678e+08 4.17585986e+08 4.17759350e+08\n 4.17874882e+08 4.18048246e+08 4.18221609e+08 4.18394923e+08\n 4.18568280e+08 4.18741637e+08 4.18915001e+08 4.19088315e+08\n 4.19203903e+08 4.19377217e+08 4.19550574e+08 4.19723931e+08\n 4.19897246e+08 4.20070603e+08 4.20243966e+08 4.20417281e+08\n 4.20590638e+08 4.20706176e+08 4.20879540e+08 4.21052903e+08\n 4.21226260e+08 4.21399574e+08 4.21572932e+08 4.21746289e+08\n 4.21919603e+08 4.22035197e+08 4.22208505e+08 4.22381868e+08\n 4.22555225e+08 4.22728534e+08 4.22901897e+08 4.23075260e+08\n 4.23248575e+08 4.23421926e+08 4.23537519e+08 4.23710834e+08\n 4.23884191e+08 4.24057554e+08 4.24230869e+08 4.24404219e+08\n 4.24577583e+08 4.24750897e+08 4.24924254e+08 4.25039799e+08\n 4.25213156e+08 4.25386513e+08 4.25559828e+08 4.25733191e+08\n 4.25906548e+08 4.26079863e+08 4.26253220e+08 4.26368807e+08\n 4.26542122e+08 4.26715485e+08 4.26888842e+08 4.27062150e+08\n 4.27235514e+08 4.27408877e+08 4.27582185e+08 4.27755548e+08\n 4.27871087e+08 4.28044444e+08 4.28217808e+08 4.28391122e+08\n 4.28564479e+08 4.28737842e+08 4.28911151e+08 4.29084508e+08\n 4.29200102e+08 4.29373416e+08 4.29546773e+08 4.29720136e+08\n 4.29720136e+08]",
         "[ 7.5  0.   0.   0.   0.   0.   0.   0.   0.   0.   0.   0.   0.   0.\n  0.   0.   0.   0.   0.   0.   0.   0.   0.   0.   0.   0.   0.   0.\n  0.   0.   0.   0.   0.   0.   0.   0.   0.   0.   0.   0.   0.   0.\n  0.   0.   0.   0.   0.   0.   0.   0.   0.   0.   0.   0.   0.   0.\n  0.   0.   0.   0.   0.   0.   0.   0.   0.   0.   0.   0.   0.   0.\n  0.   0.   0.   0.   0.   0.   7.5  7.5  7.5  7.5  7.5  7.5  7.5  7.5\n  7.5  7.5  7.5  7.5  7.5  7.5  7.5  7.5  7.5  7.5  7.5  7.5  7.5  7.5\n  7.5  7.5  7.5  7.5  7.5  7.5  7.5  7.5  7.5  7.5  7.5  7.5  7.5  7.5\n  7.5  7.5  7.5  7.5  7.5  7.5  7.5  7.5  7.5  7.5  7.5  7.5  7.5  7.5\n  7.5  7.5  7.5  7.5  7.5  7.5  7.5  7.5  7.5  7.5  7.5  7.5  7.5  7.5\n  7.5  7.5  7.5  7.5  7.5  7.5  7.5  7.5  7.5  7.5  7.5 -7.5 -7.5 -7.5\n -7.5 -7.5 -7.5 -7.5 -7.5 -7.5 -7.5 -7.5 -7.5 -7.5 -7.5 -7.5 -7.5 -7.5\n -7.5 -7.5 -7.5 -7.5 -7.5 -7.5 -7.5 -7.5 -7.5 -7.5 -7.5 -7.5 -7.5 -7.5\n -7.5 -7.5 -7.5 -7.5 -7.5 -7.5 -7.5 -7.5 -7.5 -7.5 -7.5 -7.5 -7.5 -7.5\n -7.5 -7.5 -7.5 -7.5 -7.5 -7.5 -7.5 -7.5 -7.5 -7.5 -7.5 -7.5 -7.5 -7.5\n -7.5 -7.5 -7.5 -7.5 -7.5 -7.5 -7.5 -7.5 -7.5 -7.5 -7.5 -7.5 -7.5 -7.5\n -7.5 -7.5  0.   0.   0.   0.   0.   0.   0.   0.   0.   0.   0.   0.\n  0.   0.   0.   0.   0.   0.   0.   0.   0.   0.   0.   0.   0.   0.\n  0.   0.   0.   0.   0.   0.   0.   0.   0.   0.   0.   0.   0.   0.\n  0.   0.   0.   0.   0.   0.   0.   0.   0.   0.   0.   0.   0.   0.\n  0.   0.   0.   0.   0.   0.   0.   0.   0.   0.   0.   0.   0.   0.\n  0.   0.   0.   0.   0.   0.   0. ]",
         "[  9.00734994   8.97694683   9.02456876   9.01331535   9.02875497\n   8.98394018   8.98689476   8.96312561   8.86685616   5.62320247\n   1.13768974   1.6754366    1.53061196   1.54744599   1.5735848\n   1.57319376   1.59007745   1.58723403   1.61058084   1.60284519\n   1.59040526   1.66017689   1.63982305   1.6665754    1.6535493\n   1.64317076   0.96211576   1.2167377    1.24389739   1.23884147\n   1.26010002   1.22749175   1.24456926   1.2980215    1.25778975\n   1.26953698   1.28557242   1.24827636   1.28231371   1.29714231\n   1.28800234   1.32570728   1.31649073   1.30257418   1.33858941\n   1.33983503   1.32345072   1.28590813   1.30232517   1.26252049\n   1.27065859   1.25441225   1.29091508   1.30135029   1.27954931\n   1.2660948    1.31429112   1.24133159   1.26889399   1.2634022\n   1.2771226    1.29740564   1.28819719   1.30975354   1.30294168\n   1.32572487   1.32230718   1.30260087   1.34570225   1.09388806\n   1.07469396   0.98998682   0.98453067   1.00195115   0.9882755\n   0.99835903   0.99428817   0.99708116   0.97417901   1.03398636\n   0.97674233   0.98814051   0.9827877    0.96223296   0.96783921\n   1.01720067   1.08216004   5.68092255   7.61689372   7.57656451\n   7.60406664   7.7008211    7.70952739   7.74528347   7.65037449\n   7.6680733    7.68166122   7.74366559   9.19212056   9.3545299\n   9.20028431   9.24915566   9.26167951   9.20937525   9.21747436\n   9.16100248   9.20542892   9.19410061   9.17170193   9.16006682\n   9.2081436    9.19401927   9.20207512   9.18252961   9.15345569\n   9.1580475    9.0825553    9.11218909   9.08013065   9.08442921\n   9.03334952   9.03901435   9.05243769   9.04039884   9.06913767\n   9.03464714   9.00114396   8.97316044   8.9878213    8.98649899\n   8.98940232   8.96692363   9.023812     8.96372578   8.91897287\n   9.00653096   8.92211678   9.01144805   8.9771073    8.99074591\n   8.9825597    9.00378358   8.91539105   8.9323955    7.1401423\n   1.28550238   0.74317216   0.54774255   0.53209169   0.52502214\n   0.51430266   0.50962447   0.51571404   0.55693684   0.52180752\n   0.60878716   0.59919218   0.5696758    0.59090446   0.6083842\n   0.65941376   0.60272102   0.6376407    0.6033314    0.55670764\n   0.58561749   0.59562109   0.56683232   0.55995083   0.59142148\n   0.55733008  -0.35700889  -6.21573832  -6.14939942  -6.38130762\n  -6.33956373  -6.33604504  -6.34375391  -6.29176264  -6.30586183\n  -6.26371936  -6.28893708  -6.24159157  -7.38631399  -6.80434898\n  -6.80086846  -6.79963979  -6.85328081  -6.88529653  -6.89538446\n  -6.87009729  -6.84177519  -6.83093901  -6.82065873  -6.82447116\n  -6.77085431  -6.81946389  -7.97616753 -30.31422425 -34.18204905\n  13.32263606 -17.16775388 -29.49487997 -35.23177891 -35.11312041\n -38.22597387 -37.76973072 -36.28667464 -39.22237825 -36.20476211\n -36.51034095  -6.33274838  -6.30433262  -6.25704342  -6.26746186\n  -6.27683278  -6.23048575  -6.19495291  -6.15271407  -6.15967714\n  -6.57442897  -6.47314157  -6.47103849  -6.47663601  -6.48441552\n  -6.45291999  -6.52497393  -6.53998396  -6.5505337   -6.55246282\n  -6.52246314  -6.5322841   -6.53961288  -6.59895023  -6.61965204\n  -5.89423323  -1.70662126   1.63721844   1.14181497   1.34234403\n   1.36746312   1.44284782   1.38845093   1.39389208   1.37472924\n   1.3611335    1.30241979   1.25614165   1.31490161   1.30867947\n   1.28409426   1.33577609   1.35382329   1.28008161   1.35006897\n   1.93940266   1.68893349   1.75900683   1.74245815   1.76614674\n   1.68532998   1.66717066   1.67360392   1.71043931   1.6413733\n   1.69638291   1.65357379   1.58712337   1.55110677   1.53559904\n   1.52331304   1.5365534    1.56261723   1.54048405   1.56837981\n   1.54016529   1.57682465   1.5737383    1.62907374   1.5927011\n   1.60212582   1.62881801   1.65329225   1.59665179   1.64643268\n   1.65046208   1.6885683    1.59358588   1.63209706   1.62266027\n   1.65683342   1.68682806   1.63070467   1.64313194   1.69446986\n   1.68807378   1.67805076   1.71729725   1.69234909   1.71494731\n   1.71494731]",
         "1",
         "005ffe80-e748-446c-aadd-8003010a8b2d_1"
        ],
        [
         "1",
         "[4.30685175e+08 4.30916307e+08 4.31089622e+08 4.31262985e+08\n 4.31436342e+08 4.31551887e+08 4.31725244e+08 4.31898559e+08\n 4.32071916e+08 4.32245279e+08 4.32418593e+08 4.32591944e+08\n 4.32765308e+08 4.32880853e+08 4.33054216e+08 4.33227573e+08\n 4.33400887e+08 4.33574244e+08 4.33747608e+08 4.33920916e+08\n 4.34094279e+08 4.34267643e+08 4.34383175e+08 4.34556538e+08\n 4.34729853e+08 4.34903210e+08 4.35076573e+08 4.35249888e+08\n 4.35423245e+08 4.35596602e+08 4.35712147e+08 4.35885510e+08\n 4.36058867e+08 4.36232175e+08 4.36405539e+08 4.36578902e+08\n 4.36752210e+08 4.36925573e+08 4.37098937e+08 4.37214469e+08\n 4.37387833e+08 4.37561147e+08 4.37734510e+08 4.37907867e+08\n 4.38081176e+08 4.38254539e+08 4.38427902e+08 4.38601259e+08\n 4.38716804e+08 4.38890168e+08 4.39063470e+08 4.39236833e+08\n 4.39410196e+08 4.39583511e+08 4.39756868e+08 4.39930225e+08\n 4.40045770e+08 4.40219127e+08 4.40392441e+08 4.40565805e+08\n 4.40739168e+08 4.40912519e+08 4.41085833e+08 4.41259196e+08\n 4.41432560e+08 4.41548098e+08 4.41721462e+08 4.41894770e+08\n 4.42068127e+08 4.42241490e+08 4.42414805e+08 4.42588168e+08\n 4.42761519e+08 4.42877064e+08 4.43050427e+08 4.43223784e+08\n 4.43397099e+08 4.43570462e+08 4.43743813e+08 4.43917127e+08\n 4.44090491e+08 4.44263854e+08 4.44379393e+08 4.44552750e+08\n 4.44726064e+08 4.44899421e+08 4.45072785e+08 4.45246099e+08\n 4.45419462e+08 4.45592813e+08 4.45766128e+08 4.45881721e+08\n 4.46055078e+08 4.46228393e+08 4.46401750e+08 4.46575113e+08\n 4.46748421e+08 4.46921785e+08 4.47095148e+08 4.47210687e+08\n 4.47384044e+08 4.47557358e+08 4.47730722e+08 4.47904079e+08\n 4.48077393e+08 4.48250750e+08 4.48424114e+08 4.48597422e+08\n 4.48713016e+08 4.48886379e+08 4.49059687e+08 4.49233044e+08\n 4.49406407e+08 4.49579722e+08 4.49753079e+08 4.49926442e+08\n 4.50041987e+08 4.50215338e+08 4.50388653e+08 4.50562016e+08\n 4.50735379e+08 4.50908687e+08 4.51082044e+08 4.51255408e+08\n 4.51428771e+08 4.51544310e+08 4.51717673e+08 4.51890988e+08\n 4.52064338e+08 4.52237702e+08 4.52411016e+08 4.52584379e+08\n 4.52757736e+08 4.52873275e+08 4.53046639e+08 4.53219947e+08\n 4.53393310e+08 4.53566673e+08 4.53740037e+08 4.53913339e+08\n 4.54086702e+08 4.54260065e+08 4.54375604e+08 4.54548967e+08\n 4.54722275e+08 4.54895639e+08 4.55068996e+08 4.55242310e+08\n 4.55415674e+08 4.55589037e+08 4.55704569e+08 4.55877933e+08\n 4.56051296e+08 4.56224604e+08 4.56397968e+08 4.56571325e+08\n 4.56744639e+08 4.56917996e+08 4.57091359e+08 4.57206904e+08\n 4.57380261e+08 4.57553570e+08 4.57726933e+08 4.57900296e+08\n 4.58073604e+08 4.58246968e+08 4.58420325e+08 4.58593639e+08\n 4.58709227e+08 4.58882590e+08 4.59055905e+08 4.59229262e+08\n 4.59402619e+08 4.59575933e+08 4.59749296e+08 4.59922654e+08\n 4.60038199e+08 4.60211562e+08 4.60384864e+08 4.60558227e+08\n 4.60731590e+08 4.60904905e+08 4.61078262e+08 4.61251619e+08\n 4.61424933e+08 4.61540521e+08 4.61713884e+08 4.61887199e+08\n 4.62060562e+08 4.62233913e+08 4.62407227e+08 4.62580591e+08\n 4.62753954e+08 4.62869493e+08 4.63042850e+08 4.63216158e+08\n 4.63389521e+08 4.63562885e+08 4.63736199e+08 4.63909562e+08\n 4.64082913e+08 4.64256276e+08 4.64371822e+08 4.64545179e+08\n 4.64718493e+08 4.64891850e+08 4.65065207e+08 4.65238522e+08\n 4.65411885e+08 4.65585248e+08 4.65758556e+08 4.65874144e+08\n 4.66047507e+08 4.66220815e+08 4.66394179e+08 4.66567542e+08\n 4.66740850e+08 4.66914207e+08 4.67087571e+08 4.67203116e+08\n 4.67376473e+08 4.67549787e+08 4.67723144e+08 4.67896508e+08\n 4.68069816e+08 4.68243179e+08 4.68416542e+08 4.68589851e+08\n 4.68705438e+08 4.68878802e+08 4.69052116e+08 4.69225473e+08\n 4.69398836e+08 4.69572144e+08 4.69745508e+08 4.69918865e+08\n 4.70034410e+08 4.70207773e+08 4.70381081e+08 4.70554438e+08\n 4.70727802e+08 4.70901116e+08 4.71074473e+08 4.71247837e+08\n 4.71421145e+08 4.71536732e+08 4.71710096e+08 4.71883410e+08\n 4.72056773e+08 4.72230130e+08 4.72403439e+08 4.72576802e+08\n 4.72750165e+08 4.72865704e+08 4.73039067e+08 4.73212376e+08\n 4.73385733e+08 4.73559096e+08 4.73732410e+08 4.73905774e+08\n 4.74079131e+08 4.74252439e+08 4.74368033e+08 4.74541390e+08\n 4.74714704e+08 4.74888068e+08 4.75061418e+08 4.75234733e+08\n 4.75408096e+08 4.75581459e+08 4.75696998e+08 4.75870362e+08\n 4.76043670e+08 4.76217027e+08 4.76390390e+08 4.76563753e+08\n 4.76737068e+08 4.76910425e+08 4.77083782e+08 4.77199327e+08\n 4.77372690e+08 4.77545998e+08 4.77719362e+08 4.77892719e+08\n 4.78066027e+08 4.78239390e+08 4.78412754e+08 4.78586068e+08\n 4.78701656e+08 4.78875013e+08 4.79048327e+08 4.79221684e+08\n 4.79395048e+08 4.79568362e+08 4.79741719e+08 4.79915076e+08\n 4.80030621e+08 4.80203984e+08 4.80377293e+08 4.80550656e+08\n 4.80550656e+08]",
         "[ 0.   0.   0.   0.   0.   0.   0.   0.   0.   0.   0.   0.   0.   0.\n  0.   0.   0.   0.   0.   0.   0.   0.   0.   0.   0.   0.   0.   0.\n  0.   0.   0.   0.   0.   0.   0.   0.   0.   0.   0.   0.   0.   0.\n  0.   0.   0.   0.   0.   0.   0.   0.   0.   0.   0.   0.   0.   0.\n  0.   0.   0.   0.   0.   0.   0.   0.   0.   0.   0.   0.   0.   0.\n  0.   0.   0.   0.   0.   0.  -7.5 -7.5 -7.5 -7.5 -7.5 -7.5 -7.5 -7.5\n -7.5 -7.5 -7.5 -7.5 -7.5 -7.5 -7.5 -7.5 -7.5 -7.5 -7.5 -7.5 -7.5 -7.5\n -7.5 -7.5 -7.5 -7.5 -7.5 -7.5 -7.5 -7.5 -7.5 -7.5 -7.5 -7.5 -7.5 -7.5\n -7.5 -7.5 -7.5 -7.5 -7.5 -7.5 -7.5 -7.5 -7.5 -7.5 -7.5 -7.5 -7.5 -7.5\n -7.5 -7.5 -7.5 -7.5 -7.5 -7.5 -7.5 -7.5 -7.5 -7.5 -7.5 -7.5 -7.5 -7.5\n -7.5 -7.5 -7.5 -7.5 -7.5 -7.5 -7.5 -7.5 -7.5 -7.5 -7.5  0.   0.   0.\n  0.   0.   0.   0.   0.   0.   0.   0.   0.   0.   0.   0.   0.   0.\n  0.   0.   0.   0.   0.   0.   0.   0.   0.   0.   0.   0.   0.   0.\n  0.   0.   0.   0.   0.   0.   0.   0.   0.   0.   0.   0.   0.   0.\n  0.   0.   0.   0.   0.   0.   0.   0.   0.   0.   0.   0.   0.   0.\n  0.   0.   0.   0.   0.   0.   0.   0.   0.   0.   0.   0.   0.   0.\n  0.   0.   7.5  7.5  7.5  7.5  7.5  7.5  7.5  7.5  7.5  7.5  7.5  7.5\n  7.5  7.5  7.5  7.5  7.5  7.5  7.5  7.5  7.5  7.5  7.5  7.5  7.5  7.5\n  7.5  7.5  7.5  7.5  7.5  7.5  7.5  7.5  7.5  7.5  7.5  7.5  7.5  7.5\n  7.5  7.5  7.5  7.5  7.5  7.5  7.5  7.5  7.5  7.5  7.5  7.5  7.5  7.5\n  7.5  7.5  7.5  7.5  7.5  7.5  7.5  7.5  7.5  7.5  7.5  7.5  7.5  7.5\n  7.5  7.5  7.5  7.5  7.5  7.5  7.5]",
         "[ 0.55338697  0.51215504  0.50304106  0.49529606  0.55877612  0.52275219\n  0.5830357   0.57376614  0.56769566  0.52667507  0.59464335  0.51990823\n  0.59293434  0.60463525  0.60014091  0.53820867  0.57189581  0.52592783\n  0.50339146  0.57212076  0.53937683  0.57065708  0.61363605  0.50360086\n  0.6878882   0.7524742   0.69381758  0.67497185  0.71801817  0.6808971\n  0.69025156  0.75119365  0.70183195  0.70140365  0.75785441  0.78700034\n  0.72488698  0.77691351  0.80072168  0.72333547  0.7405257   0.56954075\n  0.15802357  0.2176744   0.30185348  0.31228414  0.32002521  0.2432095\n  0.18407101  0.18865776  0.19226196  0.20937234  0.18642743  0.23847076\n  0.18885215  0.22459598  0.19337309  0.42555232  0.72055794  0.67082219\n  0.70714129  0.72890652  0.73120827  0.73622053  0.72101654  0.71538098\n  0.75446382  0.67767396  0.71954296  0.73622964  0.79150314  0.72040722\n  0.68671599  0.70727376  0.7677974   0.73964658  0.70261838  0.68671599\n  0.61828475  0.30038583  0.38520036  0.41971053  0.43044926  0.4160201\n  0.45873158  0.44027432  0.47375711  0.4137204   0.46455522  0.39709761\n  0.39310697  0.32235997  0.27072044  0.33540243  0.23931261  0.21322268\n  0.19175298  0.2438761   0.2121099   0.18371907  0.16216123  0.17463264\n  0.11565942  0.10901823  0.11613067  0.04864644  0.02081006  0.02467644\n  0.02975852 -0.12875361 -5.00651111 -9.04939759 -8.14642599 -8.25867698\n -8.27993512 -8.37906442 -8.36349263 -8.39439357 -8.36684587 -8.36065963\n -8.31886798 -8.2525215  -8.30629034 -7.13467962 -7.39274767 -7.39962555\n -7.3625444  -7.33835622 -7.3226745  -7.32808586 -7.33053273 -7.344992\n -7.3590092  -7.38549881 -7.33363754 -7.45741489 -7.39654177 -7.38402189\n -7.46776234 -7.48771499 -7.49399207 -7.51718397 -7.43844757 -7.46429086\n -7.72802229 -8.4890766  -8.29230419 -8.23614842 -8.28690766 -8.31859367\n -8.27730866 -8.28021654 -8.32167043 -8.27347998 -8.29286196 -8.31499539\n -8.27926258 -7.27535993 -7.47918649 -7.47779992 -7.49608095 -7.51040909\n -7.51393617 -7.46262734 -7.47910827 -7.35517793 -2.82196913  0.95219851\n  0.48126651  0.4677921   0.58408562  0.63402656  0.64166313  0.70924338\n  0.71371322  0.8361415   0.72579734  0.7688408   0.75350456  0.75077045\n  0.82156441  0.7104786   0.72839767  0.70048523  0.67811058  0.68858704\n  0.70421451  0.7261977   0.6459685   0.70328649  0.67339272  0.65741569\n  0.69009735  0.7064873   0.68230212  0.65105781  0.63548658  0.60011658\n  0.66305634  0.55717273  0.63019115  0.71078837  0.67062824  0.6199001\n  0.60178678  0.63587728  0.64150972  0.66974296  0.55827446  0.61820873\n  0.58832612  0.60294692  0.60100807  0.56632628  0.65652112  0.56061849\n  0.55570434  0.55310867  0.95350384  1.55082355  1.23701092  1.23500142\n  1.18340692  1.19122016  1.20309087  1.27329307  1.17308612  1.16652898\n  1.18139742  1.19662078  1.14422166  1.15090126  1.12706658  1.12059978\n  1.15827834  1.10671361  1.13154048  1.10521989  1.09880181  1.05210227\n  1.06381407  2.06812633  7.19932561  8.41839921  8.20407166  8.20838583\n  8.08670005  8.21488536  8.1497888   8.05651681  8.13600053  8.12720601\n  8.1166637   8.11051363  8.12733692  8.14713819  8.15201404  8.19555895\n  8.19452722  8.09444795  8.19457965  8.12109093  8.14892784  8.13307169\n  8.10788245  8.15643478  8.17861624  8.18911147  8.11252515  8.13965604\n  8.08042339  8.09140372  8.1334306   8.13481729  8.04051696  8.11775805\n  8.2194417   8.01215302  8.04550348  8.00816577  8.0902365   8.0657374\n  8.08981127  8.07209163  8.12750761  8.09114086  8.12111998  8.11052975\n  8.13804498  8.08872619  8.07706027  8.0976544   8.08922734  8.07419338\n  8.053155    8.03915482  8.05792797  8.07142729  8.02215069  8.03506103\n  8.03506103]",
         "1",
         "021960b7-3c30-4b94-9035-31726c62a363_0"
        ],
        [
         "2",
         "[4.80724013e+08 4.80897327e+08 4.81070691e+08 4.81244048e+08\n 4.81417362e+08 4.81532944e+08 4.81706307e+08 4.81879621e+08\n 4.82052985e+08 4.82226342e+08 4.82399656e+08 4.82573013e+08\n 4.82746377e+08 4.82861915e+08 4.83035279e+08 4.83208593e+08\n 4.83381944e+08 4.83555307e+08 4.83728622e+08 4.83901985e+08\n 4.84075342e+08 4.84248656e+08 4.84364244e+08 4.84537601e+08\n 4.84710916e+08 4.84884279e+08 4.85057642e+08 4.85230944e+08\n 4.85404307e+08 4.85577671e+08 4.85750985e+08 4.85866573e+08\n 4.86039887e+08 4.86213244e+08 4.86386601e+08 4.86559916e+08\n 4.86733279e+08 4.86906642e+08 4.87079944e+08 4.87195538e+08\n 4.87368902e+08 4.87542210e+08 4.87715573e+08 4.87888936e+08\n 4.88062245e+08 4.88235602e+08 4.88408965e+08 4.88582279e+08\n 4.88697867e+08 4.88871181e+08 4.89044539e+08 4.89217902e+08\n 4.89391259e+08 4.89564573e+08 4.89737937e+08 4.89911294e+08\n 4.90026832e+08 4.90200196e+08 4.90373510e+08 4.90546867e+08\n 4.90720231e+08 4.90893539e+08 4.91066902e+08 4.91240259e+08\n 4.91413574e+08 4.91529167e+08 4.91702518e+08 4.91875833e+08\n 4.92049196e+08 4.92222559e+08 4.92395868e+08 4.92569231e+08\n 4.92742588e+08 4.92858127e+08 4.93031490e+08 4.93204804e+08\n 4.93378168e+08 4.93551519e+08 4.93724833e+08 4.93898196e+08\n 4.94071560e+08 4.94244868e+08 4.94360462e+08 4.94533819e+08\n 4.94707127e+08 4.94880490e+08 4.95053854e+08 4.95227168e+08\n 4.95400519e+08 4.95573882e+08 4.95689427e+08 4.95862784e+08\n 4.96036099e+08 4.96209462e+08 4.96382819e+08 4.96556127e+08\n 4.96729490e+08 4.96902854e+08 4.97076168e+08 4.97191756e+08\n 4.97365113e+08 4.97538421e+08 4.97711784e+08 4.97885148e+08\n 4.98058462e+08 4.98231813e+08 4.98405176e+08 4.98578491e+08\n 4.98694078e+08 4.98867393e+08 4.99040756e+08 4.99214113e+08\n 4.99387421e+08 4.99560785e+08 4.99734148e+08 4.99907511e+08\n 5.00023044e+08 5.00196407e+08 5.00369722e+08 5.00543079e+08\n 5.00716442e+08 5.00889756e+08 5.01063113e+08 5.01236470e+08\n 5.01409785e+08 5.01525379e+08 5.01698687e+08 5.01872044e+08\n 5.02045407e+08 5.02218771e+08 5.02392079e+08 5.02565442e+08\n 5.02738805e+08 5.02854338e+08 5.03027701e+08 5.03201016e+08\n 5.03374379e+08 5.03547736e+08 5.03721044e+08 5.03894408e+08\n 5.04067771e+08 5.04241079e+08 5.04356673e+08 5.04530036e+08\n 5.04703338e+08 5.04876701e+08 5.05050065e+08 5.05223379e+08\n 5.05396736e+08 5.05570093e+08 5.05743408e+08 5.05858995e+08\n 5.06032310e+08 5.06205673e+08 5.06379036e+08 5.06552338e+08\n 5.06725702e+08 5.06899065e+08 5.07072379e+08 5.07187967e+08\n 5.07361330e+08 5.07534639e+08 5.07707996e+08 5.07881359e+08\n 5.08054673e+08 5.08228037e+08 5.08401388e+08 5.08574702e+08\n 5.08690296e+08 5.08863604e+08 5.09036967e+08 5.09210331e+08\n 5.09383639e+08 5.09556996e+08 5.09730359e+08 5.09903674e+08\n 5.10019261e+08 5.10192618e+08 5.10365933e+08 5.10539290e+08\n 5.10712653e+08 5.10885968e+08 5.11059331e+08 5.11232682e+08\n 5.11405996e+08 5.11521590e+08 5.11694898e+08 5.11868262e+08\n 5.12041619e+08 5.12214933e+08 5.12388290e+08 5.12561653e+08\n 5.12735017e+08 5.12850555e+08 5.13023913e+08 5.13197227e+08\n 5.13370590e+08 5.13543947e+08 5.13717262e+08 5.13890619e+08\n 5.14063982e+08 5.14237290e+08 5.14352884e+08 5.14526199e+08\n 5.14699556e+08 5.14872913e+08 5.15046276e+08 5.15219591e+08\n 5.15392948e+08 5.15566311e+08 5.15681856e+08 5.15855207e+08\n 5.16028521e+08 5.16201884e+08 5.16375248e+08 5.16548556e+08\n 5.16721913e+08 5.16895276e+08 5.17068591e+08 5.17184178e+08\n 5.17357542e+08 5.17530856e+08 5.17704207e+08 5.17877570e+08\n 5.18050885e+08 5.18224248e+08 5.18397605e+08 5.18570913e+08\n 5.18686507e+08 5.18859815e+08 5.19033179e+08 5.19206542e+08\n 5.19379856e+08 5.19553207e+08 5.19726571e+08 5.19899885e+08\n 5.20015473e+08 5.20188836e+08 5.20362144e+08 5.20535507e+08\n 5.20708864e+08 5.20882179e+08 5.21055542e+08 5.21228906e+08\n 5.21402207e+08 5.21517801e+08 5.21691116e+08 5.21864473e+08\n 5.22037836e+08 5.22211144e+08 5.22384508e+08 5.22557865e+08\n 5.22731179e+08 5.22846773e+08 5.23020130e+08 5.23193438e+08\n 5.23366802e+08 5.23540165e+08 5.23713473e+08 5.23886836e+08\n 5.24060193e+08 5.24233508e+08 5.24349096e+08 5.24522410e+08\n 5.24695773e+08 5.24869130e+08 5.25042439e+08 5.25215802e+08\n 5.25389165e+08 5.25562522e+08 5.25735837e+08 5.25851431e+08\n 5.26024732e+08 5.26198096e+08 5.26371459e+08 5.26544774e+08\n 5.26718131e+08 5.26891488e+08 5.27064802e+08 5.27180390e+08\n 5.27353753e+08 5.27527067e+08 5.27700425e+08 5.27873782e+08\n 5.28047096e+08 5.28220459e+08 5.28393816e+08 5.28567131e+08\n 5.28682718e+08 5.28856027e+08 5.29029390e+08 5.29202753e+08\n 5.29376068e+08 5.29549425e+08 5.29722782e+08 5.29896096e+08\n 5.30011684e+08 5.30185047e+08 5.30358362e+08 5.30531719e+08\n 5.30531719e+08]",
         "[ 7.5  0.   0.   0.   0.   0.   0.   0.   0.   0.   0.   0.   0.   0.\n  0.   0.   0.   0.   0.   0.   0.   0.   0.   0.   0.   0.   0.   0.\n  0.   0.   0.   0.   0.   0.   0.   0.   0.   0.   0.   0.   0.   0.\n  0.   0.   0.   0.   0.   0.   0.   0.   0.   0.   0.   0.   0.   0.\n  0.   0.   0.   0.   0.   0.   0.   0.   0.   0.   0.   0.   0.   0.\n  0.   0.   0.   0.   0.   0.   7.5  7.5  7.5  7.5  7.5  7.5  7.5  7.5\n  7.5  7.5  7.5  7.5  7.5  7.5  7.5  7.5  7.5  7.5  7.5  7.5  7.5  7.5\n  7.5  7.5  7.5  7.5  7.5  7.5  7.5  7.5  7.5  7.5  7.5  7.5  7.5  7.5\n  7.5  7.5  7.5  7.5  7.5  7.5  7.5  7.5  7.5  7.5  7.5  7.5  7.5  7.5\n  7.5  7.5  7.5  7.5  7.5  7.5  7.5  7.5  7.5  7.5  7.5  7.5  7.5  7.5\n  7.5  7.5  7.5  7.5  7.5  7.5  7.5  7.5  7.5  7.5  7.5 -7.5 -7.5 -7.5\n -7.5 -7.5 -7.5 -7.5 -7.5 -7.5 -7.5 -7.5 -7.5 -7.5 -7.5 -7.5 -7.5 -7.5\n -7.5 -7.5 -7.5 -7.5 -7.5 -7.5 -7.5 -7.5 -7.5 -7.5 -7.5 -7.5 -7.5 -7.5\n -7.5 -7.5 -7.5 -7.5 -7.5 -7.5 -7.5 -7.5 -7.5 -7.5 -7.5 -7.5 -7.5 -7.5\n -7.5 -7.5 -7.5 -7.5 -7.5 -7.5 -7.5 -7.5 -7.5 -7.5 -7.5 -7.5 -7.5 -7.5\n -7.5 -7.5 -7.5 -7.5 -7.5 -7.5 -7.5 -7.5 -7.5 -7.5 -7.5 -7.5 -7.5 -7.5\n -7.5 -7.5  0.   0.   0.   0.   0.   0.   0.   0.   0.   0.   0.   0.\n  0.   0.   0.   0.   0.   0.   0.   0.   0.   0.   0.   0.   0.   0.\n  0.   0.   0.   0.   0.   0.   0.   0.   0.   0.   0.   0.   0.   0.\n  0.   0.   0.   0.   0.   0.   0.   0.   0.   0.   0.   0.   0.   0.\n  0.   0.   0.   0.   0.   0.   0.   0.   0.   0.   0.   0.   0.   0.\n  0.   0.   0.   0.   0.   0.   0. ]",
         "[ 8.06913714  8.02258409  8.0302165   7.98261108  8.30716973  9.327719\n  8.8189066   8.81022213  8.77678541  8.69671634  8.7816059   8.71819313\n  8.79334236  8.72058408  4.37500663  0.43000815  1.17957436  1.03603974\n  1.041843    1.04910018  1.00100209  0.89870043  0.91088584  0.89674379\n  0.93758406  0.93124072  0.90380707  0.9376097   0.94275686  0.9017829\n  0.93437541  0.94643601  0.9439498   0.84128959  0.96744235  0.91930002\n  0.92062772  0.93315107 -0.02460084  0.32624517  0.34314226  0.34285674\n  0.40075548  0.33759715  0.37708968  0.35046295  0.41201718  0.47063042\n  0.44455773  0.49451551  0.52213462  0.57215068  0.56228588  0.60209456\n  0.63650016  0.61468026  0.57151302  0.55596351  0.55672009 -1.28300321\n -2.33425542 -1.94806178 -2.04368143 -1.9754552  -2.00882723 -1.9988596\n -2.14389478 -2.16752057 -2.21920318 -2.20964294 -0.99642261  0.93196997\n  0.58008783  0.58964265  0.65059228  0.65568203  0.73093843  0.74149012\n  0.75502135  0.71770404  0.72469035  0.68735874  0.70186092  0.64307922\n  0.70123586  0.68365792  0.65055848  0.65733528  3.05810766  7.92276619\n  8.30714401  8.03996478  7.84979647  7.91628928  7.90724549  7.98295512\n  7.94439952  7.95576141  7.9042598   7.86026493  7.91585602  7.92428525\n  7.86110505  8.52853128  8.51991025  8.51151602  8.52221456  8.53964723\n  8.56621856  8.56639301  8.54310399  8.47797944  8.50830051  8.56219759\n  8.4463611   8.04094819  7.49642823  7.7437044   7.64527302  7.72172404\n  7.66986805  7.7530649   7.84162499  7.7268187   7.67782724  7.64429046\n  7.61827852  7.64732844  7.55865498  7.52755089  7.59712728  7.56677409\n  7.94486256  8.73280648  8.27880735  8.16911465  8.14498069  8.19699042\n  8.13470565  8.24887428  8.22069146  8.12278236  8.06915082  8.14104046\n  8.07105519  8.10259335  8.12879681  8.13675303  8.06966508  8.14159313\n  8.11982988  8.10423742  8.19583538  8.13108244  8.15618383  8.10832099\n  8.1567142   8.0960548   8.1404468   8.141081    8.15293513  8.01012927\n  8.07066471  7.31138516  0.31169129 -5.5813847  -5.40540191 -5.45801106\n -5.57800374 -5.54466423 -5.51242766 -5.51491154 -5.52337408 -5.51765709\n -5.5663375  -5.4864333  -5.49159577 -5.98777848 -8.16014029 -7.62719738\n -7.63300217 -7.6244354  -7.69404977 -7.66400425 -7.64916881 -7.67514665\n -7.66704569 -7.69835364 -7.66620795 -7.67606356 -7.66766894 -7.65425592\n -7.64794962 -7.68260759 -7.68357969 -7.64702425 -7.71337    -7.67785508\n -7.70092288 -7.68142031 -7.70608484 -7.75605173 -7.73213606 -7.71956673\n -7.674399   -7.85857206 -7.24137261 -7.39862305 -7.43303833 -7.44430247\n -7.41799579 -7.45057505 -7.46545132 -7.44199155 -7.38837732 -7.40923184\n -7.4283071  -7.4347161  -7.41396326 -7.40416931 -7.41503411 -3.80589597\n  0.67735094  0.59673742  0.57122501  0.68449474  0.81940049  0.78789546\n  0.87974781  0.84601588  0.91327914  0.96019149  0.92076264  0.9352172\n  0.9871406   0.95208186  0.96209629  0.97746275  0.98158167  1.03452314\n  1.00246937  0.97485921  0.96366746  0.96100053  0.92046208  0.91985355\n  0.94765527  0.94530652  0.86782261  0.81709084  0.82526887  0.79747061\n  0.81637074  0.86042785  0.74995183  0.69776786  0.70270311  0.69126208\n  0.66458918  0.65204626  0.72309396  0.7089211   0.76324972  0.7092544\n  0.73585864  1.96067552  1.6323012   1.62855266  1.65812015  1.62415493\n  1.63889077  1.64263778  1.62524109  1.74878853  1.63452267  1.5915273\n  1.67838262  1.61772074  1.57978806  1.59649382  1.64263784  0.91239651\n  0.71575119  0.8042391   0.84476195  0.81596923  0.86613192  0.85452646\n  0.79016851  0.86899095  0.84476195  0.84212959  0.84609413  0.83172143\n  0.86089932  0.86345426  0.87789953  0.85439947  0.93118358  0.79460149\n  0.79460149]",
         "0",
         "021960b7-3c30-4b94-9035-31726c62a363_1"
        ],
        [
         "3",
         "[2.84248046e+08 2.84479179e+08 2.84652542e+08 2.84825850e+08\n 2.84999214e+08 2.85114752e+08 2.85288116e+08 2.85461473e+08\n 2.85634787e+08 2.85808144e+08 2.85981508e+08 2.86154816e+08\n 2.86328179e+08 2.86443767e+08 2.86617081e+08 2.86790438e+08\n 2.86963802e+08 2.87137110e+08 2.87310473e+08 2.87483836e+08\n 2.87657144e+08 2.87830502e+08 2.87946047e+08 2.88119404e+08\n 2.88292767e+08 2.88466081e+08 2.88639438e+08 2.88812795e+08\n 2.88986110e+08 2.89159473e+08 2.89275061e+08 2.89448369e+08\n 2.89621732e+08 2.89795089e+08 2.89968404e+08 2.90141767e+08\n 2.90315124e+08 2.90488432e+08 2.90661796e+08 2.90777335e+08\n 2.90950698e+08 2.91124061e+08 2.91297363e+08 2.91470726e+08\n 2.91644090e+08 2.91817404e+08 2.91990761e+08 2.92164124e+08\n 2.92279657e+08 2.92453020e+08 2.92626384e+08 2.92799698e+08\n 2.92973055e+08 2.93146412e+08 2.93319727e+08 2.93493090e+08\n 2.93608629e+08 2.93781992e+08 2.93955349e+08 2.94128657e+08\n 2.94302021e+08 2.94475384e+08 2.94648692e+08 2.94822055e+08\n 2.94995412e+08 2.95110951e+08 2.95284314e+08 2.95457678e+08\n 2.95630986e+08 2.95804349e+08 2.95977706e+08 2.96151015e+08\n 2.96324378e+08 2.96439923e+08 2.96613280e+08 2.96786643e+08\n 2.96960000e+08 2.97133315e+08 2.97306672e+08 2.97480035e+08\n 2.97653350e+08 2.97826700e+08 2.97942245e+08 2.98115602e+08\n 2.98288966e+08 2.98462280e+08 2.98635643e+08 2.98808994e+08\n 2.98982309e+08 2.99155672e+08 2.99329035e+08 2.99444574e+08\n 2.99617931e+08 2.99791288e+08 2.99964603e+08 3.00137966e+08\n 3.00311323e+08 3.00484637e+08 3.00657994e+08 3.00773533e+08\n 3.00946897e+08 3.01120260e+08 3.01293574e+08 3.01466925e+08\n 3.01640288e+08 3.01813603e+08 3.01986960e+08 3.02160323e+08\n 3.02275868e+08 3.02449219e+08 3.02622582e+08 3.02795897e+08\n 3.02969254e+08 3.03142617e+08 3.03315925e+08 3.03489289e+08\n 3.03604827e+08 3.03778191e+08 3.03951554e+08 3.04124862e+08\n 3.04298219e+08 3.04471583e+08 3.04644891e+08 3.04818254e+08\n 3.04991617e+08 3.05107156e+08 3.05280513e+08 3.05453877e+08\n 3.05627185e+08 3.05800548e+08 3.05973911e+08 3.06147220e+08\n 3.06320577e+08 3.06436122e+08 3.06609479e+08 3.06782842e+08\n 3.06956156e+08 3.07129513e+08 3.07302871e+08 3.07476185e+08\n 3.07649548e+08 3.07822905e+08 3.07938444e+08 3.08111807e+08\n 3.08285164e+08 3.08458479e+08 3.08631842e+08 3.08805206e+08\n 3.08978507e+08 3.09151871e+08 3.09267410e+08 3.09440773e+08\n 3.09614136e+08 3.09787438e+08 3.09960801e+08 3.10134165e+08\n 3.10307528e+08 3.10480836e+08 3.10654200e+08 3.10769738e+08\n 3.10943095e+08 3.11116459e+08 3.11289773e+08 3.11463130e+08\n 3.11636487e+08 3.11809802e+08 3.11983165e+08 3.12156522e+08\n 3.12272067e+08 3.12445424e+08 3.12618781e+08 3.12792096e+08\n 3.12965459e+08 3.13138816e+08 3.13312130e+08 3.13485487e+08\n 3.13601026e+08 3.13774390e+08 3.13947753e+08 3.14121061e+08\n 3.14294424e+08 3.14467781e+08 3.14641090e+08 3.14814453e+08\n 3.14987816e+08 3.15103355e+08 3.15276718e+08 3.15450075e+08\n 3.15623390e+08 3.15796747e+08 3.15970110e+08 3.16143425e+08\n 3.16316775e+08 3.16432320e+08 3.16605684e+08 3.16779041e+08\n 3.16952355e+08 3.17125719e+08 3.17299069e+08 3.17472384e+08\n 3.17645747e+08 3.17819110e+08 3.17934649e+08 3.18108006e+08\n 3.18281363e+08 3.18454678e+08 3.18628041e+08 3.18801404e+08\n 3.18974713e+08 3.19148070e+08 3.19321433e+08 3.19436972e+08\n 3.19610335e+08 3.19783649e+08 3.19957000e+08 3.20130364e+08\n 3.20303678e+08 3.20477041e+08 3.20650398e+08 3.20765943e+08\n 3.20939294e+08 3.21112657e+08 3.21285972e+08 3.21459329e+08\n 3.21632692e+08 3.21806000e+08 3.21979364e+08 3.22152721e+08\n 3.22268266e+08 3.22441629e+08 3.22614937e+08 3.22788294e+08\n 3.22961658e+08 3.23135015e+08 3.23308329e+08 3.23481692e+08\n 3.23597231e+08 3.23770588e+08 3.23943952e+08 3.24117260e+08\n 3.24290623e+08 3.24463986e+08 3.24637295e+08 3.24810652e+08\n 3.24984015e+08 3.25099554e+08 3.25272917e+08 3.25446280e+08\n 3.25619589e+08 3.25792946e+08 3.25966309e+08 3.26139623e+08\n 3.26312980e+08 3.26428519e+08 3.26601883e+08 3.26775240e+08\n 3.26948554e+08 3.27121917e+08 3.27295281e+08 3.27468583e+08\n 3.27641946e+08 3.27815309e+08 3.27930848e+08 3.28104211e+08\n 3.28277568e+08 3.28450876e+08 3.28624240e+08 3.28797603e+08\n 3.28970911e+08 3.29144275e+08 3.29259813e+08 3.29433170e+08\n 3.29606534e+08 3.29779848e+08 3.29953205e+08 3.30126562e+08\n 3.30299877e+08 3.30473240e+08 3.30646597e+08 3.30762142e+08\n 3.30935499e+08 3.31108856e+08 3.31282171e+08 3.31455534e+08\n 3.31628891e+08 3.31802205e+08 3.31975563e+08 3.32148920e+08\n 3.32264465e+08 3.32437828e+08 3.32611136e+08 3.32784499e+08\n 3.32957856e+08 3.33131171e+08 3.33304528e+08 3.33477891e+08\n 3.33593430e+08 3.33766793e+08 3.33940150e+08 3.34113465e+08\n 3.34113465e+08]",
         "[ 0.   0.   0.   0.   0.   0.   0.   0.   0.   0.   0.   0.   0.   0.\n  0.   0.   0.   0.   0.   0.   0.   0.   0.   0.   0.   0.   0.   0.\n  0.   0.   0.   0.   0.   0.   0.   0.   0.   0.   0.   0.   0.   0.\n  0.   0.   0.   0.   0.   0.   0.   0.   0.   0.   0.   0.   0.   0.\n  0.   0.   0.   0.   0.   0.   0.   0.   0.   0.   0.   0.   0.   0.\n  0.   0.   0.   0.   0.   0.  -7.5 -7.5 -7.5 -7.5 -7.5 -7.5 -7.5 -7.5\n -7.5 -7.5 -7.5 -7.5 -7.5 -7.5 -7.5 -7.5 -7.5 -7.5 -7.5 -7.5 -7.5 -7.5\n -7.5 -7.5 -7.5 -7.5 -7.5 -7.5 -7.5 -7.5 -7.5 -7.5 -7.5 -7.5 -7.5 -7.5\n -7.5 -7.5 -7.5 -7.5 -7.5 -7.5 -7.5 -7.5 -7.5 -7.5 -7.5 -7.5 -7.5 -7.5\n -7.5 -7.5 -7.5 -7.5 -7.5 -7.5 -7.5 -7.5 -7.5 -7.5 -7.5 -7.5 -7.5 -7.5\n -7.5 -7.5 -7.5 -7.5 -7.5 -7.5 -7.5 -7.5 -7.5 -7.5 -7.5  0.   0.   0.\n  0.   0.   0.   0.   0.   0.   0.   0.   0.   0.   0.   0.   0.   0.\n  0.   0.   0.   0.   0.   0.   0.   0.   0.   0.   0.   0.   0.   0.\n  0.   0.   0.   0.   0.   0.   0.   0.   0.   0.   0.   0.   0.   0.\n  0.   0.   0.   0.   0.   0.   0.   0.   0.   0.   0.   0.   0.   0.\n  0.   0.   0.   0.   0.   0.   0.   0.   0.   0.   0.   0.   0.   0.\n  0.   0.   7.5  7.5  7.5  7.5  7.5  7.5  7.5  7.5  7.5  7.5  7.5  7.5\n  7.5  7.5  7.5  7.5  7.5  7.5  7.5  7.5  7.5  7.5  7.5  7.5  7.5  7.5\n  7.5  7.5  7.5  7.5  7.5  7.5  7.5  7.5  7.5  7.5  7.5  7.5  7.5  7.5\n  7.5  7.5  7.5  7.5  7.5  7.5  7.5  7.5  7.5  7.5  7.5  7.5  7.5  7.5\n  7.5  7.5  7.5  7.5  7.5  7.5  7.5  7.5  7.5  7.5  7.5  7.5  7.5  7.5\n  7.5  7.5  7.5  7.5  7.5  7.5  7.5]",
         "[-0.53289114 -0.67635505 -0.48671758 -0.53727596 -0.54800763 -0.57686853\n -0.606253   -0.65409258 -0.59822086 -0.70432047 -0.59896997 -0.56584742\n -0.65793517 -0.74129807 -0.66962077 -0.71659562 -0.71962099 -0.75869274\n -0.62310373 -0.46559362 -0.55630633 -0.44269332 -0.42404779 -0.4009636\n -0.47777104 -0.39541656 -0.37428548 -0.58133005 -0.43241916 -0.41371201\n -0.38013608 -0.23830907 -0.36111937 -0.36766323 -0.36567994 -0.46702673\n -0.43486355 -0.44726241 -0.52793796 -0.56754934 -0.40674743 -0.43773951\n -0.47791389 -0.53566788 -0.42189265 -0.39781136 -0.44332476 -0.46420716\n -0.49780739 -0.50180128 -0.41123472 -0.53282675 -0.50998908 -0.52969188\n -0.56505264 -0.52743058 -0.48750279 -0.47692323 -0.46916926 -0.52577372\n -0.72456066 -0.69670938 -0.71666893 -0.74744893 -0.64320017 -0.71185063\n -0.76338288 -0.69030098 -0.74413238 -0.62755931 -0.69135144 -0.67510376\n -0.66115759 -0.62795875 -0.70950612 -0.60055908 -0.5848989  -0.59471037\n -0.67955871 -0.54172787 -0.46809394 -0.58206138 -0.65614917 -0.66395118\n -0.58775592 -0.59860146 -0.65806802 -0.59732846 -0.61209967 -0.63830894\n -0.64065899 -0.5055644  -0.70211308 -0.61749726 -0.6169671  -0.58045281\n -3.83378315 -7.98415977 -8.06889652 -8.23922795 -7.95838103 -7.96435352\n -8.2298787  -7.85762268 -8.07183695 -8.11494456 -8.57951169 -8.7012379\n -8.65423072 -8.42204477 -8.73724539 -8.69220831 -8.69001347 -8.65151788\n -8.49679263 -8.4644069  -8.55456353 -8.60233572 -8.74857788 -8.77107253\n -8.64904934 -8.74140776 -8.70406058 -8.67491224 -8.70166756 -8.68309336\n -8.33970837 -8.47423459 -8.60850844 -8.65421551 -8.68153872 -8.56697924\n -8.59242914 -8.649325   -8.66416745 -8.70787369 -8.60171322 -8.57972046\n -8.45979728 -8.3884861  -8.60898344 -8.38318685 -8.44468337 -8.61441748\n -8.44403891 -8.62485967 -8.52199441 -8.61366006 -8.45780685 -8.67566169\n -8.60018654 -8.55777845 -8.60168338 -8.6000885  -8.75872219 -8.54882985\n -8.42717542 -8.46941607 -8.59104146 -8.62459167 -8.33722512 -5.92270549\n -1.61149788 -0.64754376 -0.59857944 -0.58505364 -0.54881098 -0.58335987\n -0.57924673 -0.50715447 -0.55032998 -0.65287754 -0.50660422 -0.77138209\n -0.6904405  -0.66051247 -0.6262317  -0.60724363 -0.70023314 -0.59908516\n -0.66659682 -0.64701647 -0.6632416  -0.56626358 -0.57363118 -0.69293502\n -0.66351074 -0.44997092 -0.59007286 -0.58759433 -0.62723117 -0.58345905\n -0.53941225 -0.52887388 -0.6186285  -0.6232043  -0.56776209 -0.60855991\n -0.63167695 -0.67770016 -0.64245059 -0.63930159 -0.64141232 -0.67737663\n -0.73022681 -0.64096803 -0.63063512 -0.61676525 -0.6924227  -0.62390764\n -0.62856453 -0.78302474 -0.67303821 -0.64004226 -0.68191904 -0.63433015\n -0.68620154 -0.68096079 -0.57813253 -0.6847769  -0.64942678 -0.60784839\n -0.57466486 -0.61425466 -0.64268258 -0.62707428 -0.63068152 -0.53770361\n -0.72057622 -0.61705575 -0.66047515 -0.53133522 -0.58177678 -0.58592976\n -0.53191073 -0.59180894 -0.54796871 -0.60014102 -0.53306502  2.52260018\n  5.77172654  6.15780964  6.11116021  6.09746821  6.09556351  6.13505068\n  6.12608553  6.1908511   6.19254887  6.47111199  6.33950061  6.37905788\n  6.40284517  6.52353334  6.50917742  6.50650565  6.49881169  6.42792184\n  6.50105752  6.4123579   6.53839703  6.4543146   6.46252048  6.4393146\n  6.45819173  6.44027093  6.51527685  6.71499913  6.70601386  6.69336492\n  6.76892091  6.75459246  6.73035231  6.68467344  6.61826891  6.69778924\n  6.72624057  6.76082601  6.73880121  6.65448372  6.84296569  6.74068505\n  6.72989254  6.77502338  6.73062114  6.7645756   6.74873021  6.7957253\n  6.79226951  6.73895389  6.75445865  6.77227474  6.69046821  6.75373174\n  6.73888389  6.82235683  6.73703334  6.73681586  6.80702261  6.80305054\n  6.80305054]",
         "0",
         "031924ff-ed34-49ed-b3d8-49d126b7635e_0"
        ],
        [
         "4",
         "[3.34286822e+08 3.34460185e+08 3.34633500e+08 3.34806850e+08\n 3.34980214e+08 3.35095759e+08 3.35269116e+08 3.35442430e+08\n 3.35615794e+08 3.35789151e+08 3.35962508e+08 3.36135822e+08\n 3.36309185e+08 3.36424724e+08 3.36598081e+08 3.36771445e+08\n 3.36944753e+08 3.37118116e+08 3.37291479e+08 3.37464788e+08\n 3.37638145e+08 3.37811508e+08 3.37927047e+08 3.38100410e+08\n 3.38273773e+08 3.38447075e+08 3.38620439e+08 3.38793802e+08\n 3.38967116e+08 3.39140473e+08 3.39313837e+08 3.39429369e+08\n 3.39602733e+08 3.39776047e+08 3.39949410e+08 3.40122767e+08\n 3.40296076e+08 3.40469439e+08 3.40642796e+08 3.40758341e+08\n 3.40931704e+08 3.41105061e+08 3.41278369e+08 3.41451733e+08\n 3.41625090e+08 3.41798404e+08 3.41971768e+08 3.42145125e+08\n 3.42260663e+08 3.42434027e+08 3.42607335e+08 3.42780698e+08\n 3.42954062e+08 3.43127370e+08 3.43300727e+08 3.43474090e+08\n 3.43589635e+08 3.43762992e+08 3.43936355e+08 3.44109664e+08\n 3.44283021e+08 3.44456384e+08 3.44629698e+08 3.44803055e+08\n 3.44976413e+08 3.45091958e+08 3.45265315e+08 3.45438629e+08\n 3.45611992e+08 3.45785356e+08 3.45958658e+08 3.46132021e+08\n 3.46305384e+08 3.46420923e+08 3.46594286e+08 3.46767643e+08\n 3.46940952e+08 3.47114315e+08 3.47287678e+08 3.47460986e+08\n 3.47634350e+08 3.47807707e+08 3.47923246e+08 3.48096609e+08\n 3.48269923e+08 3.48443287e+08 3.48616637e+08 3.48790001e+08\n 3.48963315e+08 3.49136672e+08 3.49252217e+08 3.49425581e+08\n 3.49598931e+08 3.49772246e+08 3.49945609e+08 3.50118966e+08\n 3.50292281e+08 3.50465638e+08 3.50639001e+08 3.50754540e+08\n 3.50927903e+08 3.51101260e+08 3.51274574e+08 3.51447932e+08\n 3.51621295e+08 3.51794603e+08 3.51967966e+08 3.52141330e+08\n 3.52256868e+08 3.52430225e+08 3.52603540e+08 3.52776897e+08\n 3.52950260e+08 3.53123575e+08 3.53296932e+08 3.53470289e+08\n 3.53585834e+08 3.53759191e+08 3.53932554e+08 3.54105869e+08\n 3.54279226e+08 3.54452583e+08 3.54625897e+08 3.54799261e+08\n 3.54972618e+08 3.55088156e+08 3.55261520e+08 3.55434828e+08\n 3.55608191e+08 3.55781554e+08 3.55954863e+08 3.56128220e+08\n 3.56301583e+08 3.56417122e+08 3.56590485e+08 3.56763848e+08\n 3.56937150e+08 3.57110514e+08 3.57283877e+08 3.57457191e+08\n 3.57630548e+08 3.57803912e+08 3.57919451e+08 3.58092808e+08\n 3.58266122e+08 3.58439485e+08 3.58612842e+08 3.58786151e+08\n 3.58959514e+08 3.59132871e+08 3.59306185e+08 3.59421779e+08\n 3.59595136e+08 3.59768445e+08 3.59941808e+08 3.60115171e+08\n 3.60288479e+08 3.60461843e+08 3.60635200e+08 3.60750738e+08\n 3.60924102e+08 3.61097416e+08 3.61270773e+08 3.61444137e+08\n 3.61617445e+08 3.61790802e+08 3.61964165e+08 3.62137528e+08\n 3.62253067e+08 3.62426431e+08 3.62599739e+08 3.62773102e+08\n 3.62946459e+08 3.63119774e+08 3.63293137e+08 3.63466488e+08\n 3.63582033e+08 3.63755396e+08 3.63928753e+08 3.64102067e+08\n 3.64275431e+08 3.64448782e+08 3.64622096e+08 3.64795459e+08\n 3.64968823e+08 3.65084361e+08 3.65257718e+08 3.65431027e+08\n 3.65604390e+08 3.65777753e+08 3.65951068e+08 3.66124425e+08\n 3.66297782e+08 3.66413321e+08 3.66586684e+08 3.66760047e+08\n 3.66933362e+08 3.67106712e+08 3.67280076e+08 3.67453390e+08\n 3.67626753e+08 3.67800111e+08 3.67915656e+08 3.68089006e+08\n 3.68262321e+08 3.68435684e+08 3.68609041e+08 3.68782356e+08\n 3.68955713e+08 3.69129076e+08 3.69244615e+08 3.69417978e+08\n 3.69591341e+08 3.69764650e+08 3.69938007e+08 3.70111370e+08\n 3.70284678e+08 3.70458041e+08 3.70631405e+08 3.70746944e+08\n 3.70920301e+08 3.71093615e+08 3.71266972e+08 3.71440335e+08\n 3.71613650e+08 3.71787007e+08 3.71960364e+08 3.72133678e+08\n 3.72249272e+08 3.72422629e+08 3.72595944e+08 3.72769301e+08\n 3.72942658e+08 3.73115972e+08 3.73289336e+08 3.73462693e+08\n 3.73578231e+08 3.73751595e+08 3.73924903e+08 3.74098266e+08\n 3.74271630e+08 3.74444944e+08 3.74618295e+08 3.74791658e+08\n 3.74965021e+08 3.75080560e+08 3.75253923e+08 3.75427225e+08\n 3.75600589e+08 3.75773952e+08 3.75947266e+08 3.76120624e+08\n 3.76293987e+08 3.76409526e+08 3.76582883e+08 3.76756197e+08\n 3.76929560e+08 3.77102917e+08 3.77276275e+08 3.77449589e+08\n 3.77622952e+08 3.77796309e+08 3.77911854e+08 3.78085218e+08\n 3.78258520e+08 3.78431883e+08 3.78605246e+08 3.78778554e+08\n 3.78951918e+08 3.79125275e+08 3.79298589e+08 3.79414177e+08\n 3.79587540e+08 3.79760848e+08 3.79934212e+08 3.80107569e+08\n 3.80280877e+08 3.80454240e+08 3.80627604e+08 3.80743142e+08\n 3.80916506e+08 3.81089814e+08 3.81263177e+08 3.81436534e+08\n 3.81609849e+08 3.81783212e+08 3.81956569e+08 3.82129877e+08\n 3.82245471e+08 3.82418828e+08 3.82592143e+08 3.82765506e+08\n 3.82938857e+08 3.83112171e+08 3.83285534e+08 3.83458898e+08\n 3.83574436e+08 3.83747794e+08 3.83921108e+08 3.84094465e+08\n 3.84094465e+08]",
         "[ 7.5  0.   0.   0.   0.   0.   0.   0.   0.   0.   0.   0.   0.   0.\n  0.   0.   0.   0.   0.   0.   0.   0.   0.   0.   0.   0.   0.   0.\n  0.   0.   0.   0.   0.   0.   0.   0.   0.   0.   0.   0.   0.   0.\n  0.   0.   0.   0.   0.   0.   0.   0.   0.   0.   0.   0.   0.   0.\n  0.   0.   0.   0.   0.   0.   0.   0.   0.   0.   0.   0.   0.   0.\n  0.   0.   0.   0.   0.   0.   7.5  7.5  7.5  7.5  7.5  7.5  7.5  7.5\n  7.5  7.5  7.5  7.5  7.5  7.5  7.5  7.5  7.5  7.5  7.5  7.5  7.5  7.5\n  7.5  7.5  7.5  7.5  7.5  7.5  7.5  7.5  7.5  7.5  7.5  7.5  7.5  7.5\n  7.5  7.5  7.5  7.5  7.5  7.5  7.5  7.5  7.5  7.5  7.5  7.5  7.5  7.5\n  7.5  7.5  7.5  7.5  7.5  7.5  7.5  7.5  7.5  7.5  7.5  7.5  7.5  7.5\n  7.5  7.5  7.5  7.5  7.5  7.5  7.5  7.5  7.5  7.5  7.5 -7.5 -7.5 -7.5\n -7.5 -7.5 -7.5 -7.5 -7.5 -7.5 -7.5 -7.5 -7.5 -7.5 -7.5 -7.5 -7.5 -7.5\n -7.5 -7.5 -7.5 -7.5 -7.5 -7.5 -7.5 -7.5 -7.5 -7.5 -7.5 -7.5 -7.5 -7.5\n -7.5 -7.5 -7.5 -7.5 -7.5 -7.5 -7.5 -7.5 -7.5 -7.5 -7.5 -7.5 -7.5 -7.5\n -7.5 -7.5 -7.5 -7.5 -7.5 -7.5 -7.5 -7.5 -7.5 -7.5 -7.5 -7.5 -7.5 -7.5\n -7.5 -7.5 -7.5 -7.5 -7.5 -7.5 -7.5 -7.5 -7.5 -7.5 -7.5 -7.5 -7.5 -7.5\n -7.5 -7.5  0.   0.   0.   0.   0.   0.   0.   0.   0.   0.   0.   0.\n  0.   0.   0.   0.   0.   0.   0.   0.   0.   0.   0.   0.   0.   0.\n  0.   0.   0.   0.   0.   0.   0.   0.   0.   0.   0.   0.   0.   0.\n  0.   0.   0.   0.   0.   0.   0.   0.   0.   0.   0.   0.   0.   0.\n  0.   0.   0.   0.   0.   0.   0.   0.   0.   0.   0.   0.   0.   0.\n  0.   0.   0.   0.   0.   0.   0. ]",
         "[ 6.78208342  6.83307971  6.79241707  6.81132958  6.78933295  6.82401861\n  6.81734174  6.82586013  6.87661614  6.78979484  6.8113003   6.77656369\n  4.57799166  0.86985742 -0.68826023 -0.68568498 -0.75134794 -0.55774346\n -0.58913365 -0.63578739 -0.58665811 -0.56516975 -0.62354753 -0.62435064\n -0.61174469 -0.54210602 -0.56202537 -0.66071132 -0.63383815 -0.74875971\n -0.60936074 -0.63060413 -0.61320464 -0.70935118 -0.70809234 -0.67992356\n -0.54941947 -0.75310641 -0.66935857 -0.76867522 -0.55590854 -0.51914419\n -0.57313312 -0.54977184 -0.47442049 -0.45143176 -0.49486561 -0.48081721\n -0.51233243 -0.53605235 -0.51269245 -0.51154389 -0.47165962 -0.50802921\n -0.52188259 -0.50885165 -0.4452304  -0.45668858 -0.47365675 -0.49147717\n -0.5066232  -0.53315452 -0.45641551 -0.48992861 -0.5859069  -0.41577003\n -0.38787116 -0.49893997 -0.52317286 -0.48433812 -0.54206025 -0.42109507\n -0.42901381 -0.4776152  -0.49143896 -0.40069983 -0.46359039 -0.50008502\n -0.53539389 -0.44522544 -0.5091354  -0.52369072 -0.50046768 -0.39986181\n -0.40811975 -0.35228586 -0.4361868  -0.3896056  -0.46012127  2.42187975\n  5.11049375  6.37321354  6.4112974   6.46435714  6.56265693  6.61238402\n  6.56994375  6.56490519  6.58479648  6.54556625  6.67397187  6.62900285\n  6.50141215  6.49539584  6.8539429   6.7748198   6.93372877  6.89547377\n  6.83861176  6.90744271  6.90261714  6.84883687  6.95147037  6.79098422\n  6.90760971  6.89708774  6.74410424  6.84634016  6.92192398  6.8963015\n  6.86431381  6.87932854  6.75344629  6.78001354  6.85113945  6.8566344\n  6.885107    6.85092495  6.79455054  6.82024784  6.89340183  6.81080106\n  6.81435114  6.83356671  6.87526809  6.78197399  6.74171216  6.81452967\n  6.82437325  6.79358891  6.72784297  6.77319813  6.75846109  6.78453686\n  6.74754938  6.71987978  6.70825559  6.78373723  6.68989176  6.74409559\n  6.81994998  6.76159458  6.77364155  6.74387127  6.80821212  6.76335605\n  6.72644418  6.78113639  6.67383229  6.74608864  6.68054126  6.72254179\n  6.3855787   1.41202132 -4.3506428  -5.22119158 -5.30163587 -7.34005559\n -8.98326546 -9.04797969 -8.96152448 -8.89306912 -8.94481478 -8.90673352\n -9.06391495 -8.93379922 -9.0454005  -8.86141239 -8.93208537 -8.91472003\n -9.00211932 -8.93220387 -8.75056551 -8.94803702 -8.91809834 -8.75308918\n -8.9375268  -8.58955414 -8.80604506 -8.72211961 -8.83545405 -8.69855371\n -8.87837317 -8.93429812 -8.68084086 -8.8360629  -8.8510353  -8.68553222\n -8.55568552 -8.77702127 -8.5844023  -8.70748638 -8.72850188 -8.5755636\n -8.60177252 -8.68372002 -8.48604837 -8.80953963 -8.46750262 -8.62394084\n -8.88135451 -8.47399844 -8.65102605 -8.68042219 -8.65670703 -8.76100361\n -8.57932112 -8.68098334 -8.63791723 -8.42228559 -8.76114743 -8.68814506\n -8.65298656 -8.50722231 -8.66260407 -8.58351218 -8.56592282 -8.47842476\n -8.38782559 -8.62124943 -8.47284285 -8.37102256 -8.50220172 -8.34353921\n -8.44421423 -8.55844568 -8.29672791 -8.38914114 -6.57119392 -1.78879398\n -0.50002565 -0.2673366  -0.28573827 -0.21195151 -0.25693428 -0.26100018\n -0.28659261 -0.68211669 -0.62619927 -0.63829415 -0.77518953 -0.71473631\n -0.68479496 -0.64616069 -0.68899487 -0.70186592 -0.61011631 -0.74224831\n -0.77607974 -0.69489723 -0.80638031 -0.84134444 -0.74623087 -0.81916735\n -0.8200668  -0.87990703 -0.88216789 -0.82923484 -0.83612167 -0.83076126\n -0.77400147 -0.86427942 -0.86701197 -0.72120849 -0.70611612 -0.84809759\n -0.66743396 -0.83137428 -0.72438252 -0.82127024 -0.79508167 -0.78288382\n -0.81837333 -0.8351884  -0.87457519 -0.8232423  -0.72793909 -0.862395\n -0.74183148 -0.81079735 -0.79652163 -0.73592512 -0.70795399 -0.73267463\n -0.72252854 -0.77596124 -0.7168222  -0.80021875 -0.67529496 -0.67115797\n -0.67115797]",
         "0",
         "031924ff-ed34-49ed-b3d8-49d126b7635e_1"
        ]
       ],
       "shape": {
        "columns": 5,
        "rows": 5
       }
      },
      "text/html": [
       "<div>\n",
       "<style scoped>\n",
       "    .dataframe tbody tr th:only-of-type {\n",
       "        vertical-align: middle;\n",
       "    }\n",
       "\n",
       "    .dataframe tbody tr th {\n",
       "        vertical-align: top;\n",
       "    }\n",
       "\n",
       "    .dataframe thead th {\n",
       "        text-align: right;\n",
       "    }\n",
       "</style>\n",
       "<table border=\"1\" class=\"dataframe\">\n",
       "  <thead>\n",
       "    <tr style=\"text-align: right;\">\n",
       "      <th></th>\n",
       "      <th>time_step</th>\n",
       "      <th>stimulus</th>\n",
       "      <th>waveform</th>\n",
       "      <th>label</th>\n",
       "      <th>sample_id</th>\n",
       "    </tr>\n",
       "  </thead>\n",
       "  <tbody>\n",
       "    <tr>\n",
       "      <th>0</th>\n",
       "      <td>[379912444.0, 380085808.0, 380259165.0, 380432...</td>\n",
       "      <td>[7.5, 0.0, 0.0, 0.0, 0.0, 0.0, 0.0, 0.0, 0.0, ...</td>\n",
       "      <td>[9.0073499408603, 8.97694682659295, 9.02456875...</td>\n",
       "      <td>1</td>\n",
       "      <td>005ffe80-e748-446c-aadd-8003010a8b2d_1</td>\n",
       "    </tr>\n",
       "    <tr>\n",
       "      <th>1</th>\n",
       "      <td>[430685175.0, 430916307.0, 431089622.0, 431262...</td>\n",
       "      <td>[0.0, 0.0, 0.0, 0.0, 0.0, 0.0, 0.0, 0.0, 0.0, ...</td>\n",
       "      <td>[0.553386969631542, 0.512155042654665, 0.50304...</td>\n",
       "      <td>1</td>\n",
       "      <td>021960b7-3c30-4b94-9035-31726c62a363_0</td>\n",
       "    </tr>\n",
       "    <tr>\n",
       "      <th>2</th>\n",
       "      <td>[480724013.0, 480897327.0, 481070691.0, 481244...</td>\n",
       "      <td>[7.5, 0.0, 0.0, 0.0, 0.0, 0.0, 0.0, 0.0, 0.0, ...</td>\n",
       "      <td>[8.06913714477449, 8.0225840915495, 8.03021650...</td>\n",
       "      <td>0</td>\n",
       "      <td>021960b7-3c30-4b94-9035-31726c62a363_1</td>\n",
       "    </tr>\n",
       "    <tr>\n",
       "      <th>3</th>\n",
       "      <td>[284248046.0, 284479179.0, 284652542.0, 284825...</td>\n",
       "      <td>[0.0, 0.0, 0.0, 0.0, 0.0, 0.0, 0.0, 0.0, 0.0, ...</td>\n",
       "      <td>[-0.532891143703556, -0.67635504942753, -0.486...</td>\n",
       "      <td>0</td>\n",
       "      <td>031924ff-ed34-49ed-b3d8-49d126b7635e_0</td>\n",
       "    </tr>\n",
       "    <tr>\n",
       "      <th>4</th>\n",
       "      <td>[334286822.0, 334460185.0, 334633500.0, 334806...</td>\n",
       "      <td>[7.5, 0.0, 0.0, 0.0, 0.0, 0.0, 0.0, 0.0, 0.0, ...</td>\n",
       "      <td>[6.78208341865952, 6.83307971179946, 6.7924170...</td>\n",
       "      <td>0</td>\n",
       "      <td>031924ff-ed34-49ed-b3d8-49d126b7635e_1</td>\n",
       "    </tr>\n",
       "  </tbody>\n",
       "</table>\n",
       "</div>"
      ],
      "text/plain": [
       "                                           time_step  \\\n",
       "0  [379912444.0, 380085808.0, 380259165.0, 380432...   \n",
       "1  [430685175.0, 430916307.0, 431089622.0, 431262...   \n",
       "2  [480724013.0, 480897327.0, 481070691.0, 481244...   \n",
       "3  [284248046.0, 284479179.0, 284652542.0, 284825...   \n",
       "4  [334286822.0, 334460185.0, 334633500.0, 334806...   \n",
       "\n",
       "                                            stimulus  \\\n",
       "0  [7.5, 0.0, 0.0, 0.0, 0.0, 0.0, 0.0, 0.0, 0.0, ...   \n",
       "1  [0.0, 0.0, 0.0, 0.0, 0.0, 0.0, 0.0, 0.0, 0.0, ...   \n",
       "2  [7.5, 0.0, 0.0, 0.0, 0.0, 0.0, 0.0, 0.0, 0.0, ...   \n",
       "3  [0.0, 0.0, 0.0, 0.0, 0.0, 0.0, 0.0, 0.0, 0.0, ...   \n",
       "4  [7.5, 0.0, 0.0, 0.0, 0.0, 0.0, 0.0, 0.0, 0.0, ...   \n",
       "\n",
       "                                            waveform  label  \\\n",
       "0  [9.0073499408603, 8.97694682659295, 9.02456875...      1   \n",
       "1  [0.553386969631542, 0.512155042654665, 0.50304...      1   \n",
       "2  [8.06913714477449, 8.0225840915495, 8.03021650...      0   \n",
       "3  [-0.532891143703556, -0.67635504942753, -0.486...      0   \n",
       "4  [6.78208341865952, 6.83307971179946, 6.7924170...      0   \n",
       "\n",
       "                                sample_id  \n",
       "0  005ffe80-e748-446c-aadd-8003010a8b2d_1  \n",
       "1  021960b7-3c30-4b94-9035-31726c62a363_0  \n",
       "2  021960b7-3c30-4b94-9035-31726c62a363_1  \n",
       "3  031924ff-ed34-49ed-b3d8-49d126b7635e_0  \n",
       "4  031924ff-ed34-49ed-b3d8-49d126b7635e_1  "
      ]
     },
     "execution_count": 120,
     "metadata": {},
     "output_type": "execute_result"
    }
   ],
   "source": [
    "patient_data = pq.read_table('./waveform_model/labelled_data/patient_data_len_301.parquet')\n",
    "patient_data_df = patient_data.to_pandas()\n",
    "patient_data_df.head()"
   ]
  },
  {
   "cell_type": "code",
   "execution_count": null,
   "id": "68c33673",
   "metadata": {},
   "outputs": [],
   "source": [
    "def plot_confusion_matrix(y_true, y_pred):\n",
    "    \"\"\"\n",
    "    Plot confusion matrix\n",
    "    \"\"\"\n",
    "    cm = confusion_matrix(y_true, y_pred)\n",
    "    plt.figure(figsize=(10, 8))\n",
    "    sns.heatmap(cm, annot=True, fmt='d', cmap='Blues')\n",
    "    plt.xlabel('Predicted')\n",
    "    plt.ylabel('True')\n",
    "    plt.title('Confusion Matrix')\n",
    "    plt.show()"
   ]
  },
  {
   "cell_type": "code",
   "execution_count": null,
   "id": "da0365fd",
   "metadata": {},
   "outputs": [],
   "source": [
    "import numpy as np\n",
    "import pandas as pd\n",
    "from tensorflow import keras\n",
    "import os\n",
    "from sklearn.metrics import classification_report, confusion_matrix\n",
    "import seaborn as sns\n",
    "import matplotlib.pyplot as plt\n",
    "\n",
    "x_patient_list = patient_data_df.waveform \n",
    "X_patient_df = pd.DataFrame(x_patient_list.to_list())\n",
    "y_patient_list = patient_data_df.label\n",
    "Y_patient = to_categorical(y_patient_list)\n",
    "X_patient = X_patient_df.values.reshape((X_patient_df.shape[0], X_patient_df.shape[1], 1))\n",
    "X_patient.shape, Y_patient.shape\n",
    "print(\"Input shape:\", X_test.shape)\n",
    "\n",
    "model_path = './waveform_model/waveform_full_noised_model_2.keras'\n",
    "\n",
    "# Load model\n",
    "try:\n",
    "    model = keras.models.load_model(model_path)\n",
    "    print(\"Model loaded successfully\")\n",
    "except Exception as e:\n",
    "    print(f\"Error loading model: {e}\")\n",
    "\n",
    "\n",
    "# Make prediction\n",
    "y_pred = model.predict(X_test, batch_size=32)\n",
    "y_pred_classes = np.argmax(y_pred, axis=1)\n",
    "Y_patient_labels = np.argmax(Y_patient, axis=1)\n",
    "\n",
    "# Print classification report\n",
    "print(\"\\nClassification Report:\")\n",
    "print(classification_report(Y_patient_labels, y_pred_classes, \n",
    "                            target_names=['Normal', 'Hyper', 'Hypo']))\n",
    "\n",
    "# Plot confusion matrix\n",
    "plot_confusion_matrix(Y_patient_labels, y_pred_classes)\n",
    "\n",
    "# Print some example predictions\n",
    "print(\"\\nSample Predictions:\")\n",
    "for i in range(min(5, len(Y_patient))):\n",
    "    true_label = ['Normal', 'Hyper', 'Hypo'][Y_patient_labels[i]]\n",
    "    pred_label = ['Normal', 'Hyper', 'Hypo'][Y_patient_labels[i]]\n",
    "    print(f\"True: {true_label}, Predicted: {pred_label}\")"
   ]
  }
 ],
 "metadata": {
  "colab": {
   "collapsed_sections": [
    "P7gEpTEiUpuY",
    "dUPSzhttIbA_",
    "Wwh35J8VaNxn",
    "YqWbE0T6E7Vc"
   ],
   "provenance": []
  },
  "kernelspec": {
   "display_name": "venv_pcm",
   "language": "python",
   "name": "python3"
  },
  "language_info": {
   "codemirror_mode": {
    "name": "ipython",
    "version": 3
   },
   "file_extension": ".py",
   "mimetype": "text/x-python",
   "name": "python",
   "nbconvert_exporter": "python",
   "pygments_lexer": "ipython3",
   "version": "3.12.3"
  }
 },
 "nbformat": 4,
 "nbformat_minor": 5
}
