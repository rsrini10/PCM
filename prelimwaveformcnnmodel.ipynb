{
 "cells": [
  {
   "cell_type": "code",
   "execution_count": 1,
   "id": "b2279e86-9456-4dd2-a95c-15fe1275ac9c",
   "metadata": {
    "id": "b2279e86-9456-4dd2-a95c-15fe1275ac9c"
   },
   "outputs": [],
   "source": [
    "import pandas as pd\n",
    "import matplotlib.pyplot as plt\n",
    "import numpy as np\n",
    "import math\n",
    "import random\n",
    "import torch"
   ]
  },
  {
   "cell_type": "markdown",
   "id": "3b7a9564-5cf6-401b-8dd2-92f75887afc4",
   "metadata": {
    "id": "rbjKMLnk3L6G"
   },
   "source": [
    "### Fitting a fixed sqrt curve to saccade data from the paper to get a function for amplitude generation"
   ]
  },
  {
   "cell_type": "code",
   "execution_count": 3,
   "id": "6e38b5f2-28b5-4cde-9628-dcc47f343908",
   "metadata": {
    "id": "zGpvch8QUkHG"
   },
   "outputs": [],
   "source": [
    "#equation for the velocity-amplitude curve based on main sequence\n",
    "a_fs=412.256\n",
    "b_fs=49.036\n",
    "c_fs=5.000\n",
    "popt_fs = tuple([a_fs,b_fs,c_fs])\n",
    "\n",
    "#equation for vel-amp curve for amplitude <6 degrees\n",
    "a_exp = 368.93816447\n",
    "b_exp =0.49166436\n",
    "c_exp = 1.48726886\n",
    "popt_exp = tuple([a_exp,b_exp,c_exp])"
   ]
  },
  {
   "cell_type": "markdown",
   "id": "-l56enxRXzrv",
   "metadata": {
    "id": "-l56enxRXzrv"
   },
   "source": [
    "### GENERATING EQUATION FOR MAIN SEQUENCE"
   ]
  },
  {
   "cell_type": "code",
   "execution_count": 5,
   "id": "57e5UUM1ytle",
   "metadata": {
    "id": "57e5UUM1ytle"
   },
   "outputs": [],
   "source": [
    "import numpy as np\n",
    "import matplotlib.pyplot as plt\n",
    "from scipy.optimize import curve_fit\n",
    "\n",
    "def func_exp(x, a = a_exp, b = b_exp, c = c_exp):\n",
    "  return a * (1 - np.exp(-(x-b)/c))\n",
    "def func_sigmoid(x,a,b,c):\n",
    "  return a/(1+(b/x)**c)\n",
    "def func_fixsqrt(x,a = a_fs,b = b_fs,c = c_fs):\n",
    "  return a + b*(x-c)**0.5\n"
   ]
  },
  {
   "cell_type": "markdown",
   "id": "rbjKMLnk3L6G",
   "metadata": {
    "id": "rbjKMLnk3L6G"
   },
   "source": [
    "### Fitting a fixed sqrt curve to saccade data from the paper to get a function for amplitude generation"
   ]
  },
  {
   "cell_type": "code",
   "execution_count": 7,
   "id": "zGpvch8QUkHG",
   "metadata": {
    "id": "zGpvch8QUkHG"
   },
   "outputs": [],
   "source": [
    "#equation for the velocity-amplitude curve based on main sequence\n",
    "a_fs=412.256\n",
    "b_fs=49.036\n",
    "c_fs=5.000\n",
    "popt_fs = tuple([a_fs,b_fs,c_fs])\n",
    "\n",
    "#equation for vel-amp curve for amplitude <6 degrees\n",
    "a_exp = 368.93816447\n",
    "b_exp =0.49166436\n",
    "c_exp = 1.48726886\n",
    "popt_exp = tuple([a_exp,b_exp,c_exp])"
   ]
  },
  {
   "cell_type": "markdown",
   "id": "P7gEpTEiUpuY",
   "metadata": {
    "id": "P7gEpTEiUpuY",
    "jp-MarkdownHeadingCollapsed": true
   },
   "source": [
    "### Skip the curve fitting algorithm, the fitted equations are above"
   ]
  },
  {
   "cell_type": "code",
   "execution_count": 382,
   "id": "5J4BR6zcr3s6",
   "metadata": {
    "colab": {
     "base_uri": "https://localhost:8080/"
    },
    "id": "5J4BR6zcr3s6",
    "outputId": "e9474c5e-4c29-4b95-b201-50fae3c1bed9"
   },
   "outputs": [
    {
     "data": {
      "text/plain": [
       "60"
      ]
     },
     "execution_count": 382,
     "metadata": {},
     "output_type": "execute_result"
    }
   ],
   "source": [
    "ydata = np.random.uniform([340],[440],15)\n",
    "ydata = np.append(ydata,np.random.uniform([440],[550],15))\n",
    "ydata = np.append(ydata,np.random.uniform([500],[670],15))\n",
    "ydata = np.append(ydata, np.random.uniform([570],[700],15))\n",
    "len(ydata)\n"
   ]
  },
  {
   "cell_type": "code",
   "execution_count": 383,
   "id": "Y2_4nkl9uy8L",
   "metadata": {
    "colab": {
     "base_uri": "https://localhost:8080/"
    },
    "id": "Y2_4nkl9uy8L",
    "outputId": "01b45600-bb1f-48d3-dc71-eaacda83f20a"
   },
   "outputs": [
    {
     "data": {
      "text/plain": [
       "array([ 5,  5,  5,  5,  5,  5,  5,  5,  5,  5,  5,  5,  5,  5,  5, 10, 10,\n",
       "       10, 10, 10, 10, 10, 10, 10, 10, 10, 10, 10, 10, 10, 15, 15, 15, 15,\n",
       "       15, 15, 15, 15, 15, 15, 15, 15, 15, 15, 15, 20, 20, 20, 20, 20, 20,\n",
       "       20, 20, 20, 20, 20, 20, 20, 20, 20])"
      ]
     },
     "execution_count": 383,
     "metadata": {},
     "output_type": "execute_result"
    }
   ],
   "source": [
    "xdata = np.concatenate(([5]*15, [10]*15, [15]*15,[20]*15))\n",
    "xdata"
   ]
  },
  {
   "cell_type": "code",
   "execution_count": 384,
   "id": "p2coaJplQa0V",
   "metadata": {
    "id": "p2coaJplQa0V"
   },
   "outputs": [],
   "source": [
    "from scipy.optimize import curve_fit\n",
    "def func_exp(x, a, b, c):\n",
    "  return a * (1 - np.exp(-(x-b)/c))\n",
    "def func_sigmoid(x,a,b,c):\n",
    "  return a/(1+(b/x)**c)\n",
    "def func_fixsqrt(x,a,b,c):\n",
    "  return a + b*(x-c)**0.5"
   ]
  },
  {
   "cell_type": "code",
   "execution_count": 385,
   "id": "1HWvhCRivPYl",
   "metadata": {
    "colab": {
     "base_uri": "https://localhost:8080/"
    },
    "id": "1HWvhCRivPYl",
    "outputId": "c66b8e2e-0fe5-4bcd-cf25-35d06b2b5592"
   },
   "outputs": [
    {
     "name": "stderr",
     "output_type": "stream",
     "text": [
      "/var/folders/gs/947mbm613t7_7whyg959snch0000gn/T/ipykernel_13959/3726250257.py:7: RuntimeWarning: invalid value encountered in sqrt\n",
      "  return a + b*(x-c)**0.5\n",
      "/var/folders/gs/947mbm613t7_7whyg959snch0000gn/T/ipykernel_13959/3726250257.py:5: RuntimeWarning: invalid value encountered in power\n",
      "  return a/(1+(b/x)**c)\n"
     ]
    },
    {
     "ename": "NameError",
     "evalue": "name 'xy_2' is not defined",
     "output_type": "error",
     "traceback": [
      "\u001b[0;31m---------------------------------------------------------------------------\u001b[0m",
      "\u001b[0;31mNameError\u001b[0m                                 Traceback (most recent call last)",
      "Cell \u001b[0;32mIn[385], line 3\u001b[0m\n\u001b[1;32m      1\u001b[0m popt_fs, pcov_fs \u001b[38;5;241m=\u001b[39m curve_fit(func_fixsqrt, xdata, ydata) \u001b[38;5;66;03m#just based on ranges of velocity\u001b[39;00m\n\u001b[1;32m      2\u001b[0m popt_sig, pcov_sig \u001b[38;5;241m=\u001b[39m curve_fit(func_sigmoid, xdata, ydata)\n\u001b[0;32m----> 3\u001b[0m popt_fs2, pcov_fs2 \u001b[38;5;241m=\u001b[39m curve_fit(func_fixsqrt, xy_2\u001b[38;5;241m.\u001b[39mamp, xy_2\u001b[38;5;241m.\u001b[39mvel)\n",
      "\u001b[0;31mNameError\u001b[0m: name 'xy_2' is not defined"
     ]
    }
   ],
   "source": [
    "popt_fs, pcov_fs = curve_fit(func_fixsqrt, xdata, ydata) #just based on ranges of velocity\n",
    "popt_sig, pcov_sig = curve_fit(func_sigmoid, xdata, ydata)\n",
    "popt_fs2, pcov_fs2 = curve_fit(func_fixsqrt, xy_2.amp, xy_2.vel)  #using the data from the plot\n",
    "# popt_exp, pcov_exp = curve_fit(func_exp, xdata, ydata)"
   ]
  },
  {
   "cell_type": "code",
   "execution_count": null,
   "id": "5xrFoT0a4kI-",
   "metadata": {
    "colab": {
     "base_uri": "https://localhost:8080/",
     "height": 447
    },
    "id": "5xrFoT0a4kI-",
    "outputId": "7bc89c86-46cb-4fa6-b170-6b1450e9b6ae"
   },
   "outputs": [],
   "source": [
    "plt.scatter(xy.amp,xy.vel)\n",
    "plt.plot(xdata, func_fixsqrt(xdata, *popt_fs))\n",
    "# plt.plot(xdata, func_fixsqrt(xdata, *popt_fs2))\n",
    "ran_x2 = np.linspace(0.5,6,10) #amp < 6\n",
    "plt.plot(ran_x2, func_exp(ran_x2, *popt_exp))\n",
    "plt.scatter(xdata, ydata, c='#2073BC')\n",
    "# plt.label('fit: a=%5.3f, b=%5.3f, c=%5.3f' % tuple(popt_fs))\n",
    "# plt.title(\"comparing fits\")\n",
    "# plt.legend([\"fix sqrt\",\"original\" ])"
   ]
  },
  {
   "cell_type": "code",
   "execution_count": null,
   "id": "9q3YZmFyvtv7",
   "metadata": {
    "id": "9q3YZmFyvtv7"
   },
   "outputs": [],
   "source": [
    "print('Fix_sqrt: a=%5.3f, b=%5.3f, c=%5.3f' % tuple(popt_fs))"
   ]
  },
  {
   "cell_type": "markdown",
   "id": "y8qzbNFKUx3t",
   "metadata": {
    "id": "y8qzbNFKUx3t"
   },
   "source": [
    "ASSUMPTIONS\n"
   ]
  },
  {
   "cell_type": "markdown",
   "id": "neJ6T9JZaT73",
   "metadata": {
    "id": "neJ6T9JZaT73"
   },
   "source": [
    "1. Only 2 saccades - main and corrective\n",
    "2. Upper limit for hypermetria first saccade accuracy?\n",
    "3. %allowable error in the velocity ranges?\n",
    "4. Will the corrected saccade ever reach the target?"
   ]
  },
  {
   "cell_type": "markdown",
   "id": "dUPSzhttIbA_",
   "metadata": {
    "id": "dUPSzhttIbA_"
   },
   "source": [
    "#### For amplitude < 6 degree"
   ]
  },
  {
   "cell_type": "code",
   "execution_count": null,
   "id": "M20D2ymdMp-w",
   "metadata": {
    "id": "M20D2ymdMp-w"
   },
   "outputs": [],
   "source": [
    "# # Define the directory to the file\n",
    "# dir = '/content/xy_data_amp_less_than_6.txt'\n",
    "\n",
    "# # Open and read the file\n",
    "# with open(dir, 'r') as f:\n",
    "#     # Split each line, then convert each element to an integer\n",
    "#     matrix = [[float(value) for value in line.split()] for line in f]\n",
    "\n",
    "# columns = list(zip(*matrix))\n",
    "# xdata = columns[0]\n",
    "# ydata = columns[1]"
   ]
  },
  {
   "cell_type": "code",
   "execution_count": null,
   "id": "a4kgOdxANcDv",
   "metadata": {
    "colab": {
     "base_uri": "https://localhost:8080/"
    },
    "id": "a4kgOdxANcDv",
    "outputId": "6031a0d7-e174-4395-801b-e090dd37e97e"
   },
   "outputs": [],
   "source": [
    "popt_exp, pcov_exp = curve_fit(func_exp, xdata, ydata)"
   ]
  },
  {
   "cell_type": "code",
   "execution_count": null,
   "id": "x3VDrK9IIuqh",
   "metadata": {
    "id": "x3VDrK9IIuqh"
   },
   "outputs": [],
   "source": [
    "x = [np.arange(0,6,1)]\n",
    "plt.plot(x, func_exp(x, *popt_exp))\n",
    "plt.plot(xdata, ydata, 'bo')\n",
    "# plt.label('fit: a=%5.3f, b=%5.3f, c=%5.3f' % tuple(popt_fs))\n",
    "plt.title(\"comparing fits\")\n",
    "plt.legend([\"exp\",\"original\" ])\n",
    "plt.show()"
   ]
  },
  {
   "cell_type": "code",
   "execution_count": null,
   "id": "3f_A73fAIwhe",
   "metadata": {
    "id": "3f_A73fAIwhe"
   },
   "outputs": [],
   "source": [
    "print('Fix_exp: a=%5.3f, b=%5.3f, c=%5.3f' % tuple(popt_exp))"
   ]
  },
  {
   "cell_type": "markdown",
   "id": "Wwh35J8VaNxn",
   "metadata": {
    "id": "Wwh35J8VaNxn"
   },
   "source": [
    "### Laser"
   ]
  },
  {
   "cell_type": "code",
   "execution_count": 12,
   "id": "57d8c8d4-4587-49c8-8423-0503a89ff022",
   "metadata": {
    "id": "57d8c8d4-4587-49c8-8423-0503a89ff022"
   },
   "outputs": [],
   "source": [
    "left = [-15, -7.5, -10, -2.5]\n",
    "right = [15, 7.5, 10, 2.5]\n",
    "stim_time = [0,1.259, 2.513, 3.761, 5.009, 6.263, 7.511, 8.759, 9.999,10.5]"
   ]
  },
  {
   "cell_type": "code",
   "execution_count": 14,
   "id": "pFYovTC_yoLD",
   "metadata": {
    "id": "pFYovTC_yoLD"
   },
   "outputs": [],
   "source": [
    "#num = 1 or 2 to decide if the test starts from left side or right side\n",
    "def gen_target(left,right,num):\n",
    "  l2 = left\n",
    "  r2 = right\n",
    "  random.shuffle(l2)\n",
    "  random.shuffle(r2)\n",
    "  stimulus = [0]\n",
    "    # stimulus starts on the left side\n",
    "  if num == 1:\n",
    "    for i in range(len(l2)):\n",
    "      stimulus.append(l2[i])\n",
    "      stimulus.append(r2[i])\n",
    "    stimulus.append(r2[i])\n",
    "      # stimulus starts on the right side\n",
    "  else:\n",
    "    for i in range(len(r2)):\n",
    "      stimulus.append(r2[i])\n",
    "      stimulus.append(l2[i])\n",
    "    stimulus.append(l2[i])\n",
    "  return stimulus"
   ]
  },
  {
   "cell_type": "markdown",
   "id": "08ba3edf-2005-4889-af1e-cd80a8925f5b",
   "metadata": {},
   "source": [
    "### Stimulus starting on left (1)"
   ]
  },
  {
   "cell_type": "code",
   "execution_count": 17,
   "id": "d48bced3-a27c-4af5-bcc4-487edbda6c8b",
   "metadata": {},
   "outputs": [
    {
     "data": {
      "text/plain": [
       "[<matplotlib.lines.Line2D at 0x14d9db2f0>]"
      ]
     },
     "execution_count": 17,
     "metadata": {},
     "output_type": "execute_result"
    },
    {
     "data": {
      "image/png": "[encoded data removed]",
      "text/plain": [
       "<Figure size 640x480 with 1 Axes>"
      ]
     },
     "metadata": {},
     "output_type": "display_data"
    }
   ],
   "source": [
    "stimulus = gen_target(left,right,1)\n",
    "plt.plot(stim_time, stimulus)"
   ]
  },
  {
   "cell_type": "markdown",
   "id": "48bb22f4-a137-42c3-b158-6f272745fe65",
   "metadata": {},
   "source": [
    "### Stimulus starting on right (not equal to 1)"
   ]
  },
  {
   "cell_type": "code",
   "execution_count": 20,
   "id": "-dcKD8ZU0xdU",
   "metadata": {
    "colab": {
     "base_uri": "https://localhost:8080/"
    },
    "id": "-dcKD8ZU0xdU",
    "outputId": "cf607e71-6901-4a01-a4cd-e20a68ef69e5"
   },
   "outputs": [
    {
     "data": {
      "text/plain": [
       "[<matplotlib.lines.Line2D at 0x14dda7110>]"
      ]
     },
     "execution_count": 20,
     "metadata": {},
     "output_type": "execute_result"
    },
    {
     "data": {
      "image/png": "[encoded data removed]",
      "text/plain": [
       "<Figure size 640x480 with 1 Axes>"
      ]
     },
     "metadata": {},
     "output_type": "display_data"
    }
   ],
   "source": [
    "stimulus = gen_target(left,right,0)\n",
    "plt.plot(stim_time, stimulus)"
   ]
  },
  {
   "cell_type": "code",
   "execution_count": 22,
   "id": "WqCh770jp6Bt",
   "metadata": {
    "id": "WqCh770jp6Bt"
   },
   "outputs": [],
   "source": [
    "reconstructed_time=[0,1.259,1.260,2.513,2.514,3.761,3.762,5.009,5.010,6.263,6.264,7.511,7.512,8.759, 8.760, 9.999,10.000,10.5]\n",
    "def gen_reconstructed_laser(stimulus):\n",
    "  stim = stimulus[:-1]\n",
    "  reconstructed_laser = [val for val in stim for _ in (0, 1)]\n",
    "  return reconstructed_laser"
   ]
  },
  {
   "cell_type": "code",
   "execution_count": 24,
   "id": "95b44173-9802-4d96-964a-1c0b32fb0b00",
   "metadata": {},
   "outputs": [
    {
     "data": {
      "text/html": [
       "<div>\n",
       "<style scoped>\n",
       "    .dataframe tbody tr th:only-of-type {\n",
       "        vertical-align: middle;\n",
       "    }\n",
       "\n",
       "    .dataframe tbody tr th {\n",
       "        vertical-align: top;\n",
       "    }\n",
       "\n",
       "    .dataframe thead th {\n",
       "        text-align: right;\n",
       "    }\n",
       "</style>\n",
       "<table border=\"1\" class=\"dataframe\">\n",
       "  <thead>\n",
       "    <tr style=\"text-align: right;\">\n",
       "      <th></th>\n",
       "      <th>Time</th>\n",
       "      <th>Amplitude</th>\n",
       "    </tr>\n",
       "  </thead>\n",
       "  <tbody>\n",
       "    <tr>\n",
       "      <th>0</th>\n",
       "      <td>0.000</td>\n",
       "      <td>0.0</td>\n",
       "    </tr>\n",
       "    <tr>\n",
       "      <th>1</th>\n",
       "      <td>1.259</td>\n",
       "      <td>0.0</td>\n",
       "    </tr>\n",
       "    <tr>\n",
       "      <th>2</th>\n",
       "      <td>1.260</td>\n",
       "      <td>7.5</td>\n",
       "    </tr>\n",
       "    <tr>\n",
       "      <th>3</th>\n",
       "      <td>2.513</td>\n",
       "      <td>7.5</td>\n",
       "    </tr>\n",
       "    <tr>\n",
       "      <th>4</th>\n",
       "      <td>2.514</td>\n",
       "      <td>-2.5</td>\n",
       "    </tr>\n",
       "  </tbody>\n",
       "</table>\n",
       "</div>"
      ],
      "text/plain": [
       "    Time  Amplitude\n",
       "0  0.000        0.0\n",
       "1  1.259        0.0\n",
       "2  1.260        7.5\n",
       "3  2.513        7.5\n",
       "4  2.514       -2.5"
      ]
     },
     "execution_count": 24,
     "metadata": {},
     "output_type": "execute_result"
    }
   ],
   "source": [
    "reconst_laser = gen_reconstructed_laser(stimulus)\n",
    "reconstruction = pd.DataFrame([reconstructed_time,reconst_laser]).T\n",
    "reconstruction.columns = [\"Time\",\"Amplitude\"]\n",
    "reconstruction.head()"
   ]
  },
  {
   "cell_type": "markdown",
   "id": "192d889c-fc16-4db4-8af7-86558ef16448",
   "metadata": {},
   "source": [
    "### Target Sequence"
   ]
  },
  {
   "cell_type": "code",
   "execution_count": 27,
   "id": "pZVNq4LNqodv",
   "metadata": {
    "colab": {
     "base_uri": "https://localhost:8080/"
    },
    "id": "pZVNq4LNqodv",
    "outputId": "26711467-d149-414f-8c8e-409e35b1b416"
   },
   "outputs": [
    {
     "data": {
      "text/plain": [
       "<matplotlib.collections.PathCollection at 0x14d9db2c0>"
      ]
     },
     "execution_count": 27,
     "metadata": {},
     "output_type": "execute_result"
    },
    {
     "data": {
      "image/png": "[encoded data removed]",
      "text/plain": [
       "<Figure size 640x480 with 1 Axes>"
      ]
     },
     "metadata": {},
     "output_type": "display_data"
    }
   ],
   "source": [
    "plt.plot(reconstructed_time,gen_reconstructed_laser(stimulus))\n",
    "plt.scatter(stim_time, stimulus)"
   ]
  },
  {
   "cell_type": "markdown",
   "id": "BVt8IWnRYTqJ",
   "metadata": {
    "id": "BVt8IWnRYTqJ"
   },
   "source": [
    "## Generating the saccades"
   ]
  },
  {
   "cell_type": "markdown",
   "id": "YqWbE0T6E7Vc",
   "metadata": {
    "id": "YqWbE0T6E7Vc"
   },
   "source": [
    "### Functions to produce latency, velocity and amplitude"
   ]
  },
  {
   "cell_type": "code",
   "execution_count": 31,
   "id": "pOiYNWjCyAfs",
   "metadata": {
    "id": "pOiYNWjCyAfs"
   },
   "outputs": [],
   "source": [
    "#using this set of values for velocity ranges for specific angles\n",
    "\n",
    "##UPDATE: CANNOT USE A FIXED AMPLITUDE BECAUSE THE AMP VARIES WITH THE ACCURACY\n",
    "# def gen_velocity(amplitude):\n",
    "#   amplitude = np.abs(amplitude)\n",
    "#   if amplitude ==5:\n",
    "#     return (np.random.uniform(260,440))\n",
    "#   elif amplitude == 10:\n",
    "#     return (np.random.uniform(400,600))\n",
    "#   elif amplitude == 15:\n",
    "#     return (np.random.uniform(500,670))\n",
    "#   elif amplitude == 17.5:\n",
    "#     return (np.random.uniform(4500,630))\n",
    "#   elif amplitude == 20:\n",
    "#     return (np.random.uniform(570,760))\n",
    "#   elif amplitude == 22.5:\n",
    "#     return (np.random.uniform(610,770))\n",
    "#   elif amplitude == 25:\n",
    "#     return (np.random.uniform(650,810))\n",
    "#   elif amplitude == 30:\n",
    "#     return (np.random.uniform(700,850))\n",
    "\n",
    "#generate the velocity for the ALL saccade\n",
    "def gen_velocity(amplitude):\n",
    "  # print(\"input amp\", amplitude)\n",
    "  amplitude = np.abs(amplitude)\n",
    "  if amplitude <= 6:\n",
    "  # vel = func_exp(amplitude, *popt_exp)\n",
    "      vel = func_exp(amplitude,a_exp,b_exp,c_exp)\n",
    "  else:\n",
    "      vel = func_fixsqrt(amplitude,a_fs,b_fs,c_fs) + np.random.uniform(0,15)*(-1)**np.random.randint(2)\n",
    "  # print(vel)\n",
    "  return vel\n",
    "\n",
    "#generate the latency for a saccade for each subject\n",
    "def gen_latency(subject):\n",
    "    # normal subject latency parameters\n",
    "    if subject == \"N\":\n",
    "      return np.random.uniform(0.1,0.200)\n",
    "    # abnormal subject latency range\n",
    "    else:\n",
    "      return np.random.uniform(0.1,0.2) #for a first pass we are only modeling changes in accuracy\n",
    "\n",
    "#generate the latency for the correcting saccade\n",
    "def gen_latency_correcting(subject, prev_lat):\n",
    "    if subject == \"N\":\n",
    "      return np.random.uniform(0.050,0.15)\n",
    "    else:\n",
    "      return np.random.uniform(0.050,0.15) #for a first pass we are only modeling changes in accuracy\n",
    "\n",
    "#generate accuracy for the saccade\n",
    "def gen_accuracy(subject, condition, sac_seq):\n",
    "# normal subject accuracy range\n",
    "  if subject == \"N\":\n",
    "    if sac_seq == \"P\":\n",
    "      # return np.random.uniform(0.70,1.20)\n",
    "      return 1\n",
    "    else: #correcting saccade\n",
    "      return 1\n",
    "# abnormal subject accuracy range\n",
    "  else: #abnormal saccade\n",
    "    if condition == \"hyper\":\n",
    "    # initial shift\n",
    "      if sac_seq == \"P\":\n",
    "        return np.random.uniform(1.1,1.5) #what's the upper limit?\n",
    "      else: #corrective saccade\n",
    "        return np.random.uniform(1.00,1.1)\n",
    "    else: #hypometria\n",
    "    # initial shift\n",
    "      if sac_seq == \"P\":\n",
    "        return np.random.uniform(0.20,0.70)\n",
    "      else: #corrective saccade\n",
    "        return np.random.uniform(0.90,1)"
   ]
  },
  {
   "cell_type": "markdown",
   "id": "w4bhHCYsFIOD",
   "metadata": {
    "id": "w4bhHCYsFIOD"
   },
   "source": [
    "### Normal Waveform"
   ]
  },
  {
   "cell_type": "code",
   "execution_count": 34,
   "id": "7xTpgcg__8n9",
   "metadata": {
    "id": "7xTpgcg__8n9"
   },
   "outputs": [],
   "source": [
    "def gen_waveform(stimulus, subject, condition, num):\n",
    "  wave = [0, 0]\n",
    "  time = [0, 1.259]\n",
    "  main_seq = []\n",
    "  for idx in range(len(stimulus)-1):  # Avoids out-of-range issues with stimulus[idx+1]\n",
    "      # First time point: Start of the saccade (stim start + latency)\n",
    "      lat = gen_latency(subject)\n",
    "      time.append(time[-1] + lat)  # Appends new latency time\n",
    "      wave.append(wave[-1])   # Appends current stimulus level\n",
    "\n",
    "      # print(\"Step 1:\", time[-4:], wave[-4:])\n",
    "\n",
    "      # Second point: First saccade amplitude\n",
    "      # amplitude change\n",
    "      amp = gen_accuracy(subject, condition, \"P\") * stimulus[idx + 1] - wave[-1]\n",
    "      wave.append(amp + wave[-1])  # Amplitude added to last wave point\n",
    "      # generate velocity\n",
    "      vel = gen_velocity(amp)\n",
    "      time.append(time[-1] + np.abs(amp / vel))  # Time for saccade based on velocity\n",
    "      main_seq.append([vel,amp])\n",
    "      # print(\"Step 2:\", amp, vel, time[-4:], wave[-4:])\n",
    "\n",
    "      # Hold the saccade\n",
    "      lat2 = gen_latency_correcting(subject, lat)\n",
    "      time.append(time[-1] + lat2)  # Time after latency correction\n",
    "      wave.append(wave[-1])  # Holds at current amplitude\n",
    "      # print(\"Step 3:\", lat2, time[-4:], wave[-4:])\n",
    "\n",
    "      # Third point: Corrective saccade\n",
    "      amp_c = gen_accuracy(subject, condition, \"C\") * stimulus[idx + 1] - amp\n",
    "      vel_c = gen_velocity(amp_c)\n",
    "      time.append(time[-1] + np.abs(amp_c / vel_c))  # Time for corrective saccade\n",
    "      wave.append(amp_c + amp)  # New amplitude after corrective saccade\n",
    "      main_seq.append([vel_c,amp_c])\n",
    "      # print(\"Step 4:\", amp_c, amp, vel_c, time[-1], time[-4:], wave[-4:])\n",
    "\n",
    "      # Hold the corrective saccade\n",
    "      if idx >= len(stimulus) - 3:  # Ensure we don’t exceed `stimulus` length\n",
    "          break\n",
    "      final_amp = wave[-1]  # Hold at current amplitude for final correction\n",
    "      time.append(stim_time[idx + 2])  # Appends the next stimulation time\n",
    "      wave.append(final_amp)  # Append final amplitude\n",
    "  time.append(10.5)\n",
    "  wave.append(wave[-1])\n",
    "      # print(\"Step 5:\", final_amp, stim_time[idx + 2], time[-4:], wave[-4:])\n",
    "  return time, wave, main_seq"
   ]
  },
  {
   "cell_type": "code",
   "execution_count": 36,
   "id": "nGWSk2WRiXW1",
   "metadata": {
    "colab": {
     "base_uri": "https://localhost:8080/"
    },
    "id": "nGWSk2WRiXW1",
    "outputId": "e07d0fb1-7172-45eb-8616-8ea2ddd685b0"
   },
   "outputs": [
    {
     "data": {
      "text/plain": [
       "Text(0.5, 1.0, 'Normal Saccade')"
      ]
     },
     "execution_count": 36,
     "metadata": {},
     "output_type": "execute_result"
    },
    {
     "data": {
      "image/png": "[encoded data removed]",
      "text/plain": [
       "<Figure size 640x480 with 1 Axes>"
      ]
     },
     "metadata": {},
     "output_type": "display_data"
    }
   ],
   "source": [
    "stimulus = gen_target(left,right,1)\n",
    "time, wave, main_seq = gen_waveform(stimulus,\"N\",\"none\",0)\n",
    "plt.plot(reconstructed_time,gen_reconstructed_laser(stimulus))\n",
    "plt.plot(time, wave)\n",
    "plt.legend([\"stimulus\",\"wave\"])\n",
    "plt.ylabel(\"Amplitude\")\n",
    "plt.xlabel(\"Time\")\n",
    "plt.title(\"Normal Saccade\")"
   ]
  },
  {
   "cell_type": "code",
   "execution_count": 38,
   "id": "0dbfd9e6-83f9-47d1-897f-8b410111aed6",
   "metadata": {},
   "outputs": [
    {
     "data": {
      "text/html": [
       "<div>\n",
       "<style scoped>\n",
       "    .dataframe tbody tr th:only-of-type {\n",
       "        vertical-align: middle;\n",
       "    }\n",
       "\n",
       "    .dataframe tbody tr th {\n",
       "        vertical-align: top;\n",
       "    }\n",
       "\n",
       "    .dataframe thead th {\n",
       "        text-align: right;\n",
       "    }\n",
       "</style>\n",
       "<table border=\"1\" class=\"dataframe\">\n",
       "  <thead>\n",
       "    <tr style=\"text-align: right;\">\n",
       "      <th></th>\n",
       "      <th>Time</th>\n",
       "      <th>Amplitude</th>\n",
       "    </tr>\n",
       "  </thead>\n",
       "  <tbody>\n",
       "    <tr>\n",
       "      <th>0</th>\n",
       "      <td>0.000</td>\n",
       "      <td>0.0</td>\n",
       "    </tr>\n",
       "    <tr>\n",
       "      <th>1</th>\n",
       "      <td>1.259</td>\n",
       "      <td>0.0</td>\n",
       "    </tr>\n",
       "    <tr>\n",
       "      <th>2</th>\n",
       "      <td>1.260</td>\n",
       "      <td>-10.0</td>\n",
       "    </tr>\n",
       "    <tr>\n",
       "      <th>3</th>\n",
       "      <td>2.513</td>\n",
       "      <td>-10.0</td>\n",
       "    </tr>\n",
       "    <tr>\n",
       "      <th>4</th>\n",
       "      <td>2.514</td>\n",
       "      <td>2.5</td>\n",
       "    </tr>\n",
       "  </tbody>\n",
       "</table>\n",
       "</div>"
      ],
      "text/plain": [
       "    Time  Amplitude\n",
       "0  0.000        0.0\n",
       "1  1.259        0.0\n",
       "2  1.260      -10.0\n",
       "3  2.513      -10.0\n",
       "4  2.514        2.5"
      ]
     },
     "execution_count": 38,
     "metadata": {},
     "output_type": "execute_result"
    }
   ],
   "source": [
    "reconst_laser = gen_reconstructed_laser(stimulus)\n",
    "reconstruction = pd.DataFrame([reconstructed_time,reconst_laser]).T\n",
    "reconstruction.columns = [\"Time\",\"Amplitude\"]\n",
    "reconstruction.head()"
   ]
  },
  {
   "cell_type": "code",
   "execution_count": 40,
   "id": "cc21917a-8d30-44fb-a1a9-4ec1f3913dce",
   "metadata": {},
   "outputs": [
    {
     "data": {
      "text/html": [
       "<div>\n",
       "<style scoped>\n",
       "    .dataframe tbody tr th:only-of-type {\n",
       "        vertical-align: middle;\n",
       "    }\n",
       "\n",
       "    .dataframe tbody tr th {\n",
       "        vertical-align: top;\n",
       "    }\n",
       "\n",
       "    .dataframe thead th {\n",
       "        text-align: right;\n",
       "    }\n",
       "</style>\n",
       "<table border=\"1\" class=\"dataframe\">\n",
       "  <thead>\n",
       "    <tr style=\"text-align: right;\">\n",
       "      <th></th>\n",
       "      <th>Time</th>\n",
       "      <th>Amplitude</th>\n",
       "    </tr>\n",
       "  </thead>\n",
       "  <tbody>\n",
       "    <tr>\n",
       "      <th>0</th>\n",
       "      <td>0.000000</td>\n",
       "      <td>0.0</td>\n",
       "    </tr>\n",
       "    <tr>\n",
       "      <th>1</th>\n",
       "      <td>1.259000</td>\n",
       "      <td>0.0</td>\n",
       "    </tr>\n",
       "    <tr>\n",
       "      <th>2</th>\n",
       "      <td>1.410294</td>\n",
       "      <td>0.0</td>\n",
       "    </tr>\n",
       "    <tr>\n",
       "      <th>3</th>\n",
       "      <td>1.429953</td>\n",
       "      <td>-10.0</td>\n",
       "    </tr>\n",
       "    <tr>\n",
       "      <th>4</th>\n",
       "      <td>1.552812</td>\n",
       "      <td>-10.0</td>\n",
       "    </tr>\n",
       "  </tbody>\n",
       "</table>\n",
       "</div>"
      ],
      "text/plain": [
       "       Time  Amplitude\n",
       "0  0.000000        0.0\n",
       "1  1.259000        0.0\n",
       "2  1.410294        0.0\n",
       "3  1.429953      -10.0\n",
       "4  1.552812      -10.0"
      ]
     },
     "execution_count": 40,
     "metadata": {},
     "output_type": "execute_result"
    }
   ],
   "source": [
    "patient = pd.DataFrame([time,wave]).T\n",
    "patient.columns = [\"Time\",\"Amplitude\"]\n",
    "patient.head()"
   ]
  },
  {
   "cell_type": "code",
   "execution_count": 42,
   "id": "f50353ce-209a-4493-8489-dcfb580d232f",
   "metadata": {},
   "outputs": [
    {
     "data": {
      "text/html": [
       "<div>\n",
       "<style scoped>\n",
       "    .dataframe tbody tr th:only-of-type {\n",
       "        vertical-align: middle;\n",
       "    }\n",
       "\n",
       "    .dataframe tbody tr th {\n",
       "        vertical-align: top;\n",
       "    }\n",
       "\n",
       "    .dataframe thead th {\n",
       "        text-align: right;\n",
       "    }\n",
       "</style>\n",
       "<table border=\"1\" class=\"dataframe\">\n",
       "  <thead>\n",
       "    <tr style=\"text-align: right;\">\n",
       "      <th></th>\n",
       "      <th>Time</th>\n",
       "      <th>Stimulus</th>\n",
       "      <th>Patient</th>\n",
       "    </tr>\n",
       "  </thead>\n",
       "  <tbody>\n",
       "    <tr>\n",
       "      <th>0</th>\n",
       "      <td>0.000000</td>\n",
       "      <td>0.0</td>\n",
       "      <td>0.0</td>\n",
       "    </tr>\n",
       "    <tr>\n",
       "      <th>1</th>\n",
       "      <td>1.259000</td>\n",
       "      <td>0.0</td>\n",
       "      <td>0.0</td>\n",
       "    </tr>\n",
       "    <tr>\n",
       "      <th>2</th>\n",
       "      <td>1.260000</td>\n",
       "      <td>-10.0</td>\n",
       "      <td>0.0</td>\n",
       "    </tr>\n",
       "    <tr>\n",
       "      <th>3</th>\n",
       "      <td>1.410294</td>\n",
       "      <td>-10.0</td>\n",
       "      <td>0.0</td>\n",
       "    </tr>\n",
       "    <tr>\n",
       "      <th>4</th>\n",
       "      <td>1.429953</td>\n",
       "      <td>-10.0</td>\n",
       "      <td>-10.0</td>\n",
       "    </tr>\n",
       "  </tbody>\n",
       "</table>\n",
       "</div>"
      ],
      "text/plain": [
       "       Time  Stimulus  Patient\n",
       "0  0.000000       0.0      0.0\n",
       "1  1.259000       0.0      0.0\n",
       "2  1.260000     -10.0      0.0\n",
       "3  1.410294     -10.0      0.0\n",
       "4  1.429953     -10.0    -10.0"
      ]
     },
     "execution_count": 42,
     "metadata": {},
     "output_type": "execute_result"
    }
   ],
   "source": [
    "combined_data = pd.merge(reconstruction,patient,how = 'outer',on = 'Time')\n",
    "combined_data.columns = ['Time','Stimulus','Patient']\n",
    "combined_data.interpolate(method='linear').head()"
   ]
  },
  {
   "cell_type": "markdown",
   "id": "naUSsKtuCq4O",
   "metadata": {
    "id": "naUSsKtuCq4O"
   },
   "source": [
    "### Abnormal Saccade"
   ]
  },
  {
   "cell_type": "code",
   "execution_count": 45,
   "id": "Lvoij57FbPp6",
   "metadata": {
    "id": "Lvoij57FbPp6"
   },
   "outputs": [],
   "source": [
    "#trial code\n",
    "wave = [0, 0]\n",
    "time = [0, 1.259]\n",
    "\n",
    "for idx in range(len(stimulus)-1):  # Avoids out-of-range issues with stimulus[idx+1]\n",
    "    # First time point: Start of the saccade (stim start + latency)\n",
    "    lat = gen_latency(\"A\")\n",
    "    time.append(time[-1] + lat)  # Appends new latency time\n",
    "    wave.append(wave[-1])   # Appends current stimulus level\n",
    "    # print(\"Step 1:\", time[-4:], wave[-4:])\n",
    "\n",
    "    # Second point: First saccade amplitude\n",
    "    amp = gen_accuracy(\"A\", \"hyper\", \"P\") * stimulus[idx + 1] - wave[-1]\n",
    "    wave.append(amp + wave[-1])  # Amplitude added to last wave point\n",
    "    vel = gen_velocity(amp)\n",
    "    time.append(time[-1] + np.abs(amp / vel))  # Time for saccade based on velocity\n",
    "    # print(\"Step 2:\", amp, vel, time[-4:], wave[-4:])\n",
    "\n",
    "    # Hold the saccade\n",
    "    lat2 = gen_latency_correcting(\"N\", lat)\n",
    "    time.append(time[-1] + lat2)  # Time after latency correction\n",
    "    wave.append(wave[-1])  # Holds at current amplitude\n",
    "    # print(\"Step 3:\", lat2, time[-4:], wave[-4:])\n",
    "\n",
    "    # Third point: Corrective saccade\n",
    "    amp_c = gen_accuracy(\"A\", \"hyper\", \"C\") * stimulus[idx + 1] - amp\n",
    "    vel_c = gen_velocity(amp_c)\n",
    "    time.append(time[-1] + np.abs(amp_c / vel_c))  # Time for corrective saccade\n",
    "    wave.append(amp_c + amp)  # New amplitude after corrective saccade\n",
    "    # print(\"Step 4:\", amp_c, amp, vel_c, time[-1], time[-4:], wave[-4:])\n",
    "\n",
    "    # Hold the corrective saccade\n",
    "    if idx >= len(stimulus) - 2:  # Ensure we don’t exceed `stimulus` length\n",
    "      break\n",
    "    final_amp = wave[-1]  # Hold at current amplitude for final correction\n",
    "    time.append(stim_time[idx + 2])  # Appends the next stimulation time\n",
    "    wave.append(final_amp)  # Append final amplitude\n",
    "    # print(\"Step 5:\", final_amp, stim_time[idx + 2], time[-4:], wave[-4:])\n"
   ]
  },
  {
   "cell_type": "markdown",
   "id": "hhwQBmPFWZu2",
   "metadata": {
    "id": "hhwQBmPFWZu2"
   },
   "source": [
    "Checking if the 'gen_waveform' function works well for abnormal saccades"
   ]
  },
  {
   "cell_type": "code",
   "execution_count": 48,
   "id": "ahexjezPWNyP",
   "metadata": {
    "colab": {
     "base_uri": "https://localhost:8080/",
     "height": 447
    },
    "id": "ahexjezPWNyP",
    "outputId": "5f295980-f217-43f9-9ef6-3653317c80e4"
   },
   "outputs": [
    {
     "data": {
      "text/plain": [
       "Text(0.5, 1.0, 'Biateral Hypometric Saccades')"
      ]
     },
     "execution_count": 48,
     "metadata": {},
     "output_type": "execute_result"
    },
    {
     "data": {
      "image/png": "[encoded data removed]",
      "text/plain": [
       "<Figure size 640x480 with 1 Axes>"
      ]
     },
     "metadata": {},
     "output_type": "display_data"
    }
   ],
   "source": [
    "#hypometria\n",
    "stimulus = gen_target(left,right,1)\n",
    "time, wave, main_seq = gen_waveform(stimulus,\"A\",\"hypo\",3)\n",
    "plt.plot(time, wave)\n",
    "plt.plot(reconstructed_time,gen_reconstructed_laser(stimulus))\n",
    "plt.legend([\"stimulus\",\"wave\"])\n",
    "plt.ylabel(\"Amplitude\")\n",
    "plt.xlabel(\"Time\")\n",
    "plt.title(\"Biateral Hypometric Saccades\")"
   ]
  },
  {
   "cell_type": "code",
   "execution_count": 50,
   "id": "4ABYQjpdDBqF",
   "metadata": {
    "colab": {
     "base_uri": "https://localhost:8080/",
     "height": 447
    },
    "id": "4ABYQjpdDBqF",
    "outputId": "fc550d7f-c17f-463b-8ee0-1a32b656bf61",
    "scrolled": true
   },
   "outputs": [
    {
     "data": {
      "text/plain": [
       "Text(0.5, 1.0, 'Biateral Hypermetric Saccades')"
      ]
     },
     "execution_count": 50,
     "metadata": {},
     "output_type": "execute_result"
    },
    {
     "data": {
      "image/png": "[encoded data removed]",
      "text/plain": [
       "<Figure size 640x480 with 1 Axes>"
      ]
     },
     "metadata": {},
     "output_type": "display_data"
    }
   ],
   "source": [
    "#hypermetria\n",
    "stimulus = gen_target(left,right,1)\n",
    "time, wave, main_seq = gen_waveform(stimulus,\"A\",\"hyper\",1)\n",
    "plt.plot(time, wave)\n",
    "plt.plot(reconstructed_time,gen_reconstructed_laser(stimulus))\n",
    "plt.legend([\"stimulus\",\"wave\"])\n",
    "plt.ylabel(\"Amplitude\")\n",
    "plt.xlabel(\"Time\")\n",
    "plt.title(\"Biateral Hypermetric Saccades\")"
   ]
  },
  {
   "cell_type": "markdown",
   "id": "vF9MtLh7t2eV",
   "metadata": {
    "id": "vF9MtLh7t2eV"
   },
   "source": [
    "## Waveforms for unilateral contra and ipsi"
   ]
  },
  {
   "cell_type": "markdown",
   "id": "jFvDJONkv-tJ",
   "metadata": {
    "id": "jFvDJONkv-tJ"
   },
   "source": [
    "could add the if condition to the above gen waveform function but -"
   ]
  },
  {
   "cell_type": "code",
   "execution_count": 54,
   "id": "3vUEWS8Mt2D9",
   "metadata": {
    "id": "3vUEWS8Mt2D9"
   },
   "outputs": [],
   "source": [
    "def gen_unilateral(stimulus, subject, condition, num):\n",
    "  wave = [0, 0]\n",
    "  time = [0, 1.259]\n",
    "  main_seq = []\n",
    "  for idx in range(len(stimulus)-1):  # Avoids out-of-range issues with stimulus[idx+1]\n",
    "    if num == 1: #generating hypers first and then hypos\n",
    "        if idx % 2 ==0:\n",
    "          # First time point: Start of the saccade (stim start + latency)\n",
    "          lat = gen_latency(subject)\n",
    "          time.append(time[-1] + lat)  # Appends new latency time\n",
    "          wave.append(wave[-1])\n",
    "          # print(\"Step 1:\", time[-4:], wave[-4:])\n",
    "\n",
    "          # Second point: First saccade amplitude\n",
    "          amp = gen_accuracy(subject, \"hyper\", \"P\") * stimulus[idx + 1] - wave[-1]\n",
    "          wave.append(amp + wave[-1])  # Amplitude added to last wave point\n",
    "          vel = gen_velocity(amp)\n",
    "          time.append(time[-1] + np.abs(amp / vel))  # Time for saccade based on velocity\n",
    "          main_seq.append([vel,amp])\n",
    "          # print(\"Step 2:\", amp, vel, time[-4:], wave[-4:])\n",
    "\n",
    "          # Hold the saccade\n",
    "          lat2 = gen_latency_correcting(subject, lat)\n",
    "          time.append(time[-1] + lat2)  # Time after latency correction\n",
    "          wave.append(wave[-1])  # Holds at current amplitude\n",
    "          # print(\"Step 3:\", lat2, time[-4:], wave[-4:])\n",
    "\n",
    "          # Third point: Corrective saccade\n",
    "          amp_c = gen_accuracy(subject, \"hyper\", \"C\") * stimulus[idx + 1] - amp\n",
    "          vel_c = gen_velocity(amp_c)\n",
    "          time.append(time[-1] + np.abs(amp_c / vel_c))  # Time for corrective saccade\n",
    "          wave.append(amp_c + amp)  # New amplitude after corrective saccade\n",
    "          main_seq.append([vel_c,amp_c])\n",
    "          # print(\"Step 4:\", amp_c, amp, vel_c, time[-1], time[-4:], wave[-4:])\n",
    "\n",
    "          # Hold the corrective saccade\n",
    "          if idx >= len(stimulus) - 3:  # Ensure we don’t exceed `stimulus` length\n",
    "              break\n",
    "          final_amp = wave[-1]  # Hold at current amplitude for final correction\n",
    "          time.append(stim_time[idx + 2])  # Appends the next stimulation time\n",
    "          wave.append(final_amp)  # Append final amplitude\n",
    "\n",
    "        else: #generating hypos first and then hypers\n",
    "          lat = gen_latency(subject)\n",
    "          time.append(time[-1] + lat)  # Appends new latency time\n",
    "          wave.append(wave[-1])   # Appends current stimulus level\n",
    "\n",
    "          # Second point: First saccade amplitude\n",
    "          amp = gen_accuracy(subject, \"hypo\", \"P\") * stimulus[idx + 1] - wave[-1]\n",
    "          wave.append(amp + wave[-1])  # Amplitude added to last wave point\n",
    "          vel = gen_velocity(amp)\n",
    "          time.append(time[-1] + np.abs(amp / vel))  # Time for saccade based on velocity\n",
    "          main_seq.append([vel,amp])\n",
    "\n",
    "          # Hold the saccade\n",
    "          lat2 = gen_latency_correcting(subject, lat)\n",
    "          time.append(time[-1] + lat2)  # Time after latency correction\n",
    "          wave.append(wave[-1])  # Holds at current amplitude\n",
    "\n",
    "          # Third point: Corrective saccade\n",
    "          amp_c = gen_accuracy(subject, \"hypo\", \"C\") * stimulus[idx + 1] - amp\n",
    "          vel_c = gen_velocity(amp_c)\n",
    "          time.append(time[-1] + np.abs(amp_c / vel_c))  # Time for corrective saccade\n",
    "          wave.append(amp_c + amp)  # New amplitude after corrective saccade\n",
    "          main_seq.append([vel_c,amp_c])\n",
    "\n",
    "          # Hold the corrective saccade\n",
    "          if idx >= len(stimulus) - 3:  # Ensure we don’t exceed `stimulus` length\n",
    "              break\n",
    "          final_amp = wave[-1]  # Hold at current amplitude for final correction\n",
    "          time.append(stim_time[idx + 2])  # Appends the next stimulation time\n",
    "          wave.append(final_amp)  # Append final amplitude\n",
    "\n",
    "    else:\n",
    "        if idx % 2 ==1:\n",
    "          # First time point: Start of the saccade (stim start + latency)\n",
    "          lat = gen_latency(subject)\n",
    "          time.append(time[-1] + lat)  # Appends new latency time\n",
    "          wave.append(wave[-1])\n",
    "          # print(\"Step 1:\", time[-4:], wave[-4:])\n",
    "\n",
    "          # Second point: First saccade amplitude\n",
    "          amp = gen_accuracy(subject, \"hyper\", \"P\") * stimulus[idx + 1] - wave[-1]\n",
    "          wave.append(amp + wave[-1])  # Amplitude added to last wave point\n",
    "          vel = gen_velocity(amp)\n",
    "          time.append(time[-1] + np.abs(amp / vel))  # Time for saccade based on velocity\n",
    "          main_seq.append([vel,amp])\n",
    "          # print(\"Step 2:\", amp, vel, time[-4:], wave[-4:])\n",
    "\n",
    "          # Hold the saccade\n",
    "          lat2 = gen_latency_correcting(subject, lat)\n",
    "          time.append(time[-1] + lat2)  # Time after latency correction\n",
    "          wave.append(wave[-1])  # Holds at current amplitude\n",
    "          # print(\"Step 3:\", lat2, time[-4:], wave[-4:])\n",
    "\n",
    "          # Third point: Corrective saccade\n",
    "          amp_c = gen_accuracy(subject, \"hyper\", \"C\") * stimulus[idx + 1] - amp\n",
    "          vel_c = gen_velocity(amp_c)\n",
    "          time.append(time[-1] + np.abs(amp_c / vel_c))  # Time for corrective saccade\n",
    "          wave.append(amp_c + amp)  # New amplitude after corrective saccade\n",
    "          main_seq.append([vel_c,amp_c])\n",
    "          # print(\"Step 4:\", amp_c, amp, vel_c, time[-1], time[-4:], wave[-4:])\n",
    "\n",
    "          # Hold the corrective saccade\n",
    "          if idx >= len(stimulus) - 3:  # Ensure we don’t exceed `stimulus` length\n",
    "              break\n",
    "          final_amp = wave[-1]  # Hold at current amplitude for final correction\n",
    "          time.append(stim_time[idx + 2])  # Appends the next stimulation time\n",
    "          wave.append(final_amp)  # Append final amplitude\n",
    "\n",
    "        else:\n",
    "          lat = gen_latency(subject)\n",
    "          time.append(time[-1] + lat)  # Appends new latency time\n",
    "          wave.append(wave[-1])   # Appends current stimulus level\n",
    "\n",
    "          # Second point: First saccade amplitude\n",
    "          amp = gen_accuracy(subject, \"hypo\", \"P\") * stimulus[idx + 1] - wave[-1]\n",
    "          wave.append(amp + wave[-1])  # Amplitude added to last wave point\n",
    "          vel = gen_velocity(amp)\n",
    "          time2 = time[-1] + np.abs(amp / vel)\n",
    "          time.append(time[-1] + np.abs(amp / vel))  # Time for saccade based on velocity\n",
    "          main_seq.append([vel,amp])\n",
    "\n",
    "          # Hold the saccade\n",
    "          lat2 = gen_latency_correcting(subject, lat)\n",
    "          time.append(time[-1] + lat2)  # Time after latency correction\n",
    "          wave.append(wave[-1])  # Holds at current amplitude\n",
    "\n",
    "          # Third point: Corrective saccade\n",
    "          amp_c = gen_accuracy(subject, \"hypo\", \"C\") * stimulus[idx + 1] - amp\n",
    "          vel_c = gen_velocity(amp_c)\n",
    "          time.append(time[-1] + np.abs(amp_c / vel_c))  # Time for corrective saccade\n",
    "          wave.append(amp_c + amp)  # New amplitude after corrective saccade\n",
    "          main_seq.append([vel_c,amp_c])\n",
    "\n",
    "          # Hold the corrective saccade\n",
    "          if idx >= len(stimulus) - 3:  # Ensure we don’t exceed `stimulus` length\n",
    "              break\n",
    "          final_amp = wave[-1]  # Hold at current amplitude for final correction\n",
    "          time.append(stim_time[idx + 2])  # Appends the next stimulation time\n",
    "          wave.append(final_amp)  # Append final amplitude\n",
    "\n",
    "\n",
    "\n",
    "  time.append(10.5)\n",
    "  wave.append(wave[-1])\n",
    "  return time, wave, main_seq"
   ]
  },
  {
   "cell_type": "code",
   "execution_count": 56,
   "id": "OKK_5E7Uu2Yb",
   "metadata": {
    "colab": {
     "base_uri": "https://localhost:8080/",
     "height": 447
    },
    "id": "OKK_5E7Uu2Yb",
    "outputId": "d55a5acd-e08e-46a0-adb7-0b661a8f4655"
   },
   "outputs": [
    {
     "data": {
      "text/plain": [
       "Text(0.5, 1.0, 'Unilateral Lesion')"
      ]
     },
     "execution_count": 56,
     "metadata": {},
     "output_type": "execute_result"
    },
    {
     "data": {
      "image/png": "[encoded data removed]",
      "text/plain": [
       "<Figure size 640x480 with 1 Axes>"
      ]
     },
     "metadata": {},
     "output_type": "display_data"
    }
   ],
   "source": [
    "# unilateral\n",
    "stimulus = gen_target(left,right,1)\n",
    "time, wave, main_seq = gen_unilateral(stimulus,\"A\",\"unilateral\",1)\n",
    "plt.plot(time, wave)\n",
    "plt.plot(reconstructed_time,gen_reconstructed_laser(stimulus))\n",
    "plt.legend([\"wave\",\"target\"])\n",
    "plt.ylabel(\"Amplitude\")\n",
    "plt.xlabel(\"Time\")\n",
    "plt.title(\"Unilateral Lesion\")"
   ]
  },
  {
   "cell_type": "code",
   "execution_count": 58,
   "id": "b40a72a4-edf1-4bd0-9d79-1155dd4e77f6",
   "metadata": {},
   "outputs": [
    {
     "data": {
      "text/plain": [
       "[0, -15, 15, -10, 2.5, -7.5, 10, -2.5, 7.5, 7.5]"
      ]
     },
     "execution_count": 58,
     "metadata": {},
     "output_type": "execute_result"
    }
   ],
   "source": [
    "stimulus = gen_target(left,right,1)\n",
    "stimulus"
   ]
  },
  {
   "cell_type": "markdown",
   "id": "jM64U84lWJAM",
   "metadata": {
    "id": "jM64U84lWJAM"
   },
   "source": [
    "### Pandas dataframe"
   ]
  },
  {
   "cell_type": "code",
   "execution_count": 61,
   "id": "NYyFY3s0aAWC",
   "metadata": {
    "id": "NYyFY3s0aAWC"
   },
   "outputs": [],
   "source": [
    "def make_df(time, waveform, i):\n",
    "    timesteps = np.arange(0,10500,1)\n",
    "    wave_1000 = pd.DataFrame(data=timesteps, columns=[\"timesteps\"]).set_index(\"timesteps\")\n",
    "    wave_df = pd.DataFrame({\"timesteps\": (np.array(time) * 1000).astype(int), f\"amplitude_{i}\": waveform})\n",
    "    wave_df.set_index(\"timesteps\", inplace=True)\n",
    "    wave_1000 = wave_1000.join(wave_df, rsuffix=f\"_{i}\").interpolate(method='linear', limit_direction='both')\n",
    "    # left_key_counts = wave_1000.index.value_counts()\n",
    "    # right_key_counts = wave_df.index.value_counts()\n",
    "    # print(\"Left key distribution:\\n\", left_key_counts)\n",
    "    # print(\"Right key distribution:\\n\", right_key_counts)\n",
    "    # if len(wave_1000) > 10500:\n",
    "        # print(time);\n",
    "        # wave_1000 = wave_1000.iloc[:-1,:]\n",
    "    wave_1000 = wave_1000.join(wave_df,on = \"timesteps\", rsuffix=f\"_{i}\")\n",
    "    # duplicateRows = wave_1000[wave_1000.index.duplicated()]\n",
    "    # print(duplicateRows)\n",
    "    return wave_1000"
   ]
  },
  {
   "cell_type": "code",
   "execution_count": 63,
   "id": "5fc77ef2-96cf-49ce-9637-2340a3e86cdc",
   "metadata": {},
   "outputs": [
    {
     "data": {
      "text/html": [
       "<div>\n",
       "<style scoped>\n",
       "    .dataframe tbody tr th:only-of-type {\n",
       "        vertical-align: middle;\n",
       "    }\n",
       "\n",
       "    .dataframe tbody tr th {\n",
       "        vertical-align: top;\n",
       "    }\n",
       "\n",
       "    .dataframe thead th {\n",
       "        text-align: right;\n",
       "    }\n",
       "</style>\n",
       "<table border=\"1\" class=\"dataframe\">\n",
       "  <thead>\n",
       "    <tr style=\"text-align: right;\">\n",
       "      <th></th>\n",
       "      <th>amplitude</th>\n",
       "    </tr>\n",
       "    <tr>\n",
       "      <th>timesteps</th>\n",
       "      <th></th>\n",
       "    </tr>\n",
       "  </thead>\n",
       "  <tbody>\n",
       "    <tr>\n",
       "      <th>0</th>\n",
       "      <td>0.000000</td>\n",
       "    </tr>\n",
       "    <tr>\n",
       "      <th>1</th>\n",
       "      <td>0.000000</td>\n",
       "    </tr>\n",
       "    <tr>\n",
       "      <th>2</th>\n",
       "      <td>0.000000</td>\n",
       "    </tr>\n",
       "    <tr>\n",
       "      <th>3</th>\n",
       "      <td>0.000000</td>\n",
       "    </tr>\n",
       "    <tr>\n",
       "      <th>4</th>\n",
       "      <td>0.000000</td>\n",
       "    </tr>\n",
       "    <tr>\n",
       "      <th>...</th>\n",
       "      <td>...</td>\n",
       "    </tr>\n",
       "    <tr>\n",
       "      <th>10495</th>\n",
       "      <td>4.086243</td>\n",
       "    </tr>\n",
       "    <tr>\n",
       "      <th>10496</th>\n",
       "      <td>4.086243</td>\n",
       "    </tr>\n",
       "    <tr>\n",
       "      <th>10497</th>\n",
       "      <td>4.086243</td>\n",
       "    </tr>\n",
       "    <tr>\n",
       "      <th>10498</th>\n",
       "      <td>4.086243</td>\n",
       "    </tr>\n",
       "    <tr>\n",
       "      <th>10499</th>\n",
       "      <td>4.086243</td>\n",
       "    </tr>\n",
       "  </tbody>\n",
       "</table>\n",
       "<p>10500 rows × 1 columns</p>\n",
       "</div>"
      ],
      "text/plain": [
       "           amplitude\n",
       "timesteps           \n",
       "0           0.000000\n",
       "1           0.000000\n",
       "2           0.000000\n",
       "3           0.000000\n",
       "4           0.000000\n",
       "...              ...\n",
       "10495       4.086243\n",
       "10496       4.086243\n",
       "10497       4.086243\n",
       "10498       4.086243\n",
       "10499       4.086243\n",
       "\n",
       "[10500 rows x 1 columns]"
      ]
     },
     "execution_count": 63,
     "metadata": {},
     "output_type": "execute_result"
    }
   ],
   "source": [
    "stimulus = gen_target(left,right,1)\n",
    "time, wave, main_seq = gen_unilateral(stimulus,\"A\",\"unilateral\",1)\n",
    "unilateral_df = make_df(time,wave,0)\n",
    "unilateral_df = unilateral_df.iloc[:,:-1]\n",
    "unilateral_df.rename(columns = {'amplitude_0':'amplitude'},inplace = True)\n",
    "unilateral_df"
   ]
  },
  {
   "cell_type": "markdown",
   "id": "h1aNnaKgW-Ep",
   "metadata": {
    "id": "h1aNnaKgW-Ep"
   },
   "source": [
    "### Making 5 normal, 5 hyper, 5 hypo and adding them to a pandas df"
   ]
  },
  {
   "cell_type": "code",
   "execution_count": 66,
   "id": "cwUfAcFIajwJ",
   "metadata": {
    "id": "cwUfAcFIajwJ"
   },
   "outputs": [],
   "source": [
    "timesteps = np.arange(0,10500,1)"
   ]
  },
  {
   "cell_type": "code",
   "execution_count": 68,
   "id": "HU9J7sTgU1Of",
   "metadata": {
    "id": "HU9J7sTgU1Of"
   },
   "outputs": [
    {
     "data": {
      "text/plain": [
       "(10500, 3)"
      ]
     },
     "execution_count": 68,
     "metadata": {},
     "output_type": "execute_result"
    }
   ],
   "source": [
    "stimulus = gen_target(left,right,1)\n",
    "# target sequence\n",
    "reconstructed_laser = gen_reconstructed_laser(stimulus)\n",
    "stimulus_df = make_df(reconstructed_time,reconstructed_laser,0)\n",
    "stimulus_1000 = pd.DataFrame(index=timesteps)\n",
    "stimulus_1000 = stimulus_1000.reset_index()\n",
    "stimulus_1000.rename(columns = {'index':'timesteps'},inplace = True)\n",
    "stimulus_1000 = stimulus_1000.join(stimulus_df,on = \"timesteps\").interpolate(method='linear', limit_direction='both')\n",
    "stimulus_1000.rename(columns = {'amplitude_0':'amplitude'},inplace = True)\n",
    "stimulus_1000.shape"
   ]
  },
  {
   "cell_type": "code",
   "execution_count": 70,
   "id": "f9840cb6-809e-4be9-8745-c8cce4b760bc",
   "metadata": {},
   "outputs": [
    {
     "data": {
      "text/html": [
       "<div>\n",
       "<style scoped>\n",
       "    .dataframe tbody tr th:only-of-type {\n",
       "        vertical-align: middle;\n",
       "    }\n",
       "\n",
       "    .dataframe tbody tr th {\n",
       "        vertical-align: top;\n",
       "    }\n",
       "\n",
       "    .dataframe thead th {\n",
       "        text-align: right;\n",
       "    }\n",
       "</style>\n",
       "<table border=\"1\" class=\"dataframe\">\n",
       "  <thead>\n",
       "    <tr style=\"text-align: right;\">\n",
       "      <th></th>\n",
       "      <th>timesteps</th>\n",
       "      <th>amplitude</th>\n",
       "      <th>amplitude_0_0</th>\n",
       "    </tr>\n",
       "  </thead>\n",
       "  <tbody>\n",
       "    <tr>\n",
       "      <th>0</th>\n",
       "      <td>0</td>\n",
       "      <td>0.0</td>\n",
       "      <td>0.0</td>\n",
       "    </tr>\n",
       "    <tr>\n",
       "      <th>1</th>\n",
       "      <td>1</td>\n",
       "      <td>0.0</td>\n",
       "      <td>0.0</td>\n",
       "    </tr>\n",
       "    <tr>\n",
       "      <th>2</th>\n",
       "      <td>2</td>\n",
       "      <td>0.0</td>\n",
       "      <td>0.0</td>\n",
       "    </tr>\n",
       "    <tr>\n",
       "      <th>3</th>\n",
       "      <td>3</td>\n",
       "      <td>0.0</td>\n",
       "      <td>0.0</td>\n",
       "    </tr>\n",
       "    <tr>\n",
       "      <th>4</th>\n",
       "      <td>4</td>\n",
       "      <td>0.0</td>\n",
       "      <td>0.0</td>\n",
       "    </tr>\n",
       "    <tr>\n",
       "      <th>...</th>\n",
       "      <td>...</td>\n",
       "      <td>...</td>\n",
       "      <td>...</td>\n",
       "    </tr>\n",
       "    <tr>\n",
       "      <th>10495</th>\n",
       "      <td>10495</td>\n",
       "      <td>10.0</td>\n",
       "      <td>10.0</td>\n",
       "    </tr>\n",
       "    <tr>\n",
       "      <th>10496</th>\n",
       "      <td>10496</td>\n",
       "      <td>10.0</td>\n",
       "      <td>10.0</td>\n",
       "    </tr>\n",
       "    <tr>\n",
       "      <th>10497</th>\n",
       "      <td>10497</td>\n",
       "      <td>10.0</td>\n",
       "      <td>10.0</td>\n",
       "    </tr>\n",
       "    <tr>\n",
       "      <th>10498</th>\n",
       "      <td>10498</td>\n",
       "      <td>10.0</td>\n",
       "      <td>10.0</td>\n",
       "    </tr>\n",
       "    <tr>\n",
       "      <th>10499</th>\n",
       "      <td>10499</td>\n",
       "      <td>10.0</td>\n",
       "      <td>10.0</td>\n",
       "    </tr>\n",
       "  </tbody>\n",
       "</table>\n",
       "<p>10500 rows × 3 columns</p>\n",
       "</div>"
      ],
      "text/plain": [
       "       timesteps  amplitude  amplitude_0_0\n",
       "0              0        0.0            0.0\n",
       "1              1        0.0            0.0\n",
       "2              2        0.0            0.0\n",
       "3              3        0.0            0.0\n",
       "4              4        0.0            0.0\n",
       "...          ...        ...            ...\n",
       "10495      10495       10.0           10.0\n",
       "10496      10496       10.0           10.0\n",
       "10497      10497       10.0           10.0\n",
       "10498      10498       10.0           10.0\n",
       "10499      10499       10.0           10.0\n",
       "\n",
       "[10500 rows x 3 columns]"
      ]
     },
     "execution_count": 70,
     "metadata": {},
     "output_type": "execute_result"
    }
   ],
   "source": [
    "stimulus_1000"
   ]
  },
  {
   "cell_type": "code",
   "execution_count": 72,
   "id": "NLWfdCeI2oyV",
   "metadata": {
    "id": "NLWfdCeI2oyV",
    "scrolled": true
   },
   "outputs": [
    {
     "data": {
      "text/plain": [
       "<matplotlib.collections.PathCollection at 0x14deef980>"
      ]
     },
     "execution_count": 72,
     "metadata": {},
     "output_type": "execute_result"
    },
    {
     "data": {
      "image/png": "[encoded data removed]",
      "text/plain": [
       "<Figure size 640x480 with 1 Axes>"
      ]
     },
     "metadata": {},
     "output_type": "display_data"
    }
   ],
   "source": [
    "#checking if the 1000Hz stimulus looks good\n",
    "\n",
    "plt.plot(stimulus_1000.index,stimulus_1000.amplitude)\n",
    "t = [x*1000 for x in reconstructed_time]\n",
    "plt.scatter(t,reconstructed_laser)"
   ]
  },
  {
   "cell_type": "markdown",
   "id": "4959dcb7-f2c9-4dca-bb46-2615c7c79865",
   "metadata": {},
   "source": [
    "### 200 Normals, 200 Bilateral Hypos, 200 Bilateral Hypers, 200 Unilateral Lesion (Hypo on Right), 200 Unilateral Lesion (Hypo on Left)"
   ]
  },
  {
   "cell_type": "code",
   "execution_count": 75,
   "id": "w0Qx1mMNX2Ll",
   "metadata": {
    "id": "w0Qx1mMNX2Ll"
   },
   "outputs": [],
   "source": [
    "# Create a tuple of tuples\n",
    "\n",
    "# normal class\n",
    "x_input_normal_1 = tuple((\"N\", \"none\",1) for _ in range(100))\n",
    "x_input_normal_2 = tuple((\"N\", \"none\",2) for _ in range(100))\n",
    "\n",
    "# bilateral hypometric class\n",
    "x_input_hypo_1 = tuple((\"A\", \"hypo\",1) for _ in range(100))\n",
    "x_input_hypo_2 = tuple((\"A\", \"hypo\",2) for _ in range(100))\n",
    "\n",
    "# bilateral hypermetric class\n",
    "x_input_hyper_1 = tuple((\"A\", \"hyper\",1) for _ in range(100))\n",
    "x_input_hyper_2 = tuple((\"A\", \"hyper\",2) for _ in range(100))\n",
    "\n",
    "x_input_list_one = np.concatenate((x_input_normal_1,x_input_normal_2,x_input_hypo_1,x_input_hypo_2,x_input_hyper_1,x_input_hyper_2))"
   ]
  },
  {
   "cell_type": "code",
   "execution_count": 77,
   "id": "9b8c65c6-1616-46b8-949a-f8a58000242e",
   "metadata": {},
   "outputs": [],
   "source": [
    "# hypos on right & hypers on left\n",
    "x_input_uni_1_1 = tuple((\"A\", \"unilateral\",1,1) for _ in range(100))\n",
    "x_input_uni_2_2 = tuple((\"A\", \"unilateral\",2,2) for _ in range(100))\n",
    "\n",
    "# hypers on right & hypos on left\n",
    "x_input_uni_1_2 = tuple((\"A\", \"unilateral\",1,2) for _ in range(100))\n",
    "x_input_uni_2_1 = tuple((\"A\", \"unilateral\",2,1) for _ in range(100))"
   ]
  },
  {
   "cell_type": "code",
   "execution_count": 79,
   "id": "vQJ0vSY8ZYug",
   "metadata": {
    "id": "vQJ0vSY8ZYug"
   },
   "outputs": [],
   "source": [
    "#0 -> normal, 1-> bilateral hypo, 2 -> bilateral hyper, 3 -> hypo right & hyper left, 4 -> hyper right & hypo left\n",
    "y_list = np.concatenate(([0]*200, [1]*200, [2]*200,[3]*200, [4]*200))"
   ]
  },
  {
   "cell_type": "code",
   "execution_count": 81,
   "id": "0ad00eda-0788-4c98-a3a0-f5426930bf89",
   "metadata": {},
   "outputs": [
    {
     "name": "stdout",
     "output_type": "stream",
     "text": [
      "we're going strong..\n",
      "we're going strong..\n",
      "we're going strong..\n",
      "we're going strong..\n",
      "we're going strong..\n"
     ]
    }
   ],
   "source": [
    "wave_merged = pd.DataFrame(data=timesteps, columns=[\"timesteps\"]).set_index(\"timesteps\")\n",
    "merged_wave = []\n",
    "stim_df = pd.DataFrame(data=stim_time, columns=[\"timesteps\"])\n",
    "tensor_combined = torch.empty(0)\n",
    "stim_combined = torch.empty(0)\n",
    "mainseq_combined = torch.empty(0)\n",
    "data = []\n",
    "\n",
    "for i, row in enumerate(x_input_list_one):\n",
    "    # generate stimulus\n",
    "    stimulus = gen_target(left,right,row[-2])\n",
    "    time, waveform, main_seq = gen_waveform(stimulus, *row)\n",
    "    wave_df = make_df(time, waveform,i)\n",
    "    wave_df = wave_df.iloc[:10500,:]\n",
    "    if(len(wave_df.T.values[0]) != 10500):\n",
    "        print(\"What the hell\")\n",
    "        print(i)\n",
    "        print(len(wave_df.T.values[0]))\n",
    "    data.append(wave_df.T.values[:-1])\n",
    "    if i % 1000 == 0:\n",
    "        print(\"we're going strong..\")\n",
    "\n",
    "for i, row in enumerate(x_input_uni_1_1):\n",
    "    # generate stimulus\n",
    "    stimulus = gen_target(left,right,row[-2])\n",
    "    saccade_pattern = row[-1]\n",
    "    time, waveform, main_seq = gen_unilateral(stimulus, *row[:-2], saccade_pattern)\n",
    "    wave_df = make_df(time, waveform,i)\n",
    "    wave_df = wave_df.iloc[:10500,:-1]\n",
    "    if(len(wave_df.T.values[0]) != 10500):\n",
    "        print(\"What the hell\")\n",
    "        print(i)\n",
    "        print(len(wave_df.T.values[0]))\n",
    "    data.append(wave_df.T.values)\n",
    "    # generate waveform\n",
    "    if i % 1000 == 0:\n",
    "        print(\"we're going strong..\")\n",
    "\n",
    "for i, row in enumerate(x_input_uni_2_2):\n",
    "    # generate stimulus\n",
    "    stimulus = gen_target(left,right,row[-2])\n",
    "    saccade_pattern = row[-1]\n",
    "    time, waveform, main_seq = gen_unilateral(stimulus, *row[:-2], saccade_pattern)\n",
    "    wave_df = make_df(time, waveform,i)\n",
    "    wave_df = wave_df.iloc[:10500,:-1]\n",
    "    if(len(wave_df.T.values[0]) != 10500):\n",
    "        print(\"What the hell\")\n",
    "        print(i)\n",
    "        print(len(wave_df.T.values[0]))\n",
    "    data.append(wave_df.T.values)\n",
    "    # generate waveform\n",
    "    if i % 1000 == 0:\n",
    "        print(\"we're going strong..\")\n",
    "\n",
    "for i, row in enumerate(x_input_uni_1_2):\n",
    "    # generate stimulus\n",
    "    stimulus = gen_target(left,right,row[-2])\n",
    "    saccade_pattern = row[-1]\n",
    "    time, waveform, main_seq = gen_unilateral(stimulus, *row[:-2], saccade_pattern)\n",
    "    wave_df = make_df(time, waveform,i)\n",
    "    wave_df = wave_df.iloc[:10500,:-1]\n",
    "    if(len(wave_df.T.values[0]) != 10500):\n",
    "        print(\"What the hell\")\n",
    "        print(i)\n",
    "        print(len(wave_df.T.values[0]))\n",
    "    data.append(wave_df.T.values)\n",
    "    # generate waveform\n",
    "    if i % 1000 == 0:\n",
    "        print(\"we're going strong..\")\n",
    "\n",
    "for i, row in enumerate(x_input_uni_2_1):\n",
    "    # generate stimulus\n",
    "    stimulus = gen_target(left,right,row[-2])\n",
    "    saccade_pattern = row[-1]\n",
    "    time, waveform, main_seq = gen_unilateral(stimulus, *row[:-2], saccade_pattern)\n",
    "    wave_df = make_df(time, waveform,i)\n",
    "    wave_df = wave_df.iloc[:10500,:-1]\n",
    "    if(len(wave_df.T.values[0]) != 10500):\n",
    "        print(\"What the hell\")\n",
    "        print(i)\n",
    "        print(len(wave_df.T.values[0]))\n",
    "    data.append(wave_df.T.values)\n",
    "    # generate waveform\n",
    "    if i % 1000 == 0:\n",
    "        print(\"we're going strong..\")"
   ]
  },
  {
   "cell_type": "code",
   "execution_count": 83,
   "id": "182e5201-4c40-475e-bd3e-5bcaf60b6edc",
   "metadata": {},
   "outputs": [
    {
     "data": {
      "text/html": [
       "<div>\n",
       "<style scoped>\n",
       "    .dataframe tbody tr th:only-of-type {\n",
       "        vertical-align: middle;\n",
       "    }\n",
       "\n",
       "    .dataframe tbody tr th {\n",
       "        vertical-align: top;\n",
       "    }\n",
       "\n",
       "    .dataframe thead th {\n",
       "        text-align: right;\n",
       "    }\n",
       "</style>\n",
       "<table border=\"1\" class=\"dataframe\">\n",
       "  <thead>\n",
       "    <tr style=\"text-align: right;\">\n",
       "      <th></th>\n",
       "      <th>0</th>\n",
       "      <th>1</th>\n",
       "      <th>2</th>\n",
       "      <th>3</th>\n",
       "      <th>4</th>\n",
       "      <th>5</th>\n",
       "      <th>6</th>\n",
       "      <th>7</th>\n",
       "      <th>8</th>\n",
       "      <th>9</th>\n",
       "      <th>...</th>\n",
       "      <th>990</th>\n",
       "      <th>991</th>\n",
       "      <th>992</th>\n",
       "      <th>993</th>\n",
       "      <th>994</th>\n",
       "      <th>995</th>\n",
       "      <th>996</th>\n",
       "      <th>997</th>\n",
       "      <th>998</th>\n",
       "      <th>999</th>\n",
       "    </tr>\n",
       "  </thead>\n",
       "  <tbody>\n",
       "    <tr>\n",
       "      <th>0</th>\n",
       "      <td>0.0</td>\n",
       "      <td>0.0</td>\n",
       "      <td>0.0</td>\n",
       "      <td>0.0</td>\n",
       "      <td>0.0</td>\n",
       "      <td>0.0</td>\n",
       "      <td>0.0</td>\n",
       "      <td>0.0</td>\n",
       "      <td>0.0</td>\n",
       "      <td>0.0</td>\n",
       "      <td>...</td>\n",
       "      <td>0.000000</td>\n",
       "      <td>0.000000</td>\n",
       "      <td>0.000000</td>\n",
       "      <td>0.000000</td>\n",
       "      <td>0.000000</td>\n",
       "      <td>0.000000</td>\n",
       "      <td>0.000000</td>\n",
       "      <td>0.000000</td>\n",
       "      <td>0.000000</td>\n",
       "      <td>0.000000</td>\n",
       "    </tr>\n",
       "    <tr>\n",
       "      <th>1</th>\n",
       "      <td>0.0</td>\n",
       "      <td>0.0</td>\n",
       "      <td>0.0</td>\n",
       "      <td>0.0</td>\n",
       "      <td>0.0</td>\n",
       "      <td>0.0</td>\n",
       "      <td>0.0</td>\n",
       "      <td>0.0</td>\n",
       "      <td>0.0</td>\n",
       "      <td>0.0</td>\n",
       "      <td>...</td>\n",
       "      <td>0.000000</td>\n",
       "      <td>0.000000</td>\n",
       "      <td>0.000000</td>\n",
       "      <td>0.000000</td>\n",
       "      <td>0.000000</td>\n",
       "      <td>0.000000</td>\n",
       "      <td>0.000000</td>\n",
       "      <td>0.000000</td>\n",
       "      <td>0.000000</td>\n",
       "      <td>0.000000</td>\n",
       "    </tr>\n",
       "    <tr>\n",
       "      <th>2</th>\n",
       "      <td>0.0</td>\n",
       "      <td>0.0</td>\n",
       "      <td>0.0</td>\n",
       "      <td>0.0</td>\n",
       "      <td>0.0</td>\n",
       "      <td>0.0</td>\n",
       "      <td>0.0</td>\n",
       "      <td>0.0</td>\n",
       "      <td>0.0</td>\n",
       "      <td>0.0</td>\n",
       "      <td>...</td>\n",
       "      <td>0.000000</td>\n",
       "      <td>0.000000</td>\n",
       "      <td>0.000000</td>\n",
       "      <td>0.000000</td>\n",
       "      <td>0.000000</td>\n",
       "      <td>0.000000</td>\n",
       "      <td>0.000000</td>\n",
       "      <td>0.000000</td>\n",
       "      <td>0.000000</td>\n",
       "      <td>0.000000</td>\n",
       "    </tr>\n",
       "    <tr>\n",
       "      <th>3</th>\n",
       "      <td>0.0</td>\n",
       "      <td>0.0</td>\n",
       "      <td>0.0</td>\n",
       "      <td>0.0</td>\n",
       "      <td>0.0</td>\n",
       "      <td>0.0</td>\n",
       "      <td>0.0</td>\n",
       "      <td>0.0</td>\n",
       "      <td>0.0</td>\n",
       "      <td>0.0</td>\n",
       "      <td>...</td>\n",
       "      <td>0.000000</td>\n",
       "      <td>0.000000</td>\n",
       "      <td>0.000000</td>\n",
       "      <td>0.000000</td>\n",
       "      <td>0.000000</td>\n",
       "      <td>0.000000</td>\n",
       "      <td>0.000000</td>\n",
       "      <td>0.000000</td>\n",
       "      <td>0.000000</td>\n",
       "      <td>0.000000</td>\n",
       "    </tr>\n",
       "    <tr>\n",
       "      <th>4</th>\n",
       "      <td>0.0</td>\n",
       "      <td>0.0</td>\n",
       "      <td>0.0</td>\n",
       "      <td>0.0</td>\n",
       "      <td>0.0</td>\n",
       "      <td>0.0</td>\n",
       "      <td>0.0</td>\n",
       "      <td>0.0</td>\n",
       "      <td>0.0</td>\n",
       "      <td>0.0</td>\n",
       "      <td>...</td>\n",
       "      <td>0.000000</td>\n",
       "      <td>0.000000</td>\n",
       "      <td>0.000000</td>\n",
       "      <td>0.000000</td>\n",
       "      <td>0.000000</td>\n",
       "      <td>0.000000</td>\n",
       "      <td>0.000000</td>\n",
       "      <td>0.000000</td>\n",
       "      <td>0.000000</td>\n",
       "      <td>0.000000</td>\n",
       "    </tr>\n",
       "    <tr>\n",
       "      <th>...</th>\n",
       "      <td>...</td>\n",
       "      <td>...</td>\n",
       "      <td>...</td>\n",
       "      <td>...</td>\n",
       "      <td>...</td>\n",
       "      <td>...</td>\n",
       "      <td>...</td>\n",
       "      <td>...</td>\n",
       "      <td>...</td>\n",
       "      <td>...</td>\n",
       "      <td>...</td>\n",
       "      <td>...</td>\n",
       "      <td>...</td>\n",
       "      <td>...</td>\n",
       "      <td>...</td>\n",
       "      <td>...</td>\n",
       "      <td>...</td>\n",
       "      <td>...</td>\n",
       "      <td>...</td>\n",
       "      <td>...</td>\n",
       "      <td>...</td>\n",
       "    </tr>\n",
       "    <tr>\n",
       "      <th>10495</th>\n",
       "      <td>-7.5</td>\n",
       "      <td>-2.5</td>\n",
       "      <td>-2.5</td>\n",
       "      <td>-10.0</td>\n",
       "      <td>-2.5</td>\n",
       "      <td>-10.0</td>\n",
       "      <td>-2.5</td>\n",
       "      <td>-10.0</td>\n",
       "      <td>-15.0</td>\n",
       "      <td>-2.5</td>\n",
       "      <td>...</td>\n",
       "      <td>-2.384803</td>\n",
       "      <td>-14.147043</td>\n",
       "      <td>-7.063727</td>\n",
       "      <td>-14.968394</td>\n",
       "      <td>-7.180091</td>\n",
       "      <td>-14.147243</td>\n",
       "      <td>-13.859461</td>\n",
       "      <td>-13.517001</td>\n",
       "      <td>-2.251281</td>\n",
       "      <td>-9.117563</td>\n",
       "    </tr>\n",
       "    <tr>\n",
       "      <th>10496</th>\n",
       "      <td>-7.5</td>\n",
       "      <td>-2.5</td>\n",
       "      <td>-2.5</td>\n",
       "      <td>-10.0</td>\n",
       "      <td>-2.5</td>\n",
       "      <td>-10.0</td>\n",
       "      <td>-2.5</td>\n",
       "      <td>-10.0</td>\n",
       "      <td>-15.0</td>\n",
       "      <td>-2.5</td>\n",
       "      <td>...</td>\n",
       "      <td>-2.384803</td>\n",
       "      <td>-14.147043</td>\n",
       "      <td>-7.063727</td>\n",
       "      <td>-14.968394</td>\n",
       "      <td>-7.180091</td>\n",
       "      <td>-14.147243</td>\n",
       "      <td>-13.859461</td>\n",
       "      <td>-13.517001</td>\n",
       "      <td>-2.251281</td>\n",
       "      <td>-9.117563</td>\n",
       "    </tr>\n",
       "    <tr>\n",
       "      <th>10497</th>\n",
       "      <td>-7.5</td>\n",
       "      <td>-2.5</td>\n",
       "      <td>-2.5</td>\n",
       "      <td>-10.0</td>\n",
       "      <td>-2.5</td>\n",
       "      <td>-10.0</td>\n",
       "      <td>-2.5</td>\n",
       "      <td>-10.0</td>\n",
       "      <td>-15.0</td>\n",
       "      <td>-2.5</td>\n",
       "      <td>...</td>\n",
       "      <td>-2.384803</td>\n",
       "      <td>-14.147043</td>\n",
       "      <td>-7.063727</td>\n",
       "      <td>-14.968394</td>\n",
       "      <td>-7.180091</td>\n",
       "      <td>-14.147243</td>\n",
       "      <td>-13.859461</td>\n",
       "      <td>-13.517001</td>\n",
       "      <td>-2.251281</td>\n",
       "      <td>-9.117563</td>\n",
       "    </tr>\n",
       "    <tr>\n",
       "      <th>10498</th>\n",
       "      <td>-7.5</td>\n",
       "      <td>-2.5</td>\n",
       "      <td>-2.5</td>\n",
       "      <td>-10.0</td>\n",
       "      <td>-2.5</td>\n",
       "      <td>-10.0</td>\n",
       "      <td>-2.5</td>\n",
       "      <td>-10.0</td>\n",
       "      <td>-15.0</td>\n",
       "      <td>-2.5</td>\n",
       "      <td>...</td>\n",
       "      <td>-2.384803</td>\n",
       "      <td>-14.147043</td>\n",
       "      <td>-7.063727</td>\n",
       "      <td>-14.968394</td>\n",
       "      <td>-7.180091</td>\n",
       "      <td>-14.147243</td>\n",
       "      <td>-13.859461</td>\n",
       "      <td>-13.517001</td>\n",
       "      <td>-2.251281</td>\n",
       "      <td>-9.117563</td>\n",
       "    </tr>\n",
       "    <tr>\n",
       "      <th>10499</th>\n",
       "      <td>-7.5</td>\n",
       "      <td>-2.5</td>\n",
       "      <td>-2.5</td>\n",
       "      <td>-10.0</td>\n",
       "      <td>-2.5</td>\n",
       "      <td>-10.0</td>\n",
       "      <td>-2.5</td>\n",
       "      <td>-10.0</td>\n",
       "      <td>-15.0</td>\n",
       "      <td>-2.5</td>\n",
       "      <td>...</td>\n",
       "      <td>-2.384803</td>\n",
       "      <td>-14.147043</td>\n",
       "      <td>-7.063727</td>\n",
       "      <td>-14.968394</td>\n",
       "      <td>-7.180091</td>\n",
       "      <td>-14.147243</td>\n",
       "      <td>-13.859461</td>\n",
       "      <td>-13.517001</td>\n",
       "      <td>-2.251281</td>\n",
       "      <td>-9.117563</td>\n",
       "    </tr>\n",
       "  </tbody>\n",
       "</table>\n",
       "<p>10500 rows × 1000 columns</p>\n",
       "</div>"
      ],
      "text/plain": [
       "       0    1    2     3    4     5    6     7     8    9    ...       990  \\\n",
       "0      0.0  0.0  0.0   0.0  0.0   0.0  0.0   0.0   0.0  0.0  ...  0.000000   \n",
       "1      0.0  0.0  0.0   0.0  0.0   0.0  0.0   0.0   0.0  0.0  ...  0.000000   \n",
       "2      0.0  0.0  0.0   0.0  0.0   0.0  0.0   0.0   0.0  0.0  ...  0.000000   \n",
       "3      0.0  0.0  0.0   0.0  0.0   0.0  0.0   0.0   0.0  0.0  ...  0.000000   \n",
       "4      0.0  0.0  0.0   0.0  0.0   0.0  0.0   0.0   0.0  0.0  ...  0.000000   \n",
       "...    ...  ...  ...   ...  ...   ...  ...   ...   ...  ...  ...       ...   \n",
       "10495 -7.5 -2.5 -2.5 -10.0 -2.5 -10.0 -2.5 -10.0 -15.0 -2.5  ... -2.384803   \n",
       "10496 -7.5 -2.5 -2.5 -10.0 -2.5 -10.0 -2.5 -10.0 -15.0 -2.5  ... -2.384803   \n",
       "10497 -7.5 -2.5 -2.5 -10.0 -2.5 -10.0 -2.5 -10.0 -15.0 -2.5  ... -2.384803   \n",
       "10498 -7.5 -2.5 -2.5 -10.0 -2.5 -10.0 -2.5 -10.0 -15.0 -2.5  ... -2.384803   \n",
       "10499 -7.5 -2.5 -2.5 -10.0 -2.5 -10.0 -2.5 -10.0 -15.0 -2.5  ... -2.384803   \n",
       "\n",
       "             991       992        993       994        995        996  \\\n",
       "0       0.000000  0.000000   0.000000  0.000000   0.000000   0.000000   \n",
       "1       0.000000  0.000000   0.000000  0.000000   0.000000   0.000000   \n",
       "2       0.000000  0.000000   0.000000  0.000000   0.000000   0.000000   \n",
       "3       0.000000  0.000000   0.000000  0.000000   0.000000   0.000000   \n",
       "4       0.000000  0.000000   0.000000  0.000000   0.000000   0.000000   \n",
       "...          ...       ...        ...       ...        ...        ...   \n",
       "10495 -14.147043 -7.063727 -14.968394 -7.180091 -14.147243 -13.859461   \n",
       "10496 -14.147043 -7.063727 -14.968394 -7.180091 -14.147243 -13.859461   \n",
       "10497 -14.147043 -7.063727 -14.968394 -7.180091 -14.147243 -13.859461   \n",
       "10498 -14.147043 -7.063727 -14.968394 -7.180091 -14.147243 -13.859461   \n",
       "10499 -14.147043 -7.063727 -14.968394 -7.180091 -14.147243 -13.859461   \n",
       "\n",
       "             997       998       999  \n",
       "0       0.000000  0.000000  0.000000  \n",
       "1       0.000000  0.000000  0.000000  \n",
       "2       0.000000  0.000000  0.000000  \n",
       "3       0.000000  0.000000  0.000000  \n",
       "4       0.000000  0.000000  0.000000  \n",
       "...          ...       ...       ...  \n",
       "10495 -13.517001 -2.251281 -9.117563  \n",
       "10496 -13.517001 -2.251281 -9.117563  \n",
       "10497 -13.517001 -2.251281 -9.117563  \n",
       "10498 -13.517001 -2.251281 -9.117563  \n",
       "10499 -13.517001 -2.251281 -9.117563  \n",
       "\n",
       "[10500 rows x 1000 columns]"
      ]
     },
     "execution_count": 83,
     "metadata": {},
     "output_type": "execute_result"
    }
   ],
   "source": [
    "transformed = np.array(data)\n",
    "num_waves = np.shape(np.array(data))[0]\n",
    "new = transformed.reshape(num_waves,10500)\n",
    "wave_1000 = pd.DataFrame(new).T\n",
    "wave_1000"
   ]
  },
  {
   "cell_type": "code",
   "execution_count": 85,
   "id": "a741e8b4-d760-4d1e-a279-eba447a049aa",
   "metadata": {},
   "outputs": [],
   "source": [
    "wave_500 = wave_1000[wave_1000.index % 2 != 0]  # Excludes every 2nd row starting from 0\n",
    "wave_250 = wave_500[::3]  # Excludes every 2nd row starting from 0\n",
    "wave_125 = wave_250[::2]  # Excludes every 2nd row starting from 0"
   ]
  },
  {
   "cell_type": "code",
   "execution_count": 87,
   "id": "fdb9f6e5-4ca5-44ed-86f0-19a4975a51ac",
   "metadata": {},
   "outputs": [
    {
     "data": {
      "text/plain": [
       "[<matplotlib.lines.Line2D at 0x14eb6d130>]"
      ]
     },
     "execution_count": 87,
     "metadata": {},
     "output_type": "execute_result"
    },
    {
     "data": {
      "image/png": "[encoded data removed]",
      "text/plain": [
       "<Figure size 640x480 with 1 Axes>"
      ]
     },
     "metadata": {},
     "output_type": "display_data"
    }
   ],
   "source": [
    "plt.plot(wave_1000.index,wave_1000.iloc[:,801])"
   ]
  },
  {
   "cell_type": "markdown",
   "id": "a13abec0-0505-4a6b-b5ec-7bdbe9977ab5",
   "metadata": {
    "jp-MarkdownHeadingCollapsed": true
   },
   "source": [
    "### Comparing the 1000 Hz waveform to downsampled version"
   ]
  },
  {
   "cell_type": "code",
   "execution_count": 487,
   "id": "12755011-4073-4cdb-a114-9a497c543380",
   "metadata": {},
   "outputs": [
    {
     "ename": "KeyError",
     "evalue": "(slice(None, None, None), 1)",
     "output_type": "error",
     "traceback": [
      "\u001b[0;31m---------------------------------------------------------------------------\u001b[0m",
      "\u001b[0;31mKeyError\u001b[0m                                  Traceback (most recent call last)",
      "Cell \u001b[0;32mIn[487], line 1\u001b[0m\n\u001b[0;32m----> 1\u001b[0m plt\u001b[38;5;241m.\u001b[39mplot(timesteps, wave_1000[:,\u001b[38;5;241m1\u001b[39m])\n\u001b[1;32m      2\u001b[0m plt\u001b[38;5;241m.\u001b[39mplot(wave_500\u001b[38;5;241m.\u001b[39mindex, wave_500[:,\u001b[38;5;241m1\u001b[39m], c \u001b[38;5;241m=\u001b[39m \u001b[38;5;124m\"\u001b[39m\u001b[38;5;124morange\u001b[39m\u001b[38;5;124m\"\u001b[39m,alpha \u001b[38;5;241m=\u001b[39m \u001b[38;5;241m0.7\u001b[39m)\n\u001b[1;32m      3\u001b[0m plt\u001b[38;5;241m.\u001b[39mxlabel(\u001b[38;5;124m\"\u001b[39m\u001b[38;5;124mTime\u001b[39m\u001b[38;5;124m\"\u001b[39m)\n",
      "File \u001b[0;32m/opt/anaconda3/lib/python3.12/site-packages/pandas/core/frame.py:4102\u001b[0m, in \u001b[0;36mDataFrame.__getitem__\u001b[0;34m(self, key)\u001b[0m\n\u001b[1;32m   4100\u001b[0m \u001b[38;5;28;01mif\u001b[39;00m \u001b[38;5;28mself\u001b[39m\u001b[38;5;241m.\u001b[39mcolumns\u001b[38;5;241m.\u001b[39mnlevels \u001b[38;5;241m>\u001b[39m \u001b[38;5;241m1\u001b[39m:\n\u001b[1;32m   4101\u001b[0m     \u001b[38;5;28;01mreturn\u001b[39;00m \u001b[38;5;28mself\u001b[39m\u001b[38;5;241m.\u001b[39m_getitem_multilevel(key)\n\u001b[0;32m-> 4102\u001b[0m indexer \u001b[38;5;241m=\u001b[39m \u001b[38;5;28mself\u001b[39m\u001b[38;5;241m.\u001b[39mcolumns\u001b[38;5;241m.\u001b[39mget_loc(key)\n\u001b[1;32m   4103\u001b[0m \u001b[38;5;28;01mif\u001b[39;00m is_integer(indexer):\n\u001b[1;32m   4104\u001b[0m     indexer \u001b[38;5;241m=\u001b[39m [indexer]\n",
      "File \u001b[0;32m/opt/anaconda3/lib/python3.12/site-packages/pandas/core/indexes/range.py:417\u001b[0m, in \u001b[0;36mRangeIndex.get_loc\u001b[0;34m(self, key)\u001b[0m\n\u001b[1;32m    415\u001b[0m         \u001b[38;5;28;01mraise\u001b[39;00m \u001b[38;5;167;01mKeyError\u001b[39;00m(key) \u001b[38;5;28;01mfrom\u001b[39;00m \u001b[38;5;21;01merr\u001b[39;00m\n\u001b[1;32m    416\u001b[0m \u001b[38;5;28;01mif\u001b[39;00m \u001b[38;5;28misinstance\u001b[39m(key, Hashable):\n\u001b[0;32m--> 417\u001b[0m     \u001b[38;5;28;01mraise\u001b[39;00m \u001b[38;5;167;01mKeyError\u001b[39;00m(key)\n\u001b[1;32m    418\u001b[0m \u001b[38;5;28mself\u001b[39m\u001b[38;5;241m.\u001b[39m_check_indexing_error(key)\n\u001b[1;32m    419\u001b[0m \u001b[38;5;28;01mraise\u001b[39;00m \u001b[38;5;167;01mKeyError\u001b[39;00m(key)\n",
      "\u001b[0;31mKeyError\u001b[0m: (slice(None, None, None), 1)"
     ]
    }
   ],
   "source": [
    "plt.plot(timesteps, wave_1000[:,1])\n",
    "plt.plot(wave_500.index, wave_500[:,1], c = \"orange\",alpha = 0.7)\n",
    "plt.xlabel(\"Time\")\n",
    "plt.ylabel(\"Amplitude\")\n",
    "# plt.legend([\"1000Hz\",\"500Hz\",\"250Hz\",\"125Hz\"])\n",
    "plt.legend([\"1000Hz\",\"500Hz\"])\n",
    "plt.xlim(1350,1600)"
   ]
  },
  {
   "cell_type": "code",
   "execution_count": 321,
   "id": "9f4caf20-4590-41f8-85ec-b3366179b3a2",
   "metadata": {},
   "outputs": [
    {
     "ename": "AttributeError",
     "evalue": "'DataFrame' object has no attribute 'amplitude_3'",
     "output_type": "error",
     "traceback": [
      "\u001b[0;31m---------------------------------------------------------------------------\u001b[0m",
      "\u001b[0;31mAttributeError\u001b[0m                            Traceback (most recent call last)",
      "\u001b[0;32m/var/folders/gs/947mbm613t7_7whyg959snch0000gn/T/ipykernel_13959/2092200697.py\u001b[0m in \u001b[0;36m?\u001b[0;34m()\u001b[0m\n\u001b[0;32m----> 1\u001b[0;31m \u001b[0mplt\u001b[0m\u001b[0;34m.\u001b[0m\u001b[0mplot\u001b[0m\u001b[0;34m(\u001b[0m\u001b[0mtimesteps\u001b[0m\u001b[0;34m,\u001b[0m \u001b[0mwave_1000\u001b[0m\u001b[0;34m.\u001b[0m\u001b[0mamplitude_3\u001b[0m\u001b[0;34m)\u001b[0m\u001b[0;34m\u001b[0m\u001b[0;34m\u001b[0m\u001b[0m\n\u001b[0m\u001b[1;32m      2\u001b[0m \u001b[0mplt\u001b[0m\u001b[0;34m.\u001b[0m\u001b[0mplot\u001b[0m\u001b[0;34m(\u001b[0m\u001b[0mwave_250\u001b[0m\u001b[0;34m.\u001b[0m\u001b[0mindex\u001b[0m\u001b[0;34m,\u001b[0m \u001b[0mwave_250\u001b[0m\u001b[0;34m.\u001b[0m\u001b[0mamplitude_3\u001b[0m\u001b[0;34m,\u001b[0m \u001b[0mc\u001b[0m \u001b[0;34m=\u001b[0m \u001b[0;34m\"orange\"\u001b[0m\u001b[0;34m,\u001b[0m\u001b[0malpha\u001b[0m \u001b[0;34m=\u001b[0m \u001b[0;36m0.7\u001b[0m\u001b[0;34m)\u001b[0m\u001b[0;34m\u001b[0m\u001b[0;34m\u001b[0m\u001b[0m\n\u001b[1;32m      3\u001b[0m \u001b[0mplt\u001b[0m\u001b[0;34m.\u001b[0m\u001b[0mxlabel\u001b[0m\u001b[0;34m(\u001b[0m\u001b[0;34m\"Time\"\u001b[0m\u001b[0;34m)\u001b[0m\u001b[0;34m\u001b[0m\u001b[0;34m\u001b[0m\u001b[0m\n\u001b[1;32m      4\u001b[0m \u001b[0mplt\u001b[0m\u001b[0;34m.\u001b[0m\u001b[0mylabel\u001b[0m\u001b[0;34m(\u001b[0m\u001b[0;34m\"Amplitude\"\u001b[0m\u001b[0;34m)\u001b[0m\u001b[0;34m\u001b[0m\u001b[0;34m\u001b[0m\u001b[0m\n",
      "\u001b[0;32m/opt/anaconda3/lib/python3.12/site-packages/pandas/core/generic.py\u001b[0m in \u001b[0;36m?\u001b[0;34m(self, name)\u001b[0m\n\u001b[1;32m   6295\u001b[0m             \u001b[0;32mand\u001b[0m \u001b[0mname\u001b[0m \u001b[0;32mnot\u001b[0m \u001b[0;32min\u001b[0m \u001b[0mself\u001b[0m\u001b[0;34m.\u001b[0m\u001b[0m_accessors\u001b[0m\u001b[0;34m\u001b[0m\u001b[0;34m\u001b[0m\u001b[0m\n\u001b[1;32m   6296\u001b[0m             \u001b[0;32mand\u001b[0m \u001b[0mself\u001b[0m\u001b[0;34m.\u001b[0m\u001b[0m_info_axis\u001b[0m\u001b[0;34m.\u001b[0m\u001b[0m_can_hold_identifiers_and_holds_name\u001b[0m\u001b[0;34m(\u001b[0m\u001b[0mname\u001b[0m\u001b[0;34m)\u001b[0m\u001b[0;34m\u001b[0m\u001b[0;34m\u001b[0m\u001b[0m\n\u001b[1;32m   6297\u001b[0m         \u001b[0;34m)\u001b[0m\u001b[0;34m:\u001b[0m\u001b[0;34m\u001b[0m\u001b[0;34m\u001b[0m\u001b[0m\n\u001b[1;32m   6298\u001b[0m             \u001b[0;32mreturn\u001b[0m \u001b[0mself\u001b[0m\u001b[0;34m[\u001b[0m\u001b[0mname\u001b[0m\u001b[0;34m]\u001b[0m\u001b[0;34m\u001b[0m\u001b[0;34m\u001b[0m\u001b[0m\n\u001b[0;32m-> 6299\u001b[0;31m         \u001b[0;32mreturn\u001b[0m \u001b[0mobject\u001b[0m\u001b[0;34m.\u001b[0m\u001b[0m__getattribute__\u001b[0m\u001b[0;34m(\u001b[0m\u001b[0mself\u001b[0m\u001b[0;34m,\u001b[0m \u001b[0mname\u001b[0m\u001b[0;34m)\u001b[0m\u001b[0;34m\u001b[0m\u001b[0;34m\u001b[0m\u001b[0m\n\u001b[0m",
      "\u001b[0;31mAttributeError\u001b[0m: 'DataFrame' object has no attribute 'amplitude_3'"
     ]
    }
   ],
   "source": [
    "plt.plot(timesteps, wave_1000.amplitude_3)\n",
    "plt.plot(wave_250.index, wave_250.amplitude_3, c = \"orange\",alpha = 0.7)\n",
    "plt.xlabel(\"Time\")\n",
    "plt.ylabel(\"Amplitude\")\n",
    "# plt.legend([\"1000Hz\",\"500Hz\",\"250Hz\",\"125Hz\"])\n",
    "plt.legend([\"1000Hz\",\"250Hz\"])\n",
    "plt.xlim(1350,1600)"
   ]
  },
  {
   "cell_type": "code",
   "execution_count": 220,
   "id": "0de771ba-ae5f-433c-a4f1-de20ee935924",
   "metadata": {},
   "outputs": [
    {
     "data": {
      "text/plain": [
       "(1350.0, 1600.0)"
      ]
     },
     "execution_count": 220,
     "metadata": {},
     "output_type": "execute_result"
    },
    {
     "data": {
      "image/png": "[encoded data removed]",
      "text/plain": [
       "<Figure size 640x480 with 1 Axes>"
      ]
     },
     "metadata": {},
     "output_type": "display_data"
    }
   ],
   "source": [
    "plt.plot(timesteps, wave_1000.amplitude_3)\n",
    "plt.plot(wave_125.index, wave_125.amplitude_3, c = \"orange\",alpha = 0.7)\n",
    "plt.xlabel(\"Time\")\n",
    "plt.ylabel(\"Amplitude\")\n",
    "# plt.legend([\"1000Hz\",\"500Hz\",\"250Hz\",\"125Hz\"])\n",
    "plt.legend([\"1000Hz\",\"125Hz\"])\n",
    "plt.xlim(1350,1600)"
   ]
  },
  {
   "cell_type": "code",
   "execution_count": 222,
   "id": "92142601-41ca-4d47-be77-5b039b5fa991",
   "metadata": {
    "id": "92142601-41ca-4d47-be77-5b039b5fa991"
   },
   "outputs": [],
   "source": [
    "# wave_merged.to_csv(\"output.csv\", index=False)"
   ]
  },
  {
   "cell_type": "markdown",
   "id": "m1AiRGS-Tg62",
   "metadata": {
    "id": "m1AiRGS-Tg62",
    "jp-MarkdownHeadingCollapsed": true
   },
   "source": [
    "### Train test split"
   ]
  },
  {
   "cell_type": "code",
   "execution_count": 233,
   "id": "JlzdraoJe8yl",
   "metadata": {
    "id": "JlzdraoJe8yl",
    "outputId": "73636d98-be34-4209-d11c-a2ebda9b812a"
   },
   "outputs": [
    {
     "ename": "NameError",
     "evalue": "name 'wave_interpolate' is not defined",
     "output_type": "error",
     "traceback": [
      "\u001b[0;31m---------------------------------------------------------------------------\u001b[0m",
      "\u001b[0;31mNameError\u001b[0m                                 Traceback (most recent call last)",
      "Cell \u001b[0;32mIn[233], line 3\u001b[0m\n\u001b[1;32m      1\u001b[0m \u001b[38;5;28;01mfrom\u001b[39;00m \u001b[38;5;21;01msklearn\u001b[39;00m\u001b[38;5;21;01m.\u001b[39;00m\u001b[38;5;21;01mmodel_selection\u001b[39;00m \u001b[38;5;28;01mimport\u001b[39;00m train_test_split\n\u001b[1;32m      2\u001b[0m X_train, X_test, y_train, y_test \u001b[38;5;241m=\u001b[39m train_test_split(\n\u001b[0;32m----> 3\u001b[0m     wave_interpolate, y_list, test_size\u001b[38;5;241m=\u001b[39m\u001b[38;5;241m0.3\u001b[39m, random_state\u001b[38;5;241m=\u001b[39m\u001b[38;5;241m42\u001b[39m)\n",
      "\u001b[0;31mNameError\u001b[0m: name 'wave_interpolate' is not defined"
     ]
    }
   ],
   "source": [
    "from sklearn.model_selection import train_test_split\n",
    "X_train, X_test, y_train, y_test = train_test_split(\n",
    "    wave_interpolate, y_list, test_size=0.3, random_state=42)"
   ]
  },
  {
   "cell_type": "code",
   "execution_count": 235,
   "id": "YWK_8Q6rUEyq",
   "metadata": {
    "id": "YWK_8Q6rUEyq"
   },
   "outputs": [
    {
     "ename": "NameError",
     "evalue": "name 'wave_interpolate' is not defined",
     "output_type": "error",
     "traceback": [
      "\u001b[0;31m---------------------------------------------------------------------------\u001b[0m",
      "\u001b[0;31mNameError\u001b[0m                                 Traceback (most recent call last)",
      "Cell \u001b[0;32mIn[235], line 1\u001b[0m\n\u001b[0;32m----> 1\u001b[0m \u001b[38;5;28mprint\u001b[39m(\u001b[38;5;124mf\u001b[39m\u001b[38;5;124m\"\u001b[39m\u001b[38;5;124mwave_interpolate shape: \u001b[39m\u001b[38;5;132;01m{\u001b[39;00mwave_interpolate\u001b[38;5;241m.\u001b[39mshape\u001b[38;5;132;01m}\u001b[39;00m\u001b[38;5;124m\"\u001b[39m)\n\u001b[1;32m      2\u001b[0m \u001b[38;5;28mprint\u001b[39m(\u001b[38;5;124mf\u001b[39m\u001b[38;5;124m\"\u001b[39m\u001b[38;5;124my_list shape: \u001b[39m\u001b[38;5;132;01m{\u001b[39;00my_list\u001b[38;5;241m.\u001b[39mshape\u001b[38;5;132;01m}\u001b[39;00m\u001b[38;5;124m\"\u001b[39m)\n",
      "\u001b[0;31mNameError\u001b[0m: name 'wave_interpolate' is not defined"
     ]
    }
   ],
   "source": [
    "print(f\"wave_interpolate shape: {wave_interpolate.shape}\")\n",
    "print(f\"y_list shape: {y_list.shape}\")\n"
   ]
  },
  {
   "cell_type": "markdown",
   "id": "SXz7IgKMZocm",
   "metadata": {
    "id": "SXz7IgKMZocm",
    "jp-MarkdownHeadingCollapsed": true
   },
   "source": [
    "## Checking if the velocity amplitue duration follow the main sequence\n"
   ]
  },
  {
   "cell_type": "code",
   "execution_count": 238,
   "id": "qMbHvxYLUlZF",
   "metadata": {
    "id": "qMbHvxYLUlZF"
   },
   "outputs": [
    {
     "ename": "FileNotFoundError",
     "evalue": "[Errno 2] No such file or directory: '/content/main_seq.csv'",
     "output_type": "error",
     "traceback": [
      "\u001b[0;31m---------------------------------------------------------------------------\u001b[0m",
      "\u001b[0;31mFileNotFoundError\u001b[0m                         Traceback (most recent call last)",
      "Cell \u001b[0;32mIn[238], line 1\u001b[0m\n\u001b[0;32m----> 1\u001b[0m main_seq_data \u001b[38;5;241m=\u001b[39m pd\u001b[38;5;241m.\u001b[39mread_csv(\u001b[38;5;124mr\u001b[39m\u001b[38;5;124m\"\u001b[39m\u001b[38;5;124m/content/main_seq.csv\u001b[39m\u001b[38;5;124m\"\u001b[39m)\n\u001b[1;32m      2\u001b[0m \u001b[38;5;66;03m# main_seq_data.drop(main_seq_data,inplace=True)\u001b[39;00m\n\u001b[1;32m      3\u001b[0m main_seq_data\n",
      "File \u001b[0;32m/opt/anaconda3/lib/python3.12/site-packages/pandas/io/parsers/readers.py:1026\u001b[0m, in \u001b[0;36mread_csv\u001b[0;34m(filepath_or_buffer, sep, delimiter, header, names, index_col, usecols, dtype, engine, converters, true_values, false_values, skipinitialspace, skiprows, skipfooter, nrows, na_values, keep_default_na, na_filter, verbose, skip_blank_lines, parse_dates, infer_datetime_format, keep_date_col, date_parser, date_format, dayfirst, cache_dates, iterator, chunksize, compression, thousands, decimal, lineterminator, quotechar, quoting, doublequote, escapechar, comment, encoding, encoding_errors, dialect, on_bad_lines, delim_whitespace, low_memory, memory_map, float_precision, storage_options, dtype_backend)\u001b[0m\n\u001b[1;32m   1013\u001b[0m kwds_defaults \u001b[38;5;241m=\u001b[39m _refine_defaults_read(\n\u001b[1;32m   1014\u001b[0m     dialect,\n\u001b[1;32m   1015\u001b[0m     delimiter,\n\u001b[0;32m   (...)\u001b[0m\n\u001b[1;32m   1022\u001b[0m     dtype_backend\u001b[38;5;241m=\u001b[39mdtype_backend,\n\u001b[1;32m   1023\u001b[0m )\n\u001b[1;32m   1024\u001b[0m kwds\u001b[38;5;241m.\u001b[39mupdate(kwds_defaults)\n\u001b[0;32m-> 1026\u001b[0m \u001b[38;5;28;01mreturn\u001b[39;00m _read(filepath_or_buffer, kwds)\n",
      "File \u001b[0;32m/opt/anaconda3/lib/python3.12/site-packages/pandas/io/parsers/readers.py:620\u001b[0m, in \u001b[0;36m_read\u001b[0;34m(filepath_or_buffer, kwds)\u001b[0m\n\u001b[1;32m    617\u001b[0m _validate_names(kwds\u001b[38;5;241m.\u001b[39mget(\u001b[38;5;124m\"\u001b[39m\u001b[38;5;124mnames\u001b[39m\u001b[38;5;124m\"\u001b[39m, \u001b[38;5;28;01mNone\u001b[39;00m))\n\u001b[1;32m    619\u001b[0m \u001b[38;5;66;03m# Create the parser.\u001b[39;00m\n\u001b[0;32m--> 620\u001b[0m parser \u001b[38;5;241m=\u001b[39m TextFileReader(filepath_or_buffer, \u001b[38;5;241m*\u001b[39m\u001b[38;5;241m*\u001b[39mkwds)\n\u001b[1;32m    622\u001b[0m \u001b[38;5;28;01mif\u001b[39;00m chunksize \u001b[38;5;129;01mor\u001b[39;00m iterator:\n\u001b[1;32m    623\u001b[0m     \u001b[38;5;28;01mreturn\u001b[39;00m parser\n",
      "File \u001b[0;32m/opt/anaconda3/lib/python3.12/site-packages/pandas/io/parsers/readers.py:1620\u001b[0m, in \u001b[0;36mTextFileReader.__init__\u001b[0;34m(self, f, engine, **kwds)\u001b[0m\n\u001b[1;32m   1617\u001b[0m     \u001b[38;5;28mself\u001b[39m\u001b[38;5;241m.\u001b[39moptions[\u001b[38;5;124m\"\u001b[39m\u001b[38;5;124mhas_index_names\u001b[39m\u001b[38;5;124m\"\u001b[39m] \u001b[38;5;241m=\u001b[39m kwds[\u001b[38;5;124m\"\u001b[39m\u001b[38;5;124mhas_index_names\u001b[39m\u001b[38;5;124m\"\u001b[39m]\n\u001b[1;32m   1619\u001b[0m \u001b[38;5;28mself\u001b[39m\u001b[38;5;241m.\u001b[39mhandles: IOHandles \u001b[38;5;241m|\u001b[39m \u001b[38;5;28;01mNone\u001b[39;00m \u001b[38;5;241m=\u001b[39m \u001b[38;5;28;01mNone\u001b[39;00m\n\u001b[0;32m-> 1620\u001b[0m \u001b[38;5;28mself\u001b[39m\u001b[38;5;241m.\u001b[39m_engine \u001b[38;5;241m=\u001b[39m \u001b[38;5;28mself\u001b[39m\u001b[38;5;241m.\u001b[39m_make_engine(f, \u001b[38;5;28mself\u001b[39m\u001b[38;5;241m.\u001b[39mengine)\n",
      "File \u001b[0;32m/opt/anaconda3/lib/python3.12/site-packages/pandas/io/parsers/readers.py:1880\u001b[0m, in \u001b[0;36mTextFileReader._make_engine\u001b[0;34m(self, f, engine)\u001b[0m\n\u001b[1;32m   1878\u001b[0m     \u001b[38;5;28;01mif\u001b[39;00m \u001b[38;5;124m\"\u001b[39m\u001b[38;5;124mb\u001b[39m\u001b[38;5;124m\"\u001b[39m \u001b[38;5;129;01mnot\u001b[39;00m \u001b[38;5;129;01min\u001b[39;00m mode:\n\u001b[1;32m   1879\u001b[0m         mode \u001b[38;5;241m+\u001b[39m\u001b[38;5;241m=\u001b[39m \u001b[38;5;124m\"\u001b[39m\u001b[38;5;124mb\u001b[39m\u001b[38;5;124m\"\u001b[39m\n\u001b[0;32m-> 1880\u001b[0m \u001b[38;5;28mself\u001b[39m\u001b[38;5;241m.\u001b[39mhandles \u001b[38;5;241m=\u001b[39m get_handle(\n\u001b[1;32m   1881\u001b[0m     f,\n\u001b[1;32m   1882\u001b[0m     mode,\n\u001b[1;32m   1883\u001b[0m     encoding\u001b[38;5;241m=\u001b[39m\u001b[38;5;28mself\u001b[39m\u001b[38;5;241m.\u001b[39moptions\u001b[38;5;241m.\u001b[39mget(\u001b[38;5;124m\"\u001b[39m\u001b[38;5;124mencoding\u001b[39m\u001b[38;5;124m\"\u001b[39m, \u001b[38;5;28;01mNone\u001b[39;00m),\n\u001b[1;32m   1884\u001b[0m     compression\u001b[38;5;241m=\u001b[39m\u001b[38;5;28mself\u001b[39m\u001b[38;5;241m.\u001b[39moptions\u001b[38;5;241m.\u001b[39mget(\u001b[38;5;124m\"\u001b[39m\u001b[38;5;124mcompression\u001b[39m\u001b[38;5;124m\"\u001b[39m, \u001b[38;5;28;01mNone\u001b[39;00m),\n\u001b[1;32m   1885\u001b[0m     memory_map\u001b[38;5;241m=\u001b[39m\u001b[38;5;28mself\u001b[39m\u001b[38;5;241m.\u001b[39moptions\u001b[38;5;241m.\u001b[39mget(\u001b[38;5;124m\"\u001b[39m\u001b[38;5;124mmemory_map\u001b[39m\u001b[38;5;124m\"\u001b[39m, \u001b[38;5;28;01mFalse\u001b[39;00m),\n\u001b[1;32m   1886\u001b[0m     is_text\u001b[38;5;241m=\u001b[39mis_text,\n\u001b[1;32m   1887\u001b[0m     errors\u001b[38;5;241m=\u001b[39m\u001b[38;5;28mself\u001b[39m\u001b[38;5;241m.\u001b[39moptions\u001b[38;5;241m.\u001b[39mget(\u001b[38;5;124m\"\u001b[39m\u001b[38;5;124mencoding_errors\u001b[39m\u001b[38;5;124m\"\u001b[39m, \u001b[38;5;124m\"\u001b[39m\u001b[38;5;124mstrict\u001b[39m\u001b[38;5;124m\"\u001b[39m),\n\u001b[1;32m   1888\u001b[0m     storage_options\u001b[38;5;241m=\u001b[39m\u001b[38;5;28mself\u001b[39m\u001b[38;5;241m.\u001b[39moptions\u001b[38;5;241m.\u001b[39mget(\u001b[38;5;124m\"\u001b[39m\u001b[38;5;124mstorage_options\u001b[39m\u001b[38;5;124m\"\u001b[39m, \u001b[38;5;28;01mNone\u001b[39;00m),\n\u001b[1;32m   1889\u001b[0m )\n\u001b[1;32m   1890\u001b[0m \u001b[38;5;28;01massert\u001b[39;00m \u001b[38;5;28mself\u001b[39m\u001b[38;5;241m.\u001b[39mhandles \u001b[38;5;129;01mis\u001b[39;00m \u001b[38;5;129;01mnot\u001b[39;00m \u001b[38;5;28;01mNone\u001b[39;00m\n\u001b[1;32m   1891\u001b[0m f \u001b[38;5;241m=\u001b[39m \u001b[38;5;28mself\u001b[39m\u001b[38;5;241m.\u001b[39mhandles\u001b[38;5;241m.\u001b[39mhandle\n",
      "File \u001b[0;32m/opt/anaconda3/lib/python3.12/site-packages/pandas/io/common.py:873\u001b[0m, in \u001b[0;36mget_handle\u001b[0;34m(path_or_buf, mode, encoding, compression, memory_map, is_text, errors, storage_options)\u001b[0m\n\u001b[1;32m    868\u001b[0m \u001b[38;5;28;01melif\u001b[39;00m \u001b[38;5;28misinstance\u001b[39m(handle, \u001b[38;5;28mstr\u001b[39m):\n\u001b[1;32m    869\u001b[0m     \u001b[38;5;66;03m# Check whether the filename is to be opened in binary mode.\u001b[39;00m\n\u001b[1;32m    870\u001b[0m     \u001b[38;5;66;03m# Binary mode does not support 'encoding' and 'newline'.\u001b[39;00m\n\u001b[1;32m    871\u001b[0m     \u001b[38;5;28;01mif\u001b[39;00m ioargs\u001b[38;5;241m.\u001b[39mencoding \u001b[38;5;129;01mand\u001b[39;00m \u001b[38;5;124m\"\u001b[39m\u001b[38;5;124mb\u001b[39m\u001b[38;5;124m\"\u001b[39m \u001b[38;5;129;01mnot\u001b[39;00m \u001b[38;5;129;01min\u001b[39;00m ioargs\u001b[38;5;241m.\u001b[39mmode:\n\u001b[1;32m    872\u001b[0m         \u001b[38;5;66;03m# Encoding\u001b[39;00m\n\u001b[0;32m--> 873\u001b[0m         handle \u001b[38;5;241m=\u001b[39m \u001b[38;5;28mopen\u001b[39m(\n\u001b[1;32m    874\u001b[0m             handle,\n\u001b[1;32m    875\u001b[0m             ioargs\u001b[38;5;241m.\u001b[39mmode,\n\u001b[1;32m    876\u001b[0m             encoding\u001b[38;5;241m=\u001b[39mioargs\u001b[38;5;241m.\u001b[39mencoding,\n\u001b[1;32m    877\u001b[0m             errors\u001b[38;5;241m=\u001b[39merrors,\n\u001b[1;32m    878\u001b[0m             newline\u001b[38;5;241m=\u001b[39m\u001b[38;5;124m\"\u001b[39m\u001b[38;5;124m\"\u001b[39m,\n\u001b[1;32m    879\u001b[0m         )\n\u001b[1;32m    880\u001b[0m     \u001b[38;5;28;01melse\u001b[39;00m:\n\u001b[1;32m    881\u001b[0m         \u001b[38;5;66;03m# Binary mode\u001b[39;00m\n\u001b[1;32m    882\u001b[0m         handle \u001b[38;5;241m=\u001b[39m \u001b[38;5;28mopen\u001b[39m(handle, ioargs\u001b[38;5;241m.\u001b[39mmode)\n",
      "\u001b[0;31mFileNotFoundError\u001b[0m: [Errno 2] No such file or directory: '/content/main_seq.csv'"
     ]
    }
   ],
   "source": [
    "main_seq_data = pd.read_csv(r\"/content/main_seq.csv\")\n",
    "# main_seq_data.drop(main_seq_data,inplace=True)\n",
    "main_seq_data\n",
    "# main_seq_data.columns = [\"vel\",\"amp\",\"dur\"]\n",
    "# main_seq_data.amplitude = main_seq_data.amplitude.applymap(lambda x: np.abs(x))\n",
    "# df = df.applymap(lambda x: x + 1)"
   ]
  },
  {
   "cell_type": "code",
   "execution_count": 240,
   "id": "CHeiWFFaZ-hg",
   "metadata": {
    "id": "CHeiWFFaZ-hg"
   },
   "outputs": [
    {
     "ename": "NameError",
     "evalue": "name 'main_seq_data' is not defined",
     "output_type": "error",
     "traceback": [
      "\u001b[0;31m---------------------------------------------------------------------------\u001b[0m",
      "\u001b[0;31mNameError\u001b[0m                                 Traceback (most recent call last)",
      "Cell \u001b[0;32mIn[240], line 1\u001b[0m\n\u001b[0;32m----> 1\u001b[0m plt\u001b[38;5;241m.\u001b[39mscatter(main_seq_data\u001b[38;5;241m.\u001b[39mamp,main_seq_data\u001b[38;5;241m.\u001b[39mdur)\n\u001b[1;32m      2\u001b[0m plt\u001b[38;5;241m.\u001b[39mxlabel(\u001b[38;5;124m\"\u001b[39m\u001b[38;5;124mAmplitude\u001b[39m\u001b[38;5;124m\"\u001b[39m)\n\u001b[1;32m      3\u001b[0m plt\u001b[38;5;241m.\u001b[39mylabel(\u001b[38;5;124m\"\u001b[39m\u001b[38;5;124mDuration\u001b[39m\u001b[38;5;124m\"\u001b[39m)\n",
      "\u001b[0;31mNameError\u001b[0m: name 'main_seq_data' is not defined"
     ]
    }
   ],
   "source": [
    "plt.scatter(main_seq_data.amp,main_seq_data.dur)\n",
    "plt.xlabel(\"Amplitude\")\n",
    "plt.ylabel(\"Duration\")"
   ]
  },
  {
   "cell_type": "code",
   "execution_count": 242,
   "id": "wwiwvBkSaRbJ",
   "metadata": {
    "id": "wwiwvBkSaRbJ"
   },
   "outputs": [
    {
     "ename": "NameError",
     "evalue": "name 'main_seq_data' is not defined",
     "output_type": "error",
     "traceback": [
      "\u001b[0;31m---------------------------------------------------------------------------\u001b[0m",
      "\u001b[0;31mNameError\u001b[0m                                 Traceback (most recent call last)",
      "Cell \u001b[0;32mIn[242], line 2\u001b[0m\n\u001b[1;32m      1\u001b[0m \u001b[38;5;28;01mfrom\u001b[39;00m \u001b[38;5;21;01msklearn\u001b[39;00m \u001b[38;5;28;01mimport\u001b[39;00m datasets, linear_model\n\u001b[0;32m----> 2\u001b[0m x \u001b[38;5;241m=\u001b[39m  main_seq_data\u001b[38;5;241m.\u001b[39mamp\u001b[38;5;241m.\u001b[39mvalues\u001b[38;5;241m.\u001b[39mreshape(\u001b[38;5;241m36000\u001b[39m,\u001b[38;5;241m1\u001b[39m)\n\u001b[1;32m      3\u001b[0m y \u001b[38;5;241m=\u001b[39mmain_seq_data\u001b[38;5;241m.\u001b[39mdur\u001b[38;5;241m.\u001b[39mvalues\u001b[38;5;241m.\u001b[39mreshape(\u001b[38;5;241m36000\u001b[39m,\u001b[38;5;241m1\u001b[39m)\n\u001b[1;32m      4\u001b[0m regr \u001b[38;5;241m=\u001b[39m linear_model\u001b[38;5;241m.\u001b[39mLinearRegression()\n",
      "\u001b[0;31mNameError\u001b[0m: name 'main_seq_data' is not defined"
     ]
    }
   ],
   "source": [
    "from sklearn import datasets, linear_model\n",
    "x =  main_seq_data.amp.values.reshape(36000,1)\n",
    "y =main_seq_data.dur.values.reshape(36000,1)\n",
    "regr = linear_model.LinearRegression()\n",
    "regr.fit(x, y)\n",
    "\n",
    "# plot it as in the example at http://scikit-learn.org/\n",
    "plt.scatter(x, y,  color='black')\n",
    "plt.plot(x, regr.predict(x), color='blue', linewidth=3)\n",
    "plt.xticks(())\n",
    "plt.yticks(())\n",
    "plt.show()"
   ]
  },
  {
   "cell_type": "code",
   "execution_count": null,
   "id": "AamelrGAbJYX",
   "metadata": {
    "colab": {
     "base_uri": "https://localhost:8080/"
    },
    "id": "AamelrGAbJYX",
    "outputId": "6713bb86-df5b-4396-89e5-9ba4f77c3360"
   },
   "outputs": [],
   "source": [
    "regr.coef_*1000"
   ]
  },
  {
   "cell_type": "code",
   "execution_count": 245,
   "id": "hQsjNUm7bMt9",
   "metadata": {
    "colab": {
     "base_uri": "https://localhost:8080/"
    },
    "id": "hQsjNUm7bMt9",
    "outputId": "6a0fc90a-c922-4fdf-d199-b6fc482914e5"
   },
   "outputs": [
    {
     "ename": "NameError",
     "evalue": "name 'regr' is not defined",
     "output_type": "error",
     "traceback": [
      "\u001b[0;31m---------------------------------------------------------------------------\u001b[0m",
      "\u001b[0;31mNameError\u001b[0m                                 Traceback (most recent call last)",
      "Cell \u001b[0;32mIn[245], line 1\u001b[0m\n\u001b[0;32m----> 1\u001b[0m regr\u001b[38;5;241m.\u001b[39mintercept_\u001b[38;5;241m*\u001b[39m\u001b[38;5;241m1000\u001b[39m\n",
      "\u001b[0;31mNameError\u001b[0m: name 'regr' is not defined"
     ]
    }
   ],
   "source": [
    "regr.intercept_*1000"
   ]
  },
  {
   "cell_type": "markdown",
   "id": "WGDbsHpLibfE",
   "metadata": {
    "id": "WGDbsHpLibfE",
    "jp-MarkdownHeadingCollapsed": true
   },
   "source": [
    "## Showing oth fitted curve and data for the velocity generation"
   ]
  },
  {
   "cell_type": "markdown",
   "id": "AuskT-J1jSRp",
   "metadata": {
    "id": "AuskT-J1jSRp"
   },
   "source": []
  },
  {
   "cell_type": "code",
   "execution_count": 249,
   "id": "hJyD6waUcX9-",
   "metadata": {
    "id": "hJyD6waUcX9-"
   },
   "outputs": [
    {
     "ename": "FileNotFoundError",
     "evalue": "[Errno 2] No such file or directory: '/content/xy_data_amp_less_than_6.txt'",
     "output_type": "error",
     "traceback": [
      "\u001b[0;31m---------------------------------------------------------------------------\u001b[0m",
      "\u001b[0;31mFileNotFoundError\u001b[0m                         Traceback (most recent call last)",
      "Cell \u001b[0;32mIn[249], line 1\u001b[0m\n\u001b[0;32m----> 1\u001b[0m xy_1 \u001b[38;5;241m=\u001b[39m pd\u001b[38;5;241m.\u001b[39mread_csv(\u001b[38;5;124m\"\u001b[39m\u001b[38;5;124m/content/xy_data_amp_less_than_6.txt\u001b[39m\u001b[38;5;124m\"\u001b[39m, sep\u001b[38;5;241m=\u001b[39m\u001b[38;5;124m\"\u001b[39m\u001b[38;5;130;01m\\t\u001b[39;00m\u001b[38;5;124m\"\u001b[39m, header \u001b[38;5;241m=\u001b[39m \u001b[38;5;28;01mNone\u001b[39;00m, names\u001b[38;5;241m=\u001b[39m[\u001b[38;5;124m\"\u001b[39m\u001b[38;5;124mamp\u001b[39m\u001b[38;5;124m\"\u001b[39m,\u001b[38;5;124m\"\u001b[39m\u001b[38;5;124mvel\u001b[39m\u001b[38;5;124m\"\u001b[39m])\n\u001b[1;32m      2\u001b[0m xy_2 \u001b[38;5;241m=\u001b[39m pd\u001b[38;5;241m.\u001b[39mread_csv(\u001b[38;5;124m\"\u001b[39m\u001b[38;5;124m/content/xy_data_curve_fitting.txt\u001b[39m\u001b[38;5;124m\"\u001b[39m, sep\u001b[38;5;241m=\u001b[39m\u001b[38;5;124m\"\u001b[39m\u001b[38;5;130;01m\\t\u001b[39;00m\u001b[38;5;124m\"\u001b[39m, header \u001b[38;5;241m=\u001b[39m \u001b[38;5;28;01mNone\u001b[39;00m, names\u001b[38;5;241m=\u001b[39m[\u001b[38;5;124m\"\u001b[39m\u001b[38;5;124mamp\u001b[39m\u001b[38;5;124m\"\u001b[39m,\u001b[38;5;124m\"\u001b[39m\u001b[38;5;124mvel\u001b[39m\u001b[38;5;124m\"\u001b[39m])\n",
      "File \u001b[0;32m/opt/anaconda3/lib/python3.12/site-packages/pandas/io/parsers/readers.py:1026\u001b[0m, in \u001b[0;36mread_csv\u001b[0;34m(filepath_or_buffer, sep, delimiter, header, names, index_col, usecols, dtype, engine, converters, true_values, false_values, skipinitialspace, skiprows, skipfooter, nrows, na_values, keep_default_na, na_filter, verbose, skip_blank_lines, parse_dates, infer_datetime_format, keep_date_col, date_parser, date_format, dayfirst, cache_dates, iterator, chunksize, compression, thousands, decimal, lineterminator, quotechar, quoting, doublequote, escapechar, comment, encoding, encoding_errors, dialect, on_bad_lines, delim_whitespace, low_memory, memory_map, float_precision, storage_options, dtype_backend)\u001b[0m\n\u001b[1;32m   1013\u001b[0m kwds_defaults \u001b[38;5;241m=\u001b[39m _refine_defaults_read(\n\u001b[1;32m   1014\u001b[0m     dialect,\n\u001b[1;32m   1015\u001b[0m     delimiter,\n\u001b[0;32m   (...)\u001b[0m\n\u001b[1;32m   1022\u001b[0m     dtype_backend\u001b[38;5;241m=\u001b[39mdtype_backend,\n\u001b[1;32m   1023\u001b[0m )\n\u001b[1;32m   1024\u001b[0m kwds\u001b[38;5;241m.\u001b[39mupdate(kwds_defaults)\n\u001b[0;32m-> 1026\u001b[0m \u001b[38;5;28;01mreturn\u001b[39;00m _read(filepath_or_buffer, kwds)\n",
      "File \u001b[0;32m/opt/anaconda3/lib/python3.12/site-packages/pandas/io/parsers/readers.py:620\u001b[0m, in \u001b[0;36m_read\u001b[0;34m(filepath_or_buffer, kwds)\u001b[0m\n\u001b[1;32m    617\u001b[0m _validate_names(kwds\u001b[38;5;241m.\u001b[39mget(\u001b[38;5;124m\"\u001b[39m\u001b[38;5;124mnames\u001b[39m\u001b[38;5;124m\"\u001b[39m, \u001b[38;5;28;01mNone\u001b[39;00m))\n\u001b[1;32m    619\u001b[0m \u001b[38;5;66;03m# Create the parser.\u001b[39;00m\n\u001b[0;32m--> 620\u001b[0m parser \u001b[38;5;241m=\u001b[39m TextFileReader(filepath_or_buffer, \u001b[38;5;241m*\u001b[39m\u001b[38;5;241m*\u001b[39mkwds)\n\u001b[1;32m    622\u001b[0m \u001b[38;5;28;01mif\u001b[39;00m chunksize \u001b[38;5;129;01mor\u001b[39;00m iterator:\n\u001b[1;32m    623\u001b[0m     \u001b[38;5;28;01mreturn\u001b[39;00m parser\n",
      "File \u001b[0;32m/opt/anaconda3/lib/python3.12/site-packages/pandas/io/parsers/readers.py:1620\u001b[0m, in \u001b[0;36mTextFileReader.__init__\u001b[0;34m(self, f, engine, **kwds)\u001b[0m\n\u001b[1;32m   1617\u001b[0m     \u001b[38;5;28mself\u001b[39m\u001b[38;5;241m.\u001b[39moptions[\u001b[38;5;124m\"\u001b[39m\u001b[38;5;124mhas_index_names\u001b[39m\u001b[38;5;124m\"\u001b[39m] \u001b[38;5;241m=\u001b[39m kwds[\u001b[38;5;124m\"\u001b[39m\u001b[38;5;124mhas_index_names\u001b[39m\u001b[38;5;124m\"\u001b[39m]\n\u001b[1;32m   1619\u001b[0m \u001b[38;5;28mself\u001b[39m\u001b[38;5;241m.\u001b[39mhandles: IOHandles \u001b[38;5;241m|\u001b[39m \u001b[38;5;28;01mNone\u001b[39;00m \u001b[38;5;241m=\u001b[39m \u001b[38;5;28;01mNone\u001b[39;00m\n\u001b[0;32m-> 1620\u001b[0m \u001b[38;5;28mself\u001b[39m\u001b[38;5;241m.\u001b[39m_engine \u001b[38;5;241m=\u001b[39m \u001b[38;5;28mself\u001b[39m\u001b[38;5;241m.\u001b[39m_make_engine(f, \u001b[38;5;28mself\u001b[39m\u001b[38;5;241m.\u001b[39mengine)\n",
      "File \u001b[0;32m/opt/anaconda3/lib/python3.12/site-packages/pandas/io/parsers/readers.py:1880\u001b[0m, in \u001b[0;36mTextFileReader._make_engine\u001b[0;34m(self, f, engine)\u001b[0m\n\u001b[1;32m   1878\u001b[0m     \u001b[38;5;28;01mif\u001b[39;00m \u001b[38;5;124m\"\u001b[39m\u001b[38;5;124mb\u001b[39m\u001b[38;5;124m\"\u001b[39m \u001b[38;5;129;01mnot\u001b[39;00m \u001b[38;5;129;01min\u001b[39;00m mode:\n\u001b[1;32m   1879\u001b[0m         mode \u001b[38;5;241m+\u001b[39m\u001b[38;5;241m=\u001b[39m \u001b[38;5;124m\"\u001b[39m\u001b[38;5;124mb\u001b[39m\u001b[38;5;124m\"\u001b[39m\n\u001b[0;32m-> 1880\u001b[0m \u001b[38;5;28mself\u001b[39m\u001b[38;5;241m.\u001b[39mhandles \u001b[38;5;241m=\u001b[39m get_handle(\n\u001b[1;32m   1881\u001b[0m     f,\n\u001b[1;32m   1882\u001b[0m     mode,\n\u001b[1;32m   1883\u001b[0m     encoding\u001b[38;5;241m=\u001b[39m\u001b[38;5;28mself\u001b[39m\u001b[38;5;241m.\u001b[39moptions\u001b[38;5;241m.\u001b[39mget(\u001b[38;5;124m\"\u001b[39m\u001b[38;5;124mencoding\u001b[39m\u001b[38;5;124m\"\u001b[39m, \u001b[38;5;28;01mNone\u001b[39;00m),\n\u001b[1;32m   1884\u001b[0m     compression\u001b[38;5;241m=\u001b[39m\u001b[38;5;28mself\u001b[39m\u001b[38;5;241m.\u001b[39moptions\u001b[38;5;241m.\u001b[39mget(\u001b[38;5;124m\"\u001b[39m\u001b[38;5;124mcompression\u001b[39m\u001b[38;5;124m\"\u001b[39m, \u001b[38;5;28;01mNone\u001b[39;00m),\n\u001b[1;32m   1885\u001b[0m     memory_map\u001b[38;5;241m=\u001b[39m\u001b[38;5;28mself\u001b[39m\u001b[38;5;241m.\u001b[39moptions\u001b[38;5;241m.\u001b[39mget(\u001b[38;5;124m\"\u001b[39m\u001b[38;5;124mmemory_map\u001b[39m\u001b[38;5;124m\"\u001b[39m, \u001b[38;5;28;01mFalse\u001b[39;00m),\n\u001b[1;32m   1886\u001b[0m     is_text\u001b[38;5;241m=\u001b[39mis_text,\n\u001b[1;32m   1887\u001b[0m     errors\u001b[38;5;241m=\u001b[39m\u001b[38;5;28mself\u001b[39m\u001b[38;5;241m.\u001b[39moptions\u001b[38;5;241m.\u001b[39mget(\u001b[38;5;124m\"\u001b[39m\u001b[38;5;124mencoding_errors\u001b[39m\u001b[38;5;124m\"\u001b[39m, \u001b[38;5;124m\"\u001b[39m\u001b[38;5;124mstrict\u001b[39m\u001b[38;5;124m\"\u001b[39m),\n\u001b[1;32m   1888\u001b[0m     storage_options\u001b[38;5;241m=\u001b[39m\u001b[38;5;28mself\u001b[39m\u001b[38;5;241m.\u001b[39moptions\u001b[38;5;241m.\u001b[39mget(\u001b[38;5;124m\"\u001b[39m\u001b[38;5;124mstorage_options\u001b[39m\u001b[38;5;124m\"\u001b[39m, \u001b[38;5;28;01mNone\u001b[39;00m),\n\u001b[1;32m   1889\u001b[0m )\n\u001b[1;32m   1890\u001b[0m \u001b[38;5;28;01massert\u001b[39;00m \u001b[38;5;28mself\u001b[39m\u001b[38;5;241m.\u001b[39mhandles \u001b[38;5;129;01mis\u001b[39;00m \u001b[38;5;129;01mnot\u001b[39;00m \u001b[38;5;28;01mNone\u001b[39;00m\n\u001b[1;32m   1891\u001b[0m f \u001b[38;5;241m=\u001b[39m \u001b[38;5;28mself\u001b[39m\u001b[38;5;241m.\u001b[39mhandles\u001b[38;5;241m.\u001b[39mhandle\n",
      "File \u001b[0;32m/opt/anaconda3/lib/python3.12/site-packages/pandas/io/common.py:873\u001b[0m, in \u001b[0;36mget_handle\u001b[0;34m(path_or_buf, mode, encoding, compression, memory_map, is_text, errors, storage_options)\u001b[0m\n\u001b[1;32m    868\u001b[0m \u001b[38;5;28;01melif\u001b[39;00m \u001b[38;5;28misinstance\u001b[39m(handle, \u001b[38;5;28mstr\u001b[39m):\n\u001b[1;32m    869\u001b[0m     \u001b[38;5;66;03m# Check whether the filename is to be opened in binary mode.\u001b[39;00m\n\u001b[1;32m    870\u001b[0m     \u001b[38;5;66;03m# Binary mode does not support 'encoding' and 'newline'.\u001b[39;00m\n\u001b[1;32m    871\u001b[0m     \u001b[38;5;28;01mif\u001b[39;00m ioargs\u001b[38;5;241m.\u001b[39mencoding \u001b[38;5;129;01mand\u001b[39;00m \u001b[38;5;124m\"\u001b[39m\u001b[38;5;124mb\u001b[39m\u001b[38;5;124m\"\u001b[39m \u001b[38;5;129;01mnot\u001b[39;00m \u001b[38;5;129;01min\u001b[39;00m ioargs\u001b[38;5;241m.\u001b[39mmode:\n\u001b[1;32m    872\u001b[0m         \u001b[38;5;66;03m# Encoding\u001b[39;00m\n\u001b[0;32m--> 873\u001b[0m         handle \u001b[38;5;241m=\u001b[39m \u001b[38;5;28mopen\u001b[39m(\n\u001b[1;32m    874\u001b[0m             handle,\n\u001b[1;32m    875\u001b[0m             ioargs\u001b[38;5;241m.\u001b[39mmode,\n\u001b[1;32m    876\u001b[0m             encoding\u001b[38;5;241m=\u001b[39mioargs\u001b[38;5;241m.\u001b[39mencoding,\n\u001b[1;32m    877\u001b[0m             errors\u001b[38;5;241m=\u001b[39merrors,\n\u001b[1;32m    878\u001b[0m             newline\u001b[38;5;241m=\u001b[39m\u001b[38;5;124m\"\u001b[39m\u001b[38;5;124m\"\u001b[39m,\n\u001b[1;32m    879\u001b[0m         )\n\u001b[1;32m    880\u001b[0m     \u001b[38;5;28;01melse\u001b[39;00m:\n\u001b[1;32m    881\u001b[0m         \u001b[38;5;66;03m# Binary mode\u001b[39;00m\n\u001b[1;32m    882\u001b[0m         handle \u001b[38;5;241m=\u001b[39m \u001b[38;5;28mopen\u001b[39m(handle, ioargs\u001b[38;5;241m.\u001b[39mmode)\n",
      "\u001b[0;31mFileNotFoundError\u001b[0m: [Errno 2] No such file or directory: '/content/xy_data_amp_less_than_6.txt'"
     ]
    }
   ],
   "source": [
    "xy_1 = pd.read_csv(\"/content/xy_data_amp_less_than_6.txt\", sep=\"\\t\", header = None, names=[\"amp\",\"vel\"])\n",
    "xy_2 = pd.read_csv(\"/content/xy_data_curve_fitting.txt\", sep=\"\\t\", header = None, names=[\"amp\",\"vel\"])\n"
   ]
  },
  {
   "cell_type": "code",
   "execution_count": null,
   "id": "eXWR3txjjwMf",
   "metadata": {
    "colab": {
     "base_uri": "https://localhost:8080/",
     "height": 280
    },
    "id": "eXWR3txjjwMf",
    "outputId": "3b82f7ae-2af2-4eba-d271-56e9f30556b6"
   },
   "outputs": [
    {
     "ename": "RuntimeError",
     "evalue": "Optimal parameters not found: Number of calls to function has reached maxfev = 800.",
     "output_type": "error",
     "traceback": [
      "\u001b[0;31m---------------------------------------------------------------------------\u001b[0m",
      "\u001b[0;31mRuntimeError\u001b[0m                              Traceback (most recent call last)",
      "\u001b[0;32m<ipython-input-67-8638d0f353c4>\u001b[0m in \u001b[0;36m<cell line: 1>\u001b[0;34m()\u001b[0m\n\u001b[0;32m----> 1\u001b[0;31m \u001b[0mpopt_fs\u001b[0m\u001b[0;34m,\u001b[0m \u001b[0mpcov_fs\u001b[0m \u001b[0;34m=\u001b[0m \u001b[0mcurve_fit\u001b[0m\u001b[0;34m(\u001b[0m\u001b[0mfunc_fixsqrt\u001b[0m\u001b[0;34m,\u001b[0m \u001b[0mxy_2\u001b[0m\u001b[0;34m.\u001b[0m\u001b[0mvel\u001b[0m\u001b[0;34m,\u001b[0m \u001b[0mxy_2\u001b[0m\u001b[0;34m.\u001b[0m\u001b[0mamp\u001b[0m\u001b[0;34m)\u001b[0m\u001b[0;34m\u001b[0m\u001b[0;34m\u001b[0m\u001b[0m\n\u001b[0m",
      "\u001b[0;32m/usr/local/lib/python3.10/dist-packages/scipy/optimize/_minpack_py.py\u001b[0m in \u001b[0;36mcurve_fit\u001b[0;34m(f, xdata, ydata, p0, sigma, absolute_sigma, check_finite, bounds, method, jac, full_output, nan_policy, **kwargs)\u001b[0m\n\u001b[1;32m   1003\u001b[0m         \u001b[0mcost\u001b[0m \u001b[0;34m=\u001b[0m \u001b[0mnp\u001b[0m\u001b[0;34m.\u001b[0m\u001b[0msum\u001b[0m\u001b[0;34m(\u001b[0m\u001b[0minfodict\u001b[0m\u001b[0;34m[\u001b[0m\u001b[0;34m'fvec'\u001b[0m\u001b[0;34m]\u001b[0m \u001b[0;34m**\u001b[0m \u001b[0;36m2\u001b[0m\u001b[0;34m)\u001b[0m\u001b[0;34m\u001b[0m\u001b[0;34m\u001b[0m\u001b[0m\n\u001b[1;32m   1004\u001b[0m         \u001b[0;32mif\u001b[0m \u001b[0mier\u001b[0m \u001b[0;32mnot\u001b[0m \u001b[0;32min\u001b[0m \u001b[0;34m[\u001b[0m\u001b[0;36m1\u001b[0m\u001b[0;34m,\u001b[0m \u001b[0;36m2\u001b[0m\u001b[0;34m,\u001b[0m \u001b[0;36m3\u001b[0m\u001b[0;34m,\u001b[0m \u001b[0;36m4\u001b[0m\u001b[0;34m]\u001b[0m\u001b[0;34m:\u001b[0m\u001b[0;34m\u001b[0m\u001b[0;34m\u001b[0m\u001b[0m\n\u001b[0;32m-> 1005\u001b[0;31m             \u001b[0;32mraise\u001b[0m \u001b[0mRuntimeError\u001b[0m\u001b[0;34m(\u001b[0m\u001b[0;34m\"Optimal parameters not found: \"\u001b[0m \u001b[0;34m+\u001b[0m \u001b[0merrmsg\u001b[0m\u001b[0;34m)\u001b[0m\u001b[0;34m\u001b[0m\u001b[0;34m\u001b[0m\u001b[0m\n\u001b[0m\u001b[1;32m   1006\u001b[0m     \u001b[0;32melse\u001b[0m\u001b[0;34m:\u001b[0m\u001b[0;34m\u001b[0m\u001b[0;34m\u001b[0m\u001b[0m\n\u001b[1;32m   1007\u001b[0m         \u001b[0;31m# Rename maxfev (leastsq) to max_nfev (least_squares), if specified.\u001b[0m\u001b[0;34m\u001b[0m\u001b[0;34m\u001b[0m\u001b[0m\n",
      "\u001b[0;31mRuntimeError\u001b[0m: Optimal parameters not found: Number of calls to function has reached maxfev = 800."
     ]
    }
   ],
   "source": [
    "popt_fs, pcov_fs = curve_fit(func_fixsqrt, xy_2.amp, xy_2.vel)"
   ]
  },
  {
   "cell_type": "code",
   "execution_count": null,
   "id": "x6NgPyJLjIcR",
   "metadata": {
    "colab": {
     "base_uri": "https://localhost:8080/",
     "height": 447
    },
    "id": "x6NgPyJLjIcR",
    "outputId": "a3a8ef1d-2a39-4fae-8d88-584d2a59c1da"
   },
   "outputs": [
    {
     "data": {
      "text/plain": [
       "[<matplotlib.lines.Line2D at 0x7be7b7c769e0>]"
      ]
     },
     "execution_count": 104,
     "metadata": {},
     "output_type": "execute_result"
    },
    {
     "data": {
      "image/png": "[encoded data removed]",
      "text/plain": [
       "<Figure size 640x480 with 1 Axes>"
      ]
     },
     "metadata": {},
     "output_type": "display_data"
    }
   ],
   "source": [
    "xy = pd.concat([xy_1,xy_2])\n",
    "plt.scatter(xy.amp,xy.vel)\n",
    "ran_x = np.linspace(6,26,50)\n",
    "y = func_fixsqrt(ran_x, *popt_fs)\n",
    "ran_x2 = np.linspace(0,6,10)\n",
    "y2 = func_exp(ran_x2,*popt_exp)\n",
    "plt.plot(ran_x,y)\n",
    "plt.plot(ran_x2,y2)"
   ]
  },
  {
   "cell_type": "code",
   "execution_count": null,
   "id": "cwivHtbXkZ-K",
   "metadata": {
    "id": "cwivHtbXkZ-K"
   },
   "outputs": [],
   "source": []
  },
  {
   "cell_type": "markdown",
   "id": "1XntqMpLzknK",
   "metadata": {
    "id": "1XntqMpLzknK"
   },
   "source": [
    "## ttt"
   ]
  },
  {
   "cell_type": "code",
   "execution_count": 89,
   "id": "arnGMB2IzfvN",
   "metadata": {
    "id": "arnGMB2IzfvN"
   },
   "outputs": [],
   "source": [
    "import numpy as np\n",
    "import tensorflow as tf\n",
    "from tensorflow import keras\n",
    "from keras.models import Sequential\n",
    "from keras.layers import Conv1D, MaxPooling1D, Flatten, Dense, Dropout\n",
    "from keras.utils import to_categorical\n",
    "from keras.callbacks import EarlyStopping"
   ]
  },
  {
   "cell_type": "code",
   "execution_count": 90,
   "id": "5385f887-aadf-46a1-8177-7df43ace01e5",
   "metadata": {
    "id": "5385f887-aadf-46a1-8177-7df43ace01e5"
   },
   "outputs": [
    {
     "name": "stdout",
     "output_type": "stream",
     "text": [
      "Num GPUs Available:  0\n"
     ]
    }
   ],
   "source": [
    "print(\"Num GPUs Available: \", len(tf.config.list_physical_devices('GPU')))"
   ]
  },
  {
   "cell_type": "markdown",
   "id": "592862d8-e74f-401d-97e5-00f2d817a7be",
   "metadata": {},
   "source": [
    "### 1000 Hz Model Run"
   ]
  },
  {
   "cell_type": "code",
   "execution_count": 94,
   "id": "96d3b39a-11da-46ff-85e7-50a7b30c4e0d",
   "metadata": {},
   "outputs": [
    {
     "data": {
      "text/plain": [
       "[<matplotlib.lines.Line2D at 0x31e040500>]"
      ]
     },
     "execution_count": 94,
     "metadata": {},
     "output_type": "execute_result"
    },
    {
     "data": {
      "image/png": "[encoded data removed]",
      "text/plain": [
       "<Figure size 640x480 with 1 Axes>"
      ]
     },
     "metadata": {},
     "output_type": "display_data"
    }
   ],
   "source": [
    "# Normal Saccade\n",
    "plt.plot(wave_1000.index,wave_1000.iloc[:,0])"
   ]
  },
  {
   "cell_type": "code",
   "execution_count": 96,
   "id": "d460a7b7-96f2-4dcd-861e-1e1ceef8c2a8",
   "metadata": {},
   "outputs": [
    {
     "data": {
      "text/plain": [
       "[<matplotlib.lines.Line2D at 0x31e1ad970>]"
      ]
     },
     "execution_count": 96,
     "metadata": {},
     "output_type": "execute_result"
    },
    {
     "data": {
      "image/png": "[encoded data removed]",
      "text/plain": [
       "<Figure size 640x480 with 1 Axes>"
      ]
     },
     "metadata": {},
     "output_type": "display_data"
    }
   ],
   "source": [
    "# Bilateral Hypometric\n",
    "plt.plot(wave_1000.index,wave_1000.iloc[:,201])"
   ]
  },
  {
   "cell_type": "code",
   "execution_count": 98,
   "id": "c2110c51-0b45-416d-912e-6232d68f6b03",
   "metadata": {},
   "outputs": [
    {
     "data": {
      "text/plain": [
       "[<matplotlib.lines.Line2D at 0x31e2108f0>]"
      ]
     },
     "execution_count": 98,
     "metadata": {},
     "output_type": "execute_result"
    },
    {
     "data": {
      "image/png": "[encoded data removed]",
      "text/plain": [
       "<Figure size 640x480 with 1 Axes>"
      ]
     },
     "metadata": {},
     "output_type": "display_data"
    }
   ],
   "source": [
    "# Bilateral Hypermetric\n",
    "plt.plot(wave_1000.index,wave_1000.iloc[:,401])"
   ]
  },
  {
   "cell_type": "code",
   "execution_count": 100,
   "id": "34e4886a-bb0e-40af-bd7a-d678c9398830",
   "metadata": {},
   "outputs": [
    {
     "data": {
      "text/plain": [
       "[<matplotlib.lines.Line2D at 0x31e2e5d60>]"
      ]
     },
     "execution_count": 100,
     "metadata": {},
     "output_type": "execute_result"
    },
    {
     "data": {
      "image/png": "[encoded data removed]",
      "text/plain": [
       "<Figure size 640x480 with 1 Axes>"
      ]
     },
     "metadata": {},
     "output_type": "display_data"
    }
   ],
   "source": [
    "# Hyper left & hypo right\n",
    "plt.plot(wave_1000.index,wave_1000.iloc[:,601])"
   ]
  },
  {
   "cell_type": "code",
   "execution_count": 102,
   "id": "57a3b35b-f7d9-4eab-9e50-ce14aecec3d0",
   "metadata": {},
   "outputs": [
    {
     "data": {
      "text/plain": [
       "[<matplotlib.lines.Line2D at 0x31e33db50>]"
      ]
     },
     "execution_count": 102,
     "metadata": {},
     "output_type": "execute_result"
    },
    {
     "data": {
      "image/png": "[encoded data removed]",
      "text/plain": [
       "<Figure size 640x480 with 1 Axes>"
      ]
     },
     "metadata": {},
     "output_type": "display_data"
    }
   ],
   "source": [
    "# Hyper left & hypo right\n",
    "plt.plot(wave_1000.index,wave_1000.iloc[:,701])"
   ]
  },
  {
   "cell_type": "code",
   "execution_count": 104,
   "id": "434d77d1-4b74-4f91-b4df-2b96a64ee4c4",
   "metadata": {},
   "outputs": [
    {
     "data": {
      "text/plain": [
       "(1000, 10500, 1)"
      ]
     },
     "execution_count": 104,
     "metadata": {},
     "output_type": "execute_result"
    }
   ],
   "source": [
    "X = wave_1000.T.values\n",
    "X = X.reshape((X.shape[0], X.shape[1], 1))\n",
    "X.shape"
   ]
  },
  {
   "cell_type": "code",
   "execution_count": 106,
   "id": "_jAu6fYnzvIf",
   "metadata": {
    "colab": {
     "base_uri": "https://localhost:8080/"
    },
    "id": "_jAu6fYnzvIf",
    "outputId": "cd298e99-af6a-49d0-b361-8d76817955e8"
   },
   "outputs": [
    {
     "data": {
      "text/plain": [
       "array([[1., 0., 0., 0., 0.],\n",
       "       [1., 0., 0., 0., 0.],\n",
       "       [1., 0., 0., 0., 0.],\n",
       "       ...,\n",
       "       [0., 0., 0., 0., 1.],\n",
       "       [0., 0., 0., 0., 1.],\n",
       "       [0., 0., 0., 0., 1.]])"
      ]
     },
     "execution_count": 106,
     "metadata": {},
     "output_type": "execute_result"
    }
   ],
   "source": [
    "# Labels: 0 - normal, 1 - hypometria, 2 - hypermetria\n",
    "y = to_categorical(y_list)  # Convert to one-hot encoding\n",
    "y"
   ]
  },
  {
   "cell_type": "code",
   "execution_count": 108,
   "id": "mxLouqvkzxGb",
   "metadata": {
    "colab": {
     "base_uri": "https://localhost:8080/"
    },
    "id": "mxLouqvkzxGb",
    "outputId": "830396d3-9bb3-4309-98df-5ddf02214205"
   },
   "outputs": [
    {
     "name": "stdout",
     "output_type": "stream",
     "text": [
      "X_train shape: (700, 10500, 1), y_train shape: (700, 5)\n",
      "X_test shape: (300, 10500, 1), y_test shape: (300, 5)\n"
     ]
    }
   ],
   "source": [
    "from sklearn.model_selection import train_test_split\n",
    "from tensorflow.keras.callbacks import EarlyStopping\n",
    "\n",
    "X_train, X_test, y_train, y_test = train_test_split(X, y, test_size=0.3, random_state=42,stratify = y)\n",
    "\n",
    "print(f\"X_train shape: {X_train.shape}, y_train shape: {y_train.shape}\")\n",
    "print(f\"X_test shape: {X_test.shape}, y_test shape: {y_test.shape}\")"
   ]
  },
  {
   "cell_type": "code",
   "execution_count": 118,
   "id": "812a5c76-6b57-49b8-9192-804e2ca936ed",
   "metadata": {},
   "outputs": [
    {
     "data": {
      "text/plain": [
       "array([140., 140., 140., 140., 140.])"
      ]
     },
     "execution_count": 118,
     "metadata": {},
     "output_type": "execute_result"
    }
   ],
   "source": [
    "np.sum(y_train,axis = 0)"
   ]
  },
  {
   "cell_type": "code",
   "execution_count": 122,
   "id": "1d830eb3-62b6-41b5-95d2-22a3f72b7590",
   "metadata": {},
   "outputs": [
    {
     "data": {
      "text/plain": [
       "array([60., 60., 60., 60., 60.])"
      ]
     },
     "execution_count": 122,
     "metadata": {},
     "output_type": "execute_result"
    }
   ],
   "source": [
    "np.sum(y_test, axis = 0)"
   ]
  },
  {
   "cell_type": "code",
   "execution_count": 124,
   "id": "2Z_hxvKmzzpW",
   "metadata": {
    "colab": {
     "base_uri": "https://localhost:8080/"
    },
    "id": "2Z_hxvKmzzpW",
    "outputId": "9e30de64-cca4-4798-8d14-35ed5188af24"
   },
   "outputs": [
    {
     "name": "stdout",
     "output_type": "stream",
     "text": [
      "Epoch 1/20\n"
     ]
    },
    {
     "name": "stderr",
     "output_type": "stream",
     "text": [
      "/opt/anaconda3/lib/python3.12/site-packages/keras/src/layers/convolutional/base_conv.py:107: UserWarning: Do not pass an `input_shape`/`input_dim` argument to a layer. When using Sequential models, prefer using an `Input(shape)` object as the first layer in the model instead.\n",
      "  super().__init__(activity_regularizer=activity_regularizer, **kwargs)\n"
     ]
    },
    {
     "name": "stdout",
     "output_type": "stream",
     "text": [
      "\u001b[1m18/18\u001b[0m \u001b[32m━━━━━━━━━━━━━━━━━━━━\u001b[0m\u001b[37m\u001b[0m \u001b[1m5s\u001b[0m 213ms/step - accuracy: 0.2945 - loss: 20.0847 - val_accuracy: 0.3857 - val_loss: 1.4202\n",
      "Epoch 2/20\n",
      "\u001b[1m18/18\u001b[0m \u001b[32m━━━━━━━━━━━━━━━━━━━━\u001b[0m\u001b[37m\u001b[0m \u001b[1m4s\u001b[0m 205ms/step - accuracy: 0.3134 - loss: 1.4587 - val_accuracy: 0.4000 - val_loss: 1.4005\n",
      "Epoch 3/20\n",
      "\u001b[1m18/18\u001b[0m \u001b[32m━━━━━━━━━━━━━━━━━━━━\u001b[0m\u001b[37m\u001b[0m \u001b[1m4s\u001b[0m 205ms/step - accuracy: 0.3655 - loss: 1.3840 - val_accuracy: 0.4143 - val_loss: 1.2998\n",
      "Epoch 4/20\n",
      "\u001b[1m18/18\u001b[0m \u001b[32m━━━━━━━━━━━━━━━━━━━━\u001b[0m\u001b[37m\u001b[0m \u001b[1m4s\u001b[0m 205ms/step - accuracy: 0.4372 - loss: 1.2364 - val_accuracy: 0.4643 - val_loss: 1.1927\n",
      "Epoch 5/20\n",
      "\u001b[1m18/18\u001b[0m \u001b[32m━━━━━━━━━━━━━━━━━━━━\u001b[0m\u001b[37m\u001b[0m \u001b[1m4s\u001b[0m 206ms/step - accuracy: 0.4567 - loss: 1.2593 - val_accuracy: 0.5429 - val_loss: 1.1512\n",
      "Epoch 6/20\n",
      "\u001b[1m18/18\u001b[0m \u001b[32m━━━━━━━━━━━━━━━━━━━━\u001b[0m\u001b[37m\u001b[0m \u001b[1m4s\u001b[0m 208ms/step - accuracy: 0.5291 - loss: 1.1395 - val_accuracy: 0.6286 - val_loss: 1.0864\n",
      "Epoch 7/20\n",
      "\u001b[1m18/18\u001b[0m \u001b[32m━━━━━━━━━━━━━━━━━━━━\u001b[0m\u001b[37m\u001b[0m \u001b[1m4s\u001b[0m 204ms/step - accuracy: 0.5690 - loss: 1.0590 - val_accuracy: 0.6071 - val_loss: 0.9717\n",
      "Epoch 8/20\n",
      "\u001b[1m18/18\u001b[0m \u001b[32m━━━━━━━━━━━━━━━━━━━━\u001b[0m\u001b[37m\u001b[0m \u001b[1m4s\u001b[0m 207ms/step - accuracy: 0.5980 - loss: 0.9331 - val_accuracy: 0.5000 - val_loss: 0.8990\n",
      "Epoch 9/20\n",
      "\u001b[1m18/18\u001b[0m \u001b[32m━━━━━━━━━━━━━━━━━━━━\u001b[0m\u001b[37m\u001b[0m \u001b[1m4s\u001b[0m 203ms/step - accuracy: 0.6183 - loss: 0.8782 - val_accuracy: 0.5571 - val_loss: 0.7719\n",
      "Epoch 10/20\n",
      "\u001b[1m18/18\u001b[0m \u001b[32m━━━━━━━━━━━━━━━━━━━━\u001b[0m\u001b[37m\u001b[0m \u001b[1m4s\u001b[0m 204ms/step - accuracy: 0.6233 - loss: 0.7912 - val_accuracy: 0.6286 - val_loss: 0.7835\n",
      "Epoch 11/20\n",
      "\u001b[1m18/18\u001b[0m \u001b[32m━━━━━━━━━━━━━━━━━━━━\u001b[0m\u001b[37m\u001b[0m \u001b[1m4s\u001b[0m 204ms/step - accuracy: 0.6644 - loss: 0.7647 - val_accuracy: 0.6571 - val_loss: 0.6657\n",
      "Epoch 12/20\n",
      "\u001b[1m18/18\u001b[0m \u001b[32m━━━━━━━━━━━━━━━━━━━━\u001b[0m\u001b[37m\u001b[0m \u001b[1m4s\u001b[0m 204ms/step - accuracy: 0.6895 - loss: 0.7068 - val_accuracy: 0.7071 - val_loss: 0.6313\n",
      "Epoch 13/20\n",
      "\u001b[1m18/18\u001b[0m \u001b[32m━━━━━━━━━━━━━━━━━━━━\u001b[0m\u001b[37m\u001b[0m \u001b[1m4s\u001b[0m 202ms/step - accuracy: 0.6721 - loss: 0.7661 - val_accuracy: 0.6643 - val_loss: 0.6414\n",
      "Epoch 14/20\n",
      "\u001b[1m18/18\u001b[0m \u001b[32m━━━━━━━━━━━━━━━━━━━━\u001b[0m\u001b[37m\u001b[0m \u001b[1m4s\u001b[0m 204ms/step - accuracy: 0.6812 - loss: 0.7448 - val_accuracy: 0.8000 - val_loss: 0.5549\n",
      "Epoch 15/20\n",
      "\u001b[1m18/18\u001b[0m \u001b[32m━━━━━━━━━━━━━━━━━━━━\u001b[0m\u001b[37m\u001b[0m \u001b[1m4s\u001b[0m 204ms/step - accuracy: 0.7004 - loss: 0.6485 - val_accuracy: 0.8000 - val_loss: 0.5212\n",
      "Epoch 16/20\n",
      "\u001b[1m18/18\u001b[0m \u001b[32m━━━━━━━━━━━━━━━━━━━━\u001b[0m\u001b[37m\u001b[0m \u001b[1m4s\u001b[0m 207ms/step - accuracy: 0.6865 - loss: 0.6952 - val_accuracy: 0.8143 - val_loss: 0.4948\n",
      "Epoch 17/20\n",
      "\u001b[1m18/18\u001b[0m \u001b[32m━━━━━━━━━━━━━━━━━━━━\u001b[0m\u001b[37m\u001b[0m \u001b[1m4s\u001b[0m 204ms/step - accuracy: 0.6925 - loss: 0.6647 - val_accuracy: 0.8571 - val_loss: 0.5217\n",
      "Epoch 18/20\n",
      "\u001b[1m18/18\u001b[0m \u001b[32m━━━━━━━━━━━━━━━━━━━━\u001b[0m\u001b[37m\u001b[0m \u001b[1m4s\u001b[0m 206ms/step - accuracy: 0.7000 - loss: 0.6817 - val_accuracy: 0.7857 - val_loss: 0.4833\n",
      "Epoch 19/20\n",
      "\u001b[1m18/18\u001b[0m \u001b[32m━━━━━━━━━━━━━━━━━━━━\u001b[0m\u001b[37m\u001b[0m \u001b[1m4s\u001b[0m 205ms/step - accuracy: 0.6997 - loss: 0.7353 - val_accuracy: 0.8643 - val_loss: 0.4199\n",
      "Epoch 20/20\n",
      "\u001b[1m18/18\u001b[0m \u001b[32m━━━━━━━━━━━━━━━━━━━━\u001b[0m\u001b[37m\u001b[0m \u001b[1m4s\u001b[0m 207ms/step - accuracy: 0.7255 - loss: 0.6559 - val_accuracy: 0.9000 - val_loss: 0.4169\n",
      "\u001b[1m10/10\u001b[0m \u001b[32m━━━━━━━━━━━━━━━━━━━━\u001b[0m\u001b[37m\u001b[0m \u001b[1m0s\u001b[0m 43ms/step - accuracy: 0.9318 - loss: 0.3924\n",
      "Test Accuracy: 93.00%\n"
     ]
    }
   ],
   "source": [
    "# Define the 1D CNN Model\n",
    "\n",
    "model = Sequential()\n",
    "\n",
    "# Add 3 convolutional layers\n",
    "model.add(Conv1D(filters=32, kernel_size=3, activation='relu', input_shape=(10500,1)))\n",
    "model.add(MaxPooling1D(pool_size=2))\n",
    "\n",
    "model.add(Conv1D(filters=64, kernel_size=3, activation='relu'))\n",
    "model.add(MaxPooling1D(pool_size=2))\n",
    "\n",
    "model.add(Conv1D(filters=128, kernel_size=3, activation='relu'))\n",
    "model.add(MaxPooling1D(pool_size=2))\n",
    "\n",
    "# Flatten and add dense layers\n",
    "model.add(Flatten())\n",
    "model.add(Dense(128, activation='relu'))\n",
    "model.add(Dropout(0.5))\n",
    "\n",
    "# Output layer with 3 classes\n",
    "model.add(Dense(5, activation='softmax'))\n",
    "\n",
    "model.compile(optimizer='adam', loss='categorical_crossentropy', metrics=['accuracy'])\n",
    "\n",
    "early_stopping = EarlyStopping(\n",
    "    monitor='val_loss',\n",
    "    patience=3,\n",
    "    restore_best_weights=True\n",
    ")\n",
    "\n",
    "history = model.fit(\n",
    "    X_train, y_train,\n",
    "    epochs=20,\n",
    "    batch_size=32,\n",
    "    validation_split=0.2,\n",
    "    callbacks=[early_stopping]\n",
    ")\n",
    "\n",
    "test_loss, test_accuracy = model.evaluate(X_test, y_test)\n",
    "print(f\"Test Accuracy: {test_accuracy*100:.2f}%\")"
   ]
  },
  {
   "cell_type": "code",
   "execution_count": 126,
   "id": "YdL2ai6E1dY0",
   "metadata": {
    "colab": {
     "base_uri": "https://localhost:8080/",
     "height": 489
    },
    "id": "YdL2ai6E1dY0",
    "outputId": "63360a22-93b8-4f83-e5c9-28a713903f68"
   },
   "outputs": [
    {
     "name": "stdout",
     "output_type": "stream",
     "text": [
      "\u001b[1m10/10\u001b[0m \u001b[32m━━━━━━━━━━━━━━━━━━━━\u001b[0m\u001b[37m\u001b[0m \u001b[1m1s\u001b[0m 45ms/step\n"
     ]
    },
    {
     "data": {
      "image/png": "[encoded data removed]",
      "text/plain": [
       "<Figure size 640x480 with 2 Axes>"
      ]
     },
     "metadata": {},
     "output_type": "display_data"
    }
   ],
   "source": [
    "from sklearn.metrics import confusion_matrix, ConfusionMatrixDisplay\n",
    "\n",
    "if y_test.ndim == 1:\n",
    "    y_true = y_test\n",
    "else:\n",
    "    y_true = np.argmax(y_test, axis=1)\n",
    "\n",
    "y_pred_probs = model.predict(X_test)\n",
    "y_pred = np.argmax(y_pred_probs, axis=1)\n",
    "\n",
    "cm = confusion_matrix(y_true, y_pred)\n",
    "\n",
    "disp = ConfusionMatrixDisplay(confusion_matrix=cm)\n",
    "disp.plot(cmap='Blues')\n",
    "plt.title(\"Confusion Matrix\")\n",
    "plt.show()"
   ]
  },
  {
   "cell_type": "markdown",
   "id": "95a28b05-45b9-4912-9339-8daa291ae5c9",
   "metadata": {},
   "source": [
    "### ALL DATA in the Normal Class"
   ]
  },
  {
   "cell_type": "code",
   "execution_count": 174,
   "id": "212637c6-39c6-4a1d-99b7-bc1c0e6fd4c0",
   "metadata": {},
   "outputs": [],
   "source": [
    "zero_indices = np.where(y_true == 0)\n",
    "true_zero_indices = zero_indices[0]"
   ]
  },
  {
   "cell_type": "code",
   "execution_count": 186,
   "id": "9f609d73-16ee-45bd-8255-0eba61f36e90",
   "metadata": {},
   "outputs": [],
   "source": [
    "true_pred = np.where(pred_values == 0)[0]\n",
    "false_pred_ones = np.where(pred_values == 1)[0]\n",
    "false_pred_twos = np.where(pred_values == 2)[0]\n",
    "false_pred_threes = np.where(pred_values == 3)[0]\n",
    "false_pred_fours = np.where(pred_values == 4)[0]"
   ]
  },
  {
   "cell_type": "code",
   "execution_count": 202,
   "id": "0a40cfc1-7b46-4735-b415-3ac2f3955c5f",
   "metadata": {},
   "outputs": [],
   "source": [
    "tpredind_one = true_zero_indices[true_pred]\n",
    "fpredind_one = true_zero_indices[false_pred_ones]\n",
    "fpredind_two = true_zero_indices[false_pred_twos]\n",
    "fpredind_threes = true_zero_indices[false_pred_threes]\n",
    "fpredind_fours = true_zero_indices[false_pred_fours]"
   ]
  },
  {
   "cell_type": "code",
   "execution_count": 204,
   "id": "34988dec-9673-419e-aa5e-4240a3bd3311",
   "metadata": {},
   "outputs": [],
   "source": [
    "true_0_0 = X_test[tpredind_one]\n",
    "false_0_1 = X_test[fpredind_one]\n",
    "false_0_2 = X_test[fpredind_two]\n",
    "false_0_3 = X_test[fpredind_threes]\n",
    "false_0_4 = X_test[fpredind_fours]"
   ]
  },
  {
   "cell_type": "markdown",
   "id": "bc0e7306-51c5-4f35-accf-6a7cc7e2f069",
   "metadata": {},
   "source": [
    "### 2 Layer Run"
   ]
  },
  {
   "cell_type": "code",
   "execution_count": null,
   "id": "abf9c882-9196-43ba-90aa-33bffe44c0a7",
   "metadata": {},
   "outputs": [],
   "source": [
    "# Define the 1D CNN Model\n",
    "\n",
    "model = Sequential()\n",
    "\n",
    "# Add 3 convolutional layers\n",
    "model.add(Conv1D(filters=32, kernel_size=3, activation='relu', input_shape=(10500,1)))\n",
    "model.add(MaxPooling1D(pool_size=2))\n",
    "\n",
    "model.add(Conv1D(filters=64, kernel_size=3, activation='relu'))\n",
    "model.add(MaxPooling1D(pool_size=2))\n",
    "\n",
    "\n",
    "# Flatten and add dense layers\n",
    "model.add(Flatten())\n",
    "model.add(Dense(128, activation='relu'))\n",
    "model.add(Dropout(0.5))\n",
    "\n",
    "# Output layer with 3 classes\n",
    "model.add(Dense(5, activation='softmax'))\n",
    "\n",
    "model.compile(optimizer='adam', loss='categorical_crossentropy', metrics=['accuracy'])\n",
    "\n",
    "early_stopping = EarlyStopping(\n",
    "    monitor='val_loss',\n",
    "    patience=3,\n",
    "    restore_best_weights=True\n",
    ")\n",
    "\n",
    "history = model.fit(\n",
    "    X_train, y_train,\n",
    "    epochs=20,\n",
    "    batch_size=32,\n",
    "    validation_split=0.2,\n",
    "    callbacks=[early_stopping]\n",
    ")\n",
    "\n",
    "test_loss, test_accuracy = model.evaluate(X_test, y_test)\n",
    "print(f\"Test Accuracy: {test_accuracy*100:.2f}%\")"
   ]
  },
  {
   "cell_type": "code",
   "execution_count": null,
   "id": "8c2c7a52-32c1-454f-974f-660bf1bf0c52",
   "metadata": {},
   "outputs": [],
   "source": [
    "from sklearn.metrics import confusion_matrix, ConfusionMatrixDisplay\n",
    "\n",
    "if y_test.ndim == 1:\n",
    "    y_true = y_test\n",
    "else:\n",
    "    y_true = np.argmax(y_test, axis=1)\n",
    "\n",
    "y_pred_probs = model.predict(X_test)\n",
    "y_pred = np.argmax(y_pred_probs, axis=1)\n",
    "\n",
    "cm = confusion_matrix(y_true, y_pred)\n",
    "\n",
    "disp = ConfusionMatrixDisplay(confusion_matrix=cm)\n",
    "disp.plot(cmap='Blues')\n",
    "plt.title(\"Confusion Matrix\")\n",
    "plt.show()"
   ]
  },
  {
   "cell_type": "markdown",
   "id": "f42993a7-c34b-43ff-a829-7ecc90a1f8c7",
   "metadata": {},
   "source": [
    "### 1 Layer Run"
   ]
  },
  {
   "cell_type": "code",
   "execution_count": null,
   "id": "b75057af-9e3f-4fb2-a3c8-c1eaa1d396ff",
   "metadata": {},
   "outputs": [],
   "source": [
    "# Define the 1D CNN Model\n",
    "\n",
    "model = Sequential()\n",
    "\n",
    "# Add 1 convolutional layer\n",
    "model.add(Conv1D(filters=32, kernel_size=3, activation='relu', input_shape=(10500,1)))\n",
    "model.add(MaxPooling1D(pool_size=2))\n",
    "\n",
    "\n",
    "# Flatten and add dense layers\n",
    "model.add(Flatten())\n",
    "model.add(Dense(128, activation='relu'))\n",
    "model.add(Dropout(0.5))\n",
    "\n",
    "# Output layer with 3 classes\n",
    "model.add(Dense(5, activation='softmax'))\n",
    "\n",
    "model.compile(optimizer='adam', loss='categorical_crossentropy', metrics=['accuracy'])\n",
    "\n",
    "early_stopping = EarlyStopping(\n",
    "    monitor='val_loss',\n",
    "    patience=3,\n",
    "    restore_best_weights=True\n",
    ")\n",
    "\n",
    "history = model.fit(\n",
    "    X_train, y_train,\n",
    "    epochs=20,\n",
    "    batch_size=32,\n",
    "    validation_split=0.2,\n",
    "    callbacks=[early_stopping]\n",
    ")\n",
    "\n",
    "test_loss, test_accuracy = model.evaluate(X_test, y_test)\n",
    "print(f\"Test Accuracy: {test_accuracy*100:.2f}%\")"
   ]
  },
  {
   "cell_type": "code",
   "execution_count": null,
   "id": "13009ead-2ada-4013-816f-a40aefa7aebc",
   "metadata": {},
   "outputs": [],
   "source": [
    "from sklearn.metrics import confusion_matrix, ConfusionMatrixDisplay\n",
    "\n",
    "if y_test.ndim == 1:\n",
    "    y_true = y_test\n",
    "else:\n",
    "    y_true = np.argmax(y_test, axis=1)\n",
    "\n",
    "y_pred_probs = model.predict(X_test)\n",
    "y_pred = np.argmax(y_pred_probs, axis=1)\n",
    "\n",
    "cm = confusion_matrix(y_true, y_pred)\n",
    "\n",
    "disp = ConfusionMatrixDisplay(confusion_matrix=cm)\n",
    "disp.plot(cmap='Blues')\n",
    "plt.title(\"Confusion Matrix\")\n",
    "plt.show()"
   ]
  },
  {
   "cell_type": "markdown",
   "id": "208e30a2-1877-4aa4-8bc3-a2832d2e2bcd",
   "metadata": {},
   "source": [
    "### 500 Hz Model Run"
   ]
  },
  {
   "cell_type": "code",
   "execution_count": 216,
   "id": "8feba2dd-cd44-43b1-b8a1-f998d639d252",
   "metadata": {},
   "outputs": [
    {
     "data": {
      "text/plain": [
       "(1000, 5250, 1)"
      ]
     },
     "execution_count": 216,
     "metadata": {},
     "output_type": "execute_result"
    }
   ],
   "source": [
    "X = wave_500.T.values\n",
    "X = X.reshape((X.shape[0], X.shape[1], 1))\n",
    "X.shape"
   ]
  },
  {
   "cell_type": "code",
   "execution_count": 218,
   "id": "f241998d-8a56-4fbe-9cc2-9940c7677c44",
   "metadata": {},
   "outputs": [
    {
     "name": "stdout",
     "output_type": "stream",
     "text": [
      "X_train shape: (700, 5250, 1), y_train shape: (700, 5)\n",
      "X_test shape: (300, 5250, 1), y_test shape: (300, 5)\n"
     ]
    }
   ],
   "source": [
    "from sklearn.model_selection import train_test_split\n",
    "from tensorflow.keras.callbacks import EarlyStopping\n",
    "\n",
    "X_train, X_test, y_train, y_test = train_test_split(X, y, test_size=0.3, random_state=42,stratify = y)\n",
    "\n",
    "print(f\"X_train shape: {X_train.shape}, y_train shape: {y_train.shape}\")\n",
    "print(f\"X_test shape: {X_test.shape}, y_test shape: {y_test.shape}\")"
   ]
  },
  {
   "cell_type": "code",
   "execution_count": 220,
   "id": "2bddf2db-a46f-4517-bdef-7a2b45d39c30",
   "metadata": {},
   "outputs": [
    {
     "name": "stdout",
     "output_type": "stream",
     "text": [
      "Epoch 1/20\n"
     ]
    },
    {
     "name": "stderr",
     "output_type": "stream",
     "text": [
      "/opt/anaconda3/lib/python3.12/site-packages/keras/src/layers/convolutional/base_conv.py:107: UserWarning: Do not pass an `input_shape`/`input_dim` argument to a layer. When using Sequential models, prefer using an `Input(shape)` object as the first layer in the model instead.\n",
      "  super().__init__(activity_regularizer=activity_regularizer, **kwargs)\n"
     ]
    },
    {
     "name": "stdout",
     "output_type": "stream",
     "text": [
      "\u001b[1m18/18\u001b[0m \u001b[32m━━━━━━━━━━━━━━━━━━━━\u001b[0m\u001b[37m\u001b[0m \u001b[1m3s\u001b[0m 108ms/step - accuracy: 0.2903 - loss: 9.6232 - val_accuracy: 0.3643 - val_loss: 1.4125\n",
      "Epoch 2/20\n",
      "\u001b[1m18/18\u001b[0m \u001b[32m━━━━━━━━━━━━━━━━━━━━\u001b[0m\u001b[37m\u001b[0m \u001b[1m2s\u001b[0m 99ms/step - accuracy: 0.4190 - loss: 1.3282 - val_accuracy: 0.4143 - val_loss: 1.3450\n",
      "Epoch 3/20\n",
      "\u001b[1m18/18\u001b[0m \u001b[32m━━━━━━━━━━━━━━━━━━━━\u001b[0m\u001b[37m\u001b[0m \u001b[1m2s\u001b[0m 98ms/step - accuracy: 0.4174 - loss: 1.2984 - val_accuracy: 0.4929 - val_loss: 1.1784\n",
      "Epoch 4/20\n",
      "\u001b[1m18/18\u001b[0m \u001b[32m━━━━━━━━━━━━━━━━━━━━\u001b[0m\u001b[37m\u001b[0m \u001b[1m2s\u001b[0m 99ms/step - accuracy: 0.5083 - loss: 1.1234 - val_accuracy: 0.5929 - val_loss: 1.0402\n",
      "Epoch 5/20\n",
      "\u001b[1m18/18\u001b[0m \u001b[32m━━━━━━━━━━━━━━━━━━━━\u001b[0m\u001b[37m\u001b[0m \u001b[1m2s\u001b[0m 99ms/step - accuracy: 0.5528 - loss: 0.9962 - val_accuracy: 0.5357 - val_loss: 0.9803\n",
      "Epoch 6/20\n",
      "\u001b[1m18/18\u001b[0m \u001b[32m━━━━━━━━━━━━━━━━━━━━\u001b[0m\u001b[37m\u001b[0m \u001b[1m2s\u001b[0m 99ms/step - accuracy: 0.6432 - loss: 0.8670 - val_accuracy: 0.5571 - val_loss: 0.9555\n",
      "Epoch 7/20\n",
      "\u001b[1m18/18\u001b[0m \u001b[32m━━━━━━━━━━━━━━━━━━━━\u001b[0m\u001b[37m\u001b[0m \u001b[1m2s\u001b[0m 98ms/step - accuracy: 0.6631 - loss: 0.8240 - val_accuracy: 0.6071 - val_loss: 0.8546\n",
      "Epoch 8/20\n",
      "\u001b[1m18/18\u001b[0m \u001b[32m━━━━━━━━━━━━━━━━━━━━\u001b[0m\u001b[37m\u001b[0m \u001b[1m2s\u001b[0m 102ms/step - accuracy: 0.6515 - loss: 0.7761 - val_accuracy: 0.7357 - val_loss: 0.7737\n",
      "Epoch 9/20\n",
      "\u001b[1m18/18\u001b[0m \u001b[32m━━━━━━━━━━━━━━━━━━━━\u001b[0m\u001b[37m\u001b[0m \u001b[1m2s\u001b[0m 99ms/step - accuracy: 0.6554 - loss: 0.7725 - val_accuracy: 0.6357 - val_loss: 0.6548\n",
      "Epoch 10/20\n",
      "\u001b[1m18/18\u001b[0m \u001b[32m━━━━━━━━━━━━━━━━━━━━\u001b[0m\u001b[37m\u001b[0m \u001b[1m2s\u001b[0m 99ms/step - accuracy: 0.7310 - loss: 0.6002 - val_accuracy: 0.6929 - val_loss: 0.6750\n",
      "Epoch 11/20\n",
      "\u001b[1m18/18\u001b[0m \u001b[32m━━━━━━━━━━━━━━━━━━━━\u001b[0m\u001b[37m\u001b[0m \u001b[1m2s\u001b[0m 101ms/step - accuracy: 0.7268 - loss: 0.6665 - val_accuracy: 0.8500 - val_loss: 0.4791\n",
      "Epoch 12/20\n",
      "\u001b[1m18/18\u001b[0m \u001b[32m━━━━━━━━━━━━━━━━━━━━\u001b[0m\u001b[37m\u001b[0m \u001b[1m2s\u001b[0m 99ms/step - accuracy: 0.7669 - loss: 0.5373 - val_accuracy: 0.8857 - val_loss: 0.4300\n",
      "Epoch 13/20\n",
      "\u001b[1m18/18\u001b[0m \u001b[32m━━━━━━━━━━━━━━━━━━━━\u001b[0m\u001b[37m\u001b[0m \u001b[1m2s\u001b[0m 96ms/step - accuracy: 0.7932 - loss: 0.5253 - val_accuracy: 0.9571 - val_loss: 0.4162\n",
      "Epoch 14/20\n",
      "\u001b[1m18/18\u001b[0m \u001b[32m━━━━━━━━━━━━━━━━━━━━\u001b[0m\u001b[37m\u001b[0m \u001b[1m2s\u001b[0m 97ms/step - accuracy: 0.7888 - loss: 0.4691 - val_accuracy: 0.9000 - val_loss: 0.4621\n",
      "Epoch 15/20\n",
      "\u001b[1m18/18\u001b[0m \u001b[32m━━━━━━━━━━━━━━━━━━━━\u001b[0m\u001b[37m\u001b[0m \u001b[1m2s\u001b[0m 100ms/step - accuracy: 0.7977 - loss: 0.4774 - val_accuracy: 0.8643 - val_loss: 0.3853\n",
      "Epoch 16/20\n",
      "\u001b[1m18/18\u001b[0m \u001b[32m━━━━━━━━━━━━━━━━━━━━\u001b[0m\u001b[37m\u001b[0m \u001b[1m2s\u001b[0m 97ms/step - accuracy: 0.7729 - loss: 0.5216 - val_accuracy: 0.9286 - val_loss: 0.3635\n",
      "Epoch 17/20\n",
      "\u001b[1m18/18\u001b[0m \u001b[32m━━━━━━━━━━━━━━━━━━━━\u001b[0m\u001b[37m\u001b[0m \u001b[1m2s\u001b[0m 97ms/step - accuracy: 0.8036 - loss: 0.4788 - val_accuracy: 0.9429 - val_loss: 0.2589\n",
      "Epoch 18/20\n",
      "\u001b[1m18/18\u001b[0m \u001b[32m━━━━━━━━━━━━━━━━━━━━\u001b[0m\u001b[37m\u001b[0m \u001b[1m2s\u001b[0m 96ms/step - accuracy: 0.8643 - loss: 0.3577 - val_accuracy: 0.9786 - val_loss: 0.2297\n",
      "Epoch 19/20\n",
      "\u001b[1m18/18\u001b[0m \u001b[32m━━━━━━━━━━━━━━━━━━━━\u001b[0m\u001b[37m\u001b[0m \u001b[1m2s\u001b[0m 96ms/step - accuracy: 0.8386 - loss: 0.3875 - val_accuracy: 0.9500 - val_loss: 0.2656\n",
      "Epoch 20/20\n",
      "\u001b[1m18/18\u001b[0m \u001b[32m━━━━━━━━━━━━━━━━━━━━\u001b[0m\u001b[37m\u001b[0m \u001b[1m2s\u001b[0m 96ms/step - accuracy: 0.8543 - loss: 0.3417 - val_accuracy: 0.9500 - val_loss: 0.2301\n",
      "\u001b[1m10/10\u001b[0m \u001b[32m━━━━━━━━━━━━━━━━━━━━\u001b[0m\u001b[37m\u001b[0m \u001b[1m0s\u001b[0m 21ms/step - accuracy: 0.9674 - loss: 0.2169\n",
      "Test Accuracy: 97.33%\n"
     ]
    }
   ],
   "source": [
    "# Define the 1D CNN Model\n",
    "\n",
    "model = Sequential()\n",
    "\n",
    "# Add 3 convolutional layers\n",
    "model.add(Conv1D(filters=32, kernel_size=3, activation='relu', input_shape=(5250,1)))\n",
    "model.add(MaxPooling1D(pool_size=2))\n",
    "\n",
    "model.add(Conv1D(filters=64, kernel_size=3, activation='relu'))\n",
    "model.add(MaxPooling1D(pool_size=2))\n",
    "\n",
    "model.add(Conv1D(filters=128, kernel_size=3, activation='relu'))\n",
    "model.add(MaxPooling1D(pool_size=2))\n",
    "\n",
    "# Flatten and add dense layers\n",
    "model.add(Flatten())\n",
    "model.add(Dense(128, activation='relu'))\n",
    "model.add(Dropout(0.5))\n",
    "\n",
    "# Output layer with 3 classes\n",
    "model.add(Dense(5, activation='softmax'))\n",
    "\n",
    "model.compile(optimizer='adam', loss='categorical_crossentropy', metrics=['accuracy'])\n",
    "\n",
    "early_stopping = EarlyStopping(\n",
    "    monitor='val_loss',\n",
    "    patience=3,\n",
    "    restore_best_weights=True\n",
    ")\n",
    "\n",
    "history = model.fit(\n",
    "    X_train, y_train,\n",
    "    epochs=20,\n",
    "    batch_size=32,\n",
    "    validation_split=0.2,\n",
    "    callbacks=[early_stopping]\n",
    ")\n",
    "\n",
    "test_loss, test_accuracy = model.evaluate(X_test, y_test)\n",
    "print(f\"Test Accuracy: {test_accuracy*100:.2f}%\")"
   ]
  },
  {
   "cell_type": "code",
   "execution_count": 222,
   "id": "5e515a6b-2645-4798-87ff-4f7b809f405a",
   "metadata": {},
   "outputs": [
    {
     "name": "stdout",
     "output_type": "stream",
     "text": [
      "\u001b[1m10/10\u001b[0m \u001b[32m━━━━━━━━━━━━━━━━━━━━\u001b[0m\u001b[37m\u001b[0m \u001b[1m0s\u001b[0m 23ms/step\n"
     ]
    },
    {
     "data": {
      "image/png": "[encoded data removed]",
      "text/plain": [
       "<Figure size 640x480 with 2 Axes>"
      ]
     },
     "metadata": {},
     "output_type": "display_data"
    }
   ],
   "source": [
    "from sklearn.metrics import confusion_matrix, ConfusionMatrixDisplay\n",
    "\n",
    "if y_test.ndim == 1:\n",
    "    y_true = y_test\n",
    "else:\n",
    "    y_true = np.argmax(y_test, axis=1)\n",
    "\n",
    "y_pred_probs = model.predict(X_test)\n",
    "y_pred = np.argmax(y_pred_probs, axis=1)\n",
    "\n",
    "cm = confusion_matrix(y_true, y_pred)\n",
    "\n",
    "disp = ConfusionMatrixDisplay(confusion_matrix=cm)\n",
    "disp.plot(cmap='Blues')\n",
    "plt.title(\"Confusion Matrix\")\n",
    "plt.show()"
   ]
  },
  {
   "cell_type": "code",
   "execution_count": null,
   "id": "462012cd-7aa8-49e6-8a05-5048761a9e75",
   "metadata": {},
   "outputs": [],
   "source": []
  }
 ],
 "metadata": {
  "colab": {
   "collapsed_sections": [
    "P7gEpTEiUpuY",
    "dUPSzhttIbA_",
    "Wwh35J8VaNxn",
    "YqWbE0T6E7Vc"
   ],
   "provenance": []
  },
  "kernelspec": {
   "display_name": "Python 3 (ipykernel)",
   "language": "python",
   "name": "python3"
  },
  "language_info": {
   "codemirror_mode": {
    "name": "ipython",
    "version": 3
   },
   "file_extension": ".py",
   "mimetype": "text/x-python",
   "name": "python",
   "nbconvert_exporter": "python",
   "pygments_lexer": "ipython3",
   "version": "3.12.4"
  }
 },
 "nbformat": 4,
 "nbformat_minor": 5
}
