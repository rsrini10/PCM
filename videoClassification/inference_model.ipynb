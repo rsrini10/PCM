{
 "cells": [
  {
   "cell_type": "code",
   "execution_count": 1,
   "id": "18c72aed-1087-4b94-856d-fbdabbe2b3e5",
   "metadata": {},
   "outputs": [],
   "source": [
    "import os\n",
    "import torch\n",
    "import torchvision.transforms as transforms\n",
    "from torchvision.models.video import r2plus1d_18, R2Plus1D_18_Weights\n",
    "from torch.utils.data import Dataset, DataLoader, random_split\n",
    "from torchvision.io import read_video\n",
    "import torch.nn as nn\n",
    "import torch.optim as optim\n",
    "import pandas as pd\n",
    "from sklearn.metrics import (\n",
    "    roc_auc_score, average_precision_score,\n",
    "    confusion_matrix, classification_report\n",
    ")\n",
    "import torch.nn.functional as F\n",
    "import numpy as np\n",
    "import matplotlib.pyplot as plt\n",
    "import seaborn as sns\n",
    "from tqdm import tqdm"
   ]
  },
  {
   "cell_type": "code",
   "execution_count": 2,
   "id": "3c8fd8a5-2bd9-4475-83ff-95a13d579b95",
   "metadata": {},
   "outputs": [],
   "source": [
    "############################\n",
    "# 1. HELPER FUNCTIONS\n",
    "############################\n",
    "\n",
    "from video_saccade_detection import detect_saccades_from_video_simple\n",
    "\n",
    "def find_saccade_indices(video_path, csv_path, fps=60):\n",
    "    \"\"\"\n",
    "    Use the 'detect_saccades_from_video_simple' function \n",
    "    to find all saccade start frames for a given video.\n",
    "    \"\"\"\n",
    "    df = pd.read_csv(csv_path)\n",
    "    stimulus = df[\"target\"].values\n",
    "    saccade_vector_video_final = detect_saccades_from_video_simple(video_path, stimulus, fps)\n",
    "    video_saccade_indices = np.arange(len(stimulus))[saccade_vector_video_final == 1]\n",
    "    return video_saccade_indices\n",
    "\n",
    "def select_frames(video_tensor, starting_frame, num_frames=16, interval=1, random_offset=False):\n",
    "    \"\"\"\n",
    "    Extract num_frames around 'starting_frame' with optional random offset.\n",
    "    video_tensor shape: (Frames, H, W, C)\n",
    "    Returns a sub-tensor of shape (num_frames, H, W, C).\n",
    "    \"\"\"\n",
    "    if random_offset:\n",
    "        # ±5 frames offset \n",
    "        offset = np.random.randint(-5, 6)\n",
    "        starting_frame += offset\n",
    "    \n",
    "    # Basic safe-guard to avoid out-of-range indexing\n",
    "    start_idx = max(starting_frame - (num_frames // 4)*interval, 0)\n",
    "    end_idx   = start_idx + num_frames*interval\n",
    "\n",
    "    # Clip if end_idx goes beyond length\n",
    "    if end_idx > len(video_tensor):\n",
    "        end_idx = len(video_tensor)\n",
    "        start_idx = max(0, end_idx - num_frames*interval)\n",
    "\n",
    "    return video_tensor[start_idx:end_idx:interval]"
   ]
  },
  {
   "cell_type": "code",
   "execution_count": 3,
   "id": "db141c6f-7ba8-42ac-a400-e71b4f403add",
   "metadata": {},
   "outputs": [],
   "source": [
    "############################\n",
    "# 2. DATASET FOR TRAINING\n",
    "############################\n",
    "\n",
    "class SaccadeVideoDataset(Dataset):\n",
    "    \"\"\"\n",
    "    - During training, we randomly pick 1 saccade from the list.\n",
    "    - During inference, we do NOT want random picking, so typically\n",
    "      we won't use this dataset for inference; we'll handle inference\n",
    "      with a separate function that processes all saccades.\n",
    "    \"\"\"\n",
    "    def __init__(self, video_dir, waveform_dir, labels_dict, transform=None, num_frames=32):\n",
    "        self.video_dir = video_dir\n",
    "        self.waveform_dir = waveform_dir\n",
    "        self.labels_dict = labels_dict\n",
    "        self.transform = transform\n",
    "        self.num_frames = num_frames\n",
    "        self.video_names = list(labels_dict.keys())  \n",
    "\n",
    "    def __len__(self):\n",
    "        return len(self.video_names)\n",
    "\n",
    "    def __getitem__(self, idx):\n",
    "        video_name = self.video_names[idx]\n",
    "        video_path = os.path.join(self.video_dir, video_name)\n",
    "        csv_path   = os.path.join(self.waveform_dir, video_name.replace(\".mp4\", \".csv\"))\n",
    "        label      = self.labels_dict[video_name]\n",
    "\n",
    "        # Load full video in (T, H, W, C) format\n",
    "        video_tensor, _, _ = read_video(video_path, pts_unit='sec')\n",
    "\n",
    "        # Detect all possible saccade starts\n",
    "        saccade_indices = find_saccade_indices(video_path, csv_path, fps=60)\n",
    "\n",
    "        # If no saccade found, fallback to random start\n",
    "        if len(saccade_indices) == 0:\n",
    "            saccade_frame = np.random.randint(0, max(1, len(video_tensor)))\n",
    "        else:\n",
    "            # Randomly pick one\n",
    "            saccade_frame = np.random.choice(saccade_indices)\n",
    "\n",
    "        # Select frames around that saccade (with random offset for data augmentation)\n",
    "        clip = select_frames(video_tensor,\n",
    "                             starting_frame=saccade_frame,\n",
    "                             num_frames=self.num_frames,\n",
    "                             interval=1,\n",
    "                             random_offset=True) \n",
    "\n",
    "        # Permute to (C, T, H, W) and normalize\n",
    "        clip = clip.permute(3, 0, 1, 2).float() / 255.0  # (C, T, H, W)\n",
    "\n",
    "        if self.transform:\n",
    "            clip = self.transform(clip)\n",
    "\n",
    "        return clip, label"
   ]
  },
  {
   "cell_type": "code",
   "execution_count": 4,
   "id": "e1519ab8-a6ba-4444-871e-38ef30f128c2",
   "metadata": {},
   "outputs": [],
   "source": [
    "############################\n",
    "# 3. INFERENCE (ALL SACCADES) FUNCTION\n",
    "############################\n",
    "\n",
    "def infer_with_all_saccades(model, video_path, csv_path, transform=None, num_frames=32):\n",
    "    \"\"\"\n",
    "    At inference time, we want to use *all* saccades in the video.\n",
    "    We'll collect the probability distribution for each saccade, \n",
    "    then average them to get a final prediction.\n",
    "    \"\"\"\n",
    "    model.eval()\n",
    "    video_tensor, _, _ = read_video(video_path, pts_unit='sec')\n",
    "    \n",
    "    # Detect all saccades\n",
    "    saccade_indices = find_saccade_indices(video_path, csv_path, fps=60)\n",
    "    if len(saccade_indices) == 0:\n",
    "        # Fallback: produce None or predict from a random snippet\n",
    "        return None, None\n",
    "    \n",
    "    all_probs = []\n",
    "    with torch.no_grad():\n",
    "        for saccade_frame in saccade_indices:\n",
    "            # No random offsets at inference\n",
    "            clip = select_frames(video_tensor, saccade_frame, num_frames=num_frames, interval=1, random_offset=False)\n",
    "\n",
    "            # Permute and normalize\n",
    "            clip = clip.permute(3, 0, 1, 2).float() / 255.0\n",
    "            if transform:\n",
    "                clip = transform(clip)\n",
    "\n",
    "            clip = clip.unsqueeze(0).to(device)  # (1, C, T, H, W)\n",
    "            logits = model(clip)                 # (1, num_classes)\n",
    "            probs = F.softmax(logits, dim=1)     # (1, num_classes)\n",
    "            all_probs.append(probs.cpu().numpy()[0])\n",
    "\n",
    "    # Average probabilities across all saccades\n",
    "    avg_probs = np.mean(all_probs, axis=0)\n",
    "    pred_class = np.argmax(avg_probs)\n",
    "    return pred_class, avg_probs"
   ]
  },
  {
   "cell_type": "code",
   "execution_count": 5,
   "id": "b6aa2212-fa0d-45ec-9c68-17ad76e370a2",
   "metadata": {},
   "outputs": [],
   "source": [
    "############################\n",
    "# 4. PREPARE DATA\n",
    "############################\n",
    "\n",
    "# Adjust these paths to match your environment\n",
    "VIDEO_DATA_DIR   = '/home/ryujjoo0810/jooyoung2/pcm/videos'\n",
    "MASK_DATA_DIR    = '/home/ryujjoo0810/jooyoung2/pcm/masks'       \n",
    "WAVEFORM_DATA_DIR= '/home/ryujjoo0810/jooyoung2/pcm/waveforms'\n",
    "CSV_FILE         = '/home/ryujjoo0810/jooyoung2/pcm/video_labels.csv'\n",
    "\n",
    "# Load labels from CSV => { filename: label_id }\n",
    "labels_df = pd.read_csv(CSV_FILE)\n",
    "\n",
    "labels_dict = dict(zip(labels_df[\"filename\"], labels_df[\"label\"]))\n",
    "\n",
    "\n",
    "# Transforms\n",
    "transform = transforms.Compose([\n",
    "    transforms.Resize((112, 112)),               # Typical for R(2+1)D\n",
    "    transforms.Normalize(mean=[0.5], std=[0.5])  # If single channel means, adjust if 3-ch\n",
    "])\n",
    "\n",
    "# Build Dataset for TRAINING\n",
    "full_dataset = SaccadeVideoDataset(\n",
    "    video_dir=VIDEO_DATA_DIR,\n",
    "    waveform_dir=WAVEFORM_DATA_DIR,\n",
    "    labels_dict=labels_dict,\n",
    "    transform=transform,\n",
    "    num_frames=32 \n",
    ")\n",
    "\n",
    "# Split Train/Test\n",
    "train_size = int(0.8 * len(full_dataset))\n",
    "test_size  = len(full_dataset) - train_size\n",
    "train_dataset, test_dataset = random_split(full_dataset, [train_size, test_size])\n",
    "\n",
    "train_loader = DataLoader(train_dataset, batch_size=4, shuffle=True, drop_last=True, num_workers=4)"
   ]
  },
  {
   "cell_type": "code",
   "execution_count": 6,
   "id": "079c8803-b5f9-457a-baa7-f3316d569dd6",
   "metadata": {},
   "outputs": [
    {
     "name": "stdout",
     "output_type": "stream",
     "text": [
      "Removing fc.weight from checkpoint due to shape mismatch.\n",
      "Removing fc.bias from checkpoint due to shape mismatch.\n"
     ]
    },
    {
     "name": "stderr",
     "output_type": "stream",
     "text": [
      "Epoch 1/40: 100%|██████████| 74/74 [00:16<00:00,  4.62it/s, loss=1.1445]\n"
     ]
    },
    {
     "name": "stdout",
     "output_type": "stream",
     "text": [
      "Epoch [1/40] - Loss: 1.1380\n"
     ]
    },
    {
     "name": "stderr",
     "output_type": "stream",
     "text": [
      "Epoch 2/40: 100%|██████████| 74/74 [00:16<00:00,  4.55it/s, loss=1.3490]\n"
     ]
    },
    {
     "name": "stdout",
     "output_type": "stream",
     "text": [
      "Epoch [2/40] - Loss: 1.0579\n"
     ]
    },
    {
     "name": "stderr",
     "output_type": "stream",
     "text": [
      "Epoch 3/40: 100%|██████████| 74/74 [00:16<00:00,  4.57it/s, loss=0.9659]\n"
     ]
    },
    {
     "name": "stdout",
     "output_type": "stream",
     "text": [
      "Epoch [3/40] - Loss: 0.9607\n"
     ]
    },
    {
     "name": "stderr",
     "output_type": "stream",
     "text": [
      "Epoch 4/40: 100%|██████████| 74/74 [00:16<00:00,  4.60it/s, loss=1.3674]\n"
     ]
    },
    {
     "name": "stdout",
     "output_type": "stream",
     "text": [
      "Epoch [4/40] - Loss: 0.9106\n"
     ]
    },
    {
     "name": "stderr",
     "output_type": "stream",
     "text": [
      "Epoch 5/40: 100%|██████████| 74/74 [00:16<00:00,  4.60it/s, loss=0.8577]\n"
     ]
    },
    {
     "name": "stdout",
     "output_type": "stream",
     "text": [
      "Epoch [5/40] - Loss: 0.8719\n"
     ]
    },
    {
     "name": "stderr",
     "output_type": "stream",
     "text": [
      "Epoch 6/40: 100%|██████████| 74/74 [00:16<00:00,  4.53it/s, loss=0.8098]\n"
     ]
    },
    {
     "name": "stdout",
     "output_type": "stream",
     "text": [
      "Epoch [6/40] - Loss: 0.8537\n"
     ]
    },
    {
     "name": "stderr",
     "output_type": "stream",
     "text": [
      "Epoch 7/40: 100%|██████████| 74/74 [00:16<00:00,  4.53it/s, loss=0.6232]\n"
     ]
    },
    {
     "name": "stdout",
     "output_type": "stream",
     "text": [
      "Epoch [7/40] - Loss: 0.7230\n"
     ]
    },
    {
     "name": "stderr",
     "output_type": "stream",
     "text": [
      "Epoch 8/40: 100%|██████████| 74/74 [00:16<00:00,  4.47it/s, loss=0.9881]\n"
     ]
    },
    {
     "name": "stdout",
     "output_type": "stream",
     "text": [
      "Epoch [8/40] - Loss: 0.5890\n"
     ]
    },
    {
     "name": "stderr",
     "output_type": "stream",
     "text": [
      "Epoch 9/40: 100%|██████████| 74/74 [00:16<00:00,  4.60it/s, loss=0.6178]\n"
     ]
    },
    {
     "name": "stdout",
     "output_type": "stream",
     "text": [
      "Epoch [9/40] - Loss: 0.6921\n"
     ]
    },
    {
     "name": "stderr",
     "output_type": "stream",
     "text": [
      "Epoch 10/40: 100%|██████████| 74/74 [00:16<00:00,  4.51it/s, loss=0.4575]\n"
     ]
    },
    {
     "name": "stdout",
     "output_type": "stream",
     "text": [
      "Epoch [10/40] - Loss: 0.5530\n"
     ]
    },
    {
     "name": "stderr",
     "output_type": "stream",
     "text": [
      "Epoch 11/40: 100%|██████████| 74/74 [00:16<00:00,  4.49it/s, loss=0.4764]\n"
     ]
    },
    {
     "name": "stdout",
     "output_type": "stream",
     "text": [
      "Epoch [11/40] - Loss: 0.4604\n"
     ]
    },
    {
     "name": "stderr",
     "output_type": "stream",
     "text": [
      "Epoch 12/40: 100%|██████████| 74/74 [00:16<00:00,  4.47it/s, loss=0.3912]\n"
     ]
    },
    {
     "name": "stdout",
     "output_type": "stream",
     "text": [
      "Epoch [12/40] - Loss: 0.3303\n"
     ]
    },
    {
     "name": "stderr",
     "output_type": "stream",
     "text": [
      "Epoch 13/40: 100%|██████████| 74/74 [00:16<00:00,  4.41it/s, loss=0.2774]\n"
     ]
    },
    {
     "name": "stdout",
     "output_type": "stream",
     "text": [
      "Epoch [13/40] - Loss: 0.4019\n"
     ]
    },
    {
     "name": "stderr",
     "output_type": "stream",
     "text": [
      "Epoch 14/40: 100%|██████████| 74/74 [00:16<00:00,  4.39it/s, loss=0.1874]\n"
     ]
    },
    {
     "name": "stdout",
     "output_type": "stream",
     "text": [
      "Epoch [14/40] - Loss: 0.3879\n"
     ]
    },
    {
     "name": "stderr",
     "output_type": "stream",
     "text": [
      "Epoch 15/40: 100%|██████████| 74/74 [00:16<00:00,  4.58it/s, loss=0.3203]\n"
     ]
    },
    {
     "name": "stdout",
     "output_type": "stream",
     "text": [
      "Epoch [15/40] - Loss: 0.3954\n"
     ]
    },
    {
     "name": "stderr",
     "output_type": "stream",
     "text": [
      "Epoch 16/40: 100%|██████████| 74/74 [00:16<00:00,  4.54it/s, loss=0.3039]\n"
     ]
    },
    {
     "name": "stdout",
     "output_type": "stream",
     "text": [
      "Epoch [16/40] - Loss: 0.2851\n"
     ]
    },
    {
     "name": "stderr",
     "output_type": "stream",
     "text": [
      "Epoch 17/40: 100%|██████████| 74/74 [00:16<00:00,  4.56it/s, loss=0.5909]\n"
     ]
    },
    {
     "name": "stdout",
     "output_type": "stream",
     "text": [
      "Epoch [17/40] - Loss: 0.3150\n"
     ]
    },
    {
     "name": "stderr",
     "output_type": "stream",
     "text": [
      "Epoch 18/40: 100%|██████████| 74/74 [00:16<00:00,  4.51it/s, loss=0.8067]\n"
     ]
    },
    {
     "name": "stdout",
     "output_type": "stream",
     "text": [
      "Epoch [18/40] - Loss: 0.2510\n"
     ]
    },
    {
     "name": "stderr",
     "output_type": "stream",
     "text": [
      "Epoch 19/40: 100%|██████████| 74/74 [00:16<00:00,  4.48it/s, loss=0.0718]\n"
     ]
    },
    {
     "name": "stdout",
     "output_type": "stream",
     "text": [
      "Epoch [19/40] - Loss: 0.3189\n"
     ]
    },
    {
     "name": "stderr",
     "output_type": "stream",
     "text": [
      "Epoch 20/40: 100%|██████████| 74/74 [00:16<00:00,  4.50it/s, loss=0.4439]\n"
     ]
    },
    {
     "name": "stdout",
     "output_type": "stream",
     "text": [
      "Epoch [20/40] - Loss: 0.2766\n"
     ]
    },
    {
     "name": "stderr",
     "output_type": "stream",
     "text": [
      "Epoch 21/40: 100%|██████████| 74/74 [00:16<00:00,  4.61it/s, loss=0.0993]\n"
     ]
    },
    {
     "name": "stdout",
     "output_type": "stream",
     "text": [
      "Epoch [21/40] - Loss: 0.2208\n"
     ]
    },
    {
     "name": "stderr",
     "output_type": "stream",
     "text": [
      "Epoch 22/40: 100%|██████████| 74/74 [00:16<00:00,  4.37it/s, loss=0.0513]\n"
     ]
    },
    {
     "name": "stdout",
     "output_type": "stream",
     "text": [
      "Epoch [22/40] - Loss: 0.3218\n"
     ]
    },
    {
     "name": "stderr",
     "output_type": "stream",
     "text": [
      "Epoch 23/40: 100%|██████████| 74/74 [00:16<00:00,  4.53it/s, loss=0.2451]\n"
     ]
    },
    {
     "name": "stdout",
     "output_type": "stream",
     "text": [
      "Epoch [23/40] - Loss: 0.2838\n"
     ]
    },
    {
     "name": "stderr",
     "output_type": "stream",
     "text": [
      "Epoch 24/40: 100%|██████████| 74/74 [00:15<00:00,  4.64it/s, loss=0.3238]\n"
     ]
    },
    {
     "name": "stdout",
     "output_type": "stream",
     "text": [
      "Epoch [24/40] - Loss: 0.3222\n"
     ]
    },
    {
     "name": "stderr",
     "output_type": "stream",
     "text": [
      "Epoch 25/40: 100%|██████████| 74/74 [00:16<00:00,  4.49it/s, loss=0.4099]\n"
     ]
    },
    {
     "name": "stdout",
     "output_type": "stream",
     "text": [
      "Epoch [25/40] - Loss: 0.2633\n"
     ]
    },
    {
     "name": "stderr",
     "output_type": "stream",
     "text": [
      "Epoch 26/40: 100%|██████████| 74/74 [00:16<00:00,  4.53it/s, loss=0.6437]\n"
     ]
    },
    {
     "name": "stdout",
     "output_type": "stream",
     "text": [
      "Epoch [26/40] - Loss: 0.3311\n"
     ]
    },
    {
     "name": "stderr",
     "output_type": "stream",
     "text": [
      "Epoch 27/40: 100%|██████████| 74/74 [00:16<00:00,  4.52it/s, loss=0.2072]\n"
     ]
    },
    {
     "name": "stdout",
     "output_type": "stream",
     "text": [
      "Epoch [27/40] - Loss: 0.2850\n"
     ]
    },
    {
     "name": "stderr",
     "output_type": "stream",
     "text": [
      "Epoch 28/40: 100%|██████████| 74/74 [00:16<00:00,  4.54it/s, loss=0.0647]\n"
     ]
    },
    {
     "name": "stdout",
     "output_type": "stream",
     "text": [
      "Epoch [28/40] - Loss: 0.2521\n"
     ]
    },
    {
     "name": "stderr",
     "output_type": "stream",
     "text": [
      "Epoch 29/40: 100%|██████████| 74/74 [00:16<00:00,  4.55it/s, loss=0.0581]\n"
     ]
    },
    {
     "name": "stdout",
     "output_type": "stream",
     "text": [
      "Epoch [29/40] - Loss: 0.2552\n"
     ]
    },
    {
     "name": "stderr",
     "output_type": "stream",
     "text": [
      "Epoch 30/40: 100%|██████████| 74/74 [00:16<00:00,  4.49it/s, loss=0.2987]\n"
     ]
    },
    {
     "name": "stdout",
     "output_type": "stream",
     "text": [
      "Epoch [30/40] - Loss: 0.2699\n"
     ]
    },
    {
     "name": "stderr",
     "output_type": "stream",
     "text": [
      "Epoch 31/40: 100%|██████████| 74/74 [00:16<00:00,  4.47it/s, loss=0.0642]\n"
     ]
    },
    {
     "name": "stdout",
     "output_type": "stream",
     "text": [
      "Epoch [31/40] - Loss: 0.2408\n"
     ]
    },
    {
     "name": "stderr",
     "output_type": "stream",
     "text": [
      "Epoch 32/40: 100%|██████████| 74/74 [00:16<00:00,  4.42it/s, loss=0.3293]\n"
     ]
    },
    {
     "name": "stdout",
     "output_type": "stream",
     "text": [
      "Epoch [32/40] - Loss: 0.2610\n"
     ]
    },
    {
     "name": "stderr",
     "output_type": "stream",
     "text": [
      "Epoch 33/40: 100%|██████████| 74/74 [00:16<00:00,  4.56it/s, loss=0.2047]\n"
     ]
    },
    {
     "name": "stdout",
     "output_type": "stream",
     "text": [
      "Epoch [33/40] - Loss: 0.2836\n"
     ]
    },
    {
     "name": "stderr",
     "output_type": "stream",
     "text": [
      "Epoch 34/40: 100%|██████████| 74/74 [00:16<00:00,  4.49it/s, loss=0.0789]\n"
     ]
    },
    {
     "name": "stdout",
     "output_type": "stream",
     "text": [
      "Epoch [34/40] - Loss: 0.2720\n"
     ]
    },
    {
     "name": "stderr",
     "output_type": "stream",
     "text": [
      "Epoch 35/40: 100%|██████████| 74/74 [00:16<00:00,  4.51it/s, loss=1.3459]\n"
     ]
    },
    {
     "name": "stdout",
     "output_type": "stream",
     "text": [
      "Epoch [35/40] - Loss: 0.2063\n"
     ]
    },
    {
     "name": "stderr",
     "output_type": "stream",
     "text": [
      "Epoch 36/40: 100%|██████████| 74/74 [00:16<00:00,  4.43it/s, loss=0.1075]\n"
     ]
    },
    {
     "name": "stdout",
     "output_type": "stream",
     "text": [
      "Epoch [36/40] - Loss: 0.2408\n"
     ]
    },
    {
     "name": "stderr",
     "output_type": "stream",
     "text": [
      "Epoch 37/40: 100%|██████████| 74/74 [00:16<00:00,  4.45it/s, loss=0.3507]\n"
     ]
    },
    {
     "name": "stdout",
     "output_type": "stream",
     "text": [
      "Epoch [37/40] - Loss: 0.2007\n"
     ]
    },
    {
     "name": "stderr",
     "output_type": "stream",
     "text": [
      "Epoch 38/40: 100%|██████████| 74/74 [00:16<00:00,  4.44it/s, loss=0.1194]\n"
     ]
    },
    {
     "name": "stdout",
     "output_type": "stream",
     "text": [
      "Epoch [38/40] - Loss: 0.3006\n"
     ]
    },
    {
     "name": "stderr",
     "output_type": "stream",
     "text": [
      "Epoch 39/40: 100%|██████████| 74/74 [00:16<00:00,  4.54it/s, loss=0.0657]\n"
     ]
    },
    {
     "name": "stdout",
     "output_type": "stream",
     "text": [
      "Epoch [39/40] - Loss: 0.2912\n"
     ]
    },
    {
     "name": "stderr",
     "output_type": "stream",
     "text": [
      "Epoch 40/40: 100%|██████████| 74/74 [00:16<00:00,  4.51it/s, loss=0.0840]\n"
     ]
    },
    {
     "name": "stdout",
     "output_type": "stream",
     "text": [
      "Epoch [40/40] - Loss: 0.2654\n"
     ]
    },
    {
     "data": {
      "image/png": "[encoded data removed]",
      "text/plain": [
       "<Figure size 640x480 with 1 Axes>"
      ]
     },
     "metadata": {},
     "output_type": "display_data"
    }
   ],
   "source": [
    "############################\n",
    "# 5. MODEL DEFINITION + TRAINING\n",
    "############################\n",
    "\n",
    "device = torch.device(\"cuda\" if torch.cuda.is_available() else \"cpu\")\n",
    "\n",
    "# R(2+1)D loaded from offline weights\n",
    "def load_model_offline(model_name, pth_path, ignore_key):\n",
    "    model = model_name(weights=None, num_classes=3)\n",
    "    state_dict = torch.load(pth_path, map_location='cpu')\n",
    "    # Remove parameters from the head if they exist in the state dict\n",
    "    for key in list(state_dict.keys()):\n",
    "        if key.startswith(ignore_key):\n",
    "            print(f\"Removing {key} from checkpoint due to shape mismatch.\")\n",
    "            del state_dict[key]\n",
    "    model.load_state_dict(state_dict, strict=False)\n",
    "    return model\n",
    "\n",
    "model = load_model_offline(\n",
    "    r2plus1d_18,\n",
    "    \"./pretrained_weights/r2plus1d_18-91a641e6.pth\",\n",
    "    ignore_key=\"fc\"\n",
    ")\n",
    "model = model.to(device)\n",
    "\n",
    "criterion = nn.CrossEntropyLoss()\n",
    "optimizer = optim.Adam(model.parameters(), lr=1e-4)\n",
    "\n",
    "# LR Scheduler: drop by 10× every 10 epochs\n",
    "from torch.optim.lr_scheduler import StepLR\n",
    "scheduler = StepLR(optimizer, step_size=10, gamma=0.1)\n",
    "\n",
    "num_epochs = 40  \n",
    "training_loss = []\n",
    "\n",
    "for epoch in range(num_epochs):\n",
    "    model.train()\n",
    "    running_loss = 0.0\n",
    "    pbar = tqdm(train_loader, total=len(train_loader), desc=f\"Epoch {epoch+1}/{num_epochs}\")\n",
    "    for (inputs, labels) in pbar:\n",
    "        inputs = inputs.to(device)\n",
    "        labels = labels.to(device)\n",
    "\n",
    "        optimizer.zero_grad()\n",
    "        outputs = model(inputs)\n",
    "        loss = criterion(outputs, labels)\n",
    "        loss.backward()\n",
    "        optimizer.step()\n",
    "\n",
    "        running_loss += loss.item()\n",
    "        pbar.set_postfix({\"loss\": f\"{loss.item():.4f}\"})\n",
    "    \n",
    "    pbar.close()\n",
    "    scheduler.step() \n",
    "    avg_loss = running_loss / len(train_loader)\n",
    "    training_loss.append(avg_loss)\n",
    "    print(f\"Epoch [{epoch+1}/{num_epochs}] - Loss: {avg_loss:.4f}\")\n",
    "\n",
    "plt.figure()\n",
    "plt.plot(training_loss, label='Training Loss')\n",
    "plt.xlabel('Epoch')\n",
    "plt.ylabel('Loss')\n",
    "plt.title('Training Loss')\n",
    "plt.legend()\n",
    "plt.show()"
   ]
  },
  {
   "cell_type": "code",
   "execution_count": 7,
   "id": "364cd982-48b7-4813-8287-bb835e28a357",
   "metadata": {},
   "outputs": [
    {
     "name": "stderr",
     "output_type": "stream",
     "text": [
      "Inference (All Saccades): 100%|██████████| 75/75 [00:15<00:00,  4.78it/s]\n"
     ]
    }
   ],
   "source": [
    "############################\n",
    "# 6. EVALUATION ON TEST SET (ALL SACCADES)\n",
    "############################\n",
    "\n",
    "model.eval()\n",
    "\n",
    "test_indices = test_dataset.indices  # The actual indices in the original dataset\n",
    "all_labels = []\n",
    "all_preds = []\n",
    "all_probs = []\n",
    "\n",
    "for idx in tqdm(test_indices, desc=\"Inference (All Saccades)\"):\n",
    "    video_name = full_dataset.video_names[idx]\n",
    "    true_label = full_dataset.labels_dict[video_name]  # numeric e.g. 0,1,2\n",
    "    csv_path   = os.path.join(WAVEFORM_DATA_DIR, video_name.replace(\".mp4\", \".csv\"))\n",
    "    video_path = os.path.join(VIDEO_DATA_DIR, video_name)\n",
    "\n",
    "    pred_class, avg_probs = infer_with_all_saccades(\n",
    "        model=model,\n",
    "        video_path=video_path,\n",
    "        csv_path=csv_path,\n",
    "        transform=transform,\n",
    "        num_frames=32\n",
    "    )\n",
    "    # If None => no saccade found, skip or handle fallback\n",
    "    if pred_class is None or avg_probs is None:\n",
    "        continue\n",
    "\n",
    "    all_labels.append(true_label)\n",
    "    all_preds.append(pred_class)\n",
    "    all_probs.append(avg_probs)\n",
    "\n",
    "all_labels = np.array(all_labels)\n",
    "all_preds  = np.array(all_preds)\n",
    "all_probs  = np.array(all_probs)"
   ]
  },
  {
   "cell_type": "code",
   "execution_count": 8,
   "id": "1e0a2e10-07df-49aa-bc86-561244f3e503",
   "metadata": {},
   "outputs": [
    {
     "data": {
      "image/png": "[encoded data removed]",
      "text/plain": [
       "<Figure size 600x600 with 2 Axes>"
      ]
     },
     "metadata": {},
     "output_type": "display_data"
    },
    {
     "name": "stdout",
     "output_type": "stream",
     "text": [
      "              precision    recall  f1-score   support\n",
      "\n",
      "      normal       0.52      0.86      0.65        14\n",
      "       hyper       0.42      0.25      0.31        32\n",
      "        hypo       0.33      0.38      0.35        29\n",
      "\n",
      "    accuracy                           0.41        75\n",
      "   macro avg       0.43      0.50      0.44        75\n",
      "weighted avg       0.41      0.41      0.39        75\n",
      "\n",
      "Class normal - AUROC: 0.9391, AUPRC: 0.7919\n",
      "Class hyper - AUROC: 0.5283, AUPRC: 0.4749\n",
      "Class hypo - AUROC: 0.4378, AUPRC: 0.3334\n"
     ]
    }
   ],
   "source": [
    "############################\n",
    "# 7. MULTI-CLASS EVALUATION\n",
    "############################\n",
    "\n",
    "# 7a. Multi-class Confusion Matrix\n",
    "class_names = ['normal', 'hyper', 'hypo']  # match your numeric labels {0,1,2}\n",
    "cm = confusion_matrix(all_labels, all_preds, labels=[0,1,2])\n",
    "plt.figure(figsize=(6,6))\n",
    "sns.heatmap(cm, annot=True, fmt='d', cmap=\"Blues\",\n",
    "            xticklabels=class_names, yticklabels=class_names)\n",
    "plt.xlabel(\"Predicted Label\")\n",
    "plt.ylabel(\"True Label\")\n",
    "plt.title(\"Confusion Matrix (Multi-class)\")\n",
    "plt.show()\n",
    "\n",
    "# 7b. Classification Report\n",
    "print(classification_report(all_labels, all_preds, target_names=class_names))\n",
    "\n",
    "# 7c. AUROC / AUPRC per class (optional)\n",
    "for i, cls_name in enumerate(class_names):\n",
    "    y_true = (all_labels == i).astype(int)\n",
    "    y_score = all_probs[:, i]\n",
    "    auroc = roc_auc_score(y_true, y_score)\n",
    "    auprc = average_precision_score(y_true, y_score)\n",
    "    print(f\"Class {cls_name} - AUROC: {auroc:.4f}, AUPRC: {auprc:.4f}\")"
   ]
  },
  {
   "cell_type": "code",
   "execution_count": 9,
   "id": "1a665d45-d6ba-45bc-8922-5a751b277cd3",
   "metadata": {},
   "outputs": [
    {
     "name": "stdout",
     "output_type": "stream",
     "text": [
      "Sensitivity: 0.820\n",
      "Specificity: 0.857\n",
      "PPV:         0.962\n"
     ]
    }
   ],
   "source": [
    "############################\n",
    "# 8. BINARY METRICS (Sensitivity, Specificity, PPV)\n",
    "############################\n",
    "\n",
    "# Treat normal as NEGATIVE, and hyper/hypo as POSITIVE.\n",
    "# mapped normal=0 => 0, hyper=1 => 1, hypo=2 => 1\n",
    "def to_binary_label(class_id):\n",
    "    if class_id == 0:  # normal\n",
    "        return 0\n",
    "    else:  # hyper or hypo\n",
    "        return 1\n",
    "\n",
    "bin_true = [to_binary_label(lbl) for lbl in all_labels]\n",
    "bin_pred = [to_binary_label(prd) for prd in all_preds]\n",
    "\n",
    "tn, fp, fn, tp = confusion_matrix(bin_true, bin_pred, labels=[0,1]).ravel()\n",
    "sensitivity = tp / (tp + fn)    # TPR\n",
    "specificity = tn / (tn + fp)    # TNR\n",
    "ppv         = tp / (tp + fp)    # Precision\n",
    "\n",
    "print(f\"Sensitivity: {sensitivity:.3f}\")\n",
    "print(f\"Specificity: {specificity:.3f}\")\n",
    "print(f\"PPV:         {ppv:.3f}\")"
   ]
  },
  {
   "cell_type": "code",
   "execution_count": 10,
   "id": "5a9b4054-35e7-447a-87d8-bcd3f838a1d2",
   "metadata": {},
   "outputs": [
    {
     "name": "stdout",
     "output_type": "stream",
     "text": [
      "Model saved to: inference_model.pth\n",
      "Predictions saved to: inference_model_predictions.csv\n"
     ]
    }
   ],
   "source": [
    "import os\n",
    "import pandas as pd\n",
    "\n",
    "############################\n",
    "# 9. SAVE MODEL & RESULTS\n",
    "############################\n",
    "\n",
    "# 1️⃣ Save Model Weights\n",
    "model_save_path = \"inference_model.pth\"\n",
    "torch.save(model.state_dict(), model_save_path)\n",
    "print(f\"Model saved to: {model_save_path}\")\n",
    "\n",
    "# 2️⃣ Save Predictions & Labels\n",
    "results_df = pd.DataFrame({\n",
    "    \"video_filename\": [full_dataset.video_names[idx] for idx in test_indices],  # Video names\n",
    "    \"true_label\": all_labels,  # True class labels\n",
    "    \"predicted_label\": all_preds,  # Predicted labels\n",
    "    \"predicted_probabilities\": list(all_probs)  # List of full probability distributions\n",
    "})\n",
    "\n",
    "results_csv_path = \"inference_model_predictions.csv\"\n",
    "results_df.to_csv(results_csv_path, index=False)\n",
    "print(f\"Predictions saved to: {results_csv_path}\")\n"
   ]
  }
 ],
 "metadata": {
  "kernelspec": {
   "display_name": "Python (my_new_env)",
   "language": "python",
   "name": "my_new_env"
  },
  "language_info": {
   "codemirror_mode": {
    "name": "ipython",
    "version": 3
   },
   "file_extension": ".py",
   "mimetype": "text/x-python",
   "name": "python",
   "nbconvert_exporter": "python",
   "pygments_lexer": "ipython3",
   "version": "3.10.16"
  }
 },
 "nbformat": 4,
 "nbformat_minor": 5
}
