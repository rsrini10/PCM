{
 "cells": [
  {
   "cell_type": "code",
   "execution_count": 13,
   "id": "df085a90",
   "metadata": {},
   "outputs": [],
   "source": [
    "\"\"\"Moving all videos into a big folder\"\"\"\n",
    "import os\n",
    "import glob\n",
    "import shutil\n",
    "from tqdm import tqdm\n",
    "import pandas as pd"
   ]
  },
  {
   "cell_type": "code",
   "execution_count": 14,
   "id": "545cc402",
   "metadata": {},
   "outputs": [
    {
     "name": "stdout",
     "output_type": "stream",
     "text": [
      "Have a total of 1264 videos!\n"
     ]
    },
    {
     "name": "stderr",
     "output_type": "stream",
     "text": [
      "100%|██████████| 1264/1264 [01:12<00:00, 17.35it/s]\n"
     ]
    }
   ],
   "source": [
    "synData_path = \"../synData\"\n",
    "target_path = \"./eyeVideos\"\n",
    "os.makedirs(target_path, exist_ok=True)\n",
    "\n",
    "all_video_paths = glob.glob(os.path.join(synData_path, \"*\", \"eye.mp4\"))\n",
    "print(f\"Have a total of {len(all_video_paths)} videos!\")\n",
    "for video_path in tqdm(all_video_paths):\n",
    "    case_name = video_path.split(\"/\")[-2]\n",
    "    save_path = os.path.join(target_path, f\"{case_name}.mp4\")\n",
    "    shutil.copy(video_path, save_path)"
   ]
  },
  {
   "cell_type": "code",
   "execution_count": 15,
   "id": "14b58160-f567-4db4-a269-562d82470659",
   "metadata": {},
   "outputs": [
    {
     "name": "stdout",
     "output_type": "stream",
     "text": [
      "CSV file 'video_labels.csv' created successfully in /GLOBALFS/nsccgz_ywang_zfd/TianyuLin/PCM/ControlNeXt/ControlNeXt-SVD-v2/videoGenarationPipeline/videoClassification!\n"
     ]
    }
   ],
   "source": [
    "\n",
    "# Define the directory containing the videos\n",
    "directory = \"./eyeVideos\"\n",
    "\n",
    "# Prepare a list to store video file names and their labels\n",
    "data = []\n",
    "\n",
    "# Iterate through files in the directory\n",
    "for file in os.listdir(directory):\n",
    "    if file.endswith(\".mp4\"):  # Ensure it's a video file\n",
    "        if \"normal\" in file:\n",
    "            label = 0\n",
    "        elif \"hyper\" in file:\n",
    "            label = 1\n",
    "        elif \"hypo\" in file:\n",
    "            label = 2\n",
    "        else:\n",
    "            continue  # Skip if it doesn't match expected categories\n",
    "        \n",
    "        data.append([file, label])\n",
    "\n",
    "# Create a DataFrame\n",
    "df = pd.DataFrame(data, columns=[\"filename\", \"label\"])\n",
    "\n",
    "# Save to CSV\n",
    "csv_path = \"video_labels.csv\"\n",
    "df.to_csv(csv_path, index=False)\n",
    "\n",
    "print(f\"CSV file '{csv_path}' created successfully in {os.getcwd()}!\")"
   ]
  },
  {
   "cell_type": "code",
   "execution_count": 16,
   "id": "c2d8b26d-a0d8-4db7-966f-fbc6434f3e35",
   "metadata": {},
   "outputs": [
    {
     "data": {
      "text/html": [
       "<div>\n",
       "<style scoped>\n",
       "    .dataframe tbody tr th:only-of-type {\n",
       "        vertical-align: middle;\n",
       "    }\n",
       "\n",
       "    .dataframe tbody tr th {\n",
       "        vertical-align: top;\n",
       "    }\n",
       "\n",
       "    .dataframe thead th {\n",
       "        text-align: right;\n",
       "    }\n",
       "</style>\n",
       "<table border=\"1\" class=\"dataframe\">\n",
       "  <thead>\n",
       "    <tr style=\"text-align: right;\">\n",
       "      <th></th>\n",
       "      <th>filename</th>\n",
       "      <th>label</th>\n",
       "    </tr>\n",
       "  </thead>\n",
       "  <tbody>\n",
       "    <tr>\n",
       "      <th>0</th>\n",
       "      <td>hypo_1_163.mp4</td>\n",
       "      <td>2</td>\n",
       "    </tr>\n",
       "    <tr>\n",
       "      <th>1</th>\n",
       "      <td>hypo_2_121.mp4</td>\n",
       "      <td>2</td>\n",
       "    </tr>\n",
       "    <tr>\n",
       "      <th>2</th>\n",
       "      <td>hyper_2_157.mp4</td>\n",
       "      <td>1</td>\n",
       "    </tr>\n",
       "    <tr>\n",
       "      <th>3</th>\n",
       "      <td>normal_2_341.mp4</td>\n",
       "      <td>0</td>\n",
       "    </tr>\n",
       "    <tr>\n",
       "      <th>4</th>\n",
       "      <td>hyper_1_115.mp4</td>\n",
       "      <td>1</td>\n",
       "    </tr>\n",
       "  </tbody>\n",
       "</table>\n",
       "</div>"
      ],
      "text/plain": [
       "           filename  label\n",
       "0    hypo_1_163.mp4      2\n",
       "1    hypo_2_121.mp4      2\n",
       "2   hyper_2_157.mp4      1\n",
       "3  normal_2_341.mp4      0\n",
       "4   hyper_1_115.mp4      1"
      ]
     },
     "execution_count": 16,
     "metadata": {},
     "output_type": "execute_result"
    }
   ],
   "source": [
    "import pandas as pd\n",
    "df = pd.read_csv(\"video_labels.csv\")\n",
    "df.head()  # Display the first few rows"
   ]
  },
  {
   "cell_type": "code",
   "execution_count": 17,
   "id": "2aba8627-7917-4a50-9d85-4853e877d689",
   "metadata": {},
   "outputs": [
    {
     "name": "stdout",
     "output_type": "stream",
     "text": [
      "label\n",
      "0    420\n",
      "1    423\n",
      "2    421\n",
      "Name: count, dtype: int64\n"
     ]
    }
   ],
   "source": [
    "class_counts = df[\"label\"].value_counts().sort_index()\n",
    "print(class_counts)"
   ]
  }
 ],
 "metadata": {
  "kernelspec": {
   "display_name": "Python 3",
   "language": "python",
   "name": "python3"
  },
  "language_info": {
   "codemirror_mode": {
    "name": "ipython",
    "version": 3
   },
   "file_extension": ".py",
   "mimetype": "text/x-python",
   "name": "python",
   "nbconvert_exporter": "python",
   "pygments_lexer": "ipython3",
   "version": "3.9.21"
  }
 },
 "nbformat": 4,
 "nbformat_minor": 5
}
