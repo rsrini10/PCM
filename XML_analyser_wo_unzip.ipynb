{
 "cells": [
  {
   "cell_type": "code",
   "execution_count": 1,
   "id": "2d381e28-397e-427d-ba70-2cb386e0c230",
   "metadata": {},
   "outputs": [],
   "source": [
    "### INPUT IS THE DIRECTORY FOR ALL FILES\n",
    "### OUTPUT: IF XML CONTAINS 3 LASER SACCADE THEN, OUTPUT = DF OD CLASSIFICATION OF EACH IND SACCADE - \n",
    "#% of all saccades in the test that are normal accuracy, hyper and hypo"
   ]
  },
  {
   "cell_type": "code",
   "execution_count": 2,
   "id": "e43c858f-dcfd-436e-a912-af0906ed4d99",
   "metadata": {},
   "outputs": [
    {
     "name": "stdout",
     "output_type": "stream",
     "text": [
      "Files moved successfully.\n"
     ]
    }
   ],
   "source": [
    "#SETTING UP THE FILES TO BE PROCESSED\n",
    "import os\n",
    "import shutil\n",
    "\n",
    "def move_files_to_main_directory(root_dir):\n",
    "    \"\"\"Moves all files from subfolders into the main directory.\"\"\"\n",
    "    for dirpath, _, filenames in os.walk(root_dir):\n",
    "        for filename in filenames:\n",
    "            if dirpath != root_dir:\n",
    "                source_path = os.path.join(dirpath, filename)\n",
    "                destination_path = os.path.join(root_dir, filename)\n",
    "                shutil.move(source_path, destination_path)\n",
    "\n",
    "root_directory = \"/Volumes/LTY-Photos/DatasetCollection/PCMdata/2023_July\"\n",
    "move_files_to_main_directory(root_directory)\n",
    "print(\"Files moved successfully.\")\n"
   ]
  },
  {
   "cell_type": "code",
   "execution_count": 10,
   "id": "a23485f6-717c-43d8-a6d2-5baf0c4c4806",
   "metadata": {},
   "outputs": [
    {
     "name": "stderr",
     "output_type": "stream",
     "text": [
      " 39%|███▉      | 53/135 [00:01<00:01, 47.39it/s]"
     ]
    },
    {
     "name": "stdout",
     "output_type": "stream",
     "text": [
      "ignore zip file with 2 xml files!\n"
     ]
    },
    {
     "name": "stderr",
     "output_type": "stream",
     "text": [
      " 52%|█████▏    | 70/135 [00:01<00:01, 45.42it/s]"
     ]
    },
    {
     "name": "stdout",
     "output_type": "stream",
     "text": [
      "ignore zip file with 3 xml files!\n"
     ]
    },
    {
     "name": "stderr",
     "output_type": "stream",
     "text": [
      " 69%|██████▉   | 93/135 [00:01<00:00, 53.08it/s]"
     ]
    },
    {
     "name": "stdout",
     "output_type": "stream",
     "text": [
      "ignore zip file with 2 xml files!\n"
     ]
    },
    {
     "name": "stderr",
     "output_type": "stream",
     "text": [
      "100%|██████████| 135/135 [00:02<00:00, 48.52it/s]\n"
     ]
    },
    {
     "name": "stdout",
     "output_type": "stream",
     "text": [
      "ignore: ._Able,Carmaletta_95236649.zip\n",
      "ignore: ._Riley,Althea_78541309 (2).zip\n",
      "ignore: ._Riley,Althea_78541309.zip\n"
     ]
    },
    {
     "name": "stderr",
     "output_type": "stream",
     "text": [
      " 18%|█▊        | 22/122 [00:00<00:01, 52.43it/s]"
     ]
    },
    {
     "name": "stdout",
     "output_type": "stream",
     "text": [
      "ignore zip file with 2 xml files!\n",
      "ignore zip file with 2 xml files!\n"
     ]
    },
    {
     "name": "stderr",
     "output_type": "stream",
     "text": [
      " 79%|███████▊  | 96/122 [00:02<00:00, 40.24it/s]"
     ]
    },
    {
     "name": "stdout",
     "output_type": "stream",
     "text": [
      "ignore zip file with 2 xml files!\n"
     ]
    },
    {
     "name": "stderr",
     "output_type": "stream",
     "text": [
      "100%|██████████| 122/122 [00:02<00:00, 45.53it/s]\n",
      "100%|██████████| 105/105 [00:01<00:00, 53.94it/s]\n"
     ]
    },
    {
     "name": "stdout",
     "output_type": "stream",
     "text": [
      "ignore: ._Altindirek,Korhan_35360702.zip\n"
     ]
    },
    {
     "name": "stderr",
     "output_type": "stream",
     "text": [
      " 38%|███▊      | 44/117 [00:00<00:01, 53.20it/s]"
     ]
    },
    {
     "name": "stdout",
     "output_type": "stream",
     "text": [
      "ignore zip file with 2 xml files!\n"
     ]
    },
    {
     "name": "stderr",
     "output_type": "stream",
     "text": [
      " 50%|████▉     | 58/117 [00:01<00:01, 53.47it/s]"
     ]
    },
    {
     "name": "stdout",
     "output_type": "stream",
     "text": [
      "ignore zip file with 2 xml files!\n"
     ]
    },
    {
     "name": "stderr",
     "output_type": "stream",
     "text": [
      " 62%|██████▏   | 72/117 [00:01<00:00, 51.10it/s]"
     ]
    },
    {
     "name": "stdout",
     "output_type": "stream",
     "text": [
      "ignore zip file with 2 xml files!\n"
     ]
    },
    {
     "name": "stderr",
     "output_type": "stream",
     "text": [
      " 73%|███████▎  | 85/117 [00:01<00:00, 52.67it/s]"
     ]
    },
    {
     "name": "stdout",
     "output_type": "stream",
     "text": [
      "ignore zip file with 2 xml files!\n"
     ]
    },
    {
     "name": "stderr",
     "output_type": "stream",
     "text": [
      " 85%|████████▍ | 99/117 [00:01<00:00, 51.96it/s]"
     ]
    },
    {
     "name": "stdout",
     "output_type": "stream",
     "text": [
      "ignore zip file with 2 xml files!\n"
     ]
    },
    {
     "name": "stderr",
     "output_type": "stream",
     "text": [
      "100%|██████████| 117/117 [00:02<00:00, 50.16it/s]\n",
      "  7%|▋         | 10/140 [00:00<00:01, 66.19it/s]"
     ]
    },
    {
     "name": "stdout",
     "output_type": "stream",
     "text": [
      "ignore zip file with 2 xml files!\n",
      "ignore zip file with 2 xml files!\n"
     ]
    },
    {
     "name": "stderr",
     "output_type": "stream",
     "text": [
      " 19%|█▊        | 26/140 [00:00<00:01, 61.15it/s]"
     ]
    },
    {
     "name": "stdout",
     "output_type": "stream",
     "text": [
      "ignore zip file with 2 xml files!\n"
     ]
    },
    {
     "name": "stderr",
     "output_type": "stream",
     "text": [
      " 94%|█████████▍| 132/140 [00:02<00:00, 55.45it/s]"
     ]
    },
    {
     "name": "stdout",
     "output_type": "stream",
     "text": [
      "ignore zip file with 2 xml files!\n"
     ]
    },
    {
     "name": "stderr",
     "output_type": "stream",
     "text": [
      "100%|██████████| 140/140 [00:02<00:00, 52.26it/s]\n",
      "  8%|▊         | 12/156 [00:00<00:02, 49.73it/s]"
     ]
    },
    {
     "name": "stdout",
     "output_type": "stream",
     "text": [
      "ignore zip file with 4 xml files!\n"
     ]
    },
    {
     "name": "stderr",
     "output_type": "stream",
     "text": [
      " 21%|██        | 33/156 [00:00<00:02, 53.05it/s]"
     ]
    },
    {
     "name": "stdout",
     "output_type": "stream",
     "text": [
      "ignore zip file with 2 xml files!\n",
      "ignore zip file with 2 xml files!\n"
     ]
    },
    {
     "name": "stderr",
     "output_type": "stream",
     "text": [
      " 46%|████▌     | 72/156 [00:01<00:01, 56.22it/s]"
     ]
    },
    {
     "name": "stdout",
     "output_type": "stream",
     "text": [
      "ignore zip file with 2 xml files!\n",
      "ignore zip file with 2 xml files!\n"
     ]
    },
    {
     "name": "stderr",
     "output_type": "stream",
     "text": [
      " 54%|█████▍    | 84/156 [00:01<00:01, 50.25it/s]"
     ]
    },
    {
     "name": "stdout",
     "output_type": "stream",
     "text": [
      "ignore zip file with 3 xml files!\n"
     ]
    },
    {
     "name": "stderr",
     "output_type": "stream",
     "text": [
      " 87%|████████▋ | 136/156 [00:02<00:00, 49.63it/s]"
     ]
    },
    {
     "name": "stdout",
     "output_type": "stream",
     "text": [
      "ignore zip file with 2 xml files!\n"
     ]
    },
    {
     "name": "stderr",
     "output_type": "stream",
     "text": [
      "100%|██████████| 156/156 [00:03<00:00, 50.13it/s]\n"
     ]
    }
   ],
   "source": [
    "import xml.etree.ElementTree as ET\n",
    "import pandas as pd\n",
    "import numpy as np\n",
    "import matplotlib.pyplot as plt\n",
    "import os\n",
    "import zipfile\n",
    "import io\n",
    "from tqdm import tqdm\n",
    "\n",
    "def plot_saccade_waveform(root_directory, plot=False):\n",
    "    results_df = pd.DataFrame()\n",
    "\n",
    "    for folder in os.listdir(root_directory):\n",
    "        folder_path = os.path.join(root_directory, folder)\n",
    "        if os.path.isfile(folder_path):\n",
    "            continue\n",
    "        for zip_filename in tqdm(os.listdir(folder_path)):\n",
    "            if not zip_filename.endswith(\".zip\") or zip_filename.startswith(\".\"):\n",
    "                print(\"ignore:\", zip_filename)\n",
    "                continue\n",
    "            with zipfile.ZipFile(os.path.join(folder_path, zip_filename), 'r') as zip_ref:\n",
    "                # List all files in the ZIP archive\n",
    "                file_list = zip_ref.namelist()\n",
    "                \n",
    "                # Identify the CSV file(s), assuming one XML file exists\n",
    "                xml_filenames = [f for f in file_list if f.endswith('.xml')]\n",
    "                if len(xml_filenames) != 1:\n",
    "                    print(\"ignore zip file with\", len(xml_filenames), \"xml files!\")\n",
    "                    continue\n",
    "                xml_filename = xml_filenames[0]\n",
    "                with zip_ref.open(xml_filename) as xml_file:\n",
    "                    # df = pd.read_csv(file)\n",
    "            #         print(df.head())\n",
    "\n",
    "            # # for filename in os.listdir(folder_path):\n",
    "            #     if filename.endswith(\".xml\"):\n",
    "            #         file_path = os.path.join(folder_path, filename)\n",
    "                    tree = ET.parse(xml_file)\n",
    "                    root = tree.getroot()\n",
    "                    \n",
    "                    # Handle namespace dynamically\n",
    "                    namespace = {'ns': root.tag.split('}')[0].strip('{')} if '}' in root.tag else {}\n",
    "\n",
    "                    saccade_summary = []\n",
    "                    saccade_data = []\n",
    "\n",
    "                    # Extract both test and beat data in a single pass\n",
    "                    for saccade in root.findall('.//ns:VW_SaccadeTest', namespace):\n",
    "                        saccade_summary.append({\n",
    "                            'TestUID': saccade.findtext('ns:TestUID', default='', namespaces=namespace),\n",
    "                            'AvgAccuracyHRRightward': saccade.findtext('ns:AvgAccuracyHRRightward', default='0', namespaces=namespace),\n",
    "                            'AvgAccuracyHRLeftward': saccade.findtext('ns:AvgAccuracyHRLeftward', default='0', namespaces=namespace),\n",
    "                        })\n",
    "\n",
    "                    for saccade in root.findall('.//ns:Saccade', namespace):\n",
    "                        saccade_data.append({\n",
    "                            'TestUID': saccade.findtext('ns:TestUID', default='', namespaces=namespace),\n",
    "                            'TimeMs': saccade.findtext('ns:TimeMs', default='0', namespaces=namespace),\n",
    "                            'AccuracyPercent': saccade.findtext('ns:AccuracyPercent', default='0', namespaces=namespace),\n",
    "                        })\n",
    "                    \n",
    "                    if not saccade_summary or not saccade_data:\n",
    "                        continue  # Skip if saccade data is missing\n",
    "\n",
    "                    summary_df = pd.DataFrame(saccade_summary).astype(float)\n",
    "                    saccade_df = pd.DataFrame(saccade_data).astype(float)\n",
    "\n",
    "                    merged_df = pd.merge(summary_df, saccade_df, on='TestUID', how='inner')\n",
    "\n",
    "                    # Compute statistics safely\n",
    "                    num_sac = max(len(saccade_data), 1)  # Prevent division by zero\n",
    "                    num_hyper = 100 * (saccade_df['AccuracyPercent'] > 120).sum() / num_sac\n",
    "                    num_hyper_low = 100 * (saccade_df['AccuracyPercent'] > 110).sum() / num_sac\n",
    "                    num_hypo = 100 * (saccade_df['AccuracyPercent'] < 70).sum() / num_sac\n",
    "                    num_nor = 100 - num_hyper - num_hypo\n",
    "\n",
    "                    results_summary = {\n",
    "                        \"Filename\": os.path.splitext(xml_filename)[0],\n",
    "                        \"Percent normal\": num_nor,\n",
    "                        \"Percent hyper\": num_hyper,\n",
    "                        \"Percent hyper_low\": num_hyper_low,\n",
    "                        \"Percent hypo\": num_hypo\n",
    "                    }\n",
    "                    results_df = pd.concat([results_df, pd.DataFrame([results_summary])], ignore_index=True)\n",
    "\n",
    "                    if plot:\n",
    "                        plt.figure(figsize=(12, 6))\n",
    "                        plt.plot(merged_df['TimeMs'], merged_df['AccuracyPercent'], 'o-', label='Accuracy')\n",
    "                        plt.title(f'Saccade Waveform - {xml_filename}')\n",
    "                        plt.xlabel('Time (ms)')\n",
    "                        plt.ylabel('Accuracy (%)')\n",
    "                        plt.legend()\n",
    "                        plt.show()\n",
    "\n",
    "    return results_df\n",
    "\n",
    "root_directory = \"/Volumes/LTY-Photos/DatasetCollection/PCMdata\"\n",
    "data_summary = plot_saccade_waveform(root_directory)\n",
    "data_summary.to_csv('2023_7_12_saccade_data_summary.csv')"
   ]
  },
  {
   "cell_type": "code",
   "execution_count": null,
   "id": "91411a8b-52bb-4727-a4d7-3946d09c6eb5",
   "metadata": {},
   "outputs": [],
   "source": []
  }
 ],
 "metadata": {
  "kernelspec": {
   "display_name": "Python 3 (ipykernel)",
   "language": "python",
   "name": "python3"
  },
  "language_info": {
   "codemirror_mode": {
    "name": "ipython",
    "version": 3
   },
   "file_extension": ".py",
   "mimetype": "text/x-python",
   "name": "python",
   "nbconvert_exporter": "python",
   "pygments_lexer": "ipython3",
   "version": "3.9.13"
  }
 },
 "nbformat": 4,
 "nbformat_minor": 5
}
