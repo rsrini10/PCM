{
 "cells": [
  {
   "cell_type": "code",
   "execution_count": 1,
   "id": "5f17f245-9526-4bd9-96f2-7c2810b121c8",
   "metadata": {},
   "outputs": [
    {
     "name": "stdout",
     "output_type": "stream",
     "text": [
      "All modules loaded\n"
     ]
    }
   ],
   "source": [
    "import os\n",
    "import torch\n",
    "import torchvision.transforms as transforms\n",
    "from torchvision.models.video import r2plus1d_18, R2Plus1D_18_Weights\n",
    "from torch.utils.data import Dataset, DataLoader, random_split\n",
    "from torchvision.io import read_video\n",
    "import torch.nn as nn\n",
    "import torch.optim as optim\n",
    "import pandas as pd\n",
    "from sklearn.metrics import roc_auc_score, average_precision_score, confusion_matrix\n",
    "import torch.nn.functional as F\n",
    "import numpy as np\n",
    "import matplotlib.pyplot as plt\n",
    "import seaborn as sns\n",
    "\n",
    "print(\"All modules loaded\")"
   ]
  },
  {
   "cell_type": "code",
   "execution_count": 2,
   "id": "ca273ed5-d3a0-4864-b3f6-43b5f389c01f",
   "metadata": {},
   "outputs": [],
   "source": [
    "# Define paths\n",
    "DATA_DIR = '/home/ryujjoo0810/jooyoung2/pcm/videos'\n",
    "CSV_FILE = '/home/ryujjoo0810/jooyoung2/pcm/video_labels.csv'\n",
    "\n",
    "# Load labels from CSV\n",
    "labels_df = pd.read_csv(CSV_FILE)\n",
    "labels_dict = {row['filename']: row['label'] for _, row in labels_df.iterrows()}\n",
    "\n",
    "# Custom Video Dataset\n",
    "class VideoDataset(Dataset):\n",
    "    def __init__(self, root_dir, labels_dict, transform=None):\n",
    "        self.root_dir = root_dir\n",
    "        self.labels_dict = labels_dict\n",
    "        self.transform = transform\n",
    "        self.video_paths = list(labels_dict.keys())\n",
    "\n",
    "    def __len__(self):\n",
    "        return len(self.video_paths)\n",
    "    \n",
    "    def __getitem__(self, idx):\n",
    "        video_name = self.video_paths[idx]\n",
    "        video_path = os.path.join(self.root_dir, video_name)\n",
    "        video, _, _ = read_video(video_path, pts_unit='sec')  # Load full video\n",
    "\n",
    "        video = video.permute(3, 0, 1, 2)  # Convert (Frames, H, W, C) → (C, Frames, H, W)\n",
    "        video = video.float() / 255.0  # Normalize\n",
    "\n",
    "        if self.transform:\n",
    "            video = self.transform(video)\n",
    "\n",
    "        label = self.labels_dict[video_name]\n",
    "        return video, label"
   ]
  },
  {
   "cell_type": "code",
   "execution_count": 10,
   "id": "f3cb0ff9-92e0-4142-ac4e-c3098aab2be0",
   "metadata": {},
   "outputs": [
    {
     "data": {
      "text/plain": [
       "(torch.Size([3, 300, 256, 256]), 2, 'hypo_2_332.mp4')"
      ]
     },
     "execution_count": 10,
     "metadata": {},
     "output_type": "execute_result"
    }
   ],
   "source": [
    "# Load one sample from the dataset\n",
    "dataset = VideoDataset(DATA_DIR, labels_dict)\n",
    "\n",
    "# Get the first video and label\n",
    "video_sample, label = dataset[0]\n",
    "\n",
    "# Print video shape and label\n",
    "video_shape = video_sample.shape  # (C, Frames, H, W)\n",
    "video_filename = dataset.video_paths[0]\n",
    "\n",
    "video_shape, label, video_filename\n"
   ]
  },
  {
   "cell_type": "code",
   "execution_count": 3,
   "id": "82a70877-f7e7-4fb5-b5f8-3db38c4a94b1",
   "metadata": {},
   "outputs": [
    {
     "name": "stdout",
     "output_type": "stream",
     "text": [
      "Epoch 1/10, Loss: 1.148609738385797\n",
      "Epoch 2/10, Loss: 1.129974556407801\n",
      "Epoch 3/10, Loss: 1.1288657937958886\n",
      "Epoch 4/10, Loss: 1.1233474452758712\n",
      "Epoch 5/10, Loss: 1.106294846953357\n",
      "Epoch 6/10, Loss: 1.1161054767493819\n",
      "Epoch 7/10, Loss: 1.1198745332035334\n",
      "Epoch 8/10, Loss: 1.1133284279733997\n",
      "Epoch 9/10, Loss: 1.1195255892731275\n",
      "Epoch 10/10, Loss: 1.1092200311131302\n",
      "Training completed!\n"
     ]
    }
   ],
   "source": [
    "# Data Augmentation\n",
    "transform = transforms.Compose([\n",
    "    transforms.Resize((224, 224)),\n",
    "    transforms.Normalize(mean=[0.5], std=[0.5])\n",
    "])\n",
    "\n",
    "# Load Dataset\n",
    "dataset = VideoDataset(DATA_DIR, labels_dict, transform=transform)\n",
    "train_size = int(0.8 * len(dataset))\n",
    "test_size = len(dataset) - train_size\n",
    "train_dataset, test_dataset = random_split(dataset, [train_size, test_size])\n",
    "\n",
    "train_loader = DataLoader(train_dataset, batch_size=1, shuffle=True)\n",
    "test_loader = DataLoader(test_dataset, batch_size=1, shuffle=False)\n",
    "\n",
    "# Load R(2+1)D model\n",
    "weights = R2Plus1D_18_Weights.DEFAULT\n",
    "model = r2plus1d_18(weights=weights)\n",
    "model.fc = nn.Linear(model.fc.in_features, 3)  # Adjust for 3 classes\n",
    "model = model.cuda()\n",
    "\n",
    "# Training setup\n",
    "criterion = nn.CrossEntropyLoss()\n",
    "optimizer = optim.Adam(model.parameters(), lr=0.001)\n",
    "\n",
    "# Training loop\n",
    "num_epochs = 10\n",
    "for epoch in range(num_epochs):\n",
    "    model.train()\n",
    "    running_loss = 0.0\n",
    "    for inputs, labels in train_loader:\n",
    "        inputs, labels = inputs.cuda(), labels.cuda()\n",
    "        \n",
    "        optimizer.zero_grad()\n",
    "        outputs = model(inputs)\n",
    "        loss = criterion(outputs, labels)\n",
    "        loss.backward()\n",
    "        optimizer.step()\n",
    "        \n",
    "        running_loss += loss.item()\n",
    "    \n",
    "    print(f\"Epoch {epoch+1}/{num_epochs}, Loss: {running_loss / len(train_loader)}\")\n",
    "\n",
    "print(\"Training completed!\")"
   ]
  },
  {
   "cell_type": "code",
   "execution_count": 4,
   "id": "a694688a-5299-4ef3-b32a-b1652a98377c",
   "metadata": {},
   "outputs": [
    {
     "name": "stdout",
     "output_type": "stream",
     "text": [
      "Class 0 - AUROC: 0.4202, AUPRC: 0.2500\n",
      "Class 1 - AUROC: 0.4545, AUPRC: 0.4697\n",
      "Class 2 - AUROC: 0.5691, AUPRC: 0.4091\n"
     ]
    }
   ],
   "source": [
    "# Evaluation\n",
    "model.eval()\n",
    "all_labels = []\n",
    "all_probs = []\n",
    "all_preds = []\n",
    "\n",
    "with torch.no_grad():\n",
    "    for inputs, labels in test_loader:\n",
    "        inputs, labels = inputs.cuda(), labels.cuda()\n",
    "\n",
    "        outputs = model(inputs)  # Raw logits\n",
    "        probs = F.softmax(outputs, dim=1)  # Convert to probabilities\n",
    "        preds = torch.argmax(probs, dim=1)  # Get predicted class\n",
    "\n",
    "        all_labels.extend(labels.cpu().numpy())\n",
    "        all_probs.extend(probs.cpu().numpy())\n",
    "        all_preds.extend(preds.cpu().numpy())\n",
    "\n",
    "# Convert to NumPy arrays\n",
    "all_labels = np.array(all_labels)\n",
    "all_probs = np.array(all_probs)\n",
    "all_preds = np.array(all_preds)\n",
    "\n",
    "# Compute AUROC & AUPRC for each class\n",
    "num_classes = 3\n",
    "auroc_scores = []\n",
    "auprc_scores = []\n",
    "\n",
    "for i in range(num_classes):\n",
    "    y_true = (all_labels == i).astype(int)  # Convert to binary labels\n",
    "    y_score = all_probs[:, i]  # Probability of class i\n",
    "    \n",
    "    auroc = roc_auc_score(y_true, y_score)\n",
    "    auprc = average_precision_score(y_true, y_score)\n",
    "\n",
    "    auroc_scores.append(auroc)\n",
    "    auprc_scores.append(auprc)\n",
    "\n",
    "    print(f\"Class {i} - AUROC: {auroc:.4f}, AUPRC: {auprc:.4f}\")"
   ]
  },
  {
   "cell_type": "code",
   "execution_count": 5,
   "id": "ac802aac-3f3b-4bb9-ab70-f5c6d5ef7c41",
   "metadata": {},
   "outputs": [
    {
     "data": {
      "image/png": "[encoded data removed]",
      "text/plain": [
       "<Figure size 600x600 with 2 Axes>"
      ]
     },
     "metadata": {},
     "output_type": "display_data"
    }
   ],
   "source": [
    "# Compute and Plot Confusion Matrix\n",
    "cm = confusion_matrix(all_labels, all_preds)\n",
    "plt.figure(figsize=(6,6))\n",
    "sns.heatmap(cm, annot=True, fmt=\"d\", cmap=\"Blues\", xticklabels=[\"normal\", \"hyper\", \"hypo\"], yticklabels=[\"normal\", \"hyper\", \"hypo\"])\n",
    "plt.xlabel(\"Predicted Label\")\n",
    "plt.ylabel(\"True Label\")\n",
    "plt.title(\"Confusion Matrix\")\n",
    "plt.show()"
   ]
  },
  {
   "cell_type": "code",
   "execution_count": 6,
   "id": "cd4427e8-8250-46f8-b417-4132e6b45d83",
   "metadata": {},
   "outputs": [
    {
     "name": "stdout",
     "output_type": "stream",
     "text": [
      "              precision    recall  f1-score   support\n",
      "\n",
      "      normal       0.06      0.05      0.05        22\n",
      "       hyper       0.00      0.00      0.00        27\n",
      "        hypo       0.34      0.77      0.47        26\n",
      "\n",
      "    accuracy                           0.28        75\n",
      "   macro avg       0.13      0.27      0.17        75\n",
      "weighted avg       0.14      0.28      0.18        75\n",
      "\n"
     ]
    },
    {
     "name": "stderr",
     "output_type": "stream",
     "text": [
      "/home/ryujjoo0810/.conda/envs/my_new_env/lib/python3.10/site-packages/sklearn/metrics/_classification.py:1565: UndefinedMetricWarning: Precision is ill-defined and being set to 0.0 in labels with no predicted samples. Use `zero_division` parameter to control this behavior.\n",
      "  _warn_prf(average, modifier, f\"{metric.capitalize()} is\", len(result))\n",
      "/home/ryujjoo0810/.conda/envs/my_new_env/lib/python3.10/site-packages/sklearn/metrics/_classification.py:1565: UndefinedMetricWarning: Precision is ill-defined and being set to 0.0 in labels with no predicted samples. Use `zero_division` parameter to control this behavior.\n",
      "  _warn_prf(average, modifier, f\"{metric.capitalize()} is\", len(result))\n",
      "/home/ryujjoo0810/.conda/envs/my_new_env/lib/python3.10/site-packages/sklearn/metrics/_classification.py:1565: UndefinedMetricWarning: Precision is ill-defined and being set to 0.0 in labels with no predicted samples. Use `zero_division` parameter to control this behavior.\n",
      "  _warn_prf(average, modifier, f\"{metric.capitalize()} is\", len(result))\n"
     ]
    }
   ],
   "source": [
    "from sklearn.metrics import classification_report\n",
    "CLASS_NAMES = {'normal': 0, 'hyper': 1, 'hypo': 2}\n",
    "\n",
    "print(classification_report(all_labels, all_preds, target_names=CLASS_NAMES))"
   ]
  },
  {
   "cell_type": "code",
   "execution_count": 7,
   "id": "22c2c476-60d4-4815-960d-9ccdbf90abd8",
   "metadata": {},
   "outputs": [
    {
     "name": "stdout",
     "output_type": "stream",
     "text": [
      "Model saved to video_classification_model.pth\n"
     ]
    }
   ],
   "source": [
    "save_path = \"video_classification_model.pth\"  # Choose a filename\n",
    "torch.save(model.state_dict(), save_path)\n",
    "print(f\"Model saved to {save_path}\")"
   ]
  },
  {
   "cell_type": "code",
   "execution_count": 9,
   "id": "d5a1eddd-f91e-4be3-9998-1eaf04436291",
   "metadata": {},
   "outputs": [
    {
     "name": "stdout",
     "output_type": "stream",
     "text": [
      "Predictions saved to predictions.csv\n"
     ]
    }
   ],
   "source": [
    "\n",
    "# Convert data to Pandas DataFrame\n",
    "df = pd.DataFrame({\n",
    "    \"true_label\": all_labels,\n",
    "    \"predicted_label\": all_preds\n",
    "})\n",
    "\n",
    "# Add probability columns for each class\n",
    "num_classes = all_probs[0].shape[0]\n",
    "for i in range(num_classes):\n",
    "    df[f\"prob_class_{i}\"] = [prob[i] for prob in all_probs]\n",
    "\n",
    "# Save as CSV\n",
    "csv_filename = \"predictions.csv\"\n",
    "df.to_csv(csv_filename, index=False)\n",
    "\n",
    "print(f\"Predictions saved to {csv_filename}\")"
   ]
  }
 ],
 "metadata": {
  "kernelspec": {
   "display_name": "Python (my_new_env)",
   "language": "python",
   "name": "my_new_env"
  },
  "language_info": {
   "codemirror_mode": {
    "name": "ipython",
    "version": 3
   },
   "file_extension": ".py",
   "mimetype": "text/x-python",
   "name": "python",
   "nbconvert_exporter": "python",
   "pygments_lexer": "ipython3",
   "version": "3.10.16"
  }
 },
 "nbformat": 4,
 "nbformat_minor": 5
}
